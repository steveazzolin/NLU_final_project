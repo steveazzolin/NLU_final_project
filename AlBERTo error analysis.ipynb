{
 "cells": [
  {
   "cell_type": "code",
   "execution_count": 1,
   "id": "8c2f63a8",
   "metadata": {},
   "outputs": [],
   "source": [
    "# %env WANDB_PROJECT=nlu_sentiment_analysis\n",
    "# !wandb login 2cad8a8279143c69ce071f54bf37c1f5a5f4e5ff\n",
    "# import wandb\n",
    "\n",
    "from ekphrasis.classes.preprocessor import TextPreProcessor\n",
    "from ekphrasis.classes.tokenizer import SocialTokenizer\n",
    "from ekphrasis.dicts.emoticons import emoticons\n",
    "\n",
    "import pandas as pd\n",
    "import numpy as np\n",
    "import matplotlib.pyplot as plt\n",
    "from tqdm.notebook import tqdm\n",
    "import itertools\n",
    "import requests, re, string, datetime, copy\n",
    "from functools import partial\n",
    "\n",
    "import torch\n",
    "import torchvision.transforms as T, torch.nn.functional as F, torch.nn as nn\n",
    "from torch.utils.data import DataLoader\n",
    "\n",
    "from datasets import Dataset\n",
    "from transformers import TrainingArguments, EarlyStoppingCallback, TrainerCallback\n",
    "from transformers import AutoTokenizer, AutoModelForSequenceClassification\n",
    "from transformers import Trainer, get_linear_schedule_with_warmup\n",
    "from transformers.modeling_outputs import SequenceClassifierOutput\n",
    "\n",
    "from sklearn.model_selection import train_test_split\n",
    "from sklearn.metrics import classification_report, confusion_matrix, ConfusionMatrixDisplay\n",
    "from sklearn.metrics import precision_recall_fscore_support, accuracy_score, f1_score\n",
    "\n",
    "import plotly.graph_objects as go\n",
    "\n",
    "PATH = \"./data/\"\n",
    "device = \"cuda:0\""
   ]
  },
  {
   "cell_type": "markdown",
   "id": "7d75fdd9",
   "metadata": {},
   "source": [
    "##### text preprocessing"
   ]
  },
  {
   "cell_type": "code",
   "execution_count": 3,
   "id": "54754535",
   "metadata": {},
   "outputs": [
    {
     "name": "stderr",
     "output_type": "stream",
     "text": [
      "/home/steve/anaconda3/envs/nlu/lib/python3.7/site-packages/ekphrasis/classes/tokenizer.py:225: FutureWarning: Possible nested set at position 2190\n",
      "  self.tok = re.compile(r\"({})\".format(\"|\".join(pipeline)))\n"
     ]
    },
    {
     "name": "stdout",
     "output_type": "stream",
     "text": [
      "Reading english - 1grams ...\n",
      "Reading english - 2grams ...\n"
     ]
    },
    {
     "name": "stderr",
     "output_type": "stream",
     "text": [
      "/home/steve/anaconda3/envs/nlu/lib/python3.7/site-packages/ekphrasis/classes/exmanager.py:14: FutureWarning: Possible nested set at position 42\n",
      "  regexes = {k.lower(): re.compile(self.expressions[k]) for k, v in\n"
     ]
    },
    {
     "name": "stdout",
     "output_type": "stream",
     "text": [
      "Reading english - 1grams ...\n",
      "<hashtag> il governo </hashtag> presenta le linee guida sulla scuola <hashtag> la buona scuola </hashtag> <url>\n"
     ]
    }
   ],
   "source": [
    "\"\"\"Tokenization classes for Italian AlBERTo models.\"\"\"\n",
    "import collections\n",
    "import os\n",
    "\n",
    "text_processor = TextPreProcessor(\n",
    "    # terms that will be normalized\n",
    "    normalize=['url', 'email', 'user', 'percent', 'money', 'phone', 'time', 'date', 'number'],\n",
    "    # terms that will be annotated\n",
    "    annotate={\"hashtag\"},\n",
    "    fix_html=True,  # fix HTML tokens\n",
    "\n",
    "    unpack_hashtags=True,  # perform word segmentation on hashtags\n",
    "\n",
    "    # select a tokenizer. You can use SocialTokenizer, or pass your own\n",
    "    # the tokenizer, should take as input a string and return a list of tokens\n",
    "    tokenizer=SocialTokenizer(lowercase=True).tokenize,\n",
    "    dicts=[emoticons]\n",
    ")\n",
    "\n",
    "class AlBERTo_Preprocessing(object):\n",
    "    def __init__(self, do_lower_case=True, **kwargs):\n",
    "        self.do_lower_case = do_lower_case\n",
    "\n",
    "    def preprocess(self, text):\n",
    "        if self.do_lower_case:\n",
    "            text = text.lower()\n",
    "        text = str(\" \".join(text_processor.pre_process_doc(text)))\n",
    "        text = re.sub(r'[^a-zA-ZÀ-ú</>!?♥♡\\s\\U00010000-\\U0010ffff]', ' ', text)\n",
    "        text = re.sub(r'\\s+', ' ', text)\n",
    "        text = re.sub(r'(\\w)\\1{2,}', r'\\1\\1', text)\n",
    "        text = re.sub(r'^\\s', '', text)\n",
    "        text = re.sub(r'\\s$', '', text)\n",
    "        return text\n",
    "\n",
    "a = AlBERTo_Preprocessing(do_lower_case=True)\n",
    "s = \"#IlGOverno presenta le linee guida sulla scuola #labuonascuola - http://t.co/SYS1T9QmQN\"\n",
    "b = a.preprocess(s)\n",
    "print(b)"
   ]
  },
  {
   "cell_type": "markdown",
   "id": "3a58cbf0",
   "metadata": {},
   "source": [
    "##### pretrained tokenizer and AlBERTo"
   ]
  },
  {
   "cell_type": "code",
   "execution_count": 4,
   "id": "e6a01b86",
   "metadata": {},
   "outputs": [
    {
     "name": "stdout",
     "output_type": "stream",
     "text": [
      "['<', 'ha', '##shtag', '>', 'il', 'governo', '<', '/', 'ha', '##shtag', '>', 'presenta', 'le', 'linee', 'guida', 'sulla', 'scuola', '<', 'ha', '##shtag', '>', 'la', 'buona', 'scuola', '<', '/', 'ha', '##shtag', '>', '<', 'ur', '##l', '>']\n"
     ]
    }
   ],
   "source": [
    "from transformers import AutoTokenizer, AutoModel\n",
    "\n",
    "def tokenize_function(examples):\n",
    "    sa = tok(examples[\"text\"], padding=\"max_length\", truncation=True)\n",
    "    return sa\n",
    "\n",
    "a = AlBERTo_Preprocessing(do_lower_case=True)\n",
    "s: str = \"#IlGOverno presenta le linee guida sulla scuola #labuonascuola - http://t.co/SYS1T9QmQN\"\n",
    "b = a.preprocess(s)\n",
    "\n",
    "tok = AutoTokenizer.from_pretrained(\"m-polignano-uniba/bert_uncased_L-12_H-768_A-12_italian_alb3rt0\")\n",
    "pretrained_model = AutoModel.from_pretrained(\"m-polignano-uniba/bert_uncased_L-12_H-768_A-12_italian_alb3rt0\")\n",
    "tok.model_max_length = 128 #model.config.max_position_embeddings\n",
    "tokens = tok.tokenize(b)\n",
    "print(tokens)"
   ]
  },
  {
   "cell_type": "markdown",
   "id": "d6b64f46",
   "metadata": {},
   "source": [
    "##### models"
   ]
  },
  {
   "cell_type": "code",
   "execution_count": 5,
   "id": "85b9bcaf",
   "metadata": {},
   "outputs": [],
   "source": [
    "class MyNetMC(nn.Module):\n",
    "    \"\"\"\n",
    "        Attach a FC layer on top of the BERT head in order to produce a classification output.\n",
    "\n",
    "        The pooled_output output of BERT is basically a projection of the [CLS] embeddings via another FC layer (768 -> 768 hidden units).\n",
    "        We stack another FC layer with Dropout on top of that, as reported in https://github.com/google-research/bert/blob/eedf5716ce1268e56f0a50264a88cafad334ac61/run_classifier.py#L574\n",
    "    \"\"\"\n",
    "    def __init__(self, num_labels):\n",
    "        super(MyNetMC, self).__init__()\n",
    "\n",
    "        self.num_labels = num_labels\n",
    "        self.model = copy.deepcopy(pretrained_model)#AutoModel.from_pretrained(\"m-polignano-uniba/bert_uncased_L-12_H-768_A-12_italian_alb3rt0\")\n",
    "        self.dropout1 = nn.Dropout(0.1)\n",
    "        self.linear1 = nn.Linear(768, 3)\n",
    "\n",
    "        self.loss_fct = nn.CrossEntropyLoss()\n",
    "\n",
    "\n",
    "    def forward(self, labels, input_ids, attention_mask, **args):\n",
    "        outputs = self.model(input_ids=input_ids, attention_mask=attention_mask, **args)\n",
    "        x = self.dropout1(outputs[1])\n",
    "        logits = self.linear1(x)\n",
    "        loss = self.loss_fct(logits, labels)\n",
    "        return logits , loss\n",
    "    \n",
    "class MyNetMCTuned(nn.Module):\n",
    "    \"\"\"\n",
    "        Attach a FC layer on top of the BERT head in order to produce a classification output.\n",
    "\n",
    "        The pooled_output output of BERT is basically a projection of the [CLS] embeddings via another FC layer (768 -> 768 hidden units).\n",
    "        We stack another FC layer without Dropout on top of that, as reported in https://github.com/google-research/bert/blob/eedf5716ce1268e56f0a50264a88cafad334ac61/run_classifier.py#L574\n",
    "    \"\"\"\n",
    "    def __init__(self, num_labels):\n",
    "        super(MyNetMCTuned, self).__init__()\n",
    "\n",
    "        self.num_labels = num_labels\n",
    "        self.model = copy.deepcopy(pretrained_model)\n",
    "        self.linear = nn.Linear(768, 3)\n",
    "\n",
    "        self.loss_fct = nn.CrossEntropyLoss()\n",
    "\n",
    "    def forward(self, labels, input_ids, attention_mask, **args):\n",
    "        outputs = self.model(input_ids=input_ids, attention_mask=attention_mask, **args)\n",
    "        logits = self.linear(outputs[1])\n",
    "        loss = self.loss_fct(logits, labels)\n",
    "        return logits , loss"
   ]
  },
  {
   "cell_type": "markdown",
   "id": "3f035b6d",
   "metadata": {},
   "source": [
    "#####  utility functions"
   ]
  },
  {
   "cell_type": "code",
   "execution_count": 52,
   "id": "28651925",
   "metadata": {},
   "outputs": [],
   "source": [
    "def validation_epoch(model, epoch, val_loader, kind, logging):\n",
    "    model.eval()\n",
    "    targets , outputs , logitss = [] , [] , []\n",
    "    cumulative_loss = 0.\n",
    "    with torch.no_grad():\n",
    "        for i , data in enumerate(val_loader, 0):\n",
    "            batch = {k: v.to(device) for k, v in data.items()}\n",
    "            logits , loss = model(**batch)\n",
    "            if kind != \"test\": cumulative_loss += loss.detach()\n",
    "            if (i+1) % 25 == 0 and logging:\n",
    "                print(f'Epoch: {epoch}, Loss:  {cumulative_loss.item()/i}')\n",
    "            \n",
    "            targets.extend(batch[\"labels\"].cpu().detach().numpy())\n",
    "            outputs.extend(logits.argmax(-1).cpu().detach().numpy().tolist())\n",
    "            logitss.extend(logits.cpu().detach().numpy().tolist())\n",
    "    if logging: wandb.log({kind: {'loss': cumulative_loss.item() / len(outputs)}})\n",
    "    return outputs, targets, logitss\n",
    "\n",
    "\n",
    "def eval_feelit_model(dataset, keep_neutrals, dataset_name, plot_confidence=False):\n",
    "    tok_feelit = AutoTokenizer.from_pretrained(\"MilaNLProc/feel-it-italian-sentiment\")\n",
    "    tok_feelit.model_max_length = 128\n",
    "\n",
    "    model = AutoModelForSequenceClassification.from_pretrained(\"MilaNLProc/feel-it-italian-sentiment\").to(device)\n",
    "    model.eval()\n",
    "\n",
    "    if keep_neutrals:\n",
    "        testing = Dataset.from_pandas(dataset)\\\n",
    "                        .filter(lambda example: example['labels'] != 3)\\\n",
    "                        .map(lambda examples: tok_feelit(examples[\"text\"], padding=\"max_length\", truncation=True), batched=True)\\\n",
    "                        .with_format(\"torch\", columns=[\"input_ids\", \"attention_mask\", \"labels\"])\n",
    "    else:\n",
    "        testing = Dataset.from_pandas(dataset)\\\n",
    "                .map(lambda examples: tok_feelit(examples[\"text\"], padding=\"max_length\", truncation=True), batched=True)\\\n",
    "                .filter(lambda example: example['labels'] != 1)\\\n",
    "                .filter(lambda example: example['labels'] != 3)\\\n",
    "                .with_format(\"torch\", columns=[\"input_ids\", \"attention_mask\", \"labels\"])\n",
    "    test_loader = DataLoader(testing, batch_size=64)\n",
    "\n",
    "    trues , preds , logitss = [] , [] , []\n",
    "    with torch.no_grad():\n",
    "        for _, data in enumerate(test_loader, 0):\n",
    "            batch = {k: data[k].to(device) for k in ['attention_mask', 'input_ids']}\n",
    "            logits = model(**batch)[0]\n",
    "            trues.extend(data[\"labels\"].detach().numpy())\n",
    "            preds.extend(logits.argmax(-1).cpu().detach().numpy().tolist())\n",
    "            logitss.extend(logits.cpu().detach().numpy().tolist())\n",
    "\n",
    "    proba = torch.nn.functional.softmax(torch.tensor(logitss), dim=1)\n",
    "    assert len(preds) == len(proba) and np.all(np.array((proba[:,1] + proba[:,0]) >= 0.99))\n",
    "    for i in range(len(proba)):\n",
    "        if keep_neutrals:\n",
    "            if preds[i] == 1: \n",
    "                preds[i] = 2\n",
    "            if max(proba[i,0] , proba[i, 1]) <= 0.55: #set to neutral  if the prediction's confidence is too low\n",
    "                preds[i] = 1\n",
    "        else:\n",
    "            if trues[i] == 2: #the net produces just [0,1] for positive/negative, so adjust label\n",
    "                trues[i] = 1\n",
    "\n",
    "    targets = [\"negative\", \"neutral\", \"positive\"] if keep_neutrals else [\"negative\", \"positive\"]\n",
    "    print(classification_report(trues, preds, target_names=targets))\n",
    "    cm = confusion_matrix(trues, preds, normalize='all')\n",
    "    ConfusionMatrixDisplay(confusion_matrix=cm, display_labels=targets).plot()\n",
    "    tmp = \"no neutral\" if not keep_neutrals else \"\"\n",
    "    plt.title(f\"{dataset_name} {tmp} - Feel-it pretrained\")\n",
    "\n",
    "    if plot_confidence:\n",
    "        trues = np.array(trues)\n",
    "        preds = np.array(preds)\n",
    "        #plot_confidence_distribution(trues, preds, proba, name=\"Feel-it model\", dataset=\"SENTIPOLC no neutral\", plot_neutral=False, adjust_positive=True)\n",
    "        \n",
    "        \n",
    "def train_epoch(model, train_loader, optimizer, scheduler, epoch, logging):\n",
    "    model.train()\n",
    "    targets , outputs = [] , []\n",
    "    cumulative_loss = 0.\n",
    "    for i , data in enumerate(train_loader, 0): \n",
    "        targets.extend(data[\"labels\"].numpy())\n",
    "        \n",
    "        batch = {k: v.to(device) for k, v in data.items()}\n",
    "        logits , loss = model(**batch)\n",
    "\n",
    "        cumulative_loss += loss.detach()\n",
    "        if (i+1) % 25 == 0 and logging:\n",
    "            print(f'Epoch: {epoch}, Loss:  {cumulative_loss.item()/i}')\n",
    "        \n",
    "        optimizer.zero_grad()\n",
    "        loss.backward()\n",
    "        optimizer.step()\n",
    "        scheduler.step()\n",
    "        \n",
    "        outputs.extend(logits.argmax(-1).cpu().detach().numpy().tolist())\n",
    "    return outputs, targets\n",
    "\n",
    "def fine_tune(train_loader, model, logging, model_type, dataset_val=None):\n",
    "    if model_type == \"opt\":\n",
    "        hyper = {'learning_rate': 3.000003529363845e-06, 'warmup_steps': 0.6, 'weight_decay': 0.000260393798851559}\n",
    "    elif model_type == \"MC\":\n",
    "        hyper = {'learning_rate': 2e-5, 'warmup_steps': 0.1, 'weight_decay': 0.1}\n",
    "        \n",
    "    optimizer = torch.optim.AdamW(model.parameters(),\n",
    "                              lr=hyper[\"learning_rate\"],\n",
    "                              weight_decay=hyper[\"weight_decay\"], \n",
    "                              eps=1e-6)\n",
    "    num_epochs = 3\n",
    "    num_train_steps = int(len(train_loader) * num_epochs) + 1\n",
    "    num_warmup_steps =  int(num_train_steps * hyper[\"warmup_steps\"])\n",
    "    scheduler = get_linear_schedule_with_warmup(optimizer, num_warmup_steps, num_train_steps)\n",
    "    \n",
    "    for epoch in range(num_epochs):\n",
    "        outputs, targets = train_epoch(model, train_loader, optimizer, scheduler, epoch, logging)\n",
    "        #outputs, targets = validation_epoch(model, epoch, val_loader, \"val\", logging=False)\n",
    "        #f1_val = f1_score(targets, outputs, average='macro')\n",
    "        #if f1_val > best_value:\n",
    "        #    best_value = f1_val\n",
    "        #    torch.save(model.state_dict(), \"data/models/alberto_multiclass_tuned.pt\")    \n",
    "        #if early_stopping.on_epoch_end(epoch, f1_val):\n",
    "        #    print(\"\\n\\nEARLY STOPPING AFTER {} EPOCHS\".format(epoch))\n",
    "        #    break\n",
    "\n",
    "        if logging: \n",
    "            f1_train = f1_score(targets, outputs, average='macro')\n",
    "            print(f\"Train F1 = {f1_train}\")\n",
    "    return model\n",
    "        \n",
    "\n",
    "def eval_alberto(model, model_name, model_params, dataset, dataset_name, keep_neutrals, plot_confidence, fine_tuning=False, dataset_train=None, logging=False, model_type=None):\n",
    "    if keep_neutrals:\n",
    "        testing = Dataset.from_pandas(dataset)\\\n",
    "                        .filter(lambda example: example['labels'] != 3)\\\n",
    "                        .map(tokenize_function, batched=True)\\\n",
    "                        .with_format(\"torch\", columns=[\"input_ids\", \"attention_mask\", \"labels\", \"token_type_ids\"])\n",
    "    else:\n",
    "        testing = Dataset.from_pandas(dataset)\\\n",
    "                    .filter(lambda example: example['labels'] != 1)\\\n",
    "                    .filter(lambda example: example['labels'] != 3)\\\n",
    "                    .map(tokenize_function, batched=True)\\\n",
    "                    .with_format(\"torch\", columns=[\"input_ids\", \"attention_mask\", \"labels\", \"token_type_ids\"])\n",
    "    test_loader = DataLoader(testing, batch_size=64)\n",
    "\n",
    "    model = model(3).to(device)\n",
    "    model.load_state_dict(torch.load(PATH + model_params))\n",
    "    \n",
    "    if fine_tuning:\n",
    "        if keep_neutrals:\n",
    "            training = Dataset.from_pandas(dataset_train)\\\n",
    "                            .filter(lambda example: example['labels'] != 3)\\\n",
    "                            .map(tokenize_function, batched=True)\\\n",
    "                            .with_format(\"torch\", columns=[\"input_ids\", \"attention_mask\", \"labels\", \"token_type_ids\"])\n",
    "        else:\n",
    "            training = Dataset.from_pandas(dataset_train)\\\n",
    "                        .filter(lambda example: example['labels'] != 1)\\\n",
    "                        .filter(lambda example: example['labels'] != 3)\\\n",
    "                        .map(tokenize_function, batched=True)\\\n",
    "                        .with_format(\"torch\", columns=[\"input_ids\", \"attention_mask\", \"labels\", \"token_type_ids\"])\n",
    "        train_loader = DataLoader(training, batch_size=64)\n",
    "        model = fine_tune(train_loader, model, logging, model_type)\n",
    "\n",
    "    preds , trues , logitss = validation_epoch(model, None, test_loader, \"test\", logging=False)\n",
    "    for i in range(len(preds)):\n",
    "        if not keep_neutrals:\n",
    "            if preds[i] == 2: \n",
    "                preds[i] = 1\n",
    "            if trues[i] == 2: \n",
    "                trues[i] = 1\n",
    "                \n",
    "    targets = [\"negative\", \"neutral\", \"positive\"] if keep_neutrals else [\"negative\", \"positive\"]\n",
    "    print(classification_report(trues, preds, target_names=targets))\n",
    "    ConfusionMatrixDisplay(confusion_matrix=confusion_matrix(trues, preds, normalize='all'), display_labels=targets).plot()\n",
    "    tmp = \"no neutrals\" if not keep_neutrals else \"\"\n",
    "    plt.title(f\"{dataset_name} - {model_name} {tmp}\")\n",
    "    \n",
    "    if plot_confidence:\n",
    "        proba = torch.nn.functional.softmax(torch.tensor(logitss), dim=1)\n",
    "        trues = np.array(trues)\n",
    "        preds = np.array(preds)\n",
    "\n",
    "        plot_confidence_distribution(trues, preds, proba, name=model_name, dataset=dataset_name, plot_neutral=True)"
   ]
  },
  {
   "cell_type": "code",
   "execution_count": 2,
   "id": "313f7272",
   "metadata": {},
   "outputs": [],
   "source": [
    "def plot_confidence_distribution(trues, preds, proba, name, dataset, plot_neutral, adjust_positive=False):\n",
    "    false_negatives = np.logical_and(trues != 0, preds == 0)\n",
    "    fig = go.Figure()\n",
    "    fig.add_trace(go.Histogram(x=proba[false_negatives, np.argmax(proba[false_negatives,:], axis=1)], \n",
    "                               xbins=dict(\n",
    "                                start=0.,\n",
    "                                end=1.0,\n",
    "                                size=0.1\n",
    "                                ), \n",
    "                               histnorm='probability'))\n",
    "    fig.update_layout(\n",
    "        title=f\"{name}'s confidence distribution for {dataset} - false negatives\",\n",
    "        xaxis_title=\"confidence\",\n",
    "        yaxis_title=\"normalized count\",\n",
    "    )\n",
    "    fig.update_xaxes(range=[0., 1.])\n",
    "    fig.show()\n",
    "\n",
    "    if plot_neutral:\n",
    "        false_neutrals = np.logical_and(trues != 1, preds == 1)\n",
    "        fig = go.Figure()\n",
    "        fig.add_trace(go.Histogram(x=proba[false_neutrals, np.argmax(proba[false_neutrals,:], axis=1)], \n",
    "                                   xbins=dict(\n",
    "                                    start=0.,\n",
    "                                    end=1.0,\n",
    "                                    size=0.1\n",
    "                                    ), \n",
    "                                   histnorm='probability'))\n",
    "        fig.update_layout(\n",
    "            title=f\"{name}'s confidence distribution for {dataset} - false neutrals\",\n",
    "            xaxis_title=\"confidence\",\n",
    "            yaxis_title=\"normalized count\",\n",
    "        )\n",
    "        fig.update_xaxes(range=[0., 1.])\n",
    "        fig.show()\n",
    "\n",
    "    false_positives = np.logical_and(trues != 2, preds == 2) if not adjust_positive else np.logical_and(trues != 1, preds == 1)\n",
    "    fig = go.Figure()\n",
    "    fig.add_trace(go.Histogram(x=proba[false_positives, np.argmax(proba[false_positives,:], axis=1)], \n",
    "                               xbins=dict(\n",
    "                                start=0.,\n",
    "                                end=1.0,\n",
    "                                size=0.1\n",
    "                                ), \n",
    "                               histnorm='probability'))\n",
    "    fig.update_layout(\n",
    "        title=f\"{name}'s confidence distribution for {dataset} - false positives\",\n",
    "        xaxis_title=\"confidence\",\n",
    "        yaxis_title=\"normalized count\",\n",
    "    )\n",
    "    fig.update_xaxes(range=[0., 1.])\n",
    "    fig.show()"
   ]
  },
  {
   "cell_type": "markdown",
   "id": "b04de4d3",
   "metadata": {},
   "source": [
    "# SENTIPOLC16"
   ]
  },
  {
   "cell_type": "code",
   "execution_count": 7,
   "id": "5f12392e",
   "metadata": {},
   "outputs": [],
   "source": [
    "train_sentipolc = pd.read_csv(PATH + \"Sentipolc16/training_set_sentipolc16.csv\")"
   ]
  },
  {
   "cell_type": "code",
   "execution_count": 8,
   "id": "734d9bf8",
   "metadata": {},
   "outputs": [
    {
     "data": {
      "text/html": [
       "<div>\n",
       "<style scoped>\n",
       "    .dataframe tbody tr th:only-of-type {\n",
       "        vertical-align: middle;\n",
       "    }\n",
       "\n",
       "    .dataframe tbody tr th {\n",
       "        vertical-align: top;\n",
       "    }\n",
       "\n",
       "    .dataframe thead th {\n",
       "        text-align: right;\n",
       "    }\n",
       "</style>\n",
       "<table border=\"1\" class=\"dataframe\">\n",
       "  <thead>\n",
       "    <tr style=\"text-align: right;\">\n",
       "      <th></th>\n",
       "      <th>idtwitter</th>\n",
       "      <th>subj</th>\n",
       "      <th>opos</th>\n",
       "      <th>oneg</th>\n",
       "      <th>iro</th>\n",
       "      <th>lpos</th>\n",
       "      <th>lneg</th>\n",
       "      <th>top</th>\n",
       "      <th>text</th>\n",
       "    </tr>\n",
       "  </thead>\n",
       "  <tbody>\n",
       "    <tr>\n",
       "      <th>0</th>\n",
       "      <td>507074506880712705</td>\n",
       "      <td>0</td>\n",
       "      <td>0</td>\n",
       "      <td>0</td>\n",
       "      <td>0</td>\n",
       "      <td>0</td>\n",
       "      <td>0</td>\n",
       "      <td>2</td>\n",
       "      <td>\"Tra 5 minuti presentazione piano scuola del g...</td>\n",
       "    </tr>\n",
       "    <tr>\n",
       "      <th>1</th>\n",
       "      <td>507075789456961536</td>\n",
       "      <td>1</td>\n",
       "      <td>1</td>\n",
       "      <td>0</td>\n",
       "      <td>0</td>\n",
       "      <td>1</td>\n",
       "      <td>0</td>\n",
       "      <td>2</td>\n",
       "      <td>\"\\\"@matteorenzi: Alle 10 appuntamento su http:...</td>\n",
       "    </tr>\n",
       "    <tr>\n",
       "      <th>2</th>\n",
       "      <td>507077511902425088</td>\n",
       "      <td>1</td>\n",
       "      <td>0</td>\n",
       "      <td>1</td>\n",
       "      <td>0</td>\n",
       "      <td>0</td>\n",
       "      <td>1</td>\n",
       "      <td>2</td>\n",
       "      <td>\"#labuonascuola gli #evangelisti #digitali non...</td>\n",
       "    </tr>\n",
       "    <tr>\n",
       "      <th>3</th>\n",
       "      <td>507079183315787777</td>\n",
       "      <td>0</td>\n",
       "      <td>0</td>\n",
       "      <td>0</td>\n",
       "      <td>0</td>\n",
       "      <td>0</td>\n",
       "      <td>0</td>\n",
       "      <td>2</td>\n",
       "      <td>\"Riforma scuola Tutto il discorso di  Renzi su...</td>\n",
       "    </tr>\n",
       "    <tr>\n",
       "      <th>4</th>\n",
       "      <td>507080190225563648</td>\n",
       "      <td>1</td>\n",
       "      <td>0</td>\n",
       "      <td>0</td>\n",
       "      <td>0</td>\n",
       "      <td>0</td>\n",
       "      <td>0</td>\n",
       "      <td>2</td>\n",
       "      <td>\".@matteorenzi @MiurSocial #labuonascuola bast...</td>\n",
       "    </tr>\n",
       "  </tbody>\n",
       "</table>\n",
       "</div>"
      ],
      "text/plain": [
       "            idtwitter  subj  opos  oneg  iro  lpos  lneg  top  \\\n",
       "0  507074506880712705     0     0     0    0     0     0    2   \n",
       "1  507075789456961536     1     1     0    0     1     0    2   \n",
       "2  507077511902425088     1     0     1    0     0     1    2   \n",
       "3  507079183315787777     0     0     0    0     0     0    2   \n",
       "4  507080190225563648     1     0     0    0     0     0    2   \n",
       "\n",
       "                                                text  \n",
       "0  \"Tra 5 minuti presentazione piano scuola del g...  \n",
       "1  \"\\\"@matteorenzi: Alle 10 appuntamento su http:...  \n",
       "2  \"#labuonascuola gli #evangelisti #digitali non...  \n",
       "3  \"Riforma scuola Tutto il discorso di  Renzi su...  \n",
       "4  \".@matteorenzi @MiurSocial #labuonascuola bast...  "
      ]
     },
     "execution_count": 8,
     "metadata": {},
     "output_type": "execute_result"
    }
   ],
   "source": [
    "file1 = open(PATH + \"Sentipolc16/test_set_sentipolc16_gold2000.csv\", 'r') \n",
    "Lines = file1.readlines()\n",
    " \n",
    "test_sentipolc = []\n",
    "for line in Lines:\n",
    "  arr = line.split(\"\\\",\")\n",
    "  if len(arr) != 9:\n",
    "    arr[8] = arr[8] + arr[9]  #to account for tweets containing the delimiter charachter that would create more splits than needed\n",
    "    del arr[9:]\n",
    "  for i in range(8):\n",
    "    arr[i] = int(arr[i].strip(\"\\\"\"))\n",
    "  test_sentipolc.append(arr)\n",
    "\n",
    "test_sentipolc = pd.DataFrame(test_sentipolc, columns=train_sentipolc.columns)\n",
    "test_sentipolc.head()"
   ]
  },
  {
   "cell_type": "code",
   "execution_count": 18,
   "id": "26d566b6",
   "metadata": {},
   "outputs": [],
   "source": [
    "def separate2united_labels(row):\n",
    "    \"\"\"\n",
    "        Return a single scalar integer label associated to the polarity of the tweet.\n",
    "\n",
    "        Negative -> 0\n",
    "        Neutral  -> 1\n",
    "        Positive -> 2\n",
    "        Mixed    -> 3\n",
    "    \"\"\"\n",
    "    if row[\"opos\"] == 0 and row[\"oneg\"] == 0:\n",
    "        return 1\n",
    "    elif row[\"oneg\"] == 0 and row[\"opos\"] == 1:\n",
    "        return 2\n",
    "    elif row[\"oneg\"] == 1 and row[\"opos\"] == 0:\n",
    "        return 0\n",
    "    else:\n",
    "        return 3\n",
    "\n",
    "\n",
    "dataset_sentipolc = pd.DataFrame({\"text\": test_sentipolc.text.apply(a.preprocess), \"idx\": test_sentipolc.index, \"labels\": test_sentipolc[[\"opos\", \"oneg\"]].apply(separate2united_labels, axis=1)})"
   ]
  },
  {
   "cell_type": "markdown",
   "id": "ae6d7b2d",
   "metadata": {},
   "source": [
    "### AlBERTo pretrained - SENTIPOLC16"
   ]
  },
  {
   "cell_type": "code",
   "execution_count": 19,
   "id": "8ef130d1",
   "metadata": {},
   "outputs": [
    {
     "name": "stdout",
     "output_type": "stream",
     "text": [
      "\n",
      "\n",
      " AlBERTo MC\n",
      "\n",
      "\n"
     ]
    },
    {
     "data": {
      "application/vnd.jupyter.widget-view+json": {
       "model_id": "3d8d8e96f9f04347a2c1d18f2e6891f5",
       "version_major": 2,
       "version_minor": 0
      },
      "text/plain": [
       "HBox(children=(FloatProgress(value=0.0, max=2.0), HTML(value='')))"
      ]
     },
     "metadata": {},
     "output_type": "display_data"
    },
    {
     "name": "stdout",
     "output_type": "stream",
     "text": [
      "\n"
     ]
    },
    {
     "data": {
      "application/vnd.jupyter.widget-view+json": {
       "model_id": "13cc868910734f36ac5bd78b28a83c8c",
       "version_major": 2,
       "version_minor": 0
      },
      "text/plain": [
       "HBox(children=(FloatProgress(value=0.0, max=2.0), HTML(value='')))"
      ]
     },
     "metadata": {},
     "output_type": "display_data"
    },
    {
     "name": "stdout",
     "output_type": "stream",
     "text": [
      "\n",
      "              precision    recall  f1-score   support\n",
      "\n",
      "    negative       0.85      0.51      0.64       734\n",
      "     neutral       0.70      0.78      0.74       914\n",
      "    positive       0.44      0.69      0.54       316\n",
      "\n",
      "    accuracy                           0.67      1964\n",
      "   macro avg       0.66      0.66      0.64      1964\n",
      "weighted avg       0.71      0.67      0.67      1964\n",
      "\n"
     ]
    },
    {
     "data": {
      "application/vnd.plotly.v1+json": {
       "config": {
        "plotlyServerURL": "https://plot.ly"
       },
       "data": [
        {
         "histnorm": "probability",
         "type": "histogram",
         "x": [
          0.8324357867240906,
          0.6297135353088379,
          0.9779451489448547,
          0.963526725769043,
          0.5317631959915161,
          0.6539093852043152,
          0.8009821176528931,
          0.581446647644043,
          0.4827352464199066,
          0.6590115427970886,
          0.5017648935317993,
          0.5456076264381409,
          0.4905048608779907,
          0.733085036277771,
          0.8828817009925842,
          0.9060059189796448,
          0.8588767647743225,
          0.6109435558319092,
          0.3613150715827942,
          0.794974148273468,
          0.47001713514328003,
          0.5185721516609192,
          0.8498700261116028,
          0.6327541470527649,
          0.7566406726837158,
          0.5951763987541199,
          0.7117177844047546,
          0.865375280380249,
          0.5189681649208069,
          0.5441113710403442,
          0.8129699230194092,
          0.8140668272972107,
          0.9107959866523743,
          0.43435776233673096,
          0.6838082671165466,
          0.5727117657661438,
          0.6100358366966248,
          0.7617383003234863,
          0.7482593655586243,
          0.5732468962669373,
          0.8961126208305359,
          0.7035229802131653,
          0.9088582396507263,
          0.5445338487625122,
          0.8912810683250427,
          0.7109478116035461,
          0.69474196434021,
          0.9780533313751221,
          0.8985918164253235,
          0.5674245953559875,
          0.89276522397995,
          0.6227731704711914,
          0.6790463328361511,
          0.8267273306846619,
          0.5710396766662598,
          0.9088793992996216,
          0.520308792591095,
          0.7107062339782715,
          0.8812257051467896,
          0.6893206834793091,
          0.8275972604751587,
          0.6796237230300903,
          0.9704864025115967,
          0.5652764439582825,
          0.8393126726150513
         ],
         "xbins": {
          "end": 1,
          "size": 0.1,
          "start": 0
         }
        }
       ],
       "layout": {
        "template": {
         "data": {
          "bar": [
           {
            "error_x": {
             "color": "#2a3f5f"
            },
            "error_y": {
             "color": "#2a3f5f"
            },
            "marker": {
             "line": {
              "color": "#E5ECF6",
              "width": 0.5
             },
             "pattern": {
              "fillmode": "overlay",
              "size": 10,
              "solidity": 0.2
             }
            },
            "type": "bar"
           }
          ],
          "barpolar": [
           {
            "marker": {
             "line": {
              "color": "#E5ECF6",
              "width": 0.5
             },
             "pattern": {
              "fillmode": "overlay",
              "size": 10,
              "solidity": 0.2
             }
            },
            "type": "barpolar"
           }
          ],
          "carpet": [
           {
            "aaxis": {
             "endlinecolor": "#2a3f5f",
             "gridcolor": "white",
             "linecolor": "white",
             "minorgridcolor": "white",
             "startlinecolor": "#2a3f5f"
            },
            "baxis": {
             "endlinecolor": "#2a3f5f",
             "gridcolor": "white",
             "linecolor": "white",
             "minorgridcolor": "white",
             "startlinecolor": "#2a3f5f"
            },
            "type": "carpet"
           }
          ],
          "choropleth": [
           {
            "colorbar": {
             "outlinewidth": 0,
             "ticks": ""
            },
            "type": "choropleth"
           }
          ],
          "contour": [
           {
            "colorbar": {
             "outlinewidth": 0,
             "ticks": ""
            },
            "colorscale": [
             [
              0,
              "#0d0887"
             ],
             [
              0.1111111111111111,
              "#46039f"
             ],
             [
              0.2222222222222222,
              "#7201a8"
             ],
             [
              0.3333333333333333,
              "#9c179e"
             ],
             [
              0.4444444444444444,
              "#bd3786"
             ],
             [
              0.5555555555555556,
              "#d8576b"
             ],
             [
              0.6666666666666666,
              "#ed7953"
             ],
             [
              0.7777777777777778,
              "#fb9f3a"
             ],
             [
              0.8888888888888888,
              "#fdca26"
             ],
             [
              1,
              "#f0f921"
             ]
            ],
            "type": "contour"
           }
          ],
          "contourcarpet": [
           {
            "colorbar": {
             "outlinewidth": 0,
             "ticks": ""
            },
            "type": "contourcarpet"
           }
          ],
          "heatmap": [
           {
            "colorbar": {
             "outlinewidth": 0,
             "ticks": ""
            },
            "colorscale": [
             [
              0,
              "#0d0887"
             ],
             [
              0.1111111111111111,
              "#46039f"
             ],
             [
              0.2222222222222222,
              "#7201a8"
             ],
             [
              0.3333333333333333,
              "#9c179e"
             ],
             [
              0.4444444444444444,
              "#bd3786"
             ],
             [
              0.5555555555555556,
              "#d8576b"
             ],
             [
              0.6666666666666666,
              "#ed7953"
             ],
             [
              0.7777777777777778,
              "#fb9f3a"
             ],
             [
              0.8888888888888888,
              "#fdca26"
             ],
             [
              1,
              "#f0f921"
             ]
            ],
            "type": "heatmap"
           }
          ],
          "heatmapgl": [
           {
            "colorbar": {
             "outlinewidth": 0,
             "ticks": ""
            },
            "colorscale": [
             [
              0,
              "#0d0887"
             ],
             [
              0.1111111111111111,
              "#46039f"
             ],
             [
              0.2222222222222222,
              "#7201a8"
             ],
             [
              0.3333333333333333,
              "#9c179e"
             ],
             [
              0.4444444444444444,
              "#bd3786"
             ],
             [
              0.5555555555555556,
              "#d8576b"
             ],
             [
              0.6666666666666666,
              "#ed7953"
             ],
             [
              0.7777777777777778,
              "#fb9f3a"
             ],
             [
              0.8888888888888888,
              "#fdca26"
             ],
             [
              1,
              "#f0f921"
             ]
            ],
            "type": "heatmapgl"
           }
          ],
          "histogram": [
           {
            "marker": {
             "pattern": {
              "fillmode": "overlay",
              "size": 10,
              "solidity": 0.2
             }
            },
            "type": "histogram"
           }
          ],
          "histogram2d": [
           {
            "colorbar": {
             "outlinewidth": 0,
             "ticks": ""
            },
            "colorscale": [
             [
              0,
              "#0d0887"
             ],
             [
              0.1111111111111111,
              "#46039f"
             ],
             [
              0.2222222222222222,
              "#7201a8"
             ],
             [
              0.3333333333333333,
              "#9c179e"
             ],
             [
              0.4444444444444444,
              "#bd3786"
             ],
             [
              0.5555555555555556,
              "#d8576b"
             ],
             [
              0.6666666666666666,
              "#ed7953"
             ],
             [
              0.7777777777777778,
              "#fb9f3a"
             ],
             [
              0.8888888888888888,
              "#fdca26"
             ],
             [
              1,
              "#f0f921"
             ]
            ],
            "type": "histogram2d"
           }
          ],
          "histogram2dcontour": [
           {
            "colorbar": {
             "outlinewidth": 0,
             "ticks": ""
            },
            "colorscale": [
             [
              0,
              "#0d0887"
             ],
             [
              0.1111111111111111,
              "#46039f"
             ],
             [
              0.2222222222222222,
              "#7201a8"
             ],
             [
              0.3333333333333333,
              "#9c179e"
             ],
             [
              0.4444444444444444,
              "#bd3786"
             ],
             [
              0.5555555555555556,
              "#d8576b"
             ],
             [
              0.6666666666666666,
              "#ed7953"
             ],
             [
              0.7777777777777778,
              "#fb9f3a"
             ],
             [
              0.8888888888888888,
              "#fdca26"
             ],
             [
              1,
              "#f0f921"
             ]
            ],
            "type": "histogram2dcontour"
           }
          ],
          "mesh3d": [
           {
            "colorbar": {
             "outlinewidth": 0,
             "ticks": ""
            },
            "type": "mesh3d"
           }
          ],
          "parcoords": [
           {
            "line": {
             "colorbar": {
              "outlinewidth": 0,
              "ticks": ""
             }
            },
            "type": "parcoords"
           }
          ],
          "pie": [
           {
            "automargin": true,
            "type": "pie"
           }
          ],
          "scatter": [
           {
            "marker": {
             "colorbar": {
              "outlinewidth": 0,
              "ticks": ""
             }
            },
            "type": "scatter"
           }
          ],
          "scatter3d": [
           {
            "line": {
             "colorbar": {
              "outlinewidth": 0,
              "ticks": ""
             }
            },
            "marker": {
             "colorbar": {
              "outlinewidth": 0,
              "ticks": ""
             }
            },
            "type": "scatter3d"
           }
          ],
          "scattercarpet": [
           {
            "marker": {
             "colorbar": {
              "outlinewidth": 0,
              "ticks": ""
             }
            },
            "type": "scattercarpet"
           }
          ],
          "scattergeo": [
           {
            "marker": {
             "colorbar": {
              "outlinewidth": 0,
              "ticks": ""
             }
            },
            "type": "scattergeo"
           }
          ],
          "scattergl": [
           {
            "marker": {
             "colorbar": {
              "outlinewidth": 0,
              "ticks": ""
             }
            },
            "type": "scattergl"
           }
          ],
          "scattermapbox": [
           {
            "marker": {
             "colorbar": {
              "outlinewidth": 0,
              "ticks": ""
             }
            },
            "type": "scattermapbox"
           }
          ],
          "scatterpolar": [
           {
            "marker": {
             "colorbar": {
              "outlinewidth": 0,
              "ticks": ""
             }
            },
            "type": "scatterpolar"
           }
          ],
          "scatterpolargl": [
           {
            "marker": {
             "colorbar": {
              "outlinewidth": 0,
              "ticks": ""
             }
            },
            "type": "scatterpolargl"
           }
          ],
          "scatterternary": [
           {
            "marker": {
             "colorbar": {
              "outlinewidth": 0,
              "ticks": ""
             }
            },
            "type": "scatterternary"
           }
          ],
          "surface": [
           {
            "colorbar": {
             "outlinewidth": 0,
             "ticks": ""
            },
            "colorscale": [
             [
              0,
              "#0d0887"
             ],
             [
              0.1111111111111111,
              "#46039f"
             ],
             [
              0.2222222222222222,
              "#7201a8"
             ],
             [
              0.3333333333333333,
              "#9c179e"
             ],
             [
              0.4444444444444444,
              "#bd3786"
             ],
             [
              0.5555555555555556,
              "#d8576b"
             ],
             [
              0.6666666666666666,
              "#ed7953"
             ],
             [
              0.7777777777777778,
              "#fb9f3a"
             ],
             [
              0.8888888888888888,
              "#fdca26"
             ],
             [
              1,
              "#f0f921"
             ]
            ],
            "type": "surface"
           }
          ],
          "table": [
           {
            "cells": {
             "fill": {
              "color": "#EBF0F8"
             },
             "line": {
              "color": "white"
             }
            },
            "header": {
             "fill": {
              "color": "#C8D4E3"
             },
             "line": {
              "color": "white"
             }
            },
            "type": "table"
           }
          ]
         },
         "layout": {
          "annotationdefaults": {
           "arrowcolor": "#2a3f5f",
           "arrowhead": 0,
           "arrowwidth": 1
          },
          "autotypenumbers": "strict",
          "coloraxis": {
           "colorbar": {
            "outlinewidth": 0,
            "ticks": ""
           }
          },
          "colorscale": {
           "diverging": [
            [
             0,
             "#8e0152"
            ],
            [
             0.1,
             "#c51b7d"
            ],
            [
             0.2,
             "#de77ae"
            ],
            [
             0.3,
             "#f1b6da"
            ],
            [
             0.4,
             "#fde0ef"
            ],
            [
             0.5,
             "#f7f7f7"
            ],
            [
             0.6,
             "#e6f5d0"
            ],
            [
             0.7,
             "#b8e186"
            ],
            [
             0.8,
             "#7fbc41"
            ],
            [
             0.9,
             "#4d9221"
            ],
            [
             1,
             "#276419"
            ]
           ],
           "sequential": [
            [
             0,
             "#0d0887"
            ],
            [
             0.1111111111111111,
             "#46039f"
            ],
            [
             0.2222222222222222,
             "#7201a8"
            ],
            [
             0.3333333333333333,
             "#9c179e"
            ],
            [
             0.4444444444444444,
             "#bd3786"
            ],
            [
             0.5555555555555556,
             "#d8576b"
            ],
            [
             0.6666666666666666,
             "#ed7953"
            ],
            [
             0.7777777777777778,
             "#fb9f3a"
            ],
            [
             0.8888888888888888,
             "#fdca26"
            ],
            [
             1,
             "#f0f921"
            ]
           ],
           "sequentialminus": [
            [
             0,
             "#0d0887"
            ],
            [
             0.1111111111111111,
             "#46039f"
            ],
            [
             0.2222222222222222,
             "#7201a8"
            ],
            [
             0.3333333333333333,
             "#9c179e"
            ],
            [
             0.4444444444444444,
             "#bd3786"
            ],
            [
             0.5555555555555556,
             "#d8576b"
            ],
            [
             0.6666666666666666,
             "#ed7953"
            ],
            [
             0.7777777777777778,
             "#fb9f3a"
            ],
            [
             0.8888888888888888,
             "#fdca26"
            ],
            [
             1,
             "#f0f921"
            ]
           ]
          },
          "colorway": [
           "#636efa",
           "#EF553B",
           "#00cc96",
           "#ab63fa",
           "#FFA15A",
           "#19d3f3",
           "#FF6692",
           "#B6E880",
           "#FF97FF",
           "#FECB52"
          ],
          "font": {
           "color": "#2a3f5f"
          },
          "geo": {
           "bgcolor": "white",
           "lakecolor": "white",
           "landcolor": "#E5ECF6",
           "showlakes": true,
           "showland": true,
           "subunitcolor": "white"
          },
          "hoverlabel": {
           "align": "left"
          },
          "hovermode": "closest",
          "mapbox": {
           "style": "light"
          },
          "paper_bgcolor": "white",
          "plot_bgcolor": "#E5ECF6",
          "polar": {
           "angularaxis": {
            "gridcolor": "white",
            "linecolor": "white",
            "ticks": ""
           },
           "bgcolor": "#E5ECF6",
           "radialaxis": {
            "gridcolor": "white",
            "linecolor": "white",
            "ticks": ""
           }
          },
          "scene": {
           "xaxis": {
            "backgroundcolor": "#E5ECF6",
            "gridcolor": "white",
            "gridwidth": 2,
            "linecolor": "white",
            "showbackground": true,
            "ticks": "",
            "zerolinecolor": "white"
           },
           "yaxis": {
            "backgroundcolor": "#E5ECF6",
            "gridcolor": "white",
            "gridwidth": 2,
            "linecolor": "white",
            "showbackground": true,
            "ticks": "",
            "zerolinecolor": "white"
           },
           "zaxis": {
            "backgroundcolor": "#E5ECF6",
            "gridcolor": "white",
            "gridwidth": 2,
            "linecolor": "white",
            "showbackground": true,
            "ticks": "",
            "zerolinecolor": "white"
           }
          },
          "shapedefaults": {
           "line": {
            "color": "#2a3f5f"
           }
          },
          "ternary": {
           "aaxis": {
            "gridcolor": "white",
            "linecolor": "white",
            "ticks": ""
           },
           "baxis": {
            "gridcolor": "white",
            "linecolor": "white",
            "ticks": ""
           },
           "bgcolor": "#E5ECF6",
           "caxis": {
            "gridcolor": "white",
            "linecolor": "white",
            "ticks": ""
           }
          },
          "title": {
           "x": 0.05
          },
          "xaxis": {
           "automargin": true,
           "gridcolor": "white",
           "linecolor": "white",
           "ticks": "",
           "title": {
            "standoff": 15
           },
           "zerolinecolor": "white",
           "zerolinewidth": 2
          },
          "yaxis": {
           "automargin": true,
           "gridcolor": "white",
           "linecolor": "white",
           "ticks": "",
           "title": {
            "standoff": 15
           },
           "zerolinecolor": "white",
           "zerolinewidth": 2
          }
         }
        },
        "title": {
         "text": "AlBERTo MC's confidence distribution for Sentipolc16 - false negatives"
        },
        "xaxis": {
         "range": [
          0,
          1
         ],
         "title": {
          "text": "confidence"
         }
        },
        "yaxis": {
         "title": {
          "text": "normalized count"
         }
        }
       }
      },
      "text/html": [
       "<div>                            <div id=\"322ba215-6da1-43e0-a7d6-70794985c538\" class=\"plotly-graph-div\" style=\"height:525px; width:100%;\"></div>            <script type=\"text/javascript\">                require([\"plotly\"], function(Plotly) {                    window.PLOTLYENV=window.PLOTLYENV || {};                                    if (document.getElementById(\"322ba215-6da1-43e0-a7d6-70794985c538\")) {                    Plotly.newPlot(                        \"322ba215-6da1-43e0-a7d6-70794985c538\",                        [{\"histnorm\":\"probability\",\"type\":\"histogram\",\"x\":[0.8324357867240906,0.6297135353088379,0.9779451489448547,0.963526725769043,0.5317631959915161,0.6539093852043152,0.8009821176528931,0.581446647644043,0.4827352464199066,0.6590115427970886,0.5017648935317993,0.5456076264381409,0.4905048608779907,0.733085036277771,0.8828817009925842,0.9060059189796448,0.8588767647743225,0.6109435558319092,0.3613150715827942,0.794974148273468,0.47001713514328003,0.5185721516609192,0.8498700261116028,0.6327541470527649,0.7566406726837158,0.5951763987541199,0.7117177844047546,0.865375280380249,0.5189681649208069,0.5441113710403442,0.8129699230194092,0.8140668272972107,0.9107959866523743,0.43435776233673096,0.6838082671165466,0.5727117657661438,0.6100358366966248,0.7617383003234863,0.7482593655586243,0.5732468962669373,0.8961126208305359,0.7035229802131653,0.9088582396507263,0.5445338487625122,0.8912810683250427,0.7109478116035461,0.69474196434021,0.9780533313751221,0.8985918164253235,0.5674245953559875,0.89276522397995,0.6227731704711914,0.6790463328361511,0.8267273306846619,0.5710396766662598,0.9088793992996216,0.520308792591095,0.7107062339782715,0.8812257051467896,0.6893206834793091,0.8275972604751587,0.6796237230300903,0.9704864025115967,0.5652764439582825,0.8393126726150513],\"xbins\":{\"end\":1.0,\"size\":0.1,\"start\":0.0}}],                        {\"template\":{\"data\":{\"bar\":[{\"error_x\":{\"color\":\"#2a3f5f\"},\"error_y\":{\"color\":\"#2a3f5f\"},\"marker\":{\"line\":{\"color\":\"#E5ECF6\",\"width\":0.5},\"pattern\":{\"fillmode\":\"overlay\",\"size\":10,\"solidity\":0.2}},\"type\":\"bar\"}],\"barpolar\":[{\"marker\":{\"line\":{\"color\":\"#E5ECF6\",\"width\":0.5},\"pattern\":{\"fillmode\":\"overlay\",\"size\":10,\"solidity\":0.2}},\"type\":\"barpolar\"}],\"carpet\":[{\"aaxis\":{\"endlinecolor\":\"#2a3f5f\",\"gridcolor\":\"white\",\"linecolor\":\"white\",\"minorgridcolor\":\"white\",\"startlinecolor\":\"#2a3f5f\"},\"baxis\":{\"endlinecolor\":\"#2a3f5f\",\"gridcolor\":\"white\",\"linecolor\":\"white\",\"minorgridcolor\":\"white\",\"startlinecolor\":\"#2a3f5f\"},\"type\":\"carpet\"}],\"choropleth\":[{\"colorbar\":{\"outlinewidth\":0,\"ticks\":\"\"},\"type\":\"choropleth\"}],\"contour\":[{\"colorbar\":{\"outlinewidth\":0,\"ticks\":\"\"},\"colorscale\":[[0.0,\"#0d0887\"],[0.1111111111111111,\"#46039f\"],[0.2222222222222222,\"#7201a8\"],[0.3333333333333333,\"#9c179e\"],[0.4444444444444444,\"#bd3786\"],[0.5555555555555556,\"#d8576b\"],[0.6666666666666666,\"#ed7953\"],[0.7777777777777778,\"#fb9f3a\"],[0.8888888888888888,\"#fdca26\"],[1.0,\"#f0f921\"]],\"type\":\"contour\"}],\"contourcarpet\":[{\"colorbar\":{\"outlinewidth\":0,\"ticks\":\"\"},\"type\":\"contourcarpet\"}],\"heatmap\":[{\"colorbar\":{\"outlinewidth\":0,\"ticks\":\"\"},\"colorscale\":[[0.0,\"#0d0887\"],[0.1111111111111111,\"#46039f\"],[0.2222222222222222,\"#7201a8\"],[0.3333333333333333,\"#9c179e\"],[0.4444444444444444,\"#bd3786\"],[0.5555555555555556,\"#d8576b\"],[0.6666666666666666,\"#ed7953\"],[0.7777777777777778,\"#fb9f3a\"],[0.8888888888888888,\"#fdca26\"],[1.0,\"#f0f921\"]],\"type\":\"heatmap\"}],\"heatmapgl\":[{\"colorbar\":{\"outlinewidth\":0,\"ticks\":\"\"},\"colorscale\":[[0.0,\"#0d0887\"],[0.1111111111111111,\"#46039f\"],[0.2222222222222222,\"#7201a8\"],[0.3333333333333333,\"#9c179e\"],[0.4444444444444444,\"#bd3786\"],[0.5555555555555556,\"#d8576b\"],[0.6666666666666666,\"#ed7953\"],[0.7777777777777778,\"#fb9f3a\"],[0.8888888888888888,\"#fdca26\"],[1.0,\"#f0f921\"]],\"type\":\"heatmapgl\"}],\"histogram\":[{\"marker\":{\"pattern\":{\"fillmode\":\"overlay\",\"size\":10,\"solidity\":0.2}},\"type\":\"histogram\"}],\"histogram2d\":[{\"colorbar\":{\"outlinewidth\":0,\"ticks\":\"\"},\"colorscale\":[[0.0,\"#0d0887\"],[0.1111111111111111,\"#46039f\"],[0.2222222222222222,\"#7201a8\"],[0.3333333333333333,\"#9c179e\"],[0.4444444444444444,\"#bd3786\"],[0.5555555555555556,\"#d8576b\"],[0.6666666666666666,\"#ed7953\"],[0.7777777777777778,\"#fb9f3a\"],[0.8888888888888888,\"#fdca26\"],[1.0,\"#f0f921\"]],\"type\":\"histogram2d\"}],\"histogram2dcontour\":[{\"colorbar\":{\"outlinewidth\":0,\"ticks\":\"\"},\"colorscale\":[[0.0,\"#0d0887\"],[0.1111111111111111,\"#46039f\"],[0.2222222222222222,\"#7201a8\"],[0.3333333333333333,\"#9c179e\"],[0.4444444444444444,\"#bd3786\"],[0.5555555555555556,\"#d8576b\"],[0.6666666666666666,\"#ed7953\"],[0.7777777777777778,\"#fb9f3a\"],[0.8888888888888888,\"#fdca26\"],[1.0,\"#f0f921\"]],\"type\":\"histogram2dcontour\"}],\"mesh3d\":[{\"colorbar\":{\"outlinewidth\":0,\"ticks\":\"\"},\"type\":\"mesh3d\"}],\"parcoords\":[{\"line\":{\"colorbar\":{\"outlinewidth\":0,\"ticks\":\"\"}},\"type\":\"parcoords\"}],\"pie\":[{\"automargin\":true,\"type\":\"pie\"}],\"scatter\":[{\"marker\":{\"colorbar\":{\"outlinewidth\":0,\"ticks\":\"\"}},\"type\":\"scatter\"}],\"scatter3d\":[{\"line\":{\"colorbar\":{\"outlinewidth\":0,\"ticks\":\"\"}},\"marker\":{\"colorbar\":{\"outlinewidth\":0,\"ticks\":\"\"}},\"type\":\"scatter3d\"}],\"scattercarpet\":[{\"marker\":{\"colorbar\":{\"outlinewidth\":0,\"ticks\":\"\"}},\"type\":\"scattercarpet\"}],\"scattergeo\":[{\"marker\":{\"colorbar\":{\"outlinewidth\":0,\"ticks\":\"\"}},\"type\":\"scattergeo\"}],\"scattergl\":[{\"marker\":{\"colorbar\":{\"outlinewidth\":0,\"ticks\":\"\"}},\"type\":\"scattergl\"}],\"scattermapbox\":[{\"marker\":{\"colorbar\":{\"outlinewidth\":0,\"ticks\":\"\"}},\"type\":\"scattermapbox\"}],\"scatterpolar\":[{\"marker\":{\"colorbar\":{\"outlinewidth\":0,\"ticks\":\"\"}},\"type\":\"scatterpolar\"}],\"scatterpolargl\":[{\"marker\":{\"colorbar\":{\"outlinewidth\":0,\"ticks\":\"\"}},\"type\":\"scatterpolargl\"}],\"scatterternary\":[{\"marker\":{\"colorbar\":{\"outlinewidth\":0,\"ticks\":\"\"}},\"type\":\"scatterternary\"}],\"surface\":[{\"colorbar\":{\"outlinewidth\":0,\"ticks\":\"\"},\"colorscale\":[[0.0,\"#0d0887\"],[0.1111111111111111,\"#46039f\"],[0.2222222222222222,\"#7201a8\"],[0.3333333333333333,\"#9c179e\"],[0.4444444444444444,\"#bd3786\"],[0.5555555555555556,\"#d8576b\"],[0.6666666666666666,\"#ed7953\"],[0.7777777777777778,\"#fb9f3a\"],[0.8888888888888888,\"#fdca26\"],[1.0,\"#f0f921\"]],\"type\":\"surface\"}],\"table\":[{\"cells\":{\"fill\":{\"color\":\"#EBF0F8\"},\"line\":{\"color\":\"white\"}},\"header\":{\"fill\":{\"color\":\"#C8D4E3\"},\"line\":{\"color\":\"white\"}},\"type\":\"table\"}]},\"layout\":{\"annotationdefaults\":{\"arrowcolor\":\"#2a3f5f\",\"arrowhead\":0,\"arrowwidth\":1},\"autotypenumbers\":\"strict\",\"coloraxis\":{\"colorbar\":{\"outlinewidth\":0,\"ticks\":\"\"}},\"colorscale\":{\"diverging\":[[0,\"#8e0152\"],[0.1,\"#c51b7d\"],[0.2,\"#de77ae\"],[0.3,\"#f1b6da\"],[0.4,\"#fde0ef\"],[0.5,\"#f7f7f7\"],[0.6,\"#e6f5d0\"],[0.7,\"#b8e186\"],[0.8,\"#7fbc41\"],[0.9,\"#4d9221\"],[1,\"#276419\"]],\"sequential\":[[0.0,\"#0d0887\"],[0.1111111111111111,\"#46039f\"],[0.2222222222222222,\"#7201a8\"],[0.3333333333333333,\"#9c179e\"],[0.4444444444444444,\"#bd3786\"],[0.5555555555555556,\"#d8576b\"],[0.6666666666666666,\"#ed7953\"],[0.7777777777777778,\"#fb9f3a\"],[0.8888888888888888,\"#fdca26\"],[1.0,\"#f0f921\"]],\"sequentialminus\":[[0.0,\"#0d0887\"],[0.1111111111111111,\"#46039f\"],[0.2222222222222222,\"#7201a8\"],[0.3333333333333333,\"#9c179e\"],[0.4444444444444444,\"#bd3786\"],[0.5555555555555556,\"#d8576b\"],[0.6666666666666666,\"#ed7953\"],[0.7777777777777778,\"#fb9f3a\"],[0.8888888888888888,\"#fdca26\"],[1.0,\"#f0f921\"]]},\"colorway\":[\"#636efa\",\"#EF553B\",\"#00cc96\",\"#ab63fa\",\"#FFA15A\",\"#19d3f3\",\"#FF6692\",\"#B6E880\",\"#FF97FF\",\"#FECB52\"],\"font\":{\"color\":\"#2a3f5f\"},\"geo\":{\"bgcolor\":\"white\",\"lakecolor\":\"white\",\"landcolor\":\"#E5ECF6\",\"showlakes\":true,\"showland\":true,\"subunitcolor\":\"white\"},\"hoverlabel\":{\"align\":\"left\"},\"hovermode\":\"closest\",\"mapbox\":{\"style\":\"light\"},\"paper_bgcolor\":\"white\",\"plot_bgcolor\":\"#E5ECF6\",\"polar\":{\"angularaxis\":{\"gridcolor\":\"white\",\"linecolor\":\"white\",\"ticks\":\"\"},\"bgcolor\":\"#E5ECF6\",\"radialaxis\":{\"gridcolor\":\"white\",\"linecolor\":\"white\",\"ticks\":\"\"}},\"scene\":{\"xaxis\":{\"backgroundcolor\":\"#E5ECF6\",\"gridcolor\":\"white\",\"gridwidth\":2,\"linecolor\":\"white\",\"showbackground\":true,\"ticks\":\"\",\"zerolinecolor\":\"white\"},\"yaxis\":{\"backgroundcolor\":\"#E5ECF6\",\"gridcolor\":\"white\",\"gridwidth\":2,\"linecolor\":\"white\",\"showbackground\":true,\"ticks\":\"\",\"zerolinecolor\":\"white\"},\"zaxis\":{\"backgroundcolor\":\"#E5ECF6\",\"gridcolor\":\"white\",\"gridwidth\":2,\"linecolor\":\"white\",\"showbackground\":true,\"ticks\":\"\",\"zerolinecolor\":\"white\"}},\"shapedefaults\":{\"line\":{\"color\":\"#2a3f5f\"}},\"ternary\":{\"aaxis\":{\"gridcolor\":\"white\",\"linecolor\":\"white\",\"ticks\":\"\"},\"baxis\":{\"gridcolor\":\"white\",\"linecolor\":\"white\",\"ticks\":\"\"},\"bgcolor\":\"#E5ECF6\",\"caxis\":{\"gridcolor\":\"white\",\"linecolor\":\"white\",\"ticks\":\"\"}},\"title\":{\"x\":0.05},\"xaxis\":{\"automargin\":true,\"gridcolor\":\"white\",\"linecolor\":\"white\",\"ticks\":\"\",\"title\":{\"standoff\":15},\"zerolinecolor\":\"white\",\"zerolinewidth\":2},\"yaxis\":{\"automargin\":true,\"gridcolor\":\"white\",\"linecolor\":\"white\",\"ticks\":\"\",\"title\":{\"standoff\":15},\"zerolinecolor\":\"white\",\"zerolinewidth\":2}}},\"title\":{\"text\":\"AlBERTo MC's confidence distribution for Sentipolc16 - false negatives\"},\"xaxis\":{\"range\":[0.0,1.0],\"title\":{\"text\":\"confidence\"}},\"yaxis\":{\"title\":{\"text\":\"normalized count\"}}},                        {\"responsive\": true}                    ).then(function(){\n",
       "                            \n",
       "var gd = document.getElementById('322ba215-6da1-43e0-a7d6-70794985c538');\n",
       "var x = new MutationObserver(function (mutations, observer) {{\n",
       "        var display = window.getComputedStyle(gd).display;\n",
       "        if (!display || display === 'none') {{\n",
       "            console.log([gd, 'removed!']);\n",
       "            Plotly.purge(gd);\n",
       "            observer.disconnect();\n",
       "        }}\n",
       "}});\n",
       "\n",
       "// Listen for the removal of the full notebook cells\n",
       "var notebookContainer = gd.closest('#notebook-container');\n",
       "if (notebookContainer) {{\n",
       "    x.observe(notebookContainer, {childList: true});\n",
       "}}\n",
       "\n",
       "// Listen for the clearing of the current output cell\n",
       "var outputEl = gd.closest('.output');\n",
       "if (outputEl) {{\n",
       "    x.observe(outputEl, {childList: true});\n",
       "}}\n",
       "\n",
       "                        })                };                });            </script>        </div>"
      ]
     },
     "metadata": {},
     "output_type": "display_data"
    },
    {
     "data": {
      "application/vnd.plotly.v1+json": {
       "config": {
        "plotlyServerURL": "https://plot.ly"
       },
       "data": [
        {
         "histnorm": "probability",
         "type": "histogram",
         "x": [
          0.531982421875,
          0.9293563961982727,
          0.9906524419784546,
          0.993039071559906,
          0.7845624089241028,
          0.9837315082550049,
          0.7355378866195679,
          0.9372328519821167,
          0.583075761795044,
          0.5621169805526733,
          0.941358208656311,
          0.48879072070121765,
          0.7882369756698608,
          0.6289656758308411,
          0.7639579772949219,
          0.6595069766044617,
          0.4074265956878662,
          0.8455618023872375,
          0.5256068706512451,
          0.9829009175300598,
          0.9956355690956116,
          0.9870206117630005,
          0.8456194996833801,
          0.9018740057945251,
          0.9528680443763733,
          0.6926771998405457,
          0.9251554012298584,
          0.8384995460510254,
          0.9837395548820496,
          0.8503547310829163,
          0.9839650392532349,
          0.9933454990386963,
          0.8008535504341125,
          0.5728672742843628,
          0.5793473720550537,
          0.805700957775116,
          0.6886946558952332,
          0.8444758653640747,
          0.8453219532966614,
          0.4674079120159149,
          0.8009704947471619,
          0.9630852937698364,
          0.6962658762931824,
          0.9211636185646057,
          0.8002942800521851,
          0.9687577486038208,
          0.5826297998428345,
          0.8644962906837463,
          0.9344958662986755,
          0.9777276515960693,
          0.905491292476654,
          0.6037864089012146,
          0.5011968016624451,
          0.9124597907066345,
          0.9837019443511963,
          0.8986265659332275,
          0.6186986565589905,
          0.814899742603302,
          0.944703996181488,
          0.8512287139892578,
          0.9283416271209717,
          0.9887728095054626,
          0.5688162446022034,
          0.9814596176147461,
          0.9507730603218079,
          0.5346261262893677,
          0.6937587261199951,
          0.9672854542732239,
          0.8278290629386902,
          0.5773109197616577,
          0.9100328087806702,
          0.4668521583080292,
          0.9246259331703186,
          0.9732887148857117,
          0.989683985710144,
          0.5834575891494751,
          0.7511921525001526,
          0.5226994752883911,
          0.6194800138473511,
          0.6112200021743774,
          0.903416097164154,
          0.8269668817520142,
          0.8225380778312683,
          0.9492989182472229,
          0.9106554985046387,
          0.8097032904624939,
          0.915427029132843,
          0.6834570169448853,
          0.5678921341896057,
          0.9376494884490967,
          0.943896472454071,
          0.8077569007873535,
          0.7265579700469971,
          0.9815739989280701,
          0.9881068468093872,
          0.7725241780281067,
          0.5946505665779114,
          0.7912768125534058,
          0.6971086263656616,
          0.8273903727531433,
          0.6396480798721313,
          0.471937358379364,
          0.8758661150932312,
          0.8977105021476746,
          0.5692120790481567,
          0.7751333117485046,
          0.7989559173583984,
          0.5373624563217163,
          0.8836556673049927,
          0.593754768371582,
          0.9206901788711548,
          0.5252526998519897,
          0.8921511173248291,
          0.9805466532707214,
          0.7526286840438843,
          0.6746259331703186,
          0.5393148064613342,
          0.49713003635406494,
          0.5359689593315125,
          0.8993295431137085,
          0.5248253345489502,
          0.7064001560211182,
          0.9805810451507568,
          0.7421148419380188,
          0.9811375141143799,
          0.9292294979095459,
          0.9797421097755432,
          0.7113854289054871,
          0.9819855690002441,
          0.4807848036289215,
          0.535442054271698,
          0.6474829912185669,
          0.5840626358985901,
          0.9750515222549438,
          0.7539026141166687,
          0.4676951467990875,
          0.964043915271759,
          0.48987582325935364,
          0.9670790433883667,
          0.5946773290634155,
          0.561163604259491,
          0.9745687246322632,
          0.9470974802970886,
          0.8840349912643433,
          0.9717832803726196,
          0.6644732356071472,
          0.7381190657615662,
          0.8077950477600098,
          0.5742185711860657,
          0.9816750884056091,
          0.9503942131996155,
          0.6916158199310303,
          0.9586225748062134,
          0.5931662321090698,
          0.9643914103507996,
          0.47374680638313293,
          0.6074879765510559,
          0.8926417231559753,
          0.9748349785804749,
          0.4975402355194092,
          0.4615376889705658,
          0.5902930498123169,
          0.9567126631736755,
          0.5625112652778625,
          0.9937509894371033,
          0.8173010349273682,
          0.9881702661514282,
          0.9258103966712952,
          0.7223030924797058,
          0.5182412266731262,
          0.6582943797111511,
          0.9848595261573792,
          0.8022531270980835,
          0.9764897227287292,
          0.7653137445449829,
          0.9736282825469971,
          0.6896690726280212,
          0.9765085577964783,
          0.9775243997573853,
          0.8213983774185181,
          0.9071769118309021,
          0.6609542965888977,
          0.5437417030334473,
          0.6634363532066345,
          0.7565682530403137,
          0.9855948686599731,
          0.3799642324447632,
          0.5036308169364929,
          0.9347783327102661,
          0.839389979839325,
          0.9738392233848572,
          0.9943494200706482,
          0.9536104798316956,
          0.9888176918029785,
          0.9823217391967773,
          0.7847625613212585,
          0.9679359197616577,
          0.822745680809021,
          0.8959181308746338,
          0.6793138384819031,
          0.732466459274292,
          0.5052574872970581,
          0.7652992010116577,
          0.6704229116439819,
          0.6686221361160278,
          0.8992608189582825,
          0.5679673552513123,
          0.7012008428573608,
          0.962302565574646,
          0.8440268635749817,
          0.6306892037391663,
          0.8996554613113403,
          0.4142802357673645,
          0.4964776337146759,
          0.9389024376869202,
          0.5387961864471436,
          0.9798596501350403,
          0.6599463224411011,
          0.9900948405265808,
          0.9575696587562561,
          0.6538259387016296,
          0.9051619172096252,
          0.9879961609840393,
          0.6708686947822571,
          0.9812519550323486,
          0.8098856210708618,
          0.47120001912117004,
          0.9223641753196716,
          0.9803839325904846,
          0.5738058090209961,
          0.7471056580543518,
          0.6118564605712891,
          0.9888138175010681,
          0.40258121490478516,
          0.9741849303245544,
          0.6611872315406799,
          0.655847430229187,
          0.6321554780006409,
          0.831854522228241,
          0.48508220911026,
          0.8754006624221802,
          0.712299644947052,
          0.7283960580825806,
          0.5675284266471863,
          0.6217056512832642,
          0.7342159152030945,
          0.9766159057617188,
          0.8785083889961243,
          0.6367560625076294,
          0.552006721496582,
          0.5634812712669373,
          0.9024043083190918,
          0.8797182440757751,
          0.8891204595565796,
          0.9327967762947083,
          0.9119491577148438,
          0.563102662563324,
          0.6694109439849854,
          0.6043785810470581,
          0.796947717666626,
          0.5575855374336243,
          0.4996183514595032,
          0.9173966646194458,
          0.9151667356491089,
          0.6828246116638184,
          0.3635996878147125,
          0.6877474188804626,
          0.6444979906082153,
          0.887345552444458,
          0.923682451248169,
          0.5316776633262634,
          0.9561181664466858,
          0.9036206007003784,
          0.7603268027305603,
          0.5046596527099609,
          0.784604012966156,
          0.5486876368522644,
          0.703484833240509,
          0.9864197373390198,
          0.6538262963294983,
          0.8723859190940857,
          0.9011068940162659,
          0.952085554599762,
          0.7822870016098022,
          0.40146684646606445,
          0.8283869028091431,
          0.8766382932662964,
          0.5302398800849915,
          0.7607523798942566,
          0.9447302222251892,
          0.9853664636611938,
          0.7955195903778076,
          0.6766735911369324,
          0.5355544090270996,
          0.4916611909866333,
          0.8090307712554932,
          0.7210626006126404,
          0.968619167804718,
          0.9711478352546692,
          0.6212676167488098,
          0.8971169590950012,
          0.960657000541687,
          0.8711041808128357,
          0.6807374954223633,
          0.6772798299789429,
          0.6128031611442566,
          0.9782817959785461,
          0.7518844604492188
         ],
         "xbins": {
          "end": 1,
          "size": 0.1,
          "start": 0
         }
        }
       ],
       "layout": {
        "template": {
         "data": {
          "bar": [
           {
            "error_x": {
             "color": "#2a3f5f"
            },
            "error_y": {
             "color": "#2a3f5f"
            },
            "marker": {
             "line": {
              "color": "#E5ECF6",
              "width": 0.5
             },
             "pattern": {
              "fillmode": "overlay",
              "size": 10,
              "solidity": 0.2
             }
            },
            "type": "bar"
           }
          ],
          "barpolar": [
           {
            "marker": {
             "line": {
              "color": "#E5ECF6",
              "width": 0.5
             },
             "pattern": {
              "fillmode": "overlay",
              "size": 10,
              "solidity": 0.2
             }
            },
            "type": "barpolar"
           }
          ],
          "carpet": [
           {
            "aaxis": {
             "endlinecolor": "#2a3f5f",
             "gridcolor": "white",
             "linecolor": "white",
             "minorgridcolor": "white",
             "startlinecolor": "#2a3f5f"
            },
            "baxis": {
             "endlinecolor": "#2a3f5f",
             "gridcolor": "white",
             "linecolor": "white",
             "minorgridcolor": "white",
             "startlinecolor": "#2a3f5f"
            },
            "type": "carpet"
           }
          ],
          "choropleth": [
           {
            "colorbar": {
             "outlinewidth": 0,
             "ticks": ""
            },
            "type": "choropleth"
           }
          ],
          "contour": [
           {
            "colorbar": {
             "outlinewidth": 0,
             "ticks": ""
            },
            "colorscale": [
             [
              0,
              "#0d0887"
             ],
             [
              0.1111111111111111,
              "#46039f"
             ],
             [
              0.2222222222222222,
              "#7201a8"
             ],
             [
              0.3333333333333333,
              "#9c179e"
             ],
             [
              0.4444444444444444,
              "#bd3786"
             ],
             [
              0.5555555555555556,
              "#d8576b"
             ],
             [
              0.6666666666666666,
              "#ed7953"
             ],
             [
              0.7777777777777778,
              "#fb9f3a"
             ],
             [
              0.8888888888888888,
              "#fdca26"
             ],
             [
              1,
              "#f0f921"
             ]
            ],
            "type": "contour"
           }
          ],
          "contourcarpet": [
           {
            "colorbar": {
             "outlinewidth": 0,
             "ticks": ""
            },
            "type": "contourcarpet"
           }
          ],
          "heatmap": [
           {
            "colorbar": {
             "outlinewidth": 0,
             "ticks": ""
            },
            "colorscale": [
             [
              0,
              "#0d0887"
             ],
             [
              0.1111111111111111,
              "#46039f"
             ],
             [
              0.2222222222222222,
              "#7201a8"
             ],
             [
              0.3333333333333333,
              "#9c179e"
             ],
             [
              0.4444444444444444,
              "#bd3786"
             ],
             [
              0.5555555555555556,
              "#d8576b"
             ],
             [
              0.6666666666666666,
              "#ed7953"
             ],
             [
              0.7777777777777778,
              "#fb9f3a"
             ],
             [
              0.8888888888888888,
              "#fdca26"
             ],
             [
              1,
              "#f0f921"
             ]
            ],
            "type": "heatmap"
           }
          ],
          "heatmapgl": [
           {
            "colorbar": {
             "outlinewidth": 0,
             "ticks": ""
            },
            "colorscale": [
             [
              0,
              "#0d0887"
             ],
             [
              0.1111111111111111,
              "#46039f"
             ],
             [
              0.2222222222222222,
              "#7201a8"
             ],
             [
              0.3333333333333333,
              "#9c179e"
             ],
             [
              0.4444444444444444,
              "#bd3786"
             ],
             [
              0.5555555555555556,
              "#d8576b"
             ],
             [
              0.6666666666666666,
              "#ed7953"
             ],
             [
              0.7777777777777778,
              "#fb9f3a"
             ],
             [
              0.8888888888888888,
              "#fdca26"
             ],
             [
              1,
              "#f0f921"
             ]
            ],
            "type": "heatmapgl"
           }
          ],
          "histogram": [
           {
            "marker": {
             "pattern": {
              "fillmode": "overlay",
              "size": 10,
              "solidity": 0.2
             }
            },
            "type": "histogram"
           }
          ],
          "histogram2d": [
           {
            "colorbar": {
             "outlinewidth": 0,
             "ticks": ""
            },
            "colorscale": [
             [
              0,
              "#0d0887"
             ],
             [
              0.1111111111111111,
              "#46039f"
             ],
             [
              0.2222222222222222,
              "#7201a8"
             ],
             [
              0.3333333333333333,
              "#9c179e"
             ],
             [
              0.4444444444444444,
              "#bd3786"
             ],
             [
              0.5555555555555556,
              "#d8576b"
             ],
             [
              0.6666666666666666,
              "#ed7953"
             ],
             [
              0.7777777777777778,
              "#fb9f3a"
             ],
             [
              0.8888888888888888,
              "#fdca26"
             ],
             [
              1,
              "#f0f921"
             ]
            ],
            "type": "histogram2d"
           }
          ],
          "histogram2dcontour": [
           {
            "colorbar": {
             "outlinewidth": 0,
             "ticks": ""
            },
            "colorscale": [
             [
              0,
              "#0d0887"
             ],
             [
              0.1111111111111111,
              "#46039f"
             ],
             [
              0.2222222222222222,
              "#7201a8"
             ],
             [
              0.3333333333333333,
              "#9c179e"
             ],
             [
              0.4444444444444444,
              "#bd3786"
             ],
             [
              0.5555555555555556,
              "#d8576b"
             ],
             [
              0.6666666666666666,
              "#ed7953"
             ],
             [
              0.7777777777777778,
              "#fb9f3a"
             ],
             [
              0.8888888888888888,
              "#fdca26"
             ],
             [
              1,
              "#f0f921"
             ]
            ],
            "type": "histogram2dcontour"
           }
          ],
          "mesh3d": [
           {
            "colorbar": {
             "outlinewidth": 0,
             "ticks": ""
            },
            "type": "mesh3d"
           }
          ],
          "parcoords": [
           {
            "line": {
             "colorbar": {
              "outlinewidth": 0,
              "ticks": ""
             }
            },
            "type": "parcoords"
           }
          ],
          "pie": [
           {
            "automargin": true,
            "type": "pie"
           }
          ],
          "scatter": [
           {
            "marker": {
             "colorbar": {
              "outlinewidth": 0,
              "ticks": ""
             }
            },
            "type": "scatter"
           }
          ],
          "scatter3d": [
           {
            "line": {
             "colorbar": {
              "outlinewidth": 0,
              "ticks": ""
             }
            },
            "marker": {
             "colorbar": {
              "outlinewidth": 0,
              "ticks": ""
             }
            },
            "type": "scatter3d"
           }
          ],
          "scattercarpet": [
           {
            "marker": {
             "colorbar": {
              "outlinewidth": 0,
              "ticks": ""
             }
            },
            "type": "scattercarpet"
           }
          ],
          "scattergeo": [
           {
            "marker": {
             "colorbar": {
              "outlinewidth": 0,
              "ticks": ""
             }
            },
            "type": "scattergeo"
           }
          ],
          "scattergl": [
           {
            "marker": {
             "colorbar": {
              "outlinewidth": 0,
              "ticks": ""
             }
            },
            "type": "scattergl"
           }
          ],
          "scattermapbox": [
           {
            "marker": {
             "colorbar": {
              "outlinewidth": 0,
              "ticks": ""
             }
            },
            "type": "scattermapbox"
           }
          ],
          "scatterpolar": [
           {
            "marker": {
             "colorbar": {
              "outlinewidth": 0,
              "ticks": ""
             }
            },
            "type": "scatterpolar"
           }
          ],
          "scatterpolargl": [
           {
            "marker": {
             "colorbar": {
              "outlinewidth": 0,
              "ticks": ""
             }
            },
            "type": "scatterpolargl"
           }
          ],
          "scatterternary": [
           {
            "marker": {
             "colorbar": {
              "outlinewidth": 0,
              "ticks": ""
             }
            },
            "type": "scatterternary"
           }
          ],
          "surface": [
           {
            "colorbar": {
             "outlinewidth": 0,
             "ticks": ""
            },
            "colorscale": [
             [
              0,
              "#0d0887"
             ],
             [
              0.1111111111111111,
              "#46039f"
             ],
             [
              0.2222222222222222,
              "#7201a8"
             ],
             [
              0.3333333333333333,
              "#9c179e"
             ],
             [
              0.4444444444444444,
              "#bd3786"
             ],
             [
              0.5555555555555556,
              "#d8576b"
             ],
             [
              0.6666666666666666,
              "#ed7953"
             ],
             [
              0.7777777777777778,
              "#fb9f3a"
             ],
             [
              0.8888888888888888,
              "#fdca26"
             ],
             [
              1,
              "#f0f921"
             ]
            ],
            "type": "surface"
           }
          ],
          "table": [
           {
            "cells": {
             "fill": {
              "color": "#EBF0F8"
             },
             "line": {
              "color": "white"
             }
            },
            "header": {
             "fill": {
              "color": "#C8D4E3"
             },
             "line": {
              "color": "white"
             }
            },
            "type": "table"
           }
          ]
         },
         "layout": {
          "annotationdefaults": {
           "arrowcolor": "#2a3f5f",
           "arrowhead": 0,
           "arrowwidth": 1
          },
          "autotypenumbers": "strict",
          "coloraxis": {
           "colorbar": {
            "outlinewidth": 0,
            "ticks": ""
           }
          },
          "colorscale": {
           "diverging": [
            [
             0,
             "#8e0152"
            ],
            [
             0.1,
             "#c51b7d"
            ],
            [
             0.2,
             "#de77ae"
            ],
            [
             0.3,
             "#f1b6da"
            ],
            [
             0.4,
             "#fde0ef"
            ],
            [
             0.5,
             "#f7f7f7"
            ],
            [
             0.6,
             "#e6f5d0"
            ],
            [
             0.7,
             "#b8e186"
            ],
            [
             0.8,
             "#7fbc41"
            ],
            [
             0.9,
             "#4d9221"
            ],
            [
             1,
             "#276419"
            ]
           ],
           "sequential": [
            [
             0,
             "#0d0887"
            ],
            [
             0.1111111111111111,
             "#46039f"
            ],
            [
             0.2222222222222222,
             "#7201a8"
            ],
            [
             0.3333333333333333,
             "#9c179e"
            ],
            [
             0.4444444444444444,
             "#bd3786"
            ],
            [
             0.5555555555555556,
             "#d8576b"
            ],
            [
             0.6666666666666666,
             "#ed7953"
            ],
            [
             0.7777777777777778,
             "#fb9f3a"
            ],
            [
             0.8888888888888888,
             "#fdca26"
            ],
            [
             1,
             "#f0f921"
            ]
           ],
           "sequentialminus": [
            [
             0,
             "#0d0887"
            ],
            [
             0.1111111111111111,
             "#46039f"
            ],
            [
             0.2222222222222222,
             "#7201a8"
            ],
            [
             0.3333333333333333,
             "#9c179e"
            ],
            [
             0.4444444444444444,
             "#bd3786"
            ],
            [
             0.5555555555555556,
             "#d8576b"
            ],
            [
             0.6666666666666666,
             "#ed7953"
            ],
            [
             0.7777777777777778,
             "#fb9f3a"
            ],
            [
             0.8888888888888888,
             "#fdca26"
            ],
            [
             1,
             "#f0f921"
            ]
           ]
          },
          "colorway": [
           "#636efa",
           "#EF553B",
           "#00cc96",
           "#ab63fa",
           "#FFA15A",
           "#19d3f3",
           "#FF6692",
           "#B6E880",
           "#FF97FF",
           "#FECB52"
          ],
          "font": {
           "color": "#2a3f5f"
          },
          "geo": {
           "bgcolor": "white",
           "lakecolor": "white",
           "landcolor": "#E5ECF6",
           "showlakes": true,
           "showland": true,
           "subunitcolor": "white"
          },
          "hoverlabel": {
           "align": "left"
          },
          "hovermode": "closest",
          "mapbox": {
           "style": "light"
          },
          "paper_bgcolor": "white",
          "plot_bgcolor": "#E5ECF6",
          "polar": {
           "angularaxis": {
            "gridcolor": "white",
            "linecolor": "white",
            "ticks": ""
           },
           "bgcolor": "#E5ECF6",
           "radialaxis": {
            "gridcolor": "white",
            "linecolor": "white",
            "ticks": ""
           }
          },
          "scene": {
           "xaxis": {
            "backgroundcolor": "#E5ECF6",
            "gridcolor": "white",
            "gridwidth": 2,
            "linecolor": "white",
            "showbackground": true,
            "ticks": "",
            "zerolinecolor": "white"
           },
           "yaxis": {
            "backgroundcolor": "#E5ECF6",
            "gridcolor": "white",
            "gridwidth": 2,
            "linecolor": "white",
            "showbackground": true,
            "ticks": "",
            "zerolinecolor": "white"
           },
           "zaxis": {
            "backgroundcolor": "#E5ECF6",
            "gridcolor": "white",
            "gridwidth": 2,
            "linecolor": "white",
            "showbackground": true,
            "ticks": "",
            "zerolinecolor": "white"
           }
          },
          "shapedefaults": {
           "line": {
            "color": "#2a3f5f"
           }
          },
          "ternary": {
           "aaxis": {
            "gridcolor": "white",
            "linecolor": "white",
            "ticks": ""
           },
           "baxis": {
            "gridcolor": "white",
            "linecolor": "white",
            "ticks": ""
           },
           "bgcolor": "#E5ECF6",
           "caxis": {
            "gridcolor": "white",
            "linecolor": "white",
            "ticks": ""
           }
          },
          "title": {
           "x": 0.05
          },
          "xaxis": {
           "automargin": true,
           "gridcolor": "white",
           "linecolor": "white",
           "ticks": "",
           "title": {
            "standoff": 15
           },
           "zerolinecolor": "white",
           "zerolinewidth": 2
          },
          "yaxis": {
           "automargin": true,
           "gridcolor": "white",
           "linecolor": "white",
           "ticks": "",
           "title": {
            "standoff": 15
           },
           "zerolinecolor": "white",
           "zerolinewidth": 2
          }
         }
        },
        "title": {
         "text": "AlBERTo MC's confidence distribution for Sentipolc16 - false neutrals"
        },
        "xaxis": {
         "range": [
          0,
          1
         ],
         "title": {
          "text": "confidence"
         }
        },
        "yaxis": {
         "title": {
          "text": "normalized count"
         }
        }
       }
      },
      "text/html": [
       "<div>                            <div id=\"fe7fdc8f-8266-4f47-bdf1-012e4b988d31\" class=\"plotly-graph-div\" style=\"height:525px; width:100%;\"></div>            <script type=\"text/javascript\">                require([\"plotly\"], function(Plotly) {                    window.PLOTLYENV=window.PLOTLYENV || {};                                    if (document.getElementById(\"fe7fdc8f-8266-4f47-bdf1-012e4b988d31\")) {                    Plotly.newPlot(                        \"fe7fdc8f-8266-4f47-bdf1-012e4b988d31\",                        [{\"histnorm\":\"probability\",\"type\":\"histogram\",\"x\":[0.531982421875,0.9293563961982727,0.9906524419784546,0.993039071559906,0.7845624089241028,0.9837315082550049,0.7355378866195679,0.9372328519821167,0.583075761795044,0.5621169805526733,0.941358208656311,0.48879072070121765,0.7882369756698608,0.6289656758308411,0.7639579772949219,0.6595069766044617,0.4074265956878662,0.8455618023872375,0.5256068706512451,0.9829009175300598,0.9956355690956116,0.9870206117630005,0.8456194996833801,0.9018740057945251,0.9528680443763733,0.6926771998405457,0.9251554012298584,0.8384995460510254,0.9837395548820496,0.8503547310829163,0.9839650392532349,0.9933454990386963,0.8008535504341125,0.5728672742843628,0.5793473720550537,0.805700957775116,0.6886946558952332,0.8444758653640747,0.8453219532966614,0.4674079120159149,0.8009704947471619,0.9630852937698364,0.6962658762931824,0.9211636185646057,0.8002942800521851,0.9687577486038208,0.5826297998428345,0.8644962906837463,0.9344958662986755,0.9777276515960693,0.905491292476654,0.6037864089012146,0.5011968016624451,0.9124597907066345,0.9837019443511963,0.8986265659332275,0.6186986565589905,0.814899742603302,0.944703996181488,0.8512287139892578,0.9283416271209717,0.9887728095054626,0.5688162446022034,0.9814596176147461,0.9507730603218079,0.5346261262893677,0.6937587261199951,0.9672854542732239,0.8278290629386902,0.5773109197616577,0.9100328087806702,0.4668521583080292,0.9246259331703186,0.9732887148857117,0.989683985710144,0.5834575891494751,0.7511921525001526,0.5226994752883911,0.6194800138473511,0.6112200021743774,0.903416097164154,0.8269668817520142,0.8225380778312683,0.9492989182472229,0.9106554985046387,0.8097032904624939,0.915427029132843,0.6834570169448853,0.5678921341896057,0.9376494884490967,0.943896472454071,0.8077569007873535,0.7265579700469971,0.9815739989280701,0.9881068468093872,0.7725241780281067,0.5946505665779114,0.7912768125534058,0.6971086263656616,0.8273903727531433,0.6396480798721313,0.471937358379364,0.8758661150932312,0.8977105021476746,0.5692120790481567,0.7751333117485046,0.7989559173583984,0.5373624563217163,0.8836556673049927,0.593754768371582,0.9206901788711548,0.5252526998519897,0.8921511173248291,0.9805466532707214,0.7526286840438843,0.6746259331703186,0.5393148064613342,0.49713003635406494,0.5359689593315125,0.8993295431137085,0.5248253345489502,0.7064001560211182,0.9805810451507568,0.7421148419380188,0.9811375141143799,0.9292294979095459,0.9797421097755432,0.7113854289054871,0.9819855690002441,0.4807848036289215,0.535442054271698,0.6474829912185669,0.5840626358985901,0.9750515222549438,0.7539026141166687,0.4676951467990875,0.964043915271759,0.48987582325935364,0.9670790433883667,0.5946773290634155,0.561163604259491,0.9745687246322632,0.9470974802970886,0.8840349912643433,0.9717832803726196,0.6644732356071472,0.7381190657615662,0.8077950477600098,0.5742185711860657,0.9816750884056091,0.9503942131996155,0.6916158199310303,0.9586225748062134,0.5931662321090698,0.9643914103507996,0.47374680638313293,0.6074879765510559,0.8926417231559753,0.9748349785804749,0.4975402355194092,0.4615376889705658,0.5902930498123169,0.9567126631736755,0.5625112652778625,0.9937509894371033,0.8173010349273682,0.9881702661514282,0.9258103966712952,0.7223030924797058,0.5182412266731262,0.6582943797111511,0.9848595261573792,0.8022531270980835,0.9764897227287292,0.7653137445449829,0.9736282825469971,0.6896690726280212,0.9765085577964783,0.9775243997573853,0.8213983774185181,0.9071769118309021,0.6609542965888977,0.5437417030334473,0.6634363532066345,0.7565682530403137,0.9855948686599731,0.3799642324447632,0.5036308169364929,0.9347783327102661,0.839389979839325,0.9738392233848572,0.9943494200706482,0.9536104798316956,0.9888176918029785,0.9823217391967773,0.7847625613212585,0.9679359197616577,0.822745680809021,0.8959181308746338,0.6793138384819031,0.732466459274292,0.5052574872970581,0.7652992010116577,0.6704229116439819,0.6686221361160278,0.8992608189582825,0.5679673552513123,0.7012008428573608,0.962302565574646,0.8440268635749817,0.6306892037391663,0.8996554613113403,0.4142802357673645,0.4964776337146759,0.9389024376869202,0.5387961864471436,0.9798596501350403,0.6599463224411011,0.9900948405265808,0.9575696587562561,0.6538259387016296,0.9051619172096252,0.9879961609840393,0.6708686947822571,0.9812519550323486,0.8098856210708618,0.47120001912117004,0.9223641753196716,0.9803839325904846,0.5738058090209961,0.7471056580543518,0.6118564605712891,0.9888138175010681,0.40258121490478516,0.9741849303245544,0.6611872315406799,0.655847430229187,0.6321554780006409,0.831854522228241,0.48508220911026,0.8754006624221802,0.712299644947052,0.7283960580825806,0.5675284266471863,0.6217056512832642,0.7342159152030945,0.9766159057617188,0.8785083889961243,0.6367560625076294,0.552006721496582,0.5634812712669373,0.9024043083190918,0.8797182440757751,0.8891204595565796,0.9327967762947083,0.9119491577148438,0.563102662563324,0.6694109439849854,0.6043785810470581,0.796947717666626,0.5575855374336243,0.4996183514595032,0.9173966646194458,0.9151667356491089,0.6828246116638184,0.3635996878147125,0.6877474188804626,0.6444979906082153,0.887345552444458,0.923682451248169,0.5316776633262634,0.9561181664466858,0.9036206007003784,0.7603268027305603,0.5046596527099609,0.784604012966156,0.5486876368522644,0.703484833240509,0.9864197373390198,0.6538262963294983,0.8723859190940857,0.9011068940162659,0.952085554599762,0.7822870016098022,0.40146684646606445,0.8283869028091431,0.8766382932662964,0.5302398800849915,0.7607523798942566,0.9447302222251892,0.9853664636611938,0.7955195903778076,0.6766735911369324,0.5355544090270996,0.4916611909866333,0.8090307712554932,0.7210626006126404,0.968619167804718,0.9711478352546692,0.6212676167488098,0.8971169590950012,0.960657000541687,0.8711041808128357,0.6807374954223633,0.6772798299789429,0.6128031611442566,0.9782817959785461,0.7518844604492188],\"xbins\":{\"end\":1.0,\"size\":0.1,\"start\":0.0}}],                        {\"template\":{\"data\":{\"bar\":[{\"error_x\":{\"color\":\"#2a3f5f\"},\"error_y\":{\"color\":\"#2a3f5f\"},\"marker\":{\"line\":{\"color\":\"#E5ECF6\",\"width\":0.5},\"pattern\":{\"fillmode\":\"overlay\",\"size\":10,\"solidity\":0.2}},\"type\":\"bar\"}],\"barpolar\":[{\"marker\":{\"line\":{\"color\":\"#E5ECF6\",\"width\":0.5},\"pattern\":{\"fillmode\":\"overlay\",\"size\":10,\"solidity\":0.2}},\"type\":\"barpolar\"}],\"carpet\":[{\"aaxis\":{\"endlinecolor\":\"#2a3f5f\",\"gridcolor\":\"white\",\"linecolor\":\"white\",\"minorgridcolor\":\"white\",\"startlinecolor\":\"#2a3f5f\"},\"baxis\":{\"endlinecolor\":\"#2a3f5f\",\"gridcolor\":\"white\",\"linecolor\":\"white\",\"minorgridcolor\":\"white\",\"startlinecolor\":\"#2a3f5f\"},\"type\":\"carpet\"}],\"choropleth\":[{\"colorbar\":{\"outlinewidth\":0,\"ticks\":\"\"},\"type\":\"choropleth\"}],\"contour\":[{\"colorbar\":{\"outlinewidth\":0,\"ticks\":\"\"},\"colorscale\":[[0.0,\"#0d0887\"],[0.1111111111111111,\"#46039f\"],[0.2222222222222222,\"#7201a8\"],[0.3333333333333333,\"#9c179e\"],[0.4444444444444444,\"#bd3786\"],[0.5555555555555556,\"#d8576b\"],[0.6666666666666666,\"#ed7953\"],[0.7777777777777778,\"#fb9f3a\"],[0.8888888888888888,\"#fdca26\"],[1.0,\"#f0f921\"]],\"type\":\"contour\"}],\"contourcarpet\":[{\"colorbar\":{\"outlinewidth\":0,\"ticks\":\"\"},\"type\":\"contourcarpet\"}],\"heatmap\":[{\"colorbar\":{\"outlinewidth\":0,\"ticks\":\"\"},\"colorscale\":[[0.0,\"#0d0887\"],[0.1111111111111111,\"#46039f\"],[0.2222222222222222,\"#7201a8\"],[0.3333333333333333,\"#9c179e\"],[0.4444444444444444,\"#bd3786\"],[0.5555555555555556,\"#d8576b\"],[0.6666666666666666,\"#ed7953\"],[0.7777777777777778,\"#fb9f3a\"],[0.8888888888888888,\"#fdca26\"],[1.0,\"#f0f921\"]],\"type\":\"heatmap\"}],\"heatmapgl\":[{\"colorbar\":{\"outlinewidth\":0,\"ticks\":\"\"},\"colorscale\":[[0.0,\"#0d0887\"],[0.1111111111111111,\"#46039f\"],[0.2222222222222222,\"#7201a8\"],[0.3333333333333333,\"#9c179e\"],[0.4444444444444444,\"#bd3786\"],[0.5555555555555556,\"#d8576b\"],[0.6666666666666666,\"#ed7953\"],[0.7777777777777778,\"#fb9f3a\"],[0.8888888888888888,\"#fdca26\"],[1.0,\"#f0f921\"]],\"type\":\"heatmapgl\"}],\"histogram\":[{\"marker\":{\"pattern\":{\"fillmode\":\"overlay\",\"size\":10,\"solidity\":0.2}},\"type\":\"histogram\"}],\"histogram2d\":[{\"colorbar\":{\"outlinewidth\":0,\"ticks\":\"\"},\"colorscale\":[[0.0,\"#0d0887\"],[0.1111111111111111,\"#46039f\"],[0.2222222222222222,\"#7201a8\"],[0.3333333333333333,\"#9c179e\"],[0.4444444444444444,\"#bd3786\"],[0.5555555555555556,\"#d8576b\"],[0.6666666666666666,\"#ed7953\"],[0.7777777777777778,\"#fb9f3a\"],[0.8888888888888888,\"#fdca26\"],[1.0,\"#f0f921\"]],\"type\":\"histogram2d\"}],\"histogram2dcontour\":[{\"colorbar\":{\"outlinewidth\":0,\"ticks\":\"\"},\"colorscale\":[[0.0,\"#0d0887\"],[0.1111111111111111,\"#46039f\"],[0.2222222222222222,\"#7201a8\"],[0.3333333333333333,\"#9c179e\"],[0.4444444444444444,\"#bd3786\"],[0.5555555555555556,\"#d8576b\"],[0.6666666666666666,\"#ed7953\"],[0.7777777777777778,\"#fb9f3a\"],[0.8888888888888888,\"#fdca26\"],[1.0,\"#f0f921\"]],\"type\":\"histogram2dcontour\"}],\"mesh3d\":[{\"colorbar\":{\"outlinewidth\":0,\"ticks\":\"\"},\"type\":\"mesh3d\"}],\"parcoords\":[{\"line\":{\"colorbar\":{\"outlinewidth\":0,\"ticks\":\"\"}},\"type\":\"parcoords\"}],\"pie\":[{\"automargin\":true,\"type\":\"pie\"}],\"scatter\":[{\"marker\":{\"colorbar\":{\"outlinewidth\":0,\"ticks\":\"\"}},\"type\":\"scatter\"}],\"scatter3d\":[{\"line\":{\"colorbar\":{\"outlinewidth\":0,\"ticks\":\"\"}},\"marker\":{\"colorbar\":{\"outlinewidth\":0,\"ticks\":\"\"}},\"type\":\"scatter3d\"}],\"scattercarpet\":[{\"marker\":{\"colorbar\":{\"outlinewidth\":0,\"ticks\":\"\"}},\"type\":\"scattercarpet\"}],\"scattergeo\":[{\"marker\":{\"colorbar\":{\"outlinewidth\":0,\"ticks\":\"\"}},\"type\":\"scattergeo\"}],\"scattergl\":[{\"marker\":{\"colorbar\":{\"outlinewidth\":0,\"ticks\":\"\"}},\"type\":\"scattergl\"}],\"scattermapbox\":[{\"marker\":{\"colorbar\":{\"outlinewidth\":0,\"ticks\":\"\"}},\"type\":\"scattermapbox\"}],\"scatterpolar\":[{\"marker\":{\"colorbar\":{\"outlinewidth\":0,\"ticks\":\"\"}},\"type\":\"scatterpolar\"}],\"scatterpolargl\":[{\"marker\":{\"colorbar\":{\"outlinewidth\":0,\"ticks\":\"\"}},\"type\":\"scatterpolargl\"}],\"scatterternary\":[{\"marker\":{\"colorbar\":{\"outlinewidth\":0,\"ticks\":\"\"}},\"type\":\"scatterternary\"}],\"surface\":[{\"colorbar\":{\"outlinewidth\":0,\"ticks\":\"\"},\"colorscale\":[[0.0,\"#0d0887\"],[0.1111111111111111,\"#46039f\"],[0.2222222222222222,\"#7201a8\"],[0.3333333333333333,\"#9c179e\"],[0.4444444444444444,\"#bd3786\"],[0.5555555555555556,\"#d8576b\"],[0.6666666666666666,\"#ed7953\"],[0.7777777777777778,\"#fb9f3a\"],[0.8888888888888888,\"#fdca26\"],[1.0,\"#f0f921\"]],\"type\":\"surface\"}],\"table\":[{\"cells\":{\"fill\":{\"color\":\"#EBF0F8\"},\"line\":{\"color\":\"white\"}},\"header\":{\"fill\":{\"color\":\"#C8D4E3\"},\"line\":{\"color\":\"white\"}},\"type\":\"table\"}]},\"layout\":{\"annotationdefaults\":{\"arrowcolor\":\"#2a3f5f\",\"arrowhead\":0,\"arrowwidth\":1},\"autotypenumbers\":\"strict\",\"coloraxis\":{\"colorbar\":{\"outlinewidth\":0,\"ticks\":\"\"}},\"colorscale\":{\"diverging\":[[0,\"#8e0152\"],[0.1,\"#c51b7d\"],[0.2,\"#de77ae\"],[0.3,\"#f1b6da\"],[0.4,\"#fde0ef\"],[0.5,\"#f7f7f7\"],[0.6,\"#e6f5d0\"],[0.7,\"#b8e186\"],[0.8,\"#7fbc41\"],[0.9,\"#4d9221\"],[1,\"#276419\"]],\"sequential\":[[0.0,\"#0d0887\"],[0.1111111111111111,\"#46039f\"],[0.2222222222222222,\"#7201a8\"],[0.3333333333333333,\"#9c179e\"],[0.4444444444444444,\"#bd3786\"],[0.5555555555555556,\"#d8576b\"],[0.6666666666666666,\"#ed7953\"],[0.7777777777777778,\"#fb9f3a\"],[0.8888888888888888,\"#fdca26\"],[1.0,\"#f0f921\"]],\"sequentialminus\":[[0.0,\"#0d0887\"],[0.1111111111111111,\"#46039f\"],[0.2222222222222222,\"#7201a8\"],[0.3333333333333333,\"#9c179e\"],[0.4444444444444444,\"#bd3786\"],[0.5555555555555556,\"#d8576b\"],[0.6666666666666666,\"#ed7953\"],[0.7777777777777778,\"#fb9f3a\"],[0.8888888888888888,\"#fdca26\"],[1.0,\"#f0f921\"]]},\"colorway\":[\"#636efa\",\"#EF553B\",\"#00cc96\",\"#ab63fa\",\"#FFA15A\",\"#19d3f3\",\"#FF6692\",\"#B6E880\",\"#FF97FF\",\"#FECB52\"],\"font\":{\"color\":\"#2a3f5f\"},\"geo\":{\"bgcolor\":\"white\",\"lakecolor\":\"white\",\"landcolor\":\"#E5ECF6\",\"showlakes\":true,\"showland\":true,\"subunitcolor\":\"white\"},\"hoverlabel\":{\"align\":\"left\"},\"hovermode\":\"closest\",\"mapbox\":{\"style\":\"light\"},\"paper_bgcolor\":\"white\",\"plot_bgcolor\":\"#E5ECF6\",\"polar\":{\"angularaxis\":{\"gridcolor\":\"white\",\"linecolor\":\"white\",\"ticks\":\"\"},\"bgcolor\":\"#E5ECF6\",\"radialaxis\":{\"gridcolor\":\"white\",\"linecolor\":\"white\",\"ticks\":\"\"}},\"scene\":{\"xaxis\":{\"backgroundcolor\":\"#E5ECF6\",\"gridcolor\":\"white\",\"gridwidth\":2,\"linecolor\":\"white\",\"showbackground\":true,\"ticks\":\"\",\"zerolinecolor\":\"white\"},\"yaxis\":{\"backgroundcolor\":\"#E5ECF6\",\"gridcolor\":\"white\",\"gridwidth\":2,\"linecolor\":\"white\",\"showbackground\":true,\"ticks\":\"\",\"zerolinecolor\":\"white\"},\"zaxis\":{\"backgroundcolor\":\"#E5ECF6\",\"gridcolor\":\"white\",\"gridwidth\":2,\"linecolor\":\"white\",\"showbackground\":true,\"ticks\":\"\",\"zerolinecolor\":\"white\"}},\"shapedefaults\":{\"line\":{\"color\":\"#2a3f5f\"}},\"ternary\":{\"aaxis\":{\"gridcolor\":\"white\",\"linecolor\":\"white\",\"ticks\":\"\"},\"baxis\":{\"gridcolor\":\"white\",\"linecolor\":\"white\",\"ticks\":\"\"},\"bgcolor\":\"#E5ECF6\",\"caxis\":{\"gridcolor\":\"white\",\"linecolor\":\"white\",\"ticks\":\"\"}},\"title\":{\"x\":0.05},\"xaxis\":{\"automargin\":true,\"gridcolor\":\"white\",\"linecolor\":\"white\",\"ticks\":\"\",\"title\":{\"standoff\":15},\"zerolinecolor\":\"white\",\"zerolinewidth\":2},\"yaxis\":{\"automargin\":true,\"gridcolor\":\"white\",\"linecolor\":\"white\",\"ticks\":\"\",\"title\":{\"standoff\":15},\"zerolinecolor\":\"white\",\"zerolinewidth\":2}}},\"title\":{\"text\":\"AlBERTo MC's confidence distribution for Sentipolc16 - false neutrals\"},\"xaxis\":{\"range\":[0.0,1.0],\"title\":{\"text\":\"confidence\"}},\"yaxis\":{\"title\":{\"text\":\"normalized count\"}}},                        {\"responsive\": true}                    ).then(function(){\n",
       "                            \n",
       "var gd = document.getElementById('fe7fdc8f-8266-4f47-bdf1-012e4b988d31');\n",
       "var x = new MutationObserver(function (mutations, observer) {{\n",
       "        var display = window.getComputedStyle(gd).display;\n",
       "        if (!display || display === 'none') {{\n",
       "            console.log([gd, 'removed!']);\n",
       "            Plotly.purge(gd);\n",
       "            observer.disconnect();\n",
       "        }}\n",
       "}});\n",
       "\n",
       "// Listen for the removal of the full notebook cells\n",
       "var notebookContainer = gd.closest('#notebook-container');\n",
       "if (notebookContainer) {{\n",
       "    x.observe(notebookContainer, {childList: true});\n",
       "}}\n",
       "\n",
       "// Listen for the clearing of the current output cell\n",
       "var outputEl = gd.closest('.output');\n",
       "if (outputEl) {{\n",
       "    x.observe(outputEl, {childList: true});\n",
       "}}\n",
       "\n",
       "                        })                };                });            </script>        </div>"
      ]
     },
     "metadata": {},
     "output_type": "display_data"
    },
    {
     "data": {
      "application/vnd.plotly.v1+json": {
       "config": {
        "plotlyServerURL": "https://plot.ly"
       },
       "data": [
        {
         "histnorm": "probability",
         "type": "histogram",
         "x": [
          0.4972658157348633,
          0.9427600502967834,
          0.7625926733016968,
          0.6461820006370544,
          0.6354939341545105,
          0.7754644751548767,
          0.7297880053520203,
          0.6918522715568542,
          0.6854478716850281,
          0.9326928853988647,
          0.5250985026359558,
          0.978615403175354,
          0.9784973859786987,
          0.36582475900650024,
          0.9768243432044983,
          0.6354993581771851,
          0.5540576577186584,
          0.5136183500289917,
          0.6211758255958557,
          0.8926529884338379,
          0.7730534672737122,
          0.4929206371307373,
          0.7404322028160095,
          0.8982395529747009,
          0.744115948677063,
          0.8151853680610657,
          0.932319164276123,
          0.782302737236023,
          0.8737627267837524,
          0.9445837140083313,
          0.8986969590187073,
          0.8762641549110413,
          0.9477246999740601,
          0.8330482244491577,
          0.9708016514778137,
          0.7169008851051331,
          0.9554861783981323,
          0.42260172963142395,
          0.43040701746940613,
          0.8160359263420105,
          0.7023683786392212,
          0.64738929271698,
          0.7070977091789246,
          0.5991154909133911,
          0.5685684680938721,
          0.8313178420066833,
          0.5694790482521057,
          0.9809787273406982,
          0.6836506724357605,
          0.9377535581588745,
          0.7161431908607483,
          0.9372907876968384,
          0.832560122013092,
          0.9692060351371765,
          0.7453672885894775,
          0.5480847358703613,
          0.6210721731185913,
          0.8856314420700073,
          0.9517623782157898,
          0.4448820650577545,
          0.9291719198226929,
          0.5945088267326355,
          0.7475900650024414,
          0.9766615033149719,
          0.799583375453949,
          0.7248333096504211,
          0.5151455402374268,
          0.5632326602935791,
          0.9372071027755737,
          0.6243715882301331,
          0.5986931324005127,
          0.9561321139335632,
          0.9553945660591125,
          0.6474115252494812,
          0.7410571575164795,
          0.4291885197162628,
          0.7475250363349915,
          0.7948421239852905,
          0.7458118796348572,
          0.6070666313171387,
          0.9431580305099487,
          0.4390317499637604,
          0.5172424912452698,
          0.420581191778183,
          0.6973124146461487,
          0.9613603949546814,
          0.7712669372558594,
          0.50858074426651,
          0.8636132478713989,
          0.9608701467514038,
          0.9626966118812561,
          0.516509473323822,
          0.9836126565933228,
          0.8781017661094666,
          0.9434947371482849,
          0.9558672904968262,
          0.9891335368156433,
          0.9468786120414734,
          0.6431425213813782,
          0.9294332265853882,
          0.9275498986244202,
          0.7781753540039062,
          0.8898137807846069,
          0.6906403303146362,
          0.7854353189468384,
          0.9686622023582458,
          0.9528446793556213,
          0.6315484642982483,
          0.4882446825504303,
          0.9423239231109619,
          0.6654813289642334,
          0.7582449316978455,
          0.9562331438064575,
          0.47655850648880005,
          0.9324088096618652,
          0.7458091974258423,
          0.7923102974891663,
          0.9143158793449402,
          0.8286405205726624,
          0.6646713018417358,
          0.9111304879188538,
          0.9843147397041321,
          0.6861559748649597,
          0.5530747771263123,
          0.9727386236190796,
          0.5806195735931396,
          0.5119649171829224,
          0.6662594079971313,
          0.8482964038848877,
          0.8376232981681824,
          0.6066909432411194,
          0.8910316824913025,
          0.7466721534729004,
          0.47299596667289734,
          0.9202888607978821,
          0.9237971305847168,
          0.5950677394866943,
          0.9543372392654419,
          0.6491456627845764,
          0.7210535407066345,
          0.938024640083313,
          0.6319262385368347,
          0.7379775047302246,
          0.7883090376853943,
          0.5202558040618896,
          0.9742738604545593,
          0.6486677527427673,
          0.6587885022163391,
          0.5750329494476318,
          0.9388411641120911,
          0.7671491503715515,
          0.6143895983695984,
          0.6037112474441528,
          0.9647020101547241,
          0.6145522594451904,
          0.6293516755104065,
          0.6248193383216858,
          0.9159488081932068,
          0.9809787273406982,
          0.9377482533454895,
          0.6092715859413147,
          0.7332481145858765,
          0.6812337636947632,
          0.8996445536613464,
          0.7344338297843933,
          0.5410784482955933,
          0.4932263195514679,
          0.8400997519493103,
          0.8434831500053406,
          0.9125695824623108,
          0.5561402440071106,
          0.8403721451759338,
          0.6849901080131531,
          0.6407263278961182,
          0.7377020716667175,
          0.894437849521637,
          0.9467165470123291,
          0.9378820061683655,
          0.9059954285621643,
          0.5768303275108337,
          0.801038384437561,
          0.9462215304374695,
          0.6490857601165771,
          0.9883919358253479,
          0.7526392936706543,
          0.8784894347190857,
          0.5646761059761047,
          0.7783018350601196,
          0.7410832643508911,
          0.9459671974182129,
          0.6391607522964478,
          0.5813576579093933,
          0.9757754802703857,
          0.9199467301368713,
          0.850878119468689,
          0.5996792316436768,
          0.5839970111846924,
          0.41990095376968384,
          0.7881786823272705,
          0.6193772554397583,
          0.8792110681533813,
          0.8597893714904785,
          0.4453323483467102,
          0.6863271594047546,
          0.9735701084136963,
          0.6330665349960327,
          0.9651015996932983,
          0.8341735601425171,
          0.7303541898727417,
          0.6012678146362305,
          0.9376579523086548,
          0.9338313341140747,
          0.75270015001297,
          0.941852867603302,
          0.5072320103645325,
          0.5234026312828064,
          0.9557594656944275,
          0.5477805137634277,
          0.941801905632019,
          0.9072577953338623,
          0.4998205900192261,
          0.6297279000282288,
          0.6475425958633423,
          0.9634432792663574,
          0.6101693511009216,
          0.5027880072593689,
          0.9492101669311523,
          0.7219207286834717,
          0.8221960663795471,
          0.594261109828949,
          0.8748810291290283,
          0.7170202136039734,
          0.8977629542350769,
          0.7049694657325745,
          0.8744021058082581,
          0.6881284117698669,
          0.6573852896690369,
          0.9624627828598022,
          0.5373919606208801,
          0.5766320824623108,
          0.9845778346061707,
          0.9248166084289551,
          0.627640962600708,
          0.7675730586051941,
          0.9632765650749207,
          0.8025977611541748,
          0.468639612197876,
          0.8676808476448059,
          0.8098013401031494,
          0.9629673361778259,
          0.7109875679016113,
          0.8205219507217407,
          0.6952651143074036,
          0.9337610602378845,
          0.5944498777389526,
          0.7660923004150391,
          0.5270839929580688,
          0.8169020414352417,
          0.8544653654098511,
          0.5081716179847717,
          0.6195288896560669,
          0.5593851804733276,
          0.9654995799064636,
          0.923395037651062,
          0.7520143985748291,
          0.563076376914978,
          0.9499473571777344,
          0.4842410385608673,
          0.5068624019622803,
          0.8122054934501648,
          0.9638322591781616,
          0.959394097328186,
          0.8689979910850525,
          0.9218558669090271,
          0.6902355551719666,
          0.9138451814651489,
          0.714930534362793,
          0.8763343691825867,
          0.9223569631576538,
          0.810265302658081,
          0.7809854745864868,
          0.6797906160354614,
          0.7962674498558044
         ],
         "xbins": {
          "end": 1,
          "size": 0.1,
          "start": 0
         }
        }
       ],
       "layout": {
        "template": {
         "data": {
          "bar": [
           {
            "error_x": {
             "color": "#2a3f5f"
            },
            "error_y": {
             "color": "#2a3f5f"
            },
            "marker": {
             "line": {
              "color": "#E5ECF6",
              "width": 0.5
             },
             "pattern": {
              "fillmode": "overlay",
              "size": 10,
              "solidity": 0.2
             }
            },
            "type": "bar"
           }
          ],
          "barpolar": [
           {
            "marker": {
             "line": {
              "color": "#E5ECF6",
              "width": 0.5
             },
             "pattern": {
              "fillmode": "overlay",
              "size": 10,
              "solidity": 0.2
             }
            },
            "type": "barpolar"
           }
          ],
          "carpet": [
           {
            "aaxis": {
             "endlinecolor": "#2a3f5f",
             "gridcolor": "white",
             "linecolor": "white",
             "minorgridcolor": "white",
             "startlinecolor": "#2a3f5f"
            },
            "baxis": {
             "endlinecolor": "#2a3f5f",
             "gridcolor": "white",
             "linecolor": "white",
             "minorgridcolor": "white",
             "startlinecolor": "#2a3f5f"
            },
            "type": "carpet"
           }
          ],
          "choropleth": [
           {
            "colorbar": {
             "outlinewidth": 0,
             "ticks": ""
            },
            "type": "choropleth"
           }
          ],
          "contour": [
           {
            "colorbar": {
             "outlinewidth": 0,
             "ticks": ""
            },
            "colorscale": [
             [
              0,
              "#0d0887"
             ],
             [
              0.1111111111111111,
              "#46039f"
             ],
             [
              0.2222222222222222,
              "#7201a8"
             ],
             [
              0.3333333333333333,
              "#9c179e"
             ],
             [
              0.4444444444444444,
              "#bd3786"
             ],
             [
              0.5555555555555556,
              "#d8576b"
             ],
             [
              0.6666666666666666,
              "#ed7953"
             ],
             [
              0.7777777777777778,
              "#fb9f3a"
             ],
             [
              0.8888888888888888,
              "#fdca26"
             ],
             [
              1,
              "#f0f921"
             ]
            ],
            "type": "contour"
           }
          ],
          "contourcarpet": [
           {
            "colorbar": {
             "outlinewidth": 0,
             "ticks": ""
            },
            "type": "contourcarpet"
           }
          ],
          "heatmap": [
           {
            "colorbar": {
             "outlinewidth": 0,
             "ticks": ""
            },
            "colorscale": [
             [
              0,
              "#0d0887"
             ],
             [
              0.1111111111111111,
              "#46039f"
             ],
             [
              0.2222222222222222,
              "#7201a8"
             ],
             [
              0.3333333333333333,
              "#9c179e"
             ],
             [
              0.4444444444444444,
              "#bd3786"
             ],
             [
              0.5555555555555556,
              "#d8576b"
             ],
             [
              0.6666666666666666,
              "#ed7953"
             ],
             [
              0.7777777777777778,
              "#fb9f3a"
             ],
             [
              0.8888888888888888,
              "#fdca26"
             ],
             [
              1,
              "#f0f921"
             ]
            ],
            "type": "heatmap"
           }
          ],
          "heatmapgl": [
           {
            "colorbar": {
             "outlinewidth": 0,
             "ticks": ""
            },
            "colorscale": [
             [
              0,
              "#0d0887"
             ],
             [
              0.1111111111111111,
              "#46039f"
             ],
             [
              0.2222222222222222,
              "#7201a8"
             ],
             [
              0.3333333333333333,
              "#9c179e"
             ],
             [
              0.4444444444444444,
              "#bd3786"
             ],
             [
              0.5555555555555556,
              "#d8576b"
             ],
             [
              0.6666666666666666,
              "#ed7953"
             ],
             [
              0.7777777777777778,
              "#fb9f3a"
             ],
             [
              0.8888888888888888,
              "#fdca26"
             ],
             [
              1,
              "#f0f921"
             ]
            ],
            "type": "heatmapgl"
           }
          ],
          "histogram": [
           {
            "marker": {
             "pattern": {
              "fillmode": "overlay",
              "size": 10,
              "solidity": 0.2
             }
            },
            "type": "histogram"
           }
          ],
          "histogram2d": [
           {
            "colorbar": {
             "outlinewidth": 0,
             "ticks": ""
            },
            "colorscale": [
             [
              0,
              "#0d0887"
             ],
             [
              0.1111111111111111,
              "#46039f"
             ],
             [
              0.2222222222222222,
              "#7201a8"
             ],
             [
              0.3333333333333333,
              "#9c179e"
             ],
             [
              0.4444444444444444,
              "#bd3786"
             ],
             [
              0.5555555555555556,
              "#d8576b"
             ],
             [
              0.6666666666666666,
              "#ed7953"
             ],
             [
              0.7777777777777778,
              "#fb9f3a"
             ],
             [
              0.8888888888888888,
              "#fdca26"
             ],
             [
              1,
              "#f0f921"
             ]
            ],
            "type": "histogram2d"
           }
          ],
          "histogram2dcontour": [
           {
            "colorbar": {
             "outlinewidth": 0,
             "ticks": ""
            },
            "colorscale": [
             [
              0,
              "#0d0887"
             ],
             [
              0.1111111111111111,
              "#46039f"
             ],
             [
              0.2222222222222222,
              "#7201a8"
             ],
             [
              0.3333333333333333,
              "#9c179e"
             ],
             [
              0.4444444444444444,
              "#bd3786"
             ],
             [
              0.5555555555555556,
              "#d8576b"
             ],
             [
              0.6666666666666666,
              "#ed7953"
             ],
             [
              0.7777777777777778,
              "#fb9f3a"
             ],
             [
              0.8888888888888888,
              "#fdca26"
             ],
             [
              1,
              "#f0f921"
             ]
            ],
            "type": "histogram2dcontour"
           }
          ],
          "mesh3d": [
           {
            "colorbar": {
             "outlinewidth": 0,
             "ticks": ""
            },
            "type": "mesh3d"
           }
          ],
          "parcoords": [
           {
            "line": {
             "colorbar": {
              "outlinewidth": 0,
              "ticks": ""
             }
            },
            "type": "parcoords"
           }
          ],
          "pie": [
           {
            "automargin": true,
            "type": "pie"
           }
          ],
          "scatter": [
           {
            "marker": {
             "colorbar": {
              "outlinewidth": 0,
              "ticks": ""
             }
            },
            "type": "scatter"
           }
          ],
          "scatter3d": [
           {
            "line": {
             "colorbar": {
              "outlinewidth": 0,
              "ticks": ""
             }
            },
            "marker": {
             "colorbar": {
              "outlinewidth": 0,
              "ticks": ""
             }
            },
            "type": "scatter3d"
           }
          ],
          "scattercarpet": [
           {
            "marker": {
             "colorbar": {
              "outlinewidth": 0,
              "ticks": ""
             }
            },
            "type": "scattercarpet"
           }
          ],
          "scattergeo": [
           {
            "marker": {
             "colorbar": {
              "outlinewidth": 0,
              "ticks": ""
             }
            },
            "type": "scattergeo"
           }
          ],
          "scattergl": [
           {
            "marker": {
             "colorbar": {
              "outlinewidth": 0,
              "ticks": ""
             }
            },
            "type": "scattergl"
           }
          ],
          "scattermapbox": [
           {
            "marker": {
             "colorbar": {
              "outlinewidth": 0,
              "ticks": ""
             }
            },
            "type": "scattermapbox"
           }
          ],
          "scatterpolar": [
           {
            "marker": {
             "colorbar": {
              "outlinewidth": 0,
              "ticks": ""
             }
            },
            "type": "scatterpolar"
           }
          ],
          "scatterpolargl": [
           {
            "marker": {
             "colorbar": {
              "outlinewidth": 0,
              "ticks": ""
             }
            },
            "type": "scatterpolargl"
           }
          ],
          "scatterternary": [
           {
            "marker": {
             "colorbar": {
              "outlinewidth": 0,
              "ticks": ""
             }
            },
            "type": "scatterternary"
           }
          ],
          "surface": [
           {
            "colorbar": {
             "outlinewidth": 0,
             "ticks": ""
            },
            "colorscale": [
             [
              0,
              "#0d0887"
             ],
             [
              0.1111111111111111,
              "#46039f"
             ],
             [
              0.2222222222222222,
              "#7201a8"
             ],
             [
              0.3333333333333333,
              "#9c179e"
             ],
             [
              0.4444444444444444,
              "#bd3786"
             ],
             [
              0.5555555555555556,
              "#d8576b"
             ],
             [
              0.6666666666666666,
              "#ed7953"
             ],
             [
              0.7777777777777778,
              "#fb9f3a"
             ],
             [
              0.8888888888888888,
              "#fdca26"
             ],
             [
              1,
              "#f0f921"
             ]
            ],
            "type": "surface"
           }
          ],
          "table": [
           {
            "cells": {
             "fill": {
              "color": "#EBF0F8"
             },
             "line": {
              "color": "white"
             }
            },
            "header": {
             "fill": {
              "color": "#C8D4E3"
             },
             "line": {
              "color": "white"
             }
            },
            "type": "table"
           }
          ]
         },
         "layout": {
          "annotationdefaults": {
           "arrowcolor": "#2a3f5f",
           "arrowhead": 0,
           "arrowwidth": 1
          },
          "autotypenumbers": "strict",
          "coloraxis": {
           "colorbar": {
            "outlinewidth": 0,
            "ticks": ""
           }
          },
          "colorscale": {
           "diverging": [
            [
             0,
             "#8e0152"
            ],
            [
             0.1,
             "#c51b7d"
            ],
            [
             0.2,
             "#de77ae"
            ],
            [
             0.3,
             "#f1b6da"
            ],
            [
             0.4,
             "#fde0ef"
            ],
            [
             0.5,
             "#f7f7f7"
            ],
            [
             0.6,
             "#e6f5d0"
            ],
            [
             0.7,
             "#b8e186"
            ],
            [
             0.8,
             "#7fbc41"
            ],
            [
             0.9,
             "#4d9221"
            ],
            [
             1,
             "#276419"
            ]
           ],
           "sequential": [
            [
             0,
             "#0d0887"
            ],
            [
             0.1111111111111111,
             "#46039f"
            ],
            [
             0.2222222222222222,
             "#7201a8"
            ],
            [
             0.3333333333333333,
             "#9c179e"
            ],
            [
             0.4444444444444444,
             "#bd3786"
            ],
            [
             0.5555555555555556,
             "#d8576b"
            ],
            [
             0.6666666666666666,
             "#ed7953"
            ],
            [
             0.7777777777777778,
             "#fb9f3a"
            ],
            [
             0.8888888888888888,
             "#fdca26"
            ],
            [
             1,
             "#f0f921"
            ]
           ],
           "sequentialminus": [
            [
             0,
             "#0d0887"
            ],
            [
             0.1111111111111111,
             "#46039f"
            ],
            [
             0.2222222222222222,
             "#7201a8"
            ],
            [
             0.3333333333333333,
             "#9c179e"
            ],
            [
             0.4444444444444444,
             "#bd3786"
            ],
            [
             0.5555555555555556,
             "#d8576b"
            ],
            [
             0.6666666666666666,
             "#ed7953"
            ],
            [
             0.7777777777777778,
             "#fb9f3a"
            ],
            [
             0.8888888888888888,
             "#fdca26"
            ],
            [
             1,
             "#f0f921"
            ]
           ]
          },
          "colorway": [
           "#636efa",
           "#EF553B",
           "#00cc96",
           "#ab63fa",
           "#FFA15A",
           "#19d3f3",
           "#FF6692",
           "#B6E880",
           "#FF97FF",
           "#FECB52"
          ],
          "font": {
           "color": "#2a3f5f"
          },
          "geo": {
           "bgcolor": "white",
           "lakecolor": "white",
           "landcolor": "#E5ECF6",
           "showlakes": true,
           "showland": true,
           "subunitcolor": "white"
          },
          "hoverlabel": {
           "align": "left"
          },
          "hovermode": "closest",
          "mapbox": {
           "style": "light"
          },
          "paper_bgcolor": "white",
          "plot_bgcolor": "#E5ECF6",
          "polar": {
           "angularaxis": {
            "gridcolor": "white",
            "linecolor": "white",
            "ticks": ""
           },
           "bgcolor": "#E5ECF6",
           "radialaxis": {
            "gridcolor": "white",
            "linecolor": "white",
            "ticks": ""
           }
          },
          "scene": {
           "xaxis": {
            "backgroundcolor": "#E5ECF6",
            "gridcolor": "white",
            "gridwidth": 2,
            "linecolor": "white",
            "showbackground": true,
            "ticks": "",
            "zerolinecolor": "white"
           },
           "yaxis": {
            "backgroundcolor": "#E5ECF6",
            "gridcolor": "white",
            "gridwidth": 2,
            "linecolor": "white",
            "showbackground": true,
            "ticks": "",
            "zerolinecolor": "white"
           },
           "zaxis": {
            "backgroundcolor": "#E5ECF6",
            "gridcolor": "white",
            "gridwidth": 2,
            "linecolor": "white",
            "showbackground": true,
            "ticks": "",
            "zerolinecolor": "white"
           }
          },
          "shapedefaults": {
           "line": {
            "color": "#2a3f5f"
           }
          },
          "ternary": {
           "aaxis": {
            "gridcolor": "white",
            "linecolor": "white",
            "ticks": ""
           },
           "baxis": {
            "gridcolor": "white",
            "linecolor": "white",
            "ticks": ""
           },
           "bgcolor": "#E5ECF6",
           "caxis": {
            "gridcolor": "white",
            "linecolor": "white",
            "ticks": ""
           }
          },
          "title": {
           "x": 0.05
          },
          "xaxis": {
           "automargin": true,
           "gridcolor": "white",
           "linecolor": "white",
           "ticks": "",
           "title": {
            "standoff": 15
           },
           "zerolinecolor": "white",
           "zerolinewidth": 2
          },
          "yaxis": {
           "automargin": true,
           "gridcolor": "white",
           "linecolor": "white",
           "ticks": "",
           "title": {
            "standoff": 15
           },
           "zerolinecolor": "white",
           "zerolinewidth": 2
          }
         }
        },
        "title": {
         "text": "AlBERTo MC's confidence distribution for Sentipolc16 - false positives"
        },
        "xaxis": {
         "range": [
          0,
          1
         ],
         "title": {
          "text": "confidence"
         }
        },
        "yaxis": {
         "title": {
          "text": "normalized count"
         }
        }
       }
      },
      "text/html": [
       "<div>                            <div id=\"bb5ae341-1179-409e-926e-7b13ac7bd612\" class=\"plotly-graph-div\" style=\"height:525px; width:100%;\"></div>            <script type=\"text/javascript\">                require([\"plotly\"], function(Plotly) {                    window.PLOTLYENV=window.PLOTLYENV || {};                                    if (document.getElementById(\"bb5ae341-1179-409e-926e-7b13ac7bd612\")) {                    Plotly.newPlot(                        \"bb5ae341-1179-409e-926e-7b13ac7bd612\",                        [{\"histnorm\":\"probability\",\"type\":\"histogram\",\"x\":[0.4972658157348633,0.9427600502967834,0.7625926733016968,0.6461820006370544,0.6354939341545105,0.7754644751548767,0.7297880053520203,0.6918522715568542,0.6854478716850281,0.9326928853988647,0.5250985026359558,0.978615403175354,0.9784973859786987,0.36582475900650024,0.9768243432044983,0.6354993581771851,0.5540576577186584,0.5136183500289917,0.6211758255958557,0.8926529884338379,0.7730534672737122,0.4929206371307373,0.7404322028160095,0.8982395529747009,0.744115948677063,0.8151853680610657,0.932319164276123,0.782302737236023,0.8737627267837524,0.9445837140083313,0.8986969590187073,0.8762641549110413,0.9477246999740601,0.8330482244491577,0.9708016514778137,0.7169008851051331,0.9554861783981323,0.42260172963142395,0.43040701746940613,0.8160359263420105,0.7023683786392212,0.64738929271698,0.7070977091789246,0.5991154909133911,0.5685684680938721,0.8313178420066833,0.5694790482521057,0.9809787273406982,0.6836506724357605,0.9377535581588745,0.7161431908607483,0.9372907876968384,0.832560122013092,0.9692060351371765,0.7453672885894775,0.5480847358703613,0.6210721731185913,0.8856314420700073,0.9517623782157898,0.4448820650577545,0.9291719198226929,0.5945088267326355,0.7475900650024414,0.9766615033149719,0.799583375453949,0.7248333096504211,0.5151455402374268,0.5632326602935791,0.9372071027755737,0.6243715882301331,0.5986931324005127,0.9561321139335632,0.9553945660591125,0.6474115252494812,0.7410571575164795,0.4291885197162628,0.7475250363349915,0.7948421239852905,0.7458118796348572,0.6070666313171387,0.9431580305099487,0.4390317499637604,0.5172424912452698,0.420581191778183,0.6973124146461487,0.9613603949546814,0.7712669372558594,0.50858074426651,0.8636132478713989,0.9608701467514038,0.9626966118812561,0.516509473323822,0.9836126565933228,0.8781017661094666,0.9434947371482849,0.9558672904968262,0.9891335368156433,0.9468786120414734,0.6431425213813782,0.9294332265853882,0.9275498986244202,0.7781753540039062,0.8898137807846069,0.6906403303146362,0.7854353189468384,0.9686622023582458,0.9528446793556213,0.6315484642982483,0.4882446825504303,0.9423239231109619,0.6654813289642334,0.7582449316978455,0.9562331438064575,0.47655850648880005,0.9324088096618652,0.7458091974258423,0.7923102974891663,0.9143158793449402,0.8286405205726624,0.6646713018417358,0.9111304879188538,0.9843147397041321,0.6861559748649597,0.5530747771263123,0.9727386236190796,0.5806195735931396,0.5119649171829224,0.6662594079971313,0.8482964038848877,0.8376232981681824,0.6066909432411194,0.8910316824913025,0.7466721534729004,0.47299596667289734,0.9202888607978821,0.9237971305847168,0.5950677394866943,0.9543372392654419,0.6491456627845764,0.7210535407066345,0.938024640083313,0.6319262385368347,0.7379775047302246,0.7883090376853943,0.5202558040618896,0.9742738604545593,0.6486677527427673,0.6587885022163391,0.5750329494476318,0.9388411641120911,0.7671491503715515,0.6143895983695984,0.6037112474441528,0.9647020101547241,0.6145522594451904,0.6293516755104065,0.6248193383216858,0.9159488081932068,0.9809787273406982,0.9377482533454895,0.6092715859413147,0.7332481145858765,0.6812337636947632,0.8996445536613464,0.7344338297843933,0.5410784482955933,0.4932263195514679,0.8400997519493103,0.8434831500053406,0.9125695824623108,0.5561402440071106,0.8403721451759338,0.6849901080131531,0.6407263278961182,0.7377020716667175,0.894437849521637,0.9467165470123291,0.9378820061683655,0.9059954285621643,0.5768303275108337,0.801038384437561,0.9462215304374695,0.6490857601165771,0.9883919358253479,0.7526392936706543,0.8784894347190857,0.5646761059761047,0.7783018350601196,0.7410832643508911,0.9459671974182129,0.6391607522964478,0.5813576579093933,0.9757754802703857,0.9199467301368713,0.850878119468689,0.5996792316436768,0.5839970111846924,0.41990095376968384,0.7881786823272705,0.6193772554397583,0.8792110681533813,0.8597893714904785,0.4453323483467102,0.6863271594047546,0.9735701084136963,0.6330665349960327,0.9651015996932983,0.8341735601425171,0.7303541898727417,0.6012678146362305,0.9376579523086548,0.9338313341140747,0.75270015001297,0.941852867603302,0.5072320103645325,0.5234026312828064,0.9557594656944275,0.5477805137634277,0.941801905632019,0.9072577953338623,0.4998205900192261,0.6297279000282288,0.6475425958633423,0.9634432792663574,0.6101693511009216,0.5027880072593689,0.9492101669311523,0.7219207286834717,0.8221960663795471,0.594261109828949,0.8748810291290283,0.7170202136039734,0.8977629542350769,0.7049694657325745,0.8744021058082581,0.6881284117698669,0.6573852896690369,0.9624627828598022,0.5373919606208801,0.5766320824623108,0.9845778346061707,0.9248166084289551,0.627640962600708,0.7675730586051941,0.9632765650749207,0.8025977611541748,0.468639612197876,0.8676808476448059,0.8098013401031494,0.9629673361778259,0.7109875679016113,0.8205219507217407,0.6952651143074036,0.9337610602378845,0.5944498777389526,0.7660923004150391,0.5270839929580688,0.8169020414352417,0.8544653654098511,0.5081716179847717,0.6195288896560669,0.5593851804733276,0.9654995799064636,0.923395037651062,0.7520143985748291,0.563076376914978,0.9499473571777344,0.4842410385608673,0.5068624019622803,0.8122054934501648,0.9638322591781616,0.959394097328186,0.8689979910850525,0.9218558669090271,0.6902355551719666,0.9138451814651489,0.714930534362793,0.8763343691825867,0.9223569631576538,0.810265302658081,0.7809854745864868,0.6797906160354614,0.7962674498558044],\"xbins\":{\"end\":1.0,\"size\":0.1,\"start\":0.0}}],                        {\"template\":{\"data\":{\"bar\":[{\"error_x\":{\"color\":\"#2a3f5f\"},\"error_y\":{\"color\":\"#2a3f5f\"},\"marker\":{\"line\":{\"color\":\"#E5ECF6\",\"width\":0.5},\"pattern\":{\"fillmode\":\"overlay\",\"size\":10,\"solidity\":0.2}},\"type\":\"bar\"}],\"barpolar\":[{\"marker\":{\"line\":{\"color\":\"#E5ECF6\",\"width\":0.5},\"pattern\":{\"fillmode\":\"overlay\",\"size\":10,\"solidity\":0.2}},\"type\":\"barpolar\"}],\"carpet\":[{\"aaxis\":{\"endlinecolor\":\"#2a3f5f\",\"gridcolor\":\"white\",\"linecolor\":\"white\",\"minorgridcolor\":\"white\",\"startlinecolor\":\"#2a3f5f\"},\"baxis\":{\"endlinecolor\":\"#2a3f5f\",\"gridcolor\":\"white\",\"linecolor\":\"white\",\"minorgridcolor\":\"white\",\"startlinecolor\":\"#2a3f5f\"},\"type\":\"carpet\"}],\"choropleth\":[{\"colorbar\":{\"outlinewidth\":0,\"ticks\":\"\"},\"type\":\"choropleth\"}],\"contour\":[{\"colorbar\":{\"outlinewidth\":0,\"ticks\":\"\"},\"colorscale\":[[0.0,\"#0d0887\"],[0.1111111111111111,\"#46039f\"],[0.2222222222222222,\"#7201a8\"],[0.3333333333333333,\"#9c179e\"],[0.4444444444444444,\"#bd3786\"],[0.5555555555555556,\"#d8576b\"],[0.6666666666666666,\"#ed7953\"],[0.7777777777777778,\"#fb9f3a\"],[0.8888888888888888,\"#fdca26\"],[1.0,\"#f0f921\"]],\"type\":\"contour\"}],\"contourcarpet\":[{\"colorbar\":{\"outlinewidth\":0,\"ticks\":\"\"},\"type\":\"contourcarpet\"}],\"heatmap\":[{\"colorbar\":{\"outlinewidth\":0,\"ticks\":\"\"},\"colorscale\":[[0.0,\"#0d0887\"],[0.1111111111111111,\"#46039f\"],[0.2222222222222222,\"#7201a8\"],[0.3333333333333333,\"#9c179e\"],[0.4444444444444444,\"#bd3786\"],[0.5555555555555556,\"#d8576b\"],[0.6666666666666666,\"#ed7953\"],[0.7777777777777778,\"#fb9f3a\"],[0.8888888888888888,\"#fdca26\"],[1.0,\"#f0f921\"]],\"type\":\"heatmap\"}],\"heatmapgl\":[{\"colorbar\":{\"outlinewidth\":0,\"ticks\":\"\"},\"colorscale\":[[0.0,\"#0d0887\"],[0.1111111111111111,\"#46039f\"],[0.2222222222222222,\"#7201a8\"],[0.3333333333333333,\"#9c179e\"],[0.4444444444444444,\"#bd3786\"],[0.5555555555555556,\"#d8576b\"],[0.6666666666666666,\"#ed7953\"],[0.7777777777777778,\"#fb9f3a\"],[0.8888888888888888,\"#fdca26\"],[1.0,\"#f0f921\"]],\"type\":\"heatmapgl\"}],\"histogram\":[{\"marker\":{\"pattern\":{\"fillmode\":\"overlay\",\"size\":10,\"solidity\":0.2}},\"type\":\"histogram\"}],\"histogram2d\":[{\"colorbar\":{\"outlinewidth\":0,\"ticks\":\"\"},\"colorscale\":[[0.0,\"#0d0887\"],[0.1111111111111111,\"#46039f\"],[0.2222222222222222,\"#7201a8\"],[0.3333333333333333,\"#9c179e\"],[0.4444444444444444,\"#bd3786\"],[0.5555555555555556,\"#d8576b\"],[0.6666666666666666,\"#ed7953\"],[0.7777777777777778,\"#fb9f3a\"],[0.8888888888888888,\"#fdca26\"],[1.0,\"#f0f921\"]],\"type\":\"histogram2d\"}],\"histogram2dcontour\":[{\"colorbar\":{\"outlinewidth\":0,\"ticks\":\"\"},\"colorscale\":[[0.0,\"#0d0887\"],[0.1111111111111111,\"#46039f\"],[0.2222222222222222,\"#7201a8\"],[0.3333333333333333,\"#9c179e\"],[0.4444444444444444,\"#bd3786\"],[0.5555555555555556,\"#d8576b\"],[0.6666666666666666,\"#ed7953\"],[0.7777777777777778,\"#fb9f3a\"],[0.8888888888888888,\"#fdca26\"],[1.0,\"#f0f921\"]],\"type\":\"histogram2dcontour\"}],\"mesh3d\":[{\"colorbar\":{\"outlinewidth\":0,\"ticks\":\"\"},\"type\":\"mesh3d\"}],\"parcoords\":[{\"line\":{\"colorbar\":{\"outlinewidth\":0,\"ticks\":\"\"}},\"type\":\"parcoords\"}],\"pie\":[{\"automargin\":true,\"type\":\"pie\"}],\"scatter\":[{\"marker\":{\"colorbar\":{\"outlinewidth\":0,\"ticks\":\"\"}},\"type\":\"scatter\"}],\"scatter3d\":[{\"line\":{\"colorbar\":{\"outlinewidth\":0,\"ticks\":\"\"}},\"marker\":{\"colorbar\":{\"outlinewidth\":0,\"ticks\":\"\"}},\"type\":\"scatter3d\"}],\"scattercarpet\":[{\"marker\":{\"colorbar\":{\"outlinewidth\":0,\"ticks\":\"\"}},\"type\":\"scattercarpet\"}],\"scattergeo\":[{\"marker\":{\"colorbar\":{\"outlinewidth\":0,\"ticks\":\"\"}},\"type\":\"scattergeo\"}],\"scattergl\":[{\"marker\":{\"colorbar\":{\"outlinewidth\":0,\"ticks\":\"\"}},\"type\":\"scattergl\"}],\"scattermapbox\":[{\"marker\":{\"colorbar\":{\"outlinewidth\":0,\"ticks\":\"\"}},\"type\":\"scattermapbox\"}],\"scatterpolar\":[{\"marker\":{\"colorbar\":{\"outlinewidth\":0,\"ticks\":\"\"}},\"type\":\"scatterpolar\"}],\"scatterpolargl\":[{\"marker\":{\"colorbar\":{\"outlinewidth\":0,\"ticks\":\"\"}},\"type\":\"scatterpolargl\"}],\"scatterternary\":[{\"marker\":{\"colorbar\":{\"outlinewidth\":0,\"ticks\":\"\"}},\"type\":\"scatterternary\"}],\"surface\":[{\"colorbar\":{\"outlinewidth\":0,\"ticks\":\"\"},\"colorscale\":[[0.0,\"#0d0887\"],[0.1111111111111111,\"#46039f\"],[0.2222222222222222,\"#7201a8\"],[0.3333333333333333,\"#9c179e\"],[0.4444444444444444,\"#bd3786\"],[0.5555555555555556,\"#d8576b\"],[0.6666666666666666,\"#ed7953\"],[0.7777777777777778,\"#fb9f3a\"],[0.8888888888888888,\"#fdca26\"],[1.0,\"#f0f921\"]],\"type\":\"surface\"}],\"table\":[{\"cells\":{\"fill\":{\"color\":\"#EBF0F8\"},\"line\":{\"color\":\"white\"}},\"header\":{\"fill\":{\"color\":\"#C8D4E3\"},\"line\":{\"color\":\"white\"}},\"type\":\"table\"}]},\"layout\":{\"annotationdefaults\":{\"arrowcolor\":\"#2a3f5f\",\"arrowhead\":0,\"arrowwidth\":1},\"autotypenumbers\":\"strict\",\"coloraxis\":{\"colorbar\":{\"outlinewidth\":0,\"ticks\":\"\"}},\"colorscale\":{\"diverging\":[[0,\"#8e0152\"],[0.1,\"#c51b7d\"],[0.2,\"#de77ae\"],[0.3,\"#f1b6da\"],[0.4,\"#fde0ef\"],[0.5,\"#f7f7f7\"],[0.6,\"#e6f5d0\"],[0.7,\"#b8e186\"],[0.8,\"#7fbc41\"],[0.9,\"#4d9221\"],[1,\"#276419\"]],\"sequential\":[[0.0,\"#0d0887\"],[0.1111111111111111,\"#46039f\"],[0.2222222222222222,\"#7201a8\"],[0.3333333333333333,\"#9c179e\"],[0.4444444444444444,\"#bd3786\"],[0.5555555555555556,\"#d8576b\"],[0.6666666666666666,\"#ed7953\"],[0.7777777777777778,\"#fb9f3a\"],[0.8888888888888888,\"#fdca26\"],[1.0,\"#f0f921\"]],\"sequentialminus\":[[0.0,\"#0d0887\"],[0.1111111111111111,\"#46039f\"],[0.2222222222222222,\"#7201a8\"],[0.3333333333333333,\"#9c179e\"],[0.4444444444444444,\"#bd3786\"],[0.5555555555555556,\"#d8576b\"],[0.6666666666666666,\"#ed7953\"],[0.7777777777777778,\"#fb9f3a\"],[0.8888888888888888,\"#fdca26\"],[1.0,\"#f0f921\"]]},\"colorway\":[\"#636efa\",\"#EF553B\",\"#00cc96\",\"#ab63fa\",\"#FFA15A\",\"#19d3f3\",\"#FF6692\",\"#B6E880\",\"#FF97FF\",\"#FECB52\"],\"font\":{\"color\":\"#2a3f5f\"},\"geo\":{\"bgcolor\":\"white\",\"lakecolor\":\"white\",\"landcolor\":\"#E5ECF6\",\"showlakes\":true,\"showland\":true,\"subunitcolor\":\"white\"},\"hoverlabel\":{\"align\":\"left\"},\"hovermode\":\"closest\",\"mapbox\":{\"style\":\"light\"},\"paper_bgcolor\":\"white\",\"plot_bgcolor\":\"#E5ECF6\",\"polar\":{\"angularaxis\":{\"gridcolor\":\"white\",\"linecolor\":\"white\",\"ticks\":\"\"},\"bgcolor\":\"#E5ECF6\",\"radialaxis\":{\"gridcolor\":\"white\",\"linecolor\":\"white\",\"ticks\":\"\"}},\"scene\":{\"xaxis\":{\"backgroundcolor\":\"#E5ECF6\",\"gridcolor\":\"white\",\"gridwidth\":2,\"linecolor\":\"white\",\"showbackground\":true,\"ticks\":\"\",\"zerolinecolor\":\"white\"},\"yaxis\":{\"backgroundcolor\":\"#E5ECF6\",\"gridcolor\":\"white\",\"gridwidth\":2,\"linecolor\":\"white\",\"showbackground\":true,\"ticks\":\"\",\"zerolinecolor\":\"white\"},\"zaxis\":{\"backgroundcolor\":\"#E5ECF6\",\"gridcolor\":\"white\",\"gridwidth\":2,\"linecolor\":\"white\",\"showbackground\":true,\"ticks\":\"\",\"zerolinecolor\":\"white\"}},\"shapedefaults\":{\"line\":{\"color\":\"#2a3f5f\"}},\"ternary\":{\"aaxis\":{\"gridcolor\":\"white\",\"linecolor\":\"white\",\"ticks\":\"\"},\"baxis\":{\"gridcolor\":\"white\",\"linecolor\":\"white\",\"ticks\":\"\"},\"bgcolor\":\"#E5ECF6\",\"caxis\":{\"gridcolor\":\"white\",\"linecolor\":\"white\",\"ticks\":\"\"}},\"title\":{\"x\":0.05},\"xaxis\":{\"automargin\":true,\"gridcolor\":\"white\",\"linecolor\":\"white\",\"ticks\":\"\",\"title\":{\"standoff\":15},\"zerolinecolor\":\"white\",\"zerolinewidth\":2},\"yaxis\":{\"automargin\":true,\"gridcolor\":\"white\",\"linecolor\":\"white\",\"ticks\":\"\",\"title\":{\"standoff\":15},\"zerolinecolor\":\"white\",\"zerolinewidth\":2}}},\"title\":{\"text\":\"AlBERTo MC's confidence distribution for Sentipolc16 - false positives\"},\"xaxis\":{\"range\":[0.0,1.0],\"title\":{\"text\":\"confidence\"}},\"yaxis\":{\"title\":{\"text\":\"normalized count\"}}},                        {\"responsive\": true}                    ).then(function(){\n",
       "                            \n",
       "var gd = document.getElementById('bb5ae341-1179-409e-926e-7b13ac7bd612');\n",
       "var x = new MutationObserver(function (mutations, observer) {{\n",
       "        var display = window.getComputedStyle(gd).display;\n",
       "        if (!display || display === 'none') {{\n",
       "            console.log([gd, 'removed!']);\n",
       "            Plotly.purge(gd);\n",
       "            observer.disconnect();\n",
       "        }}\n",
       "}});\n",
       "\n",
       "// Listen for the removal of the full notebook cells\n",
       "var notebookContainer = gd.closest('#notebook-container');\n",
       "if (notebookContainer) {{\n",
       "    x.observe(notebookContainer, {childList: true});\n",
       "}}\n",
       "\n",
       "// Listen for the clearing of the current output cell\n",
       "var outputEl = gd.closest('.output');\n",
       "if (outputEl) {{\n",
       "    x.observe(outputEl, {childList: true});\n",
       "}}\n",
       "\n",
       "                        })                };                });            </script>        </div>"
      ]
     },
     "metadata": {},
     "output_type": "display_data"
    },
    {
     "data": {
      "image/png": "[encoded data removed]",
      "text/plain": [
       "<Figure size 432x288 with 2 Axes>"
      ]
     },
     "metadata": {
      "needs_background": "light"
     },
     "output_type": "display_data"
    }
   ],
   "source": [
    "print(\"\\n\\n AlBERTo MC\\n\\n\")\n",
    "eval_alberto(MyNetMC, \"AlBERTo MC\", \"models/alberto_multiclass.pt\", dataset_sentipolc, \"Sentipolc16\", keep_neutrals=True, plot_confidence=True)"
   ]
  },
  {
   "cell_type": "markdown",
   "id": "1dfd377e",
   "metadata": {},
   "source": [
    "### AlBERTo opt - SENTIPOLC16"
   ]
  },
  {
   "cell_type": "code",
   "execution_count": 13,
   "id": "523602a4",
   "metadata": {},
   "outputs": [
    {
     "name": "stdout",
     "output_type": "stream",
     "text": [
      "\n",
      "\n",
      " AlBERTo MC opt\n",
      "\n",
      "\n"
     ]
    },
    {
     "data": {
      "application/vnd.jupyter.widget-view+json": {
       "model_id": "9e667be5799b48da83c1919bf3d61fc6",
       "version_major": 2,
       "version_minor": 0
      },
      "text/plain": [
       "HBox(children=(FloatProgress(value=0.0, max=2.0), HTML(value='')))"
      ]
     },
     "metadata": {},
     "output_type": "display_data"
    },
    {
     "name": "stdout",
     "output_type": "stream",
     "text": [
      "\n"
     ]
    },
    {
     "data": {
      "application/vnd.jupyter.widget-view+json": {
       "model_id": "99fbb62347c94bb3981c4609f47c291f",
       "version_major": 2,
       "version_minor": 0
      },
      "text/plain": [
       "HBox(children=(FloatProgress(value=0.0, max=2.0), HTML(value='')))"
      ]
     },
     "metadata": {},
     "output_type": "display_data"
    },
    {
     "name": "stdout",
     "output_type": "stream",
     "text": [
      "\n",
      "              precision    recall  f1-score   support\n",
      "\n",
      "    negative       0.85      0.55      0.67       734\n",
      "     neutral       0.70      0.85      0.76       914\n",
      "    positive       0.53      0.63      0.58       316\n",
      "\n",
      "    accuracy                           0.70      1964\n",
      "   macro avg       0.69      0.68      0.67      1964\n",
      "weighted avg       0.73      0.70      0.70      1964\n",
      "\n"
     ]
    },
    {
     "data": {
      "application/vnd.plotly.v1+json": {
       "config": {
        "plotlyServerURL": "https://plot.ly"
       },
       "data": [
        {
         "histnorm": "probability",
         "type": "histogram",
         "x": [
          0.5195848345756531,
          0.8904045224189758,
          0.5496228933334351,
          0.8393177390098572,
          0.8742168545722961,
          0.987975001335144,
          0.9832232594490051,
          0.7422398328781128,
          0.4495019316673279,
          0.8620708584785461,
          0.9178665280342102,
          0.9745441675186157,
          0.5571624040603638,
          0.8211647868156433,
          0.5137273073196411,
          0.8108845353126526,
          0.9103047251701355,
          0.7322148680686951,
          0.9794222116470337,
          0.6871918439865112,
          0.8028941750526428,
          0.7341550588607788,
          0.518027126789093,
          0.8191786408424377,
          0.5548526644706726,
          0.5369424223899841,
          0.8763872385025024,
          0.5204359889030457,
          0.5553448796272278,
          0.5417882204055786,
          0.6913670301437378,
          0.9721823930740356,
          0.5810350775718689,
          0.9210193157196045,
          0.8247093558311462,
          0.92075514793396,
          0.9263520836830139,
          0.9282181262969971,
          0.9676286578178406,
          0.5199388265609741,
          0.6566805839538574,
          0.8108581900596619,
          0.7530149221420288,
          0.7888286113739014,
          0.6012957096099854,
          0.9124049544334412,
          0.8882126212120056,
          0.6801432371139526,
          0.6271706819534302,
          0.7859837412834167,
          0.829596996307373,
          0.7426537275314331,
          0.5846378207206726,
          0.6346060037612915,
          0.8246086239814758,
          0.7771993279457092,
          0.7363996505737305,
          0.6827223300933838,
          0.5577030181884766,
          0.7611273527145386,
          0.4806942641735077,
          0.9478924870491028,
          0.4955490529537201,
          0.48245084285736084,
          0.5615338683128357,
          0.7961702942848206,
          0.6200599074363708,
          0.9861589074134827,
          0.8550121784210205
         ],
         "xbins": {
          "end": 1,
          "size": 0.1,
          "start": 0
         }
        }
       ],
       "layout": {
        "template": {
         "data": {
          "bar": [
           {
            "error_x": {
             "color": "#2a3f5f"
            },
            "error_y": {
             "color": "#2a3f5f"
            },
            "marker": {
             "line": {
              "color": "#E5ECF6",
              "width": 0.5
             },
             "pattern": {
              "fillmode": "overlay",
              "size": 10,
              "solidity": 0.2
             }
            },
            "type": "bar"
           }
          ],
          "barpolar": [
           {
            "marker": {
             "line": {
              "color": "#E5ECF6",
              "width": 0.5
             },
             "pattern": {
              "fillmode": "overlay",
              "size": 10,
              "solidity": 0.2
             }
            },
            "type": "barpolar"
           }
          ],
          "carpet": [
           {
            "aaxis": {
             "endlinecolor": "#2a3f5f",
             "gridcolor": "white",
             "linecolor": "white",
             "minorgridcolor": "white",
             "startlinecolor": "#2a3f5f"
            },
            "baxis": {
             "endlinecolor": "#2a3f5f",
             "gridcolor": "white",
             "linecolor": "white",
             "minorgridcolor": "white",
             "startlinecolor": "#2a3f5f"
            },
            "type": "carpet"
           }
          ],
          "choropleth": [
           {
            "colorbar": {
             "outlinewidth": 0,
             "ticks": ""
            },
            "type": "choropleth"
           }
          ],
          "contour": [
           {
            "colorbar": {
             "outlinewidth": 0,
             "ticks": ""
            },
            "colorscale": [
             [
              0,
              "#0d0887"
             ],
             [
              0.1111111111111111,
              "#46039f"
             ],
             [
              0.2222222222222222,
              "#7201a8"
             ],
             [
              0.3333333333333333,
              "#9c179e"
             ],
             [
              0.4444444444444444,
              "#bd3786"
             ],
             [
              0.5555555555555556,
              "#d8576b"
             ],
             [
              0.6666666666666666,
              "#ed7953"
             ],
             [
              0.7777777777777778,
              "#fb9f3a"
             ],
             [
              0.8888888888888888,
              "#fdca26"
             ],
             [
              1,
              "#f0f921"
             ]
            ],
            "type": "contour"
           }
          ],
          "contourcarpet": [
           {
            "colorbar": {
             "outlinewidth": 0,
             "ticks": ""
            },
            "type": "contourcarpet"
           }
          ],
          "heatmap": [
           {
            "colorbar": {
             "outlinewidth": 0,
             "ticks": ""
            },
            "colorscale": [
             [
              0,
              "#0d0887"
             ],
             [
              0.1111111111111111,
              "#46039f"
             ],
             [
              0.2222222222222222,
              "#7201a8"
             ],
             [
              0.3333333333333333,
              "#9c179e"
             ],
             [
              0.4444444444444444,
              "#bd3786"
             ],
             [
              0.5555555555555556,
              "#d8576b"
             ],
             [
              0.6666666666666666,
              "#ed7953"
             ],
             [
              0.7777777777777778,
              "#fb9f3a"
             ],
             [
              0.8888888888888888,
              "#fdca26"
             ],
             [
              1,
              "#f0f921"
             ]
            ],
            "type": "heatmap"
           }
          ],
          "heatmapgl": [
           {
            "colorbar": {
             "outlinewidth": 0,
             "ticks": ""
            },
            "colorscale": [
             [
              0,
              "#0d0887"
             ],
             [
              0.1111111111111111,
              "#46039f"
             ],
             [
              0.2222222222222222,
              "#7201a8"
             ],
             [
              0.3333333333333333,
              "#9c179e"
             ],
             [
              0.4444444444444444,
              "#bd3786"
             ],
             [
              0.5555555555555556,
              "#d8576b"
             ],
             [
              0.6666666666666666,
              "#ed7953"
             ],
             [
              0.7777777777777778,
              "#fb9f3a"
             ],
             [
              0.8888888888888888,
              "#fdca26"
             ],
             [
              1,
              "#f0f921"
             ]
            ],
            "type": "heatmapgl"
           }
          ],
          "histogram": [
           {
            "marker": {
             "pattern": {
              "fillmode": "overlay",
              "size": 10,
              "solidity": 0.2
             }
            },
            "type": "histogram"
           }
          ],
          "histogram2d": [
           {
            "colorbar": {
             "outlinewidth": 0,
             "ticks": ""
            },
            "colorscale": [
             [
              0,
              "#0d0887"
             ],
             [
              0.1111111111111111,
              "#46039f"
             ],
             [
              0.2222222222222222,
              "#7201a8"
             ],
             [
              0.3333333333333333,
              "#9c179e"
             ],
             [
              0.4444444444444444,
              "#bd3786"
             ],
             [
              0.5555555555555556,
              "#d8576b"
             ],
             [
              0.6666666666666666,
              "#ed7953"
             ],
             [
              0.7777777777777778,
              "#fb9f3a"
             ],
             [
              0.8888888888888888,
              "#fdca26"
             ],
             [
              1,
              "#f0f921"
             ]
            ],
            "type": "histogram2d"
           }
          ],
          "histogram2dcontour": [
           {
            "colorbar": {
             "outlinewidth": 0,
             "ticks": ""
            },
            "colorscale": [
             [
              0,
              "#0d0887"
             ],
             [
              0.1111111111111111,
              "#46039f"
             ],
             [
              0.2222222222222222,
              "#7201a8"
             ],
             [
              0.3333333333333333,
              "#9c179e"
             ],
             [
              0.4444444444444444,
              "#bd3786"
             ],
             [
              0.5555555555555556,
              "#d8576b"
             ],
             [
              0.6666666666666666,
              "#ed7953"
             ],
             [
              0.7777777777777778,
              "#fb9f3a"
             ],
             [
              0.8888888888888888,
              "#fdca26"
             ],
             [
              1,
              "#f0f921"
             ]
            ],
            "type": "histogram2dcontour"
           }
          ],
          "mesh3d": [
           {
            "colorbar": {
             "outlinewidth": 0,
             "ticks": ""
            },
            "type": "mesh3d"
           }
          ],
          "parcoords": [
           {
            "line": {
             "colorbar": {
              "outlinewidth": 0,
              "ticks": ""
             }
            },
            "type": "parcoords"
           }
          ],
          "pie": [
           {
            "automargin": true,
            "type": "pie"
           }
          ],
          "scatter": [
           {
            "marker": {
             "colorbar": {
              "outlinewidth": 0,
              "ticks": ""
             }
            },
            "type": "scatter"
           }
          ],
          "scatter3d": [
           {
            "line": {
             "colorbar": {
              "outlinewidth": 0,
              "ticks": ""
             }
            },
            "marker": {
             "colorbar": {
              "outlinewidth": 0,
              "ticks": ""
             }
            },
            "type": "scatter3d"
           }
          ],
          "scattercarpet": [
           {
            "marker": {
             "colorbar": {
              "outlinewidth": 0,
              "ticks": ""
             }
            },
            "type": "scattercarpet"
           }
          ],
          "scattergeo": [
           {
            "marker": {
             "colorbar": {
              "outlinewidth": 0,
              "ticks": ""
             }
            },
            "type": "scattergeo"
           }
          ],
          "scattergl": [
           {
            "marker": {
             "colorbar": {
              "outlinewidth": 0,
              "ticks": ""
             }
            },
            "type": "scattergl"
           }
          ],
          "scattermapbox": [
           {
            "marker": {
             "colorbar": {
              "outlinewidth": 0,
              "ticks": ""
             }
            },
            "type": "scattermapbox"
           }
          ],
          "scatterpolar": [
           {
            "marker": {
             "colorbar": {
              "outlinewidth": 0,
              "ticks": ""
             }
            },
            "type": "scatterpolar"
           }
          ],
          "scatterpolargl": [
           {
            "marker": {
             "colorbar": {
              "outlinewidth": 0,
              "ticks": ""
             }
            },
            "type": "scatterpolargl"
           }
          ],
          "scatterternary": [
           {
            "marker": {
             "colorbar": {
              "outlinewidth": 0,
              "ticks": ""
             }
            },
            "type": "scatterternary"
           }
          ],
          "surface": [
           {
            "colorbar": {
             "outlinewidth": 0,
             "ticks": ""
            },
            "colorscale": [
             [
              0,
              "#0d0887"
             ],
             [
              0.1111111111111111,
              "#46039f"
             ],
             [
              0.2222222222222222,
              "#7201a8"
             ],
             [
              0.3333333333333333,
              "#9c179e"
             ],
             [
              0.4444444444444444,
              "#bd3786"
             ],
             [
              0.5555555555555556,
              "#d8576b"
             ],
             [
              0.6666666666666666,
              "#ed7953"
             ],
             [
              0.7777777777777778,
              "#fb9f3a"
             ],
             [
              0.8888888888888888,
              "#fdca26"
             ],
             [
              1,
              "#f0f921"
             ]
            ],
            "type": "surface"
           }
          ],
          "table": [
           {
            "cells": {
             "fill": {
              "color": "#EBF0F8"
             },
             "line": {
              "color": "white"
             }
            },
            "header": {
             "fill": {
              "color": "#C8D4E3"
             },
             "line": {
              "color": "white"
             }
            },
            "type": "table"
           }
          ]
         },
         "layout": {
          "annotationdefaults": {
           "arrowcolor": "#2a3f5f",
           "arrowhead": 0,
           "arrowwidth": 1
          },
          "autotypenumbers": "strict",
          "coloraxis": {
           "colorbar": {
            "outlinewidth": 0,
            "ticks": ""
           }
          },
          "colorscale": {
           "diverging": [
            [
             0,
             "#8e0152"
            ],
            [
             0.1,
             "#c51b7d"
            ],
            [
             0.2,
             "#de77ae"
            ],
            [
             0.3,
             "#f1b6da"
            ],
            [
             0.4,
             "#fde0ef"
            ],
            [
             0.5,
             "#f7f7f7"
            ],
            [
             0.6,
             "#e6f5d0"
            ],
            [
             0.7,
             "#b8e186"
            ],
            [
             0.8,
             "#7fbc41"
            ],
            [
             0.9,
             "#4d9221"
            ],
            [
             1,
             "#276419"
            ]
           ],
           "sequential": [
            [
             0,
             "#0d0887"
            ],
            [
             0.1111111111111111,
             "#46039f"
            ],
            [
             0.2222222222222222,
             "#7201a8"
            ],
            [
             0.3333333333333333,
             "#9c179e"
            ],
            [
             0.4444444444444444,
             "#bd3786"
            ],
            [
             0.5555555555555556,
             "#d8576b"
            ],
            [
             0.6666666666666666,
             "#ed7953"
            ],
            [
             0.7777777777777778,
             "#fb9f3a"
            ],
            [
             0.8888888888888888,
             "#fdca26"
            ],
            [
             1,
             "#f0f921"
            ]
           ],
           "sequentialminus": [
            [
             0,
             "#0d0887"
            ],
            [
             0.1111111111111111,
             "#46039f"
            ],
            [
             0.2222222222222222,
             "#7201a8"
            ],
            [
             0.3333333333333333,
             "#9c179e"
            ],
            [
             0.4444444444444444,
             "#bd3786"
            ],
            [
             0.5555555555555556,
             "#d8576b"
            ],
            [
             0.6666666666666666,
             "#ed7953"
            ],
            [
             0.7777777777777778,
             "#fb9f3a"
            ],
            [
             0.8888888888888888,
             "#fdca26"
            ],
            [
             1,
             "#f0f921"
            ]
           ]
          },
          "colorway": [
           "#636efa",
           "#EF553B",
           "#00cc96",
           "#ab63fa",
           "#FFA15A",
           "#19d3f3",
           "#FF6692",
           "#B6E880",
           "#FF97FF",
           "#FECB52"
          ],
          "font": {
           "color": "#2a3f5f"
          },
          "geo": {
           "bgcolor": "white",
           "lakecolor": "white",
           "landcolor": "#E5ECF6",
           "showlakes": true,
           "showland": true,
           "subunitcolor": "white"
          },
          "hoverlabel": {
           "align": "left"
          },
          "hovermode": "closest",
          "mapbox": {
           "style": "light"
          },
          "paper_bgcolor": "white",
          "plot_bgcolor": "#E5ECF6",
          "polar": {
           "angularaxis": {
            "gridcolor": "white",
            "linecolor": "white",
            "ticks": ""
           },
           "bgcolor": "#E5ECF6",
           "radialaxis": {
            "gridcolor": "white",
            "linecolor": "white",
            "ticks": ""
           }
          },
          "scene": {
           "xaxis": {
            "backgroundcolor": "#E5ECF6",
            "gridcolor": "white",
            "gridwidth": 2,
            "linecolor": "white",
            "showbackground": true,
            "ticks": "",
            "zerolinecolor": "white"
           },
           "yaxis": {
            "backgroundcolor": "#E5ECF6",
            "gridcolor": "white",
            "gridwidth": 2,
            "linecolor": "white",
            "showbackground": true,
            "ticks": "",
            "zerolinecolor": "white"
           },
           "zaxis": {
            "backgroundcolor": "#E5ECF6",
            "gridcolor": "white",
            "gridwidth": 2,
            "linecolor": "white",
            "showbackground": true,
            "ticks": "",
            "zerolinecolor": "white"
           }
          },
          "shapedefaults": {
           "line": {
            "color": "#2a3f5f"
           }
          },
          "ternary": {
           "aaxis": {
            "gridcolor": "white",
            "linecolor": "white",
            "ticks": ""
           },
           "baxis": {
            "gridcolor": "white",
            "linecolor": "white",
            "ticks": ""
           },
           "bgcolor": "#E5ECF6",
           "caxis": {
            "gridcolor": "white",
            "linecolor": "white",
            "ticks": ""
           }
          },
          "title": {
           "x": 0.05
          },
          "xaxis": {
           "automargin": true,
           "gridcolor": "white",
           "linecolor": "white",
           "ticks": "",
           "title": {
            "standoff": 15
           },
           "zerolinecolor": "white",
           "zerolinewidth": 2
          },
          "yaxis": {
           "automargin": true,
           "gridcolor": "white",
           "linecolor": "white",
           "ticks": "",
           "title": {
            "standoff": 15
           },
           "zerolinecolor": "white",
           "zerolinewidth": 2
          }
         }
        },
        "title": {
         "text": "AlBERTo MC opt's confidence distribution for Sentipolc16 - false negatives"
        },
        "xaxis": {
         "range": [
          0,
          1
         ],
         "title": {
          "text": "confidence"
         }
        },
        "yaxis": {
         "title": {
          "text": "normalized count"
         }
        }
       }
      },
      "text/html": [
       "<div>                            <div id=\"90cd54c8-9896-4a63-8c2d-959a35dafdbc\" class=\"plotly-graph-div\" style=\"height:525px; width:100%;\"></div>            <script type=\"text/javascript\">                require([\"plotly\"], function(Plotly) {                    window.PLOTLYENV=window.PLOTLYENV || {};                                    if (document.getElementById(\"90cd54c8-9896-4a63-8c2d-959a35dafdbc\")) {                    Plotly.newPlot(                        \"90cd54c8-9896-4a63-8c2d-959a35dafdbc\",                        [{\"histnorm\":\"probability\",\"type\":\"histogram\",\"x\":[0.5195848345756531,0.8904045224189758,0.5496228933334351,0.8393177390098572,0.8742168545722961,0.987975001335144,0.9832232594490051,0.7422398328781128,0.4495019316673279,0.8620708584785461,0.9178665280342102,0.9745441675186157,0.5571624040603638,0.8211647868156433,0.5137273073196411,0.8108845353126526,0.9103047251701355,0.7322148680686951,0.9794222116470337,0.6871918439865112,0.8028941750526428,0.7341550588607788,0.518027126789093,0.8191786408424377,0.5548526644706726,0.5369424223899841,0.8763872385025024,0.5204359889030457,0.5553448796272278,0.5417882204055786,0.6913670301437378,0.9721823930740356,0.5810350775718689,0.9210193157196045,0.8247093558311462,0.92075514793396,0.9263520836830139,0.9282181262969971,0.9676286578178406,0.5199388265609741,0.6566805839538574,0.8108581900596619,0.7530149221420288,0.7888286113739014,0.6012957096099854,0.9124049544334412,0.8882126212120056,0.6801432371139526,0.6271706819534302,0.7859837412834167,0.829596996307373,0.7426537275314331,0.5846378207206726,0.6346060037612915,0.8246086239814758,0.7771993279457092,0.7363996505737305,0.6827223300933838,0.5577030181884766,0.7611273527145386,0.4806942641735077,0.9478924870491028,0.4955490529537201,0.48245084285736084,0.5615338683128357,0.7961702942848206,0.6200599074363708,0.9861589074134827,0.8550121784210205],\"xbins\":{\"end\":1.0,\"size\":0.1,\"start\":0.0}}],                        {\"template\":{\"data\":{\"bar\":[{\"error_x\":{\"color\":\"#2a3f5f\"},\"error_y\":{\"color\":\"#2a3f5f\"},\"marker\":{\"line\":{\"color\":\"#E5ECF6\",\"width\":0.5},\"pattern\":{\"fillmode\":\"overlay\",\"size\":10,\"solidity\":0.2}},\"type\":\"bar\"}],\"barpolar\":[{\"marker\":{\"line\":{\"color\":\"#E5ECF6\",\"width\":0.5},\"pattern\":{\"fillmode\":\"overlay\",\"size\":10,\"solidity\":0.2}},\"type\":\"barpolar\"}],\"carpet\":[{\"aaxis\":{\"endlinecolor\":\"#2a3f5f\",\"gridcolor\":\"white\",\"linecolor\":\"white\",\"minorgridcolor\":\"white\",\"startlinecolor\":\"#2a3f5f\"},\"baxis\":{\"endlinecolor\":\"#2a3f5f\",\"gridcolor\":\"white\",\"linecolor\":\"white\",\"minorgridcolor\":\"white\",\"startlinecolor\":\"#2a3f5f\"},\"type\":\"carpet\"}],\"choropleth\":[{\"colorbar\":{\"outlinewidth\":0,\"ticks\":\"\"},\"type\":\"choropleth\"}],\"contour\":[{\"colorbar\":{\"outlinewidth\":0,\"ticks\":\"\"},\"colorscale\":[[0.0,\"#0d0887\"],[0.1111111111111111,\"#46039f\"],[0.2222222222222222,\"#7201a8\"],[0.3333333333333333,\"#9c179e\"],[0.4444444444444444,\"#bd3786\"],[0.5555555555555556,\"#d8576b\"],[0.6666666666666666,\"#ed7953\"],[0.7777777777777778,\"#fb9f3a\"],[0.8888888888888888,\"#fdca26\"],[1.0,\"#f0f921\"]],\"type\":\"contour\"}],\"contourcarpet\":[{\"colorbar\":{\"outlinewidth\":0,\"ticks\":\"\"},\"type\":\"contourcarpet\"}],\"heatmap\":[{\"colorbar\":{\"outlinewidth\":0,\"ticks\":\"\"},\"colorscale\":[[0.0,\"#0d0887\"],[0.1111111111111111,\"#46039f\"],[0.2222222222222222,\"#7201a8\"],[0.3333333333333333,\"#9c179e\"],[0.4444444444444444,\"#bd3786\"],[0.5555555555555556,\"#d8576b\"],[0.6666666666666666,\"#ed7953\"],[0.7777777777777778,\"#fb9f3a\"],[0.8888888888888888,\"#fdca26\"],[1.0,\"#f0f921\"]],\"type\":\"heatmap\"}],\"heatmapgl\":[{\"colorbar\":{\"outlinewidth\":0,\"ticks\":\"\"},\"colorscale\":[[0.0,\"#0d0887\"],[0.1111111111111111,\"#46039f\"],[0.2222222222222222,\"#7201a8\"],[0.3333333333333333,\"#9c179e\"],[0.4444444444444444,\"#bd3786\"],[0.5555555555555556,\"#d8576b\"],[0.6666666666666666,\"#ed7953\"],[0.7777777777777778,\"#fb9f3a\"],[0.8888888888888888,\"#fdca26\"],[1.0,\"#f0f921\"]],\"type\":\"heatmapgl\"}],\"histogram\":[{\"marker\":{\"pattern\":{\"fillmode\":\"overlay\",\"size\":10,\"solidity\":0.2}},\"type\":\"histogram\"}],\"histogram2d\":[{\"colorbar\":{\"outlinewidth\":0,\"ticks\":\"\"},\"colorscale\":[[0.0,\"#0d0887\"],[0.1111111111111111,\"#46039f\"],[0.2222222222222222,\"#7201a8\"],[0.3333333333333333,\"#9c179e\"],[0.4444444444444444,\"#bd3786\"],[0.5555555555555556,\"#d8576b\"],[0.6666666666666666,\"#ed7953\"],[0.7777777777777778,\"#fb9f3a\"],[0.8888888888888888,\"#fdca26\"],[1.0,\"#f0f921\"]],\"type\":\"histogram2d\"}],\"histogram2dcontour\":[{\"colorbar\":{\"outlinewidth\":0,\"ticks\":\"\"},\"colorscale\":[[0.0,\"#0d0887\"],[0.1111111111111111,\"#46039f\"],[0.2222222222222222,\"#7201a8\"],[0.3333333333333333,\"#9c179e\"],[0.4444444444444444,\"#bd3786\"],[0.5555555555555556,\"#d8576b\"],[0.6666666666666666,\"#ed7953\"],[0.7777777777777778,\"#fb9f3a\"],[0.8888888888888888,\"#fdca26\"],[1.0,\"#f0f921\"]],\"type\":\"histogram2dcontour\"}],\"mesh3d\":[{\"colorbar\":{\"outlinewidth\":0,\"ticks\":\"\"},\"type\":\"mesh3d\"}],\"parcoords\":[{\"line\":{\"colorbar\":{\"outlinewidth\":0,\"ticks\":\"\"}},\"type\":\"parcoords\"}],\"pie\":[{\"automargin\":true,\"type\":\"pie\"}],\"scatter\":[{\"marker\":{\"colorbar\":{\"outlinewidth\":0,\"ticks\":\"\"}},\"type\":\"scatter\"}],\"scatter3d\":[{\"line\":{\"colorbar\":{\"outlinewidth\":0,\"ticks\":\"\"}},\"marker\":{\"colorbar\":{\"outlinewidth\":0,\"ticks\":\"\"}},\"type\":\"scatter3d\"}],\"scattercarpet\":[{\"marker\":{\"colorbar\":{\"outlinewidth\":0,\"ticks\":\"\"}},\"type\":\"scattercarpet\"}],\"scattergeo\":[{\"marker\":{\"colorbar\":{\"outlinewidth\":0,\"ticks\":\"\"}},\"type\":\"scattergeo\"}],\"scattergl\":[{\"marker\":{\"colorbar\":{\"outlinewidth\":0,\"ticks\":\"\"}},\"type\":\"scattergl\"}],\"scattermapbox\":[{\"marker\":{\"colorbar\":{\"outlinewidth\":0,\"ticks\":\"\"}},\"type\":\"scattermapbox\"}],\"scatterpolar\":[{\"marker\":{\"colorbar\":{\"outlinewidth\":0,\"ticks\":\"\"}},\"type\":\"scatterpolar\"}],\"scatterpolargl\":[{\"marker\":{\"colorbar\":{\"outlinewidth\":0,\"ticks\":\"\"}},\"type\":\"scatterpolargl\"}],\"scatterternary\":[{\"marker\":{\"colorbar\":{\"outlinewidth\":0,\"ticks\":\"\"}},\"type\":\"scatterternary\"}],\"surface\":[{\"colorbar\":{\"outlinewidth\":0,\"ticks\":\"\"},\"colorscale\":[[0.0,\"#0d0887\"],[0.1111111111111111,\"#46039f\"],[0.2222222222222222,\"#7201a8\"],[0.3333333333333333,\"#9c179e\"],[0.4444444444444444,\"#bd3786\"],[0.5555555555555556,\"#d8576b\"],[0.6666666666666666,\"#ed7953\"],[0.7777777777777778,\"#fb9f3a\"],[0.8888888888888888,\"#fdca26\"],[1.0,\"#f0f921\"]],\"type\":\"surface\"}],\"table\":[{\"cells\":{\"fill\":{\"color\":\"#EBF0F8\"},\"line\":{\"color\":\"white\"}},\"header\":{\"fill\":{\"color\":\"#C8D4E3\"},\"line\":{\"color\":\"white\"}},\"type\":\"table\"}]},\"layout\":{\"annotationdefaults\":{\"arrowcolor\":\"#2a3f5f\",\"arrowhead\":0,\"arrowwidth\":1},\"autotypenumbers\":\"strict\",\"coloraxis\":{\"colorbar\":{\"outlinewidth\":0,\"ticks\":\"\"}},\"colorscale\":{\"diverging\":[[0,\"#8e0152\"],[0.1,\"#c51b7d\"],[0.2,\"#de77ae\"],[0.3,\"#f1b6da\"],[0.4,\"#fde0ef\"],[0.5,\"#f7f7f7\"],[0.6,\"#e6f5d0\"],[0.7,\"#b8e186\"],[0.8,\"#7fbc41\"],[0.9,\"#4d9221\"],[1,\"#276419\"]],\"sequential\":[[0.0,\"#0d0887\"],[0.1111111111111111,\"#46039f\"],[0.2222222222222222,\"#7201a8\"],[0.3333333333333333,\"#9c179e\"],[0.4444444444444444,\"#bd3786\"],[0.5555555555555556,\"#d8576b\"],[0.6666666666666666,\"#ed7953\"],[0.7777777777777778,\"#fb9f3a\"],[0.8888888888888888,\"#fdca26\"],[1.0,\"#f0f921\"]],\"sequentialminus\":[[0.0,\"#0d0887\"],[0.1111111111111111,\"#46039f\"],[0.2222222222222222,\"#7201a8\"],[0.3333333333333333,\"#9c179e\"],[0.4444444444444444,\"#bd3786\"],[0.5555555555555556,\"#d8576b\"],[0.6666666666666666,\"#ed7953\"],[0.7777777777777778,\"#fb9f3a\"],[0.8888888888888888,\"#fdca26\"],[1.0,\"#f0f921\"]]},\"colorway\":[\"#636efa\",\"#EF553B\",\"#00cc96\",\"#ab63fa\",\"#FFA15A\",\"#19d3f3\",\"#FF6692\",\"#B6E880\",\"#FF97FF\",\"#FECB52\"],\"font\":{\"color\":\"#2a3f5f\"},\"geo\":{\"bgcolor\":\"white\",\"lakecolor\":\"white\",\"landcolor\":\"#E5ECF6\",\"showlakes\":true,\"showland\":true,\"subunitcolor\":\"white\"},\"hoverlabel\":{\"align\":\"left\"},\"hovermode\":\"closest\",\"mapbox\":{\"style\":\"light\"},\"paper_bgcolor\":\"white\",\"plot_bgcolor\":\"#E5ECF6\",\"polar\":{\"angularaxis\":{\"gridcolor\":\"white\",\"linecolor\":\"white\",\"ticks\":\"\"},\"bgcolor\":\"#E5ECF6\",\"radialaxis\":{\"gridcolor\":\"white\",\"linecolor\":\"white\",\"ticks\":\"\"}},\"scene\":{\"xaxis\":{\"backgroundcolor\":\"#E5ECF6\",\"gridcolor\":\"white\",\"gridwidth\":2,\"linecolor\":\"white\",\"showbackground\":true,\"ticks\":\"\",\"zerolinecolor\":\"white\"},\"yaxis\":{\"backgroundcolor\":\"#E5ECF6\",\"gridcolor\":\"white\",\"gridwidth\":2,\"linecolor\":\"white\",\"showbackground\":true,\"ticks\":\"\",\"zerolinecolor\":\"white\"},\"zaxis\":{\"backgroundcolor\":\"#E5ECF6\",\"gridcolor\":\"white\",\"gridwidth\":2,\"linecolor\":\"white\",\"showbackground\":true,\"ticks\":\"\",\"zerolinecolor\":\"white\"}},\"shapedefaults\":{\"line\":{\"color\":\"#2a3f5f\"}},\"ternary\":{\"aaxis\":{\"gridcolor\":\"white\",\"linecolor\":\"white\",\"ticks\":\"\"},\"baxis\":{\"gridcolor\":\"white\",\"linecolor\":\"white\",\"ticks\":\"\"},\"bgcolor\":\"#E5ECF6\",\"caxis\":{\"gridcolor\":\"white\",\"linecolor\":\"white\",\"ticks\":\"\"}},\"title\":{\"x\":0.05},\"xaxis\":{\"automargin\":true,\"gridcolor\":\"white\",\"linecolor\":\"white\",\"ticks\":\"\",\"title\":{\"standoff\":15},\"zerolinecolor\":\"white\",\"zerolinewidth\":2},\"yaxis\":{\"automargin\":true,\"gridcolor\":\"white\",\"linecolor\":\"white\",\"ticks\":\"\",\"title\":{\"standoff\":15},\"zerolinecolor\":\"white\",\"zerolinewidth\":2}}},\"title\":{\"text\":\"AlBERTo MC opt's confidence distribution for Sentipolc16 - false negatives\"},\"xaxis\":{\"range\":[0.0,1.0],\"title\":{\"text\":\"confidence\"}},\"yaxis\":{\"title\":{\"text\":\"normalized count\"}}},                        {\"responsive\": true}                    ).then(function(){\n",
       "                            \n",
       "var gd = document.getElementById('90cd54c8-9896-4a63-8c2d-959a35dafdbc');\n",
       "var x = new MutationObserver(function (mutations, observer) {{\n",
       "        var display = window.getComputedStyle(gd).display;\n",
       "        if (!display || display === 'none') {{\n",
       "            console.log([gd, 'removed!']);\n",
       "            Plotly.purge(gd);\n",
       "            observer.disconnect();\n",
       "        }}\n",
       "}});\n",
       "\n",
       "// Listen for the removal of the full notebook cells\n",
       "var notebookContainer = gd.closest('#notebook-container');\n",
       "if (notebookContainer) {{\n",
       "    x.observe(notebookContainer, {childList: true});\n",
       "}}\n",
       "\n",
       "// Listen for the clearing of the current output cell\n",
       "var outputEl = gd.closest('.output');\n",
       "if (outputEl) {{\n",
       "    x.observe(outputEl, {childList: true});\n",
       "}}\n",
       "\n",
       "                        })                };                });            </script>        </div>"
      ]
     },
     "metadata": {},
     "output_type": "display_data"
    },
    {
     "data": {
      "application/vnd.plotly.v1+json": {
       "config": {
        "plotlyServerURL": "https://plot.ly"
       },
       "data": [
        {
         "histnorm": "probability",
         "type": "histogram",
         "x": [
          0.770940363407135,
          0.9045864343643188,
          0.9747148156166077,
          0.9837057590484619,
          0.6584442853927612,
          0.9318675398826599,
          0.923679530620575,
          0.4899723529815674,
          0.9717682600021362,
          0.825376033782959,
          0.9242684841156006,
          0.5052129626274109,
          0.7691907286643982,
          0.47325730323791504,
          0.6921696066856384,
          0.6337884068489075,
          0.6475357413291931,
          0.9390479326248169,
          0.9121254682540894,
          0.6909737586975098,
          0.9868705868721008,
          0.9964538812637329,
          0.9916263818740845,
          0.8435316681861877,
          0.8442487120628357,
          0.6593233346939087,
          0.9454926252365112,
          0.7455071210861206,
          0.9951908588409424,
          0.9421548843383789,
          0.986729621887207,
          0.9891688823699951,
          0.44253888726234436,
          0.6688688397407532,
          0.7863366007804871,
          0.803730845451355,
          0.8905878067016602,
          0.5760342478752136,
          0.6755918860435486,
          0.8952943086624146,
          0.464303582906723,
          0.6439945697784424,
          0.6180252432823181,
          0.8904038071632385,
          0.6904451847076416,
          0.9144992828369141,
          0.9220737218856812,
          0.9770609736442566,
          0.47203564643859863,
          0.8709425926208496,
          0.8473934531211853,
          0.9777986407279968,
          0.9581366181373596,
          0.9079667925834656,
          0.7422434687614441,
          0.9649282693862915,
          0.9101204872131348,
          0.9888188242912292,
          0.8207041025161743,
          0.6879135370254517,
          0.8575683236122131,
          0.9497148394584656,
          0.9030321836471558,
          0.8731899857521057,
          0.9895747303962708,
          0.5209418535232544,
          0.5033268928527832,
          0.9874623417854309,
          0.962280809879303,
          0.6212781667709351,
          0.9689291715621948,
          0.7404539585113525,
          0.5124903917312622,
          0.8572601079940796,
          0.5714627504348755,
          0.9520779252052307,
          0.51380455493927,
          0.9441216588020325,
          0.939010500907898,
          0.4266766607761383,
          0.9887620806694031,
          0.7914567589759827,
          0.7032777667045593,
          0.4083575904369354,
          0.8685615062713623,
          0.6197876930236816,
          0.9440223574638367,
          0.8368582129478455,
          0.9733825325965881,
          0.6681857109069824,
          0.986956000328064,
          0.851518452167511,
          0.9892377853393555,
          0.9111701846122742,
          0.5419999957084656,
          0.6734000444412231,
          0.9130545854568481,
          0.8250278830528259,
          0.9592843651771545,
          0.9664632081985474,
          0.9679312109947205,
          0.9197148680686951,
          0.9828593134880066,
          0.9868369102478027,
          0.7063559293746948,
          0.7512025237083435,
          0.5909774899482727,
          0.7731465697288513,
          0.5545636415481567,
          0.5504080057144165,
          0.8255178928375244,
          0.962303876876831,
          0.8971877098083496,
          0.8032228350639343,
          0.6330975890159607,
          0.4993397891521454,
          0.8221043348312378,
          0.9914374947547913,
          0.383708655834198,
          0.9699077606201172,
          0.9853120446205139,
          0.881321370601654,
          0.7588028311729431,
          0.8931059241294861,
          0.8500790596008301,
          0.7602482438087463,
          0.7719215154647827,
          0.7046008706092834,
          0.9682570099830627,
          0.39905184507369995,
          0.5122140645980835,
          0.986845850944519,
          0.4642254114151001,
          0.988336980342865,
          0.6528472900390625,
          0.8376672267913818,
          0.553799569606781,
          0.5819917321205139,
          0.7276707887649536,
          0.9769739508628845,
          0.8889004588127136,
          0.6634435653686523,
          0.9712310433387756,
          0.9940540194511414,
          0.3696277439594269,
          0.7350905537605286,
          0.8534896969795227,
          0.610595703125,
          0.949813961982727,
          0.597382128238678,
          0.9865044951438904,
          0.5284020304679871,
          0.5830530524253845,
          0.6148938536643982,
          0.9401462078094482,
          0.9659996628761292,
          0.9589688777923584,
          0.9891617298126221,
          0.7774537205696106,
          0.6226158142089844,
          0.8924824595451355,
          0.7773626446723938,
          0.9739389419555664,
          0.9767016172409058,
          0.9298785924911499,
          0.9301656484603882,
          0.6940082311630249,
          0.9790447354316711,
          0.9366722106933594,
          0.973246693611145,
          0.7483280301094055,
          0.5190702676773071,
          0.8307880163192749,
          0.9780093431472778,
          0.8626680374145508,
          0.9957913160324097,
          0.961168110370636,
          0.7888403534889221,
          0.992546021938324,
          0.8801771998405457,
          0.615439772605896,
          0.6139742732048035,
          0.8825011253356934,
          0.8949183225631714,
          0.6150402426719666,
          0.9845832586288452,
          0.8617129325866699,
          0.851020336151123,
          0.9787675142288208,
          0.9824663400650024,
          0.979820728302002,
          0.964405357837677,
          0.6898006200790405,
          0.9532529711723328,
          0.749239981174469,
          0.5265079140663147,
          0.8420567512512207,
          0.9587229490280151,
          0.8832418322563171,
          0.6181475520133972,
          0.9927512407302856,
          0.6815424561500549,
          0.5091068744659424,
          0.9541816711425781,
          0.9790189266204834,
          0.9898257851600647,
          0.993806004524231,
          0.7831000685691833,
          0.9949833154678345,
          0.9906409382820129,
          0.6481063961982727,
          0.7850339412689209,
          0.9851239323616028,
          0.822382390499115,
          0.9351231455802917,
          0.8410893678665161,
          0.9746802449226379,
          0.8372762799263,
          0.7995580434799194,
          0.8676766753196716,
          0.5798572301864624,
          0.8245488405227661,
          0.5659581422805786,
          0.7537990212440491,
          0.6815175414085388,
          0.5816361904144287,
          0.6076900959014893,
          0.6428592205047607,
          0.9831935167312622,
          0.9548317193984985,
          0.6182748675346375,
          0.7276231050491333,
          0.9543300867080688,
          0.506107747554779,
          0.5668466091156006,
          0.9815959334373474,
          0.9848692417144775,
          0.6573759317398071,
          0.9940745234489441,
          0.9789117574691772,
          0.9760965704917908,
          0.965221643447876,
          0.9298036098480225,
          0.9800612926483154,
          0.6378735899925232,
          0.9403380155563354,
          0.685545802116394,
          0.9042248725891113,
          0.8376750946044922,
          0.9459138512611389,
          0.9833415150642395,
          0.57392418384552,
          0.9772896766662598,
          0.5632091164588928,
          0.9922001957893372,
          0.9708280563354492,
          0.94267338514328,
          0.7885623574256897,
          0.6205739378929138,
          0.5853296518325806,
          0.8300468921661377,
          0.5115929841995239,
          0.7458903193473816,
          0.9286765456199646,
          0.6717245578765869,
          0.5834452509880066,
          0.5160786509513855,
          0.8437069058418274,
          0.9556102752685547,
          0.9228413701057434,
          0.5967350006103516,
          0.7750350832939148,
          0.5269359350204468,
          0.5952667593955994,
          0.9426926374435425,
          0.7994011044502258,
          0.6814324259757996,
          0.9688690900802612,
          0.9403566122055054,
          0.661979615688324,
          0.6941505670547485,
          0.6130682826042175,
          0.6641202569007874,
          0.7096397876739502,
          0.8687203526496887,
          0.864732563495636,
          0.8156030774116516,
          0.5408597588539124,
          0.7529711127281189,
          0.6891779899597168,
          0.9774447679519653,
          0.9847079515457153,
          0.6584036946296692,
          0.9204489588737488,
          0.6029983758926392,
          0.649265706539154,
          0.7326568365097046,
          0.9014567136764526,
          0.5840568542480469,
          0.5094163417816162,
          0.7386085987091064,
          0.9730964303016663,
          0.574454128742218,
          0.9651381373405457,
          0.9648362994194031,
          0.8915789723396301,
          0.8673454523086548,
          0.9503210186958313,
          0.9416621327400208,
          0.8971638679504395,
          0.9489749073982239,
          0.5897409319877625,
          0.7004510164260864,
          0.6120026111602783,
          0.9858104586601257,
          0.727625846862793,
          0.891477108001709,
          0.8652603030204773,
          0.9942399263381958,
          0.8607614040374756,
          0.7609377503395081,
          0.7751138806343079,
          0.5216156840324402,
          0.7336331605911255,
          0.8068861365318298,
          0.9872263073921204,
          0.9921785593032837,
          0.9764381051063538,
          0.8489763736724854,
          0.9280705451965332,
          0.9781132340431213,
          0.8884302377700806,
          0.7498749494552612,
          0.7816898822784424,
          0.5719092488288879,
          0.9348946809768677,
          0.9252814650535583,
          0.8436539173126221
         ],
         "xbins": {
          "end": 1,
          "size": 0.1,
          "start": 0
         }
        }
       ],
       "layout": {
        "template": {
         "data": {
          "bar": [
           {
            "error_x": {
             "color": "#2a3f5f"
            },
            "error_y": {
             "color": "#2a3f5f"
            },
            "marker": {
             "line": {
              "color": "#E5ECF6",
              "width": 0.5
             },
             "pattern": {
              "fillmode": "overlay",
              "size": 10,
              "solidity": 0.2
             }
            },
            "type": "bar"
           }
          ],
          "barpolar": [
           {
            "marker": {
             "line": {
              "color": "#E5ECF6",
              "width": 0.5
             },
             "pattern": {
              "fillmode": "overlay",
              "size": 10,
              "solidity": 0.2
             }
            },
            "type": "barpolar"
           }
          ],
          "carpet": [
           {
            "aaxis": {
             "endlinecolor": "#2a3f5f",
             "gridcolor": "white",
             "linecolor": "white",
             "minorgridcolor": "white",
             "startlinecolor": "#2a3f5f"
            },
            "baxis": {
             "endlinecolor": "#2a3f5f",
             "gridcolor": "white",
             "linecolor": "white",
             "minorgridcolor": "white",
             "startlinecolor": "#2a3f5f"
            },
            "type": "carpet"
           }
          ],
          "choropleth": [
           {
            "colorbar": {
             "outlinewidth": 0,
             "ticks": ""
            },
            "type": "choropleth"
           }
          ],
          "contour": [
           {
            "colorbar": {
             "outlinewidth": 0,
             "ticks": ""
            },
            "colorscale": [
             [
              0,
              "#0d0887"
             ],
             [
              0.1111111111111111,
              "#46039f"
             ],
             [
              0.2222222222222222,
              "#7201a8"
             ],
             [
              0.3333333333333333,
              "#9c179e"
             ],
             [
              0.4444444444444444,
              "#bd3786"
             ],
             [
              0.5555555555555556,
              "#d8576b"
             ],
             [
              0.6666666666666666,
              "#ed7953"
             ],
             [
              0.7777777777777778,
              "#fb9f3a"
             ],
             [
              0.8888888888888888,
              "#fdca26"
             ],
             [
              1,
              "#f0f921"
             ]
            ],
            "type": "contour"
           }
          ],
          "contourcarpet": [
           {
            "colorbar": {
             "outlinewidth": 0,
             "ticks": ""
            },
            "type": "contourcarpet"
           }
          ],
          "heatmap": [
           {
            "colorbar": {
             "outlinewidth": 0,
             "ticks": ""
            },
            "colorscale": [
             [
              0,
              "#0d0887"
             ],
             [
              0.1111111111111111,
              "#46039f"
             ],
             [
              0.2222222222222222,
              "#7201a8"
             ],
             [
              0.3333333333333333,
              "#9c179e"
             ],
             [
              0.4444444444444444,
              "#bd3786"
             ],
             [
              0.5555555555555556,
              "#d8576b"
             ],
             [
              0.6666666666666666,
              "#ed7953"
             ],
             [
              0.7777777777777778,
              "#fb9f3a"
             ],
             [
              0.8888888888888888,
              "#fdca26"
             ],
             [
              1,
              "#f0f921"
             ]
            ],
            "type": "heatmap"
           }
          ],
          "heatmapgl": [
           {
            "colorbar": {
             "outlinewidth": 0,
             "ticks": ""
            },
            "colorscale": [
             [
              0,
              "#0d0887"
             ],
             [
              0.1111111111111111,
              "#46039f"
             ],
             [
              0.2222222222222222,
              "#7201a8"
             ],
             [
              0.3333333333333333,
              "#9c179e"
             ],
             [
              0.4444444444444444,
              "#bd3786"
             ],
             [
              0.5555555555555556,
              "#d8576b"
             ],
             [
              0.6666666666666666,
              "#ed7953"
             ],
             [
              0.7777777777777778,
              "#fb9f3a"
             ],
             [
              0.8888888888888888,
              "#fdca26"
             ],
             [
              1,
              "#f0f921"
             ]
            ],
            "type": "heatmapgl"
           }
          ],
          "histogram": [
           {
            "marker": {
             "pattern": {
              "fillmode": "overlay",
              "size": 10,
              "solidity": 0.2
             }
            },
            "type": "histogram"
           }
          ],
          "histogram2d": [
           {
            "colorbar": {
             "outlinewidth": 0,
             "ticks": ""
            },
            "colorscale": [
             [
              0,
              "#0d0887"
             ],
             [
              0.1111111111111111,
              "#46039f"
             ],
             [
              0.2222222222222222,
              "#7201a8"
             ],
             [
              0.3333333333333333,
              "#9c179e"
             ],
             [
              0.4444444444444444,
              "#bd3786"
             ],
             [
              0.5555555555555556,
              "#d8576b"
             ],
             [
              0.6666666666666666,
              "#ed7953"
             ],
             [
              0.7777777777777778,
              "#fb9f3a"
             ],
             [
              0.8888888888888888,
              "#fdca26"
             ],
             [
              1,
              "#f0f921"
             ]
            ],
            "type": "histogram2d"
           }
          ],
          "histogram2dcontour": [
           {
            "colorbar": {
             "outlinewidth": 0,
             "ticks": ""
            },
            "colorscale": [
             [
              0,
              "#0d0887"
             ],
             [
              0.1111111111111111,
              "#46039f"
             ],
             [
              0.2222222222222222,
              "#7201a8"
             ],
             [
              0.3333333333333333,
              "#9c179e"
             ],
             [
              0.4444444444444444,
              "#bd3786"
             ],
             [
              0.5555555555555556,
              "#d8576b"
             ],
             [
              0.6666666666666666,
              "#ed7953"
             ],
             [
              0.7777777777777778,
              "#fb9f3a"
             ],
             [
              0.8888888888888888,
              "#fdca26"
             ],
             [
              1,
              "#f0f921"
             ]
            ],
            "type": "histogram2dcontour"
           }
          ],
          "mesh3d": [
           {
            "colorbar": {
             "outlinewidth": 0,
             "ticks": ""
            },
            "type": "mesh3d"
           }
          ],
          "parcoords": [
           {
            "line": {
             "colorbar": {
              "outlinewidth": 0,
              "ticks": ""
             }
            },
            "type": "parcoords"
           }
          ],
          "pie": [
           {
            "automargin": true,
            "type": "pie"
           }
          ],
          "scatter": [
           {
            "marker": {
             "colorbar": {
              "outlinewidth": 0,
              "ticks": ""
             }
            },
            "type": "scatter"
           }
          ],
          "scatter3d": [
           {
            "line": {
             "colorbar": {
              "outlinewidth": 0,
              "ticks": ""
             }
            },
            "marker": {
             "colorbar": {
              "outlinewidth": 0,
              "ticks": ""
             }
            },
            "type": "scatter3d"
           }
          ],
          "scattercarpet": [
           {
            "marker": {
             "colorbar": {
              "outlinewidth": 0,
              "ticks": ""
             }
            },
            "type": "scattercarpet"
           }
          ],
          "scattergeo": [
           {
            "marker": {
             "colorbar": {
              "outlinewidth": 0,
              "ticks": ""
             }
            },
            "type": "scattergeo"
           }
          ],
          "scattergl": [
           {
            "marker": {
             "colorbar": {
              "outlinewidth": 0,
              "ticks": ""
             }
            },
            "type": "scattergl"
           }
          ],
          "scattermapbox": [
           {
            "marker": {
             "colorbar": {
              "outlinewidth": 0,
              "ticks": ""
             }
            },
            "type": "scattermapbox"
           }
          ],
          "scatterpolar": [
           {
            "marker": {
             "colorbar": {
              "outlinewidth": 0,
              "ticks": ""
             }
            },
            "type": "scatterpolar"
           }
          ],
          "scatterpolargl": [
           {
            "marker": {
             "colorbar": {
              "outlinewidth": 0,
              "ticks": ""
             }
            },
            "type": "scatterpolargl"
           }
          ],
          "scatterternary": [
           {
            "marker": {
             "colorbar": {
              "outlinewidth": 0,
              "ticks": ""
             }
            },
            "type": "scatterternary"
           }
          ],
          "surface": [
           {
            "colorbar": {
             "outlinewidth": 0,
             "ticks": ""
            },
            "colorscale": [
             [
              0,
              "#0d0887"
             ],
             [
              0.1111111111111111,
              "#46039f"
             ],
             [
              0.2222222222222222,
              "#7201a8"
             ],
             [
              0.3333333333333333,
              "#9c179e"
             ],
             [
              0.4444444444444444,
              "#bd3786"
             ],
             [
              0.5555555555555556,
              "#d8576b"
             ],
             [
              0.6666666666666666,
              "#ed7953"
             ],
             [
              0.7777777777777778,
              "#fb9f3a"
             ],
             [
              0.8888888888888888,
              "#fdca26"
             ],
             [
              1,
              "#f0f921"
             ]
            ],
            "type": "surface"
           }
          ],
          "table": [
           {
            "cells": {
             "fill": {
              "color": "#EBF0F8"
             },
             "line": {
              "color": "white"
             }
            },
            "header": {
             "fill": {
              "color": "#C8D4E3"
             },
             "line": {
              "color": "white"
             }
            },
            "type": "table"
           }
          ]
         },
         "layout": {
          "annotationdefaults": {
           "arrowcolor": "#2a3f5f",
           "arrowhead": 0,
           "arrowwidth": 1
          },
          "autotypenumbers": "strict",
          "coloraxis": {
           "colorbar": {
            "outlinewidth": 0,
            "ticks": ""
           }
          },
          "colorscale": {
           "diverging": [
            [
             0,
             "#8e0152"
            ],
            [
             0.1,
             "#c51b7d"
            ],
            [
             0.2,
             "#de77ae"
            ],
            [
             0.3,
             "#f1b6da"
            ],
            [
             0.4,
             "#fde0ef"
            ],
            [
             0.5,
             "#f7f7f7"
            ],
            [
             0.6,
             "#e6f5d0"
            ],
            [
             0.7,
             "#b8e186"
            ],
            [
             0.8,
             "#7fbc41"
            ],
            [
             0.9,
             "#4d9221"
            ],
            [
             1,
             "#276419"
            ]
           ],
           "sequential": [
            [
             0,
             "#0d0887"
            ],
            [
             0.1111111111111111,
             "#46039f"
            ],
            [
             0.2222222222222222,
             "#7201a8"
            ],
            [
             0.3333333333333333,
             "#9c179e"
            ],
            [
             0.4444444444444444,
             "#bd3786"
            ],
            [
             0.5555555555555556,
             "#d8576b"
            ],
            [
             0.6666666666666666,
             "#ed7953"
            ],
            [
             0.7777777777777778,
             "#fb9f3a"
            ],
            [
             0.8888888888888888,
             "#fdca26"
            ],
            [
             1,
             "#f0f921"
            ]
           ],
           "sequentialminus": [
            [
             0,
             "#0d0887"
            ],
            [
             0.1111111111111111,
             "#46039f"
            ],
            [
             0.2222222222222222,
             "#7201a8"
            ],
            [
             0.3333333333333333,
             "#9c179e"
            ],
            [
             0.4444444444444444,
             "#bd3786"
            ],
            [
             0.5555555555555556,
             "#d8576b"
            ],
            [
             0.6666666666666666,
             "#ed7953"
            ],
            [
             0.7777777777777778,
             "#fb9f3a"
            ],
            [
             0.8888888888888888,
             "#fdca26"
            ],
            [
             1,
             "#f0f921"
            ]
           ]
          },
          "colorway": [
           "#636efa",
           "#EF553B",
           "#00cc96",
           "#ab63fa",
           "#FFA15A",
           "#19d3f3",
           "#FF6692",
           "#B6E880",
           "#FF97FF",
           "#FECB52"
          ],
          "font": {
           "color": "#2a3f5f"
          },
          "geo": {
           "bgcolor": "white",
           "lakecolor": "white",
           "landcolor": "#E5ECF6",
           "showlakes": true,
           "showland": true,
           "subunitcolor": "white"
          },
          "hoverlabel": {
           "align": "left"
          },
          "hovermode": "closest",
          "mapbox": {
           "style": "light"
          },
          "paper_bgcolor": "white",
          "plot_bgcolor": "#E5ECF6",
          "polar": {
           "angularaxis": {
            "gridcolor": "white",
            "linecolor": "white",
            "ticks": ""
           },
           "bgcolor": "#E5ECF6",
           "radialaxis": {
            "gridcolor": "white",
            "linecolor": "white",
            "ticks": ""
           }
          },
          "scene": {
           "xaxis": {
            "backgroundcolor": "#E5ECF6",
            "gridcolor": "white",
            "gridwidth": 2,
            "linecolor": "white",
            "showbackground": true,
            "ticks": "",
            "zerolinecolor": "white"
           },
           "yaxis": {
            "backgroundcolor": "#E5ECF6",
            "gridcolor": "white",
            "gridwidth": 2,
            "linecolor": "white",
            "showbackground": true,
            "ticks": "",
            "zerolinecolor": "white"
           },
           "zaxis": {
            "backgroundcolor": "#E5ECF6",
            "gridcolor": "white",
            "gridwidth": 2,
            "linecolor": "white",
            "showbackground": true,
            "ticks": "",
            "zerolinecolor": "white"
           }
          },
          "shapedefaults": {
           "line": {
            "color": "#2a3f5f"
           }
          },
          "ternary": {
           "aaxis": {
            "gridcolor": "white",
            "linecolor": "white",
            "ticks": ""
           },
           "baxis": {
            "gridcolor": "white",
            "linecolor": "white",
            "ticks": ""
           },
           "bgcolor": "#E5ECF6",
           "caxis": {
            "gridcolor": "white",
            "linecolor": "white",
            "ticks": ""
           }
          },
          "title": {
           "x": 0.05
          },
          "xaxis": {
           "automargin": true,
           "gridcolor": "white",
           "linecolor": "white",
           "ticks": "",
           "title": {
            "standoff": 15
           },
           "zerolinecolor": "white",
           "zerolinewidth": 2
          },
          "yaxis": {
           "automargin": true,
           "gridcolor": "white",
           "linecolor": "white",
           "ticks": "",
           "title": {
            "standoff": 15
           },
           "zerolinecolor": "white",
           "zerolinewidth": 2
          }
         }
        },
        "title": {
         "text": "AlBERTo MC opt's confidence distribution for Sentipolc16 - false neutrals"
        },
        "xaxis": {
         "range": [
          0,
          1
         ],
         "title": {
          "text": "confidence"
         }
        },
        "yaxis": {
         "title": {
          "text": "normalized count"
         }
        }
       }
      },
      "text/html": [
       "<div>                            <div id=\"cd4e6e8c-2b30-4693-858e-a946023069ad\" class=\"plotly-graph-div\" style=\"height:525px; width:100%;\"></div>            <script type=\"text/javascript\">                require([\"plotly\"], function(Plotly) {                    window.PLOTLYENV=window.PLOTLYENV || {};                                    if (document.getElementById(\"cd4e6e8c-2b30-4693-858e-a946023069ad\")) {                    Plotly.newPlot(                        \"cd4e6e8c-2b30-4693-858e-a946023069ad\",                        [{\"histnorm\":\"probability\",\"type\":\"histogram\",\"x\":[0.770940363407135,0.9045864343643188,0.9747148156166077,0.9837057590484619,0.6584442853927612,0.9318675398826599,0.923679530620575,0.4899723529815674,0.9717682600021362,0.825376033782959,0.9242684841156006,0.5052129626274109,0.7691907286643982,0.47325730323791504,0.6921696066856384,0.6337884068489075,0.6475357413291931,0.9390479326248169,0.9121254682540894,0.6909737586975098,0.9868705868721008,0.9964538812637329,0.9916263818740845,0.8435316681861877,0.8442487120628357,0.6593233346939087,0.9454926252365112,0.7455071210861206,0.9951908588409424,0.9421548843383789,0.986729621887207,0.9891688823699951,0.44253888726234436,0.6688688397407532,0.7863366007804871,0.803730845451355,0.8905878067016602,0.5760342478752136,0.6755918860435486,0.8952943086624146,0.464303582906723,0.6439945697784424,0.6180252432823181,0.8904038071632385,0.6904451847076416,0.9144992828369141,0.9220737218856812,0.9770609736442566,0.47203564643859863,0.8709425926208496,0.8473934531211853,0.9777986407279968,0.9581366181373596,0.9079667925834656,0.7422434687614441,0.9649282693862915,0.9101204872131348,0.9888188242912292,0.8207041025161743,0.6879135370254517,0.8575683236122131,0.9497148394584656,0.9030321836471558,0.8731899857521057,0.9895747303962708,0.5209418535232544,0.5033268928527832,0.9874623417854309,0.962280809879303,0.6212781667709351,0.9689291715621948,0.7404539585113525,0.5124903917312622,0.8572601079940796,0.5714627504348755,0.9520779252052307,0.51380455493927,0.9441216588020325,0.939010500907898,0.4266766607761383,0.9887620806694031,0.7914567589759827,0.7032777667045593,0.4083575904369354,0.8685615062713623,0.6197876930236816,0.9440223574638367,0.8368582129478455,0.9733825325965881,0.6681857109069824,0.986956000328064,0.851518452167511,0.9892377853393555,0.9111701846122742,0.5419999957084656,0.6734000444412231,0.9130545854568481,0.8250278830528259,0.9592843651771545,0.9664632081985474,0.9679312109947205,0.9197148680686951,0.9828593134880066,0.9868369102478027,0.7063559293746948,0.7512025237083435,0.5909774899482727,0.7731465697288513,0.5545636415481567,0.5504080057144165,0.8255178928375244,0.962303876876831,0.8971877098083496,0.8032228350639343,0.6330975890159607,0.4993397891521454,0.8221043348312378,0.9914374947547913,0.383708655834198,0.9699077606201172,0.9853120446205139,0.881321370601654,0.7588028311729431,0.8931059241294861,0.8500790596008301,0.7602482438087463,0.7719215154647827,0.7046008706092834,0.9682570099830627,0.39905184507369995,0.5122140645980835,0.986845850944519,0.4642254114151001,0.988336980342865,0.6528472900390625,0.8376672267913818,0.553799569606781,0.5819917321205139,0.7276707887649536,0.9769739508628845,0.8889004588127136,0.6634435653686523,0.9712310433387756,0.9940540194511414,0.3696277439594269,0.7350905537605286,0.8534896969795227,0.610595703125,0.949813961982727,0.597382128238678,0.9865044951438904,0.5284020304679871,0.5830530524253845,0.6148938536643982,0.9401462078094482,0.9659996628761292,0.9589688777923584,0.9891617298126221,0.7774537205696106,0.6226158142089844,0.8924824595451355,0.7773626446723938,0.9739389419555664,0.9767016172409058,0.9298785924911499,0.9301656484603882,0.6940082311630249,0.9790447354316711,0.9366722106933594,0.973246693611145,0.7483280301094055,0.5190702676773071,0.8307880163192749,0.9780093431472778,0.8626680374145508,0.9957913160324097,0.961168110370636,0.7888403534889221,0.992546021938324,0.8801771998405457,0.615439772605896,0.6139742732048035,0.8825011253356934,0.8949183225631714,0.6150402426719666,0.9845832586288452,0.8617129325866699,0.851020336151123,0.9787675142288208,0.9824663400650024,0.979820728302002,0.964405357837677,0.6898006200790405,0.9532529711723328,0.749239981174469,0.5265079140663147,0.8420567512512207,0.9587229490280151,0.8832418322563171,0.6181475520133972,0.9927512407302856,0.6815424561500549,0.5091068744659424,0.9541816711425781,0.9790189266204834,0.9898257851600647,0.993806004524231,0.7831000685691833,0.9949833154678345,0.9906409382820129,0.6481063961982727,0.7850339412689209,0.9851239323616028,0.822382390499115,0.9351231455802917,0.8410893678665161,0.9746802449226379,0.8372762799263,0.7995580434799194,0.8676766753196716,0.5798572301864624,0.8245488405227661,0.5659581422805786,0.7537990212440491,0.6815175414085388,0.5816361904144287,0.6076900959014893,0.6428592205047607,0.9831935167312622,0.9548317193984985,0.6182748675346375,0.7276231050491333,0.9543300867080688,0.506107747554779,0.5668466091156006,0.9815959334373474,0.9848692417144775,0.6573759317398071,0.9940745234489441,0.9789117574691772,0.9760965704917908,0.965221643447876,0.9298036098480225,0.9800612926483154,0.6378735899925232,0.9403380155563354,0.685545802116394,0.9042248725891113,0.8376750946044922,0.9459138512611389,0.9833415150642395,0.57392418384552,0.9772896766662598,0.5632091164588928,0.9922001957893372,0.9708280563354492,0.94267338514328,0.7885623574256897,0.6205739378929138,0.5853296518325806,0.8300468921661377,0.5115929841995239,0.7458903193473816,0.9286765456199646,0.6717245578765869,0.5834452509880066,0.5160786509513855,0.8437069058418274,0.9556102752685547,0.9228413701057434,0.5967350006103516,0.7750350832939148,0.5269359350204468,0.5952667593955994,0.9426926374435425,0.7994011044502258,0.6814324259757996,0.9688690900802612,0.9403566122055054,0.661979615688324,0.6941505670547485,0.6130682826042175,0.6641202569007874,0.7096397876739502,0.8687203526496887,0.864732563495636,0.8156030774116516,0.5408597588539124,0.7529711127281189,0.6891779899597168,0.9774447679519653,0.9847079515457153,0.6584036946296692,0.9204489588737488,0.6029983758926392,0.649265706539154,0.7326568365097046,0.9014567136764526,0.5840568542480469,0.5094163417816162,0.7386085987091064,0.9730964303016663,0.574454128742218,0.9651381373405457,0.9648362994194031,0.8915789723396301,0.8673454523086548,0.9503210186958313,0.9416621327400208,0.8971638679504395,0.9489749073982239,0.5897409319877625,0.7004510164260864,0.6120026111602783,0.9858104586601257,0.727625846862793,0.891477108001709,0.8652603030204773,0.9942399263381958,0.8607614040374756,0.7609377503395081,0.7751138806343079,0.5216156840324402,0.7336331605911255,0.8068861365318298,0.9872263073921204,0.9921785593032837,0.9764381051063538,0.8489763736724854,0.9280705451965332,0.9781132340431213,0.8884302377700806,0.7498749494552612,0.7816898822784424,0.5719092488288879,0.9348946809768677,0.9252814650535583,0.8436539173126221],\"xbins\":{\"end\":1.0,\"size\":0.1,\"start\":0.0}}],                        {\"template\":{\"data\":{\"bar\":[{\"error_x\":{\"color\":\"#2a3f5f\"},\"error_y\":{\"color\":\"#2a3f5f\"},\"marker\":{\"line\":{\"color\":\"#E5ECF6\",\"width\":0.5},\"pattern\":{\"fillmode\":\"overlay\",\"size\":10,\"solidity\":0.2}},\"type\":\"bar\"}],\"barpolar\":[{\"marker\":{\"line\":{\"color\":\"#E5ECF6\",\"width\":0.5},\"pattern\":{\"fillmode\":\"overlay\",\"size\":10,\"solidity\":0.2}},\"type\":\"barpolar\"}],\"carpet\":[{\"aaxis\":{\"endlinecolor\":\"#2a3f5f\",\"gridcolor\":\"white\",\"linecolor\":\"white\",\"minorgridcolor\":\"white\",\"startlinecolor\":\"#2a3f5f\"},\"baxis\":{\"endlinecolor\":\"#2a3f5f\",\"gridcolor\":\"white\",\"linecolor\":\"white\",\"minorgridcolor\":\"white\",\"startlinecolor\":\"#2a3f5f\"},\"type\":\"carpet\"}],\"choropleth\":[{\"colorbar\":{\"outlinewidth\":0,\"ticks\":\"\"},\"type\":\"choropleth\"}],\"contour\":[{\"colorbar\":{\"outlinewidth\":0,\"ticks\":\"\"},\"colorscale\":[[0.0,\"#0d0887\"],[0.1111111111111111,\"#46039f\"],[0.2222222222222222,\"#7201a8\"],[0.3333333333333333,\"#9c179e\"],[0.4444444444444444,\"#bd3786\"],[0.5555555555555556,\"#d8576b\"],[0.6666666666666666,\"#ed7953\"],[0.7777777777777778,\"#fb9f3a\"],[0.8888888888888888,\"#fdca26\"],[1.0,\"#f0f921\"]],\"type\":\"contour\"}],\"contourcarpet\":[{\"colorbar\":{\"outlinewidth\":0,\"ticks\":\"\"},\"type\":\"contourcarpet\"}],\"heatmap\":[{\"colorbar\":{\"outlinewidth\":0,\"ticks\":\"\"},\"colorscale\":[[0.0,\"#0d0887\"],[0.1111111111111111,\"#46039f\"],[0.2222222222222222,\"#7201a8\"],[0.3333333333333333,\"#9c179e\"],[0.4444444444444444,\"#bd3786\"],[0.5555555555555556,\"#d8576b\"],[0.6666666666666666,\"#ed7953\"],[0.7777777777777778,\"#fb9f3a\"],[0.8888888888888888,\"#fdca26\"],[1.0,\"#f0f921\"]],\"type\":\"heatmap\"}],\"heatmapgl\":[{\"colorbar\":{\"outlinewidth\":0,\"ticks\":\"\"},\"colorscale\":[[0.0,\"#0d0887\"],[0.1111111111111111,\"#46039f\"],[0.2222222222222222,\"#7201a8\"],[0.3333333333333333,\"#9c179e\"],[0.4444444444444444,\"#bd3786\"],[0.5555555555555556,\"#d8576b\"],[0.6666666666666666,\"#ed7953\"],[0.7777777777777778,\"#fb9f3a\"],[0.8888888888888888,\"#fdca26\"],[1.0,\"#f0f921\"]],\"type\":\"heatmapgl\"}],\"histogram\":[{\"marker\":{\"pattern\":{\"fillmode\":\"overlay\",\"size\":10,\"solidity\":0.2}},\"type\":\"histogram\"}],\"histogram2d\":[{\"colorbar\":{\"outlinewidth\":0,\"ticks\":\"\"},\"colorscale\":[[0.0,\"#0d0887\"],[0.1111111111111111,\"#46039f\"],[0.2222222222222222,\"#7201a8\"],[0.3333333333333333,\"#9c179e\"],[0.4444444444444444,\"#bd3786\"],[0.5555555555555556,\"#d8576b\"],[0.6666666666666666,\"#ed7953\"],[0.7777777777777778,\"#fb9f3a\"],[0.8888888888888888,\"#fdca26\"],[1.0,\"#f0f921\"]],\"type\":\"histogram2d\"}],\"histogram2dcontour\":[{\"colorbar\":{\"outlinewidth\":0,\"ticks\":\"\"},\"colorscale\":[[0.0,\"#0d0887\"],[0.1111111111111111,\"#46039f\"],[0.2222222222222222,\"#7201a8\"],[0.3333333333333333,\"#9c179e\"],[0.4444444444444444,\"#bd3786\"],[0.5555555555555556,\"#d8576b\"],[0.6666666666666666,\"#ed7953\"],[0.7777777777777778,\"#fb9f3a\"],[0.8888888888888888,\"#fdca26\"],[1.0,\"#f0f921\"]],\"type\":\"histogram2dcontour\"}],\"mesh3d\":[{\"colorbar\":{\"outlinewidth\":0,\"ticks\":\"\"},\"type\":\"mesh3d\"}],\"parcoords\":[{\"line\":{\"colorbar\":{\"outlinewidth\":0,\"ticks\":\"\"}},\"type\":\"parcoords\"}],\"pie\":[{\"automargin\":true,\"type\":\"pie\"}],\"scatter\":[{\"marker\":{\"colorbar\":{\"outlinewidth\":0,\"ticks\":\"\"}},\"type\":\"scatter\"}],\"scatter3d\":[{\"line\":{\"colorbar\":{\"outlinewidth\":0,\"ticks\":\"\"}},\"marker\":{\"colorbar\":{\"outlinewidth\":0,\"ticks\":\"\"}},\"type\":\"scatter3d\"}],\"scattercarpet\":[{\"marker\":{\"colorbar\":{\"outlinewidth\":0,\"ticks\":\"\"}},\"type\":\"scattercarpet\"}],\"scattergeo\":[{\"marker\":{\"colorbar\":{\"outlinewidth\":0,\"ticks\":\"\"}},\"type\":\"scattergeo\"}],\"scattergl\":[{\"marker\":{\"colorbar\":{\"outlinewidth\":0,\"ticks\":\"\"}},\"type\":\"scattergl\"}],\"scattermapbox\":[{\"marker\":{\"colorbar\":{\"outlinewidth\":0,\"ticks\":\"\"}},\"type\":\"scattermapbox\"}],\"scatterpolar\":[{\"marker\":{\"colorbar\":{\"outlinewidth\":0,\"ticks\":\"\"}},\"type\":\"scatterpolar\"}],\"scatterpolargl\":[{\"marker\":{\"colorbar\":{\"outlinewidth\":0,\"ticks\":\"\"}},\"type\":\"scatterpolargl\"}],\"scatterternary\":[{\"marker\":{\"colorbar\":{\"outlinewidth\":0,\"ticks\":\"\"}},\"type\":\"scatterternary\"}],\"surface\":[{\"colorbar\":{\"outlinewidth\":0,\"ticks\":\"\"},\"colorscale\":[[0.0,\"#0d0887\"],[0.1111111111111111,\"#46039f\"],[0.2222222222222222,\"#7201a8\"],[0.3333333333333333,\"#9c179e\"],[0.4444444444444444,\"#bd3786\"],[0.5555555555555556,\"#d8576b\"],[0.6666666666666666,\"#ed7953\"],[0.7777777777777778,\"#fb9f3a\"],[0.8888888888888888,\"#fdca26\"],[1.0,\"#f0f921\"]],\"type\":\"surface\"}],\"table\":[{\"cells\":{\"fill\":{\"color\":\"#EBF0F8\"},\"line\":{\"color\":\"white\"}},\"header\":{\"fill\":{\"color\":\"#C8D4E3\"},\"line\":{\"color\":\"white\"}},\"type\":\"table\"}]},\"layout\":{\"annotationdefaults\":{\"arrowcolor\":\"#2a3f5f\",\"arrowhead\":0,\"arrowwidth\":1},\"autotypenumbers\":\"strict\",\"coloraxis\":{\"colorbar\":{\"outlinewidth\":0,\"ticks\":\"\"}},\"colorscale\":{\"diverging\":[[0,\"#8e0152\"],[0.1,\"#c51b7d\"],[0.2,\"#de77ae\"],[0.3,\"#f1b6da\"],[0.4,\"#fde0ef\"],[0.5,\"#f7f7f7\"],[0.6,\"#e6f5d0\"],[0.7,\"#b8e186\"],[0.8,\"#7fbc41\"],[0.9,\"#4d9221\"],[1,\"#276419\"]],\"sequential\":[[0.0,\"#0d0887\"],[0.1111111111111111,\"#46039f\"],[0.2222222222222222,\"#7201a8\"],[0.3333333333333333,\"#9c179e\"],[0.4444444444444444,\"#bd3786\"],[0.5555555555555556,\"#d8576b\"],[0.6666666666666666,\"#ed7953\"],[0.7777777777777778,\"#fb9f3a\"],[0.8888888888888888,\"#fdca26\"],[1.0,\"#f0f921\"]],\"sequentialminus\":[[0.0,\"#0d0887\"],[0.1111111111111111,\"#46039f\"],[0.2222222222222222,\"#7201a8\"],[0.3333333333333333,\"#9c179e\"],[0.4444444444444444,\"#bd3786\"],[0.5555555555555556,\"#d8576b\"],[0.6666666666666666,\"#ed7953\"],[0.7777777777777778,\"#fb9f3a\"],[0.8888888888888888,\"#fdca26\"],[1.0,\"#f0f921\"]]},\"colorway\":[\"#636efa\",\"#EF553B\",\"#00cc96\",\"#ab63fa\",\"#FFA15A\",\"#19d3f3\",\"#FF6692\",\"#B6E880\",\"#FF97FF\",\"#FECB52\"],\"font\":{\"color\":\"#2a3f5f\"},\"geo\":{\"bgcolor\":\"white\",\"lakecolor\":\"white\",\"landcolor\":\"#E5ECF6\",\"showlakes\":true,\"showland\":true,\"subunitcolor\":\"white\"},\"hoverlabel\":{\"align\":\"left\"},\"hovermode\":\"closest\",\"mapbox\":{\"style\":\"light\"},\"paper_bgcolor\":\"white\",\"plot_bgcolor\":\"#E5ECF6\",\"polar\":{\"angularaxis\":{\"gridcolor\":\"white\",\"linecolor\":\"white\",\"ticks\":\"\"},\"bgcolor\":\"#E5ECF6\",\"radialaxis\":{\"gridcolor\":\"white\",\"linecolor\":\"white\",\"ticks\":\"\"}},\"scene\":{\"xaxis\":{\"backgroundcolor\":\"#E5ECF6\",\"gridcolor\":\"white\",\"gridwidth\":2,\"linecolor\":\"white\",\"showbackground\":true,\"ticks\":\"\",\"zerolinecolor\":\"white\"},\"yaxis\":{\"backgroundcolor\":\"#E5ECF6\",\"gridcolor\":\"white\",\"gridwidth\":2,\"linecolor\":\"white\",\"showbackground\":true,\"ticks\":\"\",\"zerolinecolor\":\"white\"},\"zaxis\":{\"backgroundcolor\":\"#E5ECF6\",\"gridcolor\":\"white\",\"gridwidth\":2,\"linecolor\":\"white\",\"showbackground\":true,\"ticks\":\"\",\"zerolinecolor\":\"white\"}},\"shapedefaults\":{\"line\":{\"color\":\"#2a3f5f\"}},\"ternary\":{\"aaxis\":{\"gridcolor\":\"white\",\"linecolor\":\"white\",\"ticks\":\"\"},\"baxis\":{\"gridcolor\":\"white\",\"linecolor\":\"white\",\"ticks\":\"\"},\"bgcolor\":\"#E5ECF6\",\"caxis\":{\"gridcolor\":\"white\",\"linecolor\":\"white\",\"ticks\":\"\"}},\"title\":{\"x\":0.05},\"xaxis\":{\"automargin\":true,\"gridcolor\":\"white\",\"linecolor\":\"white\",\"ticks\":\"\",\"title\":{\"standoff\":15},\"zerolinecolor\":\"white\",\"zerolinewidth\":2},\"yaxis\":{\"automargin\":true,\"gridcolor\":\"white\",\"linecolor\":\"white\",\"ticks\":\"\",\"title\":{\"standoff\":15},\"zerolinecolor\":\"white\",\"zerolinewidth\":2}}},\"title\":{\"text\":\"AlBERTo MC opt's confidence distribution for Sentipolc16 - false neutrals\"},\"xaxis\":{\"range\":[0.0,1.0],\"title\":{\"text\":\"confidence\"}},\"yaxis\":{\"title\":{\"text\":\"normalized count\"}}},                        {\"responsive\": true}                    ).then(function(){\n",
       "                            \n",
       "var gd = document.getElementById('cd4e6e8c-2b30-4693-858e-a946023069ad');\n",
       "var x = new MutationObserver(function (mutations, observer) {{\n",
       "        var display = window.getComputedStyle(gd).display;\n",
       "        if (!display || display === 'none') {{\n",
       "            console.log([gd, 'removed!']);\n",
       "            Plotly.purge(gd);\n",
       "            observer.disconnect();\n",
       "        }}\n",
       "}});\n",
       "\n",
       "// Listen for the removal of the full notebook cells\n",
       "var notebookContainer = gd.closest('#notebook-container');\n",
       "if (notebookContainer) {{\n",
       "    x.observe(notebookContainer, {childList: true});\n",
       "}}\n",
       "\n",
       "// Listen for the clearing of the current output cell\n",
       "var outputEl = gd.closest('.output');\n",
       "if (outputEl) {{\n",
       "    x.observe(outputEl, {childList: true});\n",
       "}}\n",
       "\n",
       "                        })                };                });            </script>        </div>"
      ]
     },
     "metadata": {},
     "output_type": "display_data"
    },
    {
     "data": {
      "application/vnd.plotly.v1+json": {
       "config": {
        "plotlyServerURL": "https://plot.ly"
       },
       "data": [
        {
         "histnorm": "probability",
         "type": "histogram",
         "x": [
          0.9336100816726685,
          0.7115217447280884,
          0.5467013716697693,
          0.6482245922088623,
          0.4960721731185913,
          0.5611975789070129,
          0.48866671323776245,
          0.6142916083335876,
          0.8969173431396484,
          0.9703284502029419,
          0.9684630632400513,
          0.9907498955726624,
          0.7856975197792053,
          0.5519050359725952,
          0.5600677728652954,
          0.5670062303543091,
          0.7661369442939758,
          0.7532040476799011,
          0.5576457977294922,
          0.6929723620414734,
          0.6918812990188599,
          0.9034814238548279,
          0.8979318737983704,
          0.877305269241333,
          0.6664944291114807,
          0.773686945438385,
          0.9088593125343323,
          0.6421863436698914,
          0.38152962923049927,
          0.4933657944202423,
          0.45578429102897644,
          0.9626011848449707,
          0.8727994561195374,
          0.9691066145896912,
          0.48039889335632324,
          0.6337286829948425,
          0.7839244604110718,
          0.958075225353241,
          0.5086055994033813,
          0.5923799276351929,
          0.7904089093208313,
          0.7775657773017883,
          0.7610825300216675,
          0.5083068013191223,
          0.9851952791213989,
          0.7626936435699463,
          0.9034068584442139,
          0.9525622725486755,
          0.8004441261291504,
          0.7563576698303223,
          0.5651293992996216,
          0.47415032982826233,
          0.6237457394599915,
          0.7929602861404419,
          0.7652481198310852,
          0.5465071797370911,
          0.7796773910522461,
          0.9622688889503479,
          0.796096920967102,
          0.9500271081924438,
          0.7001238465309143,
          0.9520012736320496,
          0.8997870087623596,
          0.9802528619766235,
          0.5882006287574768,
          0.7891969680786133,
          0.6651317477226257,
          0.5363569855690002,
          0.8079983592033386,
          0.9394493103027344,
          0.7255423665046692,
          0.7584173083305359,
          0.7543346881866455,
          0.7028560638427734,
          0.8857133388519287,
          0.901409924030304,
          0.6412480473518372,
          0.5031120777130127,
          0.9016628861427307,
          0.958051860332489,
          0.9281657338142395,
          0.683914065361023,
          0.5016605854034424,
          0.6497875452041626,
          0.8568143248558044,
          0.7312641739845276,
          0.7141774296760559,
          0.5068448781967163,
          0.854994535446167,
          0.6753864884376526,
          0.8283752202987671,
          0.46376103162765503,
          0.6574341654777527,
          0.9234845042228699,
          0.6412699818611145,
          0.9665198922157288,
          0.8743239045143127,
          0.523267388343811,
          0.7485149502754211,
          0.7221642732620239,
          0.9626011848449707,
          0.6160848140716553,
          0.8286887407302856,
          0.9561058878898621,
          0.9036134481430054,
          0.64723140001297,
          0.6224017143249512,
          0.8704317808151245,
          0.8415794968605042,
          0.8520409464836121,
          0.8092266917228699,
          0.5798183083534241,
          0.9741233587265015,
          0.6416733264923096,
          0.7553452849388123,
          0.5437526702880859,
          0.9511415362358093,
          0.98760986328125,
          0.9532003402709961,
          0.9254021644592285,
          0.5112784504890442,
          0.5886389017105103,
          0.5998594760894775,
          0.6441553831100464,
          0.9054962992668152,
          0.7736936807632446,
          0.8768593072891235,
          0.9264387488365173,
          0.8750467896461487,
          0.6225324273109436,
          0.4586871266365051,
          0.9102513790130615,
          0.4792473316192627,
          0.6265789866447449,
          0.6653894186019897,
          0.8607832193374634,
          0.9166343808174133,
          0.6944397687911987,
          0.8451287150382996,
          0.49584731459617615,
          0.8201103806495667,
          0.9284509420394897,
          0.9265538454055786,
          0.4307810068130493,
          0.5638740658760071,
          0.666072428226471,
          0.8094291687011719,
          0.7930108308792114,
          0.6407812833786011,
          0.7047927379608154,
          0.5655381679534912,
          0.5407549738883972,
          0.8409391045570374,
          0.777678906917572,
          0.7470464110374451,
          0.4491691589355469,
          0.7572070956230164,
          0.5688958168029785,
          0.9578613638877869,
          0.9153138399124146,
          0.735448956489563,
          0.7736956477165222,
          0.604049026966095,
          0.5171093344688416,
          0.43428951501846313,
          0.6237491965293884,
          0.9385036826133728,
          0.6371193528175354,
          0.5214786529541016,
          0.7649012207984924,
          0.596820592880249,
          0.9598058462142944,
          0.7544628977775574,
          0.5647062659263611,
          0.8653135299682617,
          0.8682722449302673
         ],
         "xbins": {
          "end": 1,
          "size": 0.1,
          "start": 0
         }
        }
       ],
       "layout": {
        "template": {
         "data": {
          "bar": [
           {
            "error_x": {
             "color": "#2a3f5f"
            },
            "error_y": {
             "color": "#2a3f5f"
            },
            "marker": {
             "line": {
              "color": "#E5ECF6",
              "width": 0.5
             },
             "pattern": {
              "fillmode": "overlay",
              "size": 10,
              "solidity": 0.2
             }
            },
            "type": "bar"
           }
          ],
          "barpolar": [
           {
            "marker": {
             "line": {
              "color": "#E5ECF6",
              "width": 0.5
             },
             "pattern": {
              "fillmode": "overlay",
              "size": 10,
              "solidity": 0.2
             }
            },
            "type": "barpolar"
           }
          ],
          "carpet": [
           {
            "aaxis": {
             "endlinecolor": "#2a3f5f",
             "gridcolor": "white",
             "linecolor": "white",
             "minorgridcolor": "white",
             "startlinecolor": "#2a3f5f"
            },
            "baxis": {
             "endlinecolor": "#2a3f5f",
             "gridcolor": "white",
             "linecolor": "white",
             "minorgridcolor": "white",
             "startlinecolor": "#2a3f5f"
            },
            "type": "carpet"
           }
          ],
          "choropleth": [
           {
            "colorbar": {
             "outlinewidth": 0,
             "ticks": ""
            },
            "type": "choropleth"
           }
          ],
          "contour": [
           {
            "colorbar": {
             "outlinewidth": 0,
             "ticks": ""
            },
            "colorscale": [
             [
              0,
              "#0d0887"
             ],
             [
              0.1111111111111111,
              "#46039f"
             ],
             [
              0.2222222222222222,
              "#7201a8"
             ],
             [
              0.3333333333333333,
              "#9c179e"
             ],
             [
              0.4444444444444444,
              "#bd3786"
             ],
             [
              0.5555555555555556,
              "#d8576b"
             ],
             [
              0.6666666666666666,
              "#ed7953"
             ],
             [
              0.7777777777777778,
              "#fb9f3a"
             ],
             [
              0.8888888888888888,
              "#fdca26"
             ],
             [
              1,
              "#f0f921"
             ]
            ],
            "type": "contour"
           }
          ],
          "contourcarpet": [
           {
            "colorbar": {
             "outlinewidth": 0,
             "ticks": ""
            },
            "type": "contourcarpet"
           }
          ],
          "heatmap": [
           {
            "colorbar": {
             "outlinewidth": 0,
             "ticks": ""
            },
            "colorscale": [
             [
              0,
              "#0d0887"
             ],
             [
              0.1111111111111111,
              "#46039f"
             ],
             [
              0.2222222222222222,
              "#7201a8"
             ],
             [
              0.3333333333333333,
              "#9c179e"
             ],
             [
              0.4444444444444444,
              "#bd3786"
             ],
             [
              0.5555555555555556,
              "#d8576b"
             ],
             [
              0.6666666666666666,
              "#ed7953"
             ],
             [
              0.7777777777777778,
              "#fb9f3a"
             ],
             [
              0.8888888888888888,
              "#fdca26"
             ],
             [
              1,
              "#f0f921"
             ]
            ],
            "type": "heatmap"
           }
          ],
          "heatmapgl": [
           {
            "colorbar": {
             "outlinewidth": 0,
             "ticks": ""
            },
            "colorscale": [
             [
              0,
              "#0d0887"
             ],
             [
              0.1111111111111111,
              "#46039f"
             ],
             [
              0.2222222222222222,
              "#7201a8"
             ],
             [
              0.3333333333333333,
              "#9c179e"
             ],
             [
              0.4444444444444444,
              "#bd3786"
             ],
             [
              0.5555555555555556,
              "#d8576b"
             ],
             [
              0.6666666666666666,
              "#ed7953"
             ],
             [
              0.7777777777777778,
              "#fb9f3a"
             ],
             [
              0.8888888888888888,
              "#fdca26"
             ],
             [
              1,
              "#f0f921"
             ]
            ],
            "type": "heatmapgl"
           }
          ],
          "histogram": [
           {
            "marker": {
             "pattern": {
              "fillmode": "overlay",
              "size": 10,
              "solidity": 0.2
             }
            },
            "type": "histogram"
           }
          ],
          "histogram2d": [
           {
            "colorbar": {
             "outlinewidth": 0,
             "ticks": ""
            },
            "colorscale": [
             [
              0,
              "#0d0887"
             ],
             [
              0.1111111111111111,
              "#46039f"
             ],
             [
              0.2222222222222222,
              "#7201a8"
             ],
             [
              0.3333333333333333,
              "#9c179e"
             ],
             [
              0.4444444444444444,
              "#bd3786"
             ],
             [
              0.5555555555555556,
              "#d8576b"
             ],
             [
              0.6666666666666666,
              "#ed7953"
             ],
             [
              0.7777777777777778,
              "#fb9f3a"
             ],
             [
              0.8888888888888888,
              "#fdca26"
             ],
             [
              1,
              "#f0f921"
             ]
            ],
            "type": "histogram2d"
           }
          ],
          "histogram2dcontour": [
           {
            "colorbar": {
             "outlinewidth": 0,
             "ticks": ""
            },
            "colorscale": [
             [
              0,
              "#0d0887"
             ],
             [
              0.1111111111111111,
              "#46039f"
             ],
             [
              0.2222222222222222,
              "#7201a8"
             ],
             [
              0.3333333333333333,
              "#9c179e"
             ],
             [
              0.4444444444444444,
              "#bd3786"
             ],
             [
              0.5555555555555556,
              "#d8576b"
             ],
             [
              0.6666666666666666,
              "#ed7953"
             ],
             [
              0.7777777777777778,
              "#fb9f3a"
             ],
             [
              0.8888888888888888,
              "#fdca26"
             ],
             [
              1,
              "#f0f921"
             ]
            ],
            "type": "histogram2dcontour"
           }
          ],
          "mesh3d": [
           {
            "colorbar": {
             "outlinewidth": 0,
             "ticks": ""
            },
            "type": "mesh3d"
           }
          ],
          "parcoords": [
           {
            "line": {
             "colorbar": {
              "outlinewidth": 0,
              "ticks": ""
             }
            },
            "type": "parcoords"
           }
          ],
          "pie": [
           {
            "automargin": true,
            "type": "pie"
           }
          ],
          "scatter": [
           {
            "marker": {
             "colorbar": {
              "outlinewidth": 0,
              "ticks": ""
             }
            },
            "type": "scatter"
           }
          ],
          "scatter3d": [
           {
            "line": {
             "colorbar": {
              "outlinewidth": 0,
              "ticks": ""
             }
            },
            "marker": {
             "colorbar": {
              "outlinewidth": 0,
              "ticks": ""
             }
            },
            "type": "scatter3d"
           }
          ],
          "scattercarpet": [
           {
            "marker": {
             "colorbar": {
              "outlinewidth": 0,
              "ticks": ""
             }
            },
            "type": "scattercarpet"
           }
          ],
          "scattergeo": [
           {
            "marker": {
             "colorbar": {
              "outlinewidth": 0,
              "ticks": ""
             }
            },
            "type": "scattergeo"
           }
          ],
          "scattergl": [
           {
            "marker": {
             "colorbar": {
              "outlinewidth": 0,
              "ticks": ""
             }
            },
            "type": "scattergl"
           }
          ],
          "scattermapbox": [
           {
            "marker": {
             "colorbar": {
              "outlinewidth": 0,
              "ticks": ""
             }
            },
            "type": "scattermapbox"
           }
          ],
          "scatterpolar": [
           {
            "marker": {
             "colorbar": {
              "outlinewidth": 0,
              "ticks": ""
             }
            },
            "type": "scatterpolar"
           }
          ],
          "scatterpolargl": [
           {
            "marker": {
             "colorbar": {
              "outlinewidth": 0,
              "ticks": ""
             }
            },
            "type": "scatterpolargl"
           }
          ],
          "scatterternary": [
           {
            "marker": {
             "colorbar": {
              "outlinewidth": 0,
              "ticks": ""
             }
            },
            "type": "scatterternary"
           }
          ],
          "surface": [
           {
            "colorbar": {
             "outlinewidth": 0,
             "ticks": ""
            },
            "colorscale": [
             [
              0,
              "#0d0887"
             ],
             [
              0.1111111111111111,
              "#46039f"
             ],
             [
              0.2222222222222222,
              "#7201a8"
             ],
             [
              0.3333333333333333,
              "#9c179e"
             ],
             [
              0.4444444444444444,
              "#bd3786"
             ],
             [
              0.5555555555555556,
              "#d8576b"
             ],
             [
              0.6666666666666666,
              "#ed7953"
             ],
             [
              0.7777777777777778,
              "#fb9f3a"
             ],
             [
              0.8888888888888888,
              "#fdca26"
             ],
             [
              1,
              "#f0f921"
             ]
            ],
            "type": "surface"
           }
          ],
          "table": [
           {
            "cells": {
             "fill": {
              "color": "#EBF0F8"
             },
             "line": {
              "color": "white"
             }
            },
            "header": {
             "fill": {
              "color": "#C8D4E3"
             },
             "line": {
              "color": "white"
             }
            },
            "type": "table"
           }
          ]
         },
         "layout": {
          "annotationdefaults": {
           "arrowcolor": "#2a3f5f",
           "arrowhead": 0,
           "arrowwidth": 1
          },
          "autotypenumbers": "strict",
          "coloraxis": {
           "colorbar": {
            "outlinewidth": 0,
            "ticks": ""
           }
          },
          "colorscale": {
           "diverging": [
            [
             0,
             "#8e0152"
            ],
            [
             0.1,
             "#c51b7d"
            ],
            [
             0.2,
             "#de77ae"
            ],
            [
             0.3,
             "#f1b6da"
            ],
            [
             0.4,
             "#fde0ef"
            ],
            [
             0.5,
             "#f7f7f7"
            ],
            [
             0.6,
             "#e6f5d0"
            ],
            [
             0.7,
             "#b8e186"
            ],
            [
             0.8,
             "#7fbc41"
            ],
            [
             0.9,
             "#4d9221"
            ],
            [
             1,
             "#276419"
            ]
           ],
           "sequential": [
            [
             0,
             "#0d0887"
            ],
            [
             0.1111111111111111,
             "#46039f"
            ],
            [
             0.2222222222222222,
             "#7201a8"
            ],
            [
             0.3333333333333333,
             "#9c179e"
            ],
            [
             0.4444444444444444,
             "#bd3786"
            ],
            [
             0.5555555555555556,
             "#d8576b"
            ],
            [
             0.6666666666666666,
             "#ed7953"
            ],
            [
             0.7777777777777778,
             "#fb9f3a"
            ],
            [
             0.8888888888888888,
             "#fdca26"
            ],
            [
             1,
             "#f0f921"
            ]
           ],
           "sequentialminus": [
            [
             0,
             "#0d0887"
            ],
            [
             0.1111111111111111,
             "#46039f"
            ],
            [
             0.2222222222222222,
             "#7201a8"
            ],
            [
             0.3333333333333333,
             "#9c179e"
            ],
            [
             0.4444444444444444,
             "#bd3786"
            ],
            [
             0.5555555555555556,
             "#d8576b"
            ],
            [
             0.6666666666666666,
             "#ed7953"
            ],
            [
             0.7777777777777778,
             "#fb9f3a"
            ],
            [
             0.8888888888888888,
             "#fdca26"
            ],
            [
             1,
             "#f0f921"
            ]
           ]
          },
          "colorway": [
           "#636efa",
           "#EF553B",
           "#00cc96",
           "#ab63fa",
           "#FFA15A",
           "#19d3f3",
           "#FF6692",
           "#B6E880",
           "#FF97FF",
           "#FECB52"
          ],
          "font": {
           "color": "#2a3f5f"
          },
          "geo": {
           "bgcolor": "white",
           "lakecolor": "white",
           "landcolor": "#E5ECF6",
           "showlakes": true,
           "showland": true,
           "subunitcolor": "white"
          },
          "hoverlabel": {
           "align": "left"
          },
          "hovermode": "closest",
          "mapbox": {
           "style": "light"
          },
          "paper_bgcolor": "white",
          "plot_bgcolor": "#E5ECF6",
          "polar": {
           "angularaxis": {
            "gridcolor": "white",
            "linecolor": "white",
            "ticks": ""
           },
           "bgcolor": "#E5ECF6",
           "radialaxis": {
            "gridcolor": "white",
            "linecolor": "white",
            "ticks": ""
           }
          },
          "scene": {
           "xaxis": {
            "backgroundcolor": "#E5ECF6",
            "gridcolor": "white",
            "gridwidth": 2,
            "linecolor": "white",
            "showbackground": true,
            "ticks": "",
            "zerolinecolor": "white"
           },
           "yaxis": {
            "backgroundcolor": "#E5ECF6",
            "gridcolor": "white",
            "gridwidth": 2,
            "linecolor": "white",
            "showbackground": true,
            "ticks": "",
            "zerolinecolor": "white"
           },
           "zaxis": {
            "backgroundcolor": "#E5ECF6",
            "gridcolor": "white",
            "gridwidth": 2,
            "linecolor": "white",
            "showbackground": true,
            "ticks": "",
            "zerolinecolor": "white"
           }
          },
          "shapedefaults": {
           "line": {
            "color": "#2a3f5f"
           }
          },
          "ternary": {
           "aaxis": {
            "gridcolor": "white",
            "linecolor": "white",
            "ticks": ""
           },
           "baxis": {
            "gridcolor": "white",
            "linecolor": "white",
            "ticks": ""
           },
           "bgcolor": "#E5ECF6",
           "caxis": {
            "gridcolor": "white",
            "linecolor": "white",
            "ticks": ""
           }
          },
          "title": {
           "x": 0.05
          },
          "xaxis": {
           "automargin": true,
           "gridcolor": "white",
           "linecolor": "white",
           "ticks": "",
           "title": {
            "standoff": 15
           },
           "zerolinecolor": "white",
           "zerolinewidth": 2
          },
          "yaxis": {
           "automargin": true,
           "gridcolor": "white",
           "linecolor": "white",
           "ticks": "",
           "title": {
            "standoff": 15
           },
           "zerolinecolor": "white",
           "zerolinewidth": 2
          }
         }
        },
        "title": {
         "text": "AlBERTo MC opt's confidence distribution for Sentipolc16 - false positives"
        },
        "xaxis": {
         "range": [
          0,
          1
         ],
         "title": {
          "text": "confidence"
         }
        },
        "yaxis": {
         "title": {
          "text": "normalized count"
         }
        }
       }
      },
      "text/html": [
       "<div>                            <div id=\"c8a37403-9525-4c43-bba8-224df8be738e\" class=\"plotly-graph-div\" style=\"height:525px; width:100%;\"></div>            <script type=\"text/javascript\">                require([\"plotly\"], function(Plotly) {                    window.PLOTLYENV=window.PLOTLYENV || {};                                    if (document.getElementById(\"c8a37403-9525-4c43-bba8-224df8be738e\")) {                    Plotly.newPlot(                        \"c8a37403-9525-4c43-bba8-224df8be738e\",                        [{\"histnorm\":\"probability\",\"type\":\"histogram\",\"x\":[0.9336100816726685,0.7115217447280884,0.5467013716697693,0.6482245922088623,0.4960721731185913,0.5611975789070129,0.48866671323776245,0.6142916083335876,0.8969173431396484,0.9703284502029419,0.9684630632400513,0.9907498955726624,0.7856975197792053,0.5519050359725952,0.5600677728652954,0.5670062303543091,0.7661369442939758,0.7532040476799011,0.5576457977294922,0.6929723620414734,0.6918812990188599,0.9034814238548279,0.8979318737983704,0.877305269241333,0.6664944291114807,0.773686945438385,0.9088593125343323,0.6421863436698914,0.38152962923049927,0.4933657944202423,0.45578429102897644,0.9626011848449707,0.8727994561195374,0.9691066145896912,0.48039889335632324,0.6337286829948425,0.7839244604110718,0.958075225353241,0.5086055994033813,0.5923799276351929,0.7904089093208313,0.7775657773017883,0.7610825300216675,0.5083068013191223,0.9851952791213989,0.7626936435699463,0.9034068584442139,0.9525622725486755,0.8004441261291504,0.7563576698303223,0.5651293992996216,0.47415032982826233,0.6237457394599915,0.7929602861404419,0.7652481198310852,0.5465071797370911,0.7796773910522461,0.9622688889503479,0.796096920967102,0.9500271081924438,0.7001238465309143,0.9520012736320496,0.8997870087623596,0.9802528619766235,0.5882006287574768,0.7891969680786133,0.6651317477226257,0.5363569855690002,0.8079983592033386,0.9394493103027344,0.7255423665046692,0.7584173083305359,0.7543346881866455,0.7028560638427734,0.8857133388519287,0.901409924030304,0.6412480473518372,0.5031120777130127,0.9016628861427307,0.958051860332489,0.9281657338142395,0.683914065361023,0.5016605854034424,0.6497875452041626,0.8568143248558044,0.7312641739845276,0.7141774296760559,0.5068448781967163,0.854994535446167,0.6753864884376526,0.8283752202987671,0.46376103162765503,0.6574341654777527,0.9234845042228699,0.6412699818611145,0.9665198922157288,0.8743239045143127,0.523267388343811,0.7485149502754211,0.7221642732620239,0.9626011848449707,0.6160848140716553,0.8286887407302856,0.9561058878898621,0.9036134481430054,0.64723140001297,0.6224017143249512,0.8704317808151245,0.8415794968605042,0.8520409464836121,0.8092266917228699,0.5798183083534241,0.9741233587265015,0.6416733264923096,0.7553452849388123,0.5437526702880859,0.9511415362358093,0.98760986328125,0.9532003402709961,0.9254021644592285,0.5112784504890442,0.5886389017105103,0.5998594760894775,0.6441553831100464,0.9054962992668152,0.7736936807632446,0.8768593072891235,0.9264387488365173,0.8750467896461487,0.6225324273109436,0.4586871266365051,0.9102513790130615,0.4792473316192627,0.6265789866447449,0.6653894186019897,0.8607832193374634,0.9166343808174133,0.6944397687911987,0.8451287150382996,0.49584731459617615,0.8201103806495667,0.9284509420394897,0.9265538454055786,0.4307810068130493,0.5638740658760071,0.666072428226471,0.8094291687011719,0.7930108308792114,0.6407812833786011,0.7047927379608154,0.5655381679534912,0.5407549738883972,0.8409391045570374,0.777678906917572,0.7470464110374451,0.4491691589355469,0.7572070956230164,0.5688958168029785,0.9578613638877869,0.9153138399124146,0.735448956489563,0.7736956477165222,0.604049026966095,0.5171093344688416,0.43428951501846313,0.6237491965293884,0.9385036826133728,0.6371193528175354,0.5214786529541016,0.7649012207984924,0.596820592880249,0.9598058462142944,0.7544628977775574,0.5647062659263611,0.8653135299682617,0.8682722449302673],\"xbins\":{\"end\":1.0,\"size\":0.1,\"start\":0.0}}],                        {\"template\":{\"data\":{\"bar\":[{\"error_x\":{\"color\":\"#2a3f5f\"},\"error_y\":{\"color\":\"#2a3f5f\"},\"marker\":{\"line\":{\"color\":\"#E5ECF6\",\"width\":0.5},\"pattern\":{\"fillmode\":\"overlay\",\"size\":10,\"solidity\":0.2}},\"type\":\"bar\"}],\"barpolar\":[{\"marker\":{\"line\":{\"color\":\"#E5ECF6\",\"width\":0.5},\"pattern\":{\"fillmode\":\"overlay\",\"size\":10,\"solidity\":0.2}},\"type\":\"barpolar\"}],\"carpet\":[{\"aaxis\":{\"endlinecolor\":\"#2a3f5f\",\"gridcolor\":\"white\",\"linecolor\":\"white\",\"minorgridcolor\":\"white\",\"startlinecolor\":\"#2a3f5f\"},\"baxis\":{\"endlinecolor\":\"#2a3f5f\",\"gridcolor\":\"white\",\"linecolor\":\"white\",\"minorgridcolor\":\"white\",\"startlinecolor\":\"#2a3f5f\"},\"type\":\"carpet\"}],\"choropleth\":[{\"colorbar\":{\"outlinewidth\":0,\"ticks\":\"\"},\"type\":\"choropleth\"}],\"contour\":[{\"colorbar\":{\"outlinewidth\":0,\"ticks\":\"\"},\"colorscale\":[[0.0,\"#0d0887\"],[0.1111111111111111,\"#46039f\"],[0.2222222222222222,\"#7201a8\"],[0.3333333333333333,\"#9c179e\"],[0.4444444444444444,\"#bd3786\"],[0.5555555555555556,\"#d8576b\"],[0.6666666666666666,\"#ed7953\"],[0.7777777777777778,\"#fb9f3a\"],[0.8888888888888888,\"#fdca26\"],[1.0,\"#f0f921\"]],\"type\":\"contour\"}],\"contourcarpet\":[{\"colorbar\":{\"outlinewidth\":0,\"ticks\":\"\"},\"type\":\"contourcarpet\"}],\"heatmap\":[{\"colorbar\":{\"outlinewidth\":0,\"ticks\":\"\"},\"colorscale\":[[0.0,\"#0d0887\"],[0.1111111111111111,\"#46039f\"],[0.2222222222222222,\"#7201a8\"],[0.3333333333333333,\"#9c179e\"],[0.4444444444444444,\"#bd3786\"],[0.5555555555555556,\"#d8576b\"],[0.6666666666666666,\"#ed7953\"],[0.7777777777777778,\"#fb9f3a\"],[0.8888888888888888,\"#fdca26\"],[1.0,\"#f0f921\"]],\"type\":\"heatmap\"}],\"heatmapgl\":[{\"colorbar\":{\"outlinewidth\":0,\"ticks\":\"\"},\"colorscale\":[[0.0,\"#0d0887\"],[0.1111111111111111,\"#46039f\"],[0.2222222222222222,\"#7201a8\"],[0.3333333333333333,\"#9c179e\"],[0.4444444444444444,\"#bd3786\"],[0.5555555555555556,\"#d8576b\"],[0.6666666666666666,\"#ed7953\"],[0.7777777777777778,\"#fb9f3a\"],[0.8888888888888888,\"#fdca26\"],[1.0,\"#f0f921\"]],\"type\":\"heatmapgl\"}],\"histogram\":[{\"marker\":{\"pattern\":{\"fillmode\":\"overlay\",\"size\":10,\"solidity\":0.2}},\"type\":\"histogram\"}],\"histogram2d\":[{\"colorbar\":{\"outlinewidth\":0,\"ticks\":\"\"},\"colorscale\":[[0.0,\"#0d0887\"],[0.1111111111111111,\"#46039f\"],[0.2222222222222222,\"#7201a8\"],[0.3333333333333333,\"#9c179e\"],[0.4444444444444444,\"#bd3786\"],[0.5555555555555556,\"#d8576b\"],[0.6666666666666666,\"#ed7953\"],[0.7777777777777778,\"#fb9f3a\"],[0.8888888888888888,\"#fdca26\"],[1.0,\"#f0f921\"]],\"type\":\"histogram2d\"}],\"histogram2dcontour\":[{\"colorbar\":{\"outlinewidth\":0,\"ticks\":\"\"},\"colorscale\":[[0.0,\"#0d0887\"],[0.1111111111111111,\"#46039f\"],[0.2222222222222222,\"#7201a8\"],[0.3333333333333333,\"#9c179e\"],[0.4444444444444444,\"#bd3786\"],[0.5555555555555556,\"#d8576b\"],[0.6666666666666666,\"#ed7953\"],[0.7777777777777778,\"#fb9f3a\"],[0.8888888888888888,\"#fdca26\"],[1.0,\"#f0f921\"]],\"type\":\"histogram2dcontour\"}],\"mesh3d\":[{\"colorbar\":{\"outlinewidth\":0,\"ticks\":\"\"},\"type\":\"mesh3d\"}],\"parcoords\":[{\"line\":{\"colorbar\":{\"outlinewidth\":0,\"ticks\":\"\"}},\"type\":\"parcoords\"}],\"pie\":[{\"automargin\":true,\"type\":\"pie\"}],\"scatter\":[{\"marker\":{\"colorbar\":{\"outlinewidth\":0,\"ticks\":\"\"}},\"type\":\"scatter\"}],\"scatter3d\":[{\"line\":{\"colorbar\":{\"outlinewidth\":0,\"ticks\":\"\"}},\"marker\":{\"colorbar\":{\"outlinewidth\":0,\"ticks\":\"\"}},\"type\":\"scatter3d\"}],\"scattercarpet\":[{\"marker\":{\"colorbar\":{\"outlinewidth\":0,\"ticks\":\"\"}},\"type\":\"scattercarpet\"}],\"scattergeo\":[{\"marker\":{\"colorbar\":{\"outlinewidth\":0,\"ticks\":\"\"}},\"type\":\"scattergeo\"}],\"scattergl\":[{\"marker\":{\"colorbar\":{\"outlinewidth\":0,\"ticks\":\"\"}},\"type\":\"scattergl\"}],\"scattermapbox\":[{\"marker\":{\"colorbar\":{\"outlinewidth\":0,\"ticks\":\"\"}},\"type\":\"scattermapbox\"}],\"scatterpolar\":[{\"marker\":{\"colorbar\":{\"outlinewidth\":0,\"ticks\":\"\"}},\"type\":\"scatterpolar\"}],\"scatterpolargl\":[{\"marker\":{\"colorbar\":{\"outlinewidth\":0,\"ticks\":\"\"}},\"type\":\"scatterpolargl\"}],\"scatterternary\":[{\"marker\":{\"colorbar\":{\"outlinewidth\":0,\"ticks\":\"\"}},\"type\":\"scatterternary\"}],\"surface\":[{\"colorbar\":{\"outlinewidth\":0,\"ticks\":\"\"},\"colorscale\":[[0.0,\"#0d0887\"],[0.1111111111111111,\"#46039f\"],[0.2222222222222222,\"#7201a8\"],[0.3333333333333333,\"#9c179e\"],[0.4444444444444444,\"#bd3786\"],[0.5555555555555556,\"#d8576b\"],[0.6666666666666666,\"#ed7953\"],[0.7777777777777778,\"#fb9f3a\"],[0.8888888888888888,\"#fdca26\"],[1.0,\"#f0f921\"]],\"type\":\"surface\"}],\"table\":[{\"cells\":{\"fill\":{\"color\":\"#EBF0F8\"},\"line\":{\"color\":\"white\"}},\"header\":{\"fill\":{\"color\":\"#C8D4E3\"},\"line\":{\"color\":\"white\"}},\"type\":\"table\"}]},\"layout\":{\"annotationdefaults\":{\"arrowcolor\":\"#2a3f5f\",\"arrowhead\":0,\"arrowwidth\":1},\"autotypenumbers\":\"strict\",\"coloraxis\":{\"colorbar\":{\"outlinewidth\":0,\"ticks\":\"\"}},\"colorscale\":{\"diverging\":[[0,\"#8e0152\"],[0.1,\"#c51b7d\"],[0.2,\"#de77ae\"],[0.3,\"#f1b6da\"],[0.4,\"#fde0ef\"],[0.5,\"#f7f7f7\"],[0.6,\"#e6f5d0\"],[0.7,\"#b8e186\"],[0.8,\"#7fbc41\"],[0.9,\"#4d9221\"],[1,\"#276419\"]],\"sequential\":[[0.0,\"#0d0887\"],[0.1111111111111111,\"#46039f\"],[0.2222222222222222,\"#7201a8\"],[0.3333333333333333,\"#9c179e\"],[0.4444444444444444,\"#bd3786\"],[0.5555555555555556,\"#d8576b\"],[0.6666666666666666,\"#ed7953\"],[0.7777777777777778,\"#fb9f3a\"],[0.8888888888888888,\"#fdca26\"],[1.0,\"#f0f921\"]],\"sequentialminus\":[[0.0,\"#0d0887\"],[0.1111111111111111,\"#46039f\"],[0.2222222222222222,\"#7201a8\"],[0.3333333333333333,\"#9c179e\"],[0.4444444444444444,\"#bd3786\"],[0.5555555555555556,\"#d8576b\"],[0.6666666666666666,\"#ed7953\"],[0.7777777777777778,\"#fb9f3a\"],[0.8888888888888888,\"#fdca26\"],[1.0,\"#f0f921\"]]},\"colorway\":[\"#636efa\",\"#EF553B\",\"#00cc96\",\"#ab63fa\",\"#FFA15A\",\"#19d3f3\",\"#FF6692\",\"#B6E880\",\"#FF97FF\",\"#FECB52\"],\"font\":{\"color\":\"#2a3f5f\"},\"geo\":{\"bgcolor\":\"white\",\"lakecolor\":\"white\",\"landcolor\":\"#E5ECF6\",\"showlakes\":true,\"showland\":true,\"subunitcolor\":\"white\"},\"hoverlabel\":{\"align\":\"left\"},\"hovermode\":\"closest\",\"mapbox\":{\"style\":\"light\"},\"paper_bgcolor\":\"white\",\"plot_bgcolor\":\"#E5ECF6\",\"polar\":{\"angularaxis\":{\"gridcolor\":\"white\",\"linecolor\":\"white\",\"ticks\":\"\"},\"bgcolor\":\"#E5ECF6\",\"radialaxis\":{\"gridcolor\":\"white\",\"linecolor\":\"white\",\"ticks\":\"\"}},\"scene\":{\"xaxis\":{\"backgroundcolor\":\"#E5ECF6\",\"gridcolor\":\"white\",\"gridwidth\":2,\"linecolor\":\"white\",\"showbackground\":true,\"ticks\":\"\",\"zerolinecolor\":\"white\"},\"yaxis\":{\"backgroundcolor\":\"#E5ECF6\",\"gridcolor\":\"white\",\"gridwidth\":2,\"linecolor\":\"white\",\"showbackground\":true,\"ticks\":\"\",\"zerolinecolor\":\"white\"},\"zaxis\":{\"backgroundcolor\":\"#E5ECF6\",\"gridcolor\":\"white\",\"gridwidth\":2,\"linecolor\":\"white\",\"showbackground\":true,\"ticks\":\"\",\"zerolinecolor\":\"white\"}},\"shapedefaults\":{\"line\":{\"color\":\"#2a3f5f\"}},\"ternary\":{\"aaxis\":{\"gridcolor\":\"white\",\"linecolor\":\"white\",\"ticks\":\"\"},\"baxis\":{\"gridcolor\":\"white\",\"linecolor\":\"white\",\"ticks\":\"\"},\"bgcolor\":\"#E5ECF6\",\"caxis\":{\"gridcolor\":\"white\",\"linecolor\":\"white\",\"ticks\":\"\"}},\"title\":{\"x\":0.05},\"xaxis\":{\"automargin\":true,\"gridcolor\":\"white\",\"linecolor\":\"white\",\"ticks\":\"\",\"title\":{\"standoff\":15},\"zerolinecolor\":\"white\",\"zerolinewidth\":2},\"yaxis\":{\"automargin\":true,\"gridcolor\":\"white\",\"linecolor\":\"white\",\"ticks\":\"\",\"title\":{\"standoff\":15},\"zerolinecolor\":\"white\",\"zerolinewidth\":2}}},\"title\":{\"text\":\"AlBERTo MC opt's confidence distribution for Sentipolc16 - false positives\"},\"xaxis\":{\"range\":[0.0,1.0],\"title\":{\"text\":\"confidence\"}},\"yaxis\":{\"title\":{\"text\":\"normalized count\"}}},                        {\"responsive\": true}                    ).then(function(){\n",
       "                            \n",
       "var gd = document.getElementById('c8a37403-9525-4c43-bba8-224df8be738e');\n",
       "var x = new MutationObserver(function (mutations, observer) {{\n",
       "        var display = window.getComputedStyle(gd).display;\n",
       "        if (!display || display === 'none') {{\n",
       "            console.log([gd, 'removed!']);\n",
       "            Plotly.purge(gd);\n",
       "            observer.disconnect();\n",
       "        }}\n",
       "}});\n",
       "\n",
       "// Listen for the removal of the full notebook cells\n",
       "var notebookContainer = gd.closest('#notebook-container');\n",
       "if (notebookContainer) {{\n",
       "    x.observe(notebookContainer, {childList: true});\n",
       "}}\n",
       "\n",
       "// Listen for the clearing of the current output cell\n",
       "var outputEl = gd.closest('.output');\n",
       "if (outputEl) {{\n",
       "    x.observe(outputEl, {childList: true});\n",
       "}}\n",
       "\n",
       "                        })                };                });            </script>        </div>"
      ]
     },
     "metadata": {},
     "output_type": "display_data"
    },
    {
     "data": {
      "image/png": "[encoded data removed]",
      "text/plain": [
       "<Figure size 432x288 with 2 Axes>"
      ]
     },
     "metadata": {
      "needs_background": "light"
     },
     "output_type": "display_data"
    }
   ],
   "source": [
    "print(\"\\n\\n AlBERTo MC opt\\n\\n\")\n",
    "eval_alberto(MyNetMCTuned, \"AlBERTo MC opt\", \"models/alberto_multiclass_tuned.pt\", dataset_sentipolc, \"Sentipolc16\", keep_neutrals=True, plot_confidence=True)"
   ]
  },
  {
   "cell_type": "markdown",
   "id": "90c608ef",
   "metadata": {},
   "source": [
    "### Feel-it model - SENTIPOLC16\n",
    "Note that it was trained just for positive/negative class, so the neutral class is taken for examples with low confidence in the prediction."
   ]
  },
  {
   "cell_type": "code",
   "execution_count": 20,
   "id": "f3738dca",
   "metadata": {
    "scrolled": true
   },
   "outputs": [
    {
     "data": {
      "application/vnd.jupyter.widget-view+json": {
       "model_id": "0d75a701d0d843d8a6d92dc140220246",
       "version_major": 2,
       "version_minor": 0
      },
      "text/plain": [
       "HBox(children=(FloatProgress(value=0.0, max=2.0), HTML(value='')))"
      ]
     },
     "metadata": {},
     "output_type": "display_data"
    },
    {
     "name": "stdout",
     "output_type": "stream",
     "text": [
      "\n"
     ]
    },
    {
     "data": {
      "application/vnd.jupyter.widget-view+json": {
       "model_id": "d678833d50394614bdba9b9fb3a97e0e",
       "version_major": 2,
       "version_minor": 0
      },
      "text/plain": [
       "HBox(children=(FloatProgress(value=0.0, max=2.0), HTML(value='')))"
      ]
     },
     "metadata": {},
     "output_type": "display_data"
    },
    {
     "name": "stdout",
     "output_type": "stream",
     "text": [
      "\n",
      "              precision    recall  f1-score   support\n",
      "\n",
      "    negative       0.60      0.89      0.72       734\n",
      "     neutral       0.33      0.00      0.00       914\n",
      "    positive       0.29      0.80      0.42       316\n",
      "\n",
      "    accuracy                           0.46      1964\n",
      "   macro avg       0.41      0.56      0.38      1964\n",
      "weighted avg       0.43      0.46      0.34      1964\n",
      "\n"
     ]
    },
    {
     "data": {
      "application/vnd.jupyter.widget-view+json": {
       "model_id": "d2097b104e174f879f3c4525761c8b27",
       "version_major": 2,
       "version_minor": 0
      },
      "text/plain": [
       "HBox(children=(FloatProgress(value=0.0, max=2.0), HTML(value='')))"
      ]
     },
     "metadata": {},
     "output_type": "display_data"
    },
    {
     "name": "stdout",
     "output_type": "stream",
     "text": [
      "\n"
     ]
    },
    {
     "data": {
      "application/vnd.jupyter.widget-view+json": {
       "model_id": "747f717e3d854ec586dc00e24e213178",
       "version_major": 2,
       "version_minor": 0
      },
      "text/plain": [
       "HBox(children=(FloatProgress(value=0.0, max=2.0), HTML(value='')))"
      ]
     },
     "metadata": {},
     "output_type": "display_data"
    },
    {
     "name": "stdout",
     "output_type": "stream",
     "text": [
      "\n"
     ]
    },
    {
     "data": {
      "application/vnd.jupyter.widget-view+json": {
       "model_id": "5956c530553040eb9aba56a1c5f3c560",
       "version_major": 2,
       "version_minor": 0
      },
      "text/plain": [
       "HBox(children=(FloatProgress(value=0.0, max=2.0), HTML(value='')))"
      ]
     },
     "metadata": {},
     "output_type": "display_data"
    },
    {
     "name": "stdout",
     "output_type": "stream",
     "text": [
      "\n",
      "              precision    recall  f1-score   support\n",
      "\n",
      "    negative       0.91      0.89      0.90       734\n",
      "    positive       0.76      0.80      0.78       316\n",
      "\n",
      "    accuracy                           0.86      1050\n",
      "   macro avg       0.83      0.85      0.84      1050\n",
      "weighted avg       0.87      0.86      0.86      1050\n",
      "\n"
     ]
    },
    {
     "data": {
      "image/png": "[encoded data removed]",
      "text/plain": [
       "<Figure size 432x288 with 2 Axes>"
      ]
     },
     "metadata": {
      "needs_background": "light"
     },
     "output_type": "display_data"
    },
    {
     "data": {
      "image/png": "[encoded data removed]",
      "text/plain": [
       "<Figure size 432x288 with 2 Axes>"
      ]
     },
     "metadata": {
      "needs_background": "light"
     },
     "output_type": "display_data"
    }
   ],
   "source": [
    "dataset = pd.DataFrame({\"text\": test_sentipolc.text.apply(a.preprocess), \"idx\": test_sentipolc.index, \"labels\": test_sentipolc[[\"opos\", \"oneg\"]].apply(separate2united_labels, axis=1)})\n",
    "eval_feelit_model(dataset, keep_neutrals=True, dataset_name=\"Sentipolc16\", plot_confidence=False)\n",
    "eval_feelit_model(dataset, keep_neutrals=False, dataset_name=\"Sentipolc16\", plot_confidence=False)"
   ]
  },
  {
   "cell_type": "markdown",
   "id": "25db4c73",
   "metadata": {},
   "source": [
    "# FEEL-IT dataset"
   ]
  },
  {
   "cell_type": "code",
   "execution_count": 22,
   "id": "3fe39d92",
   "metadata": {},
   "outputs": [
    {
     "name": "stdout",
     "output_type": "stream",
     "text": [
      "\n",
      "Average tweet lenght:  141.8939617083947\n"
     ]
    },
    {
     "data": {
      "text/html": [
       "<div>\n",
       "<style scoped>\n",
       "    .dataframe tbody tr th:only-of-type {\n",
       "        vertical-align: middle;\n",
       "    }\n",
       "\n",
       "    .dataframe tbody tr th {\n",
       "        vertical-align: top;\n",
       "    }\n",
       "\n",
       "    .dataframe thead th {\n",
       "        text-align: right;\n",
       "    }\n",
       "</style>\n",
       "<table border=\"1\" class=\"dataframe\">\n",
       "  <thead>\n",
       "    <tr style=\"text-align: right;\">\n",
       "      <th></th>\n",
       "      <th>text</th>\n",
       "      <th>label</th>\n",
       "    </tr>\n",
       "  </thead>\n",
       "  <tbody>\n",
       "    <tr>\n",
       "      <th>0</th>\n",
       "      <td>@USER Adoro questa canzone, è una delle mie pr...</td>\n",
       "      <td>joy</td>\n",
       "    </tr>\n",
       "    <tr>\n",
       "      <th>1</th>\n",
       "      <td>#MilanNovara È  arrivato il 3 gol del MILAN ❤🖤...</td>\n",
       "      <td>joy</td>\n",
       "    </tr>\n",
       "    <tr>\n",
       "      <th>2</th>\n",
       "      <td>stream icarus falls 🖤 zayn ha un talento ed è ...</td>\n",
       "      <td>sadness</td>\n",
       "    </tr>\n",
       "    <tr>\n",
       "      <th>3</th>\n",
       "      <td>Persona di indiscutibile cultura #Daverio avev...</td>\n",
       "      <td>sadness</td>\n",
       "    </tr>\n",
       "    <tr>\n",
       "      <th>4</th>\n",
       "      <td>Oggi la direttrice @USER ha spiegato che #COVI...</td>\n",
       "      <td>fear</td>\n",
       "    </tr>\n",
       "  </tbody>\n",
       "</table>\n",
       "</div>"
      ],
      "text/plain": [
       "                                                text    label\n",
       "0  @USER Adoro questa canzone, è una delle mie pr...      joy\n",
       "1  #MilanNovara È  arrivato il 3 gol del MILAN ❤🖤...      joy\n",
       "2  stream icarus falls 🖤 zayn ha un talento ed è ...  sadness\n",
       "3  Persona di indiscutibile cultura #Daverio avev...  sadness\n",
       "4  Oggi la direttrice @USER ha spiegato che #COVI...     fear"
      ]
     },
     "execution_count": 22,
     "metadata": {},
     "output_type": "execute_result"
    }
   ],
   "source": [
    "train_feel_it = pd.read_csv(PATH + \"Feel-it/feelit.tsv\", sep='\\t', header=0, names=[\"text\", \"label\"])\n",
    "print(\"\\nAverage tweet lenght: \", np.mean(train_feel_it[\"text\"].apply(len)))\n",
    "train_feel_it.head()"
   ]
  },
  {
   "cell_type": "code",
   "execution_count": 24,
   "id": "955f92ee",
   "metadata": {},
   "outputs": [],
   "source": [
    "def emotion2sentiment(row):\n",
    "    \"\"\"\n",
    "        Return a single scalar integer label associated to the emotion of the tweet.\n",
    "\n",
    "        joy -> 2\n",
    "        anger sadness fear  -> 0\n",
    "    \"\"\"\n",
    "    if row[\"label\"] == \"joy\":\n",
    "        return 2\n",
    "    elif row[\"label\"] == \"sadness\" or row[\"label\"] == \"fear\" or row[\"label\"] == \"anger\":\n",
    "        return 0\n",
    "    else:\n",
    "        raise ValueError('Value not recognized')\n",
    "\n",
    "#train set\n",
    "dataset_feel_it = pd.DataFrame({\"text\": train_feel_it.text.apply(a.preprocess), \"idx\": train_feel_it.index, \"labels\": train_feel_it[[\"label\"]].apply(emotion2sentiment, axis=1)})"
   ]
  },
  {
   "cell_type": "markdown",
   "id": "6061b17d",
   "metadata": {},
   "source": [
    "### AlBERTo pretrained - FEEL-IT\n",
    "Recall that FEEL_IT does not have neutral tweets, but AlBERTo was trained with such class"
   ]
  },
  {
   "cell_type": "code",
   "execution_count": 25,
   "id": "0845076e",
   "metadata": {
    "scrolled": true
   },
   "outputs": [
    {
     "name": "stdout",
     "output_type": "stream",
     "text": [
      "\n",
      "\n",
      " AlBERTo MC\n",
      "\n",
      "\n"
     ]
    },
    {
     "data": {
      "application/vnd.jupyter.widget-view+json": {
       "model_id": "a839d6f5a2fd4cf99ab43e8e00bf7206",
       "version_major": 2,
       "version_minor": 0
      },
      "text/plain": [
       "HBox(children=(FloatProgress(value=0.0, max=3.0), HTML(value='')))"
      ]
     },
     "metadata": {},
     "output_type": "display_data"
    },
    {
     "name": "stdout",
     "output_type": "stream",
     "text": [
      "\n"
     ]
    },
    {
     "data": {
      "application/vnd.jupyter.widget-view+json": {
       "model_id": "a548c0cf81b54da28929913f5035dc79",
       "version_major": 2,
       "version_minor": 0
      },
      "text/plain": [
       "HBox(children=(FloatProgress(value=0.0, max=3.0), HTML(value='')))"
      ]
     },
     "metadata": {},
     "output_type": "display_data"
    },
    {
     "name": "stdout",
     "output_type": "stream",
     "text": [
      "\n",
      "              precision    recall  f1-score   support\n",
      "\n",
      "    negative       0.95      0.83      0.89      1309\n",
      "     neutral       0.00      0.00      0.00         0\n",
      "    positive       0.83      0.82      0.83       728\n",
      "\n",
      "    accuracy                           0.83      2037\n",
      "   macro avg       0.59      0.55      0.57      2037\n",
      "weighted avg       0.91      0.83      0.87      2037\n",
      "\n"
     ]
    },
    {
     "name": "stderr",
     "output_type": "stream",
     "text": [
      "/home/steve/anaconda3/envs/nlu/lib/python3.7/site-packages/sklearn/metrics/_classification.py:1248: UndefinedMetricWarning:\n",
      "\n",
      "Recall and F-score are ill-defined and being set to 0.0 in labels with no true samples. Use `zero_division` parameter to control this behavior.\n",
      "\n",
      "/home/steve/anaconda3/envs/nlu/lib/python3.7/site-packages/sklearn/metrics/_classification.py:1248: UndefinedMetricWarning:\n",
      "\n",
      "Recall and F-score are ill-defined and being set to 0.0 in labels with no true samples. Use `zero_division` parameter to control this behavior.\n",
      "\n",
      "/home/steve/anaconda3/envs/nlu/lib/python3.7/site-packages/sklearn/metrics/_classification.py:1248: UndefinedMetricWarning:\n",
      "\n",
      "Recall and F-score are ill-defined and being set to 0.0 in labels with no true samples. Use `zero_division` parameter to control this behavior.\n",
      "\n"
     ]
    },
    {
     "data": {
      "image/png": "[encoded data removed]",
      "text/plain": [
       "<Figure size 432x288 with 2 Axes>"
      ]
     },
     "metadata": {
      "needs_background": "light"
     },
     "output_type": "display_data"
    }
   ],
   "source": [
    "print(\"\\n\\n AlBERTo MC\\n\\n\")\n",
    "eval_alberto(MyNetMC, \"AlBERTo MC\", \"models/alberto_multiclass.pt\", dataset_feel_it, \"Feel-it\", keep_neutrals=True, plot_confidence=False)"
   ]
  },
  {
   "cell_type": "markdown",
   "id": "8cb519f7",
   "metadata": {},
   "source": [
    "### AlBERTo opt - Feel-IT"
   ]
  },
  {
   "cell_type": "code",
   "execution_count": 17,
   "id": "3b6b3752",
   "metadata": {
    "scrolled": true
   },
   "outputs": [
    {
     "name": "stdout",
     "output_type": "stream",
     "text": [
      "\n",
      "\n",
      " AlBERTo MC opt\n",
      "\n",
      "\n"
     ]
    },
    {
     "data": {
      "application/vnd.jupyter.widget-view+json": {
       "model_id": "318e0aacb36e4fb7a4608bb7060ec14c",
       "version_major": 2,
       "version_minor": 0
      },
      "text/plain": [
       "HBox(children=(FloatProgress(value=0.0, max=3.0), HTML(value='')))"
      ]
     },
     "metadata": {},
     "output_type": "display_data"
    },
    {
     "name": "stdout",
     "output_type": "stream",
     "text": [
      "\n",
      "              precision    recall  f1-score   support\n",
      "\n",
      "    negative       0.94      0.84      0.88      1309\n",
      "     neutral       0.00      0.00      0.00         0\n",
      "    positive       0.82      0.84      0.83       728\n",
      "\n",
      "    accuracy                           0.84      2037\n",
      "   macro avg       0.59      0.56      0.57      2037\n",
      "weighted avg       0.90      0.84      0.86      2037\n",
      "\n"
     ]
    },
    {
     "name": "stderr",
     "output_type": "stream",
     "text": [
      "/home/steve/anaconda3/envs/nlu/lib/python3.7/site-packages/sklearn/metrics/_classification.py:1248: UndefinedMetricWarning: Recall and F-score are ill-defined and being set to 0.0 in labels with no true samples. Use `zero_division` parameter to control this behavior.\n",
      "  _warn_prf(average, modifier, msg_start, len(result))\n",
      "/home/steve/anaconda3/envs/nlu/lib/python3.7/site-packages/sklearn/metrics/_classification.py:1248: UndefinedMetricWarning: Recall and F-score are ill-defined and being set to 0.0 in labels with no true samples. Use `zero_division` parameter to control this behavior.\n",
      "  _warn_prf(average, modifier, msg_start, len(result))\n",
      "/home/steve/anaconda3/envs/nlu/lib/python3.7/site-packages/sklearn/metrics/_classification.py:1248: UndefinedMetricWarning: Recall and F-score are ill-defined and being set to 0.0 in labels with no true samples. Use `zero_division` parameter to control this behavior.\n",
      "  _warn_prf(average, modifier, msg_start, len(result))\n"
     ]
    },
    {
     "data": {
      "image/png": "[encoded data removed]",
      "text/plain": [
       "<Figure size 432x288 with 2 Axes>"
      ]
     },
     "metadata": {
      "needs_background": "light"
     },
     "output_type": "display_data"
    }
   ],
   "source": [
    "print(\"\\n\\n AlBERTo MC opt\\n\\n\")\n",
    "eval_alberto(MyNetMCTuned, \"AlBERTo MC opt\", \"models/alberto_multiclass_tuned.pt\", dataset_feel_it, \"Feel-it\", keep_neutrals=True, plot_confidence=False)"
   ]
  },
  {
   "cell_type": "markdown",
   "id": "39be6c68",
   "metadata": {},
   "source": [
    "### FEEL_IT model - FEEL_IT dataset"
   ]
  },
  {
   "cell_type": "code",
   "execution_count": 27,
   "id": "7b03e0e6",
   "metadata": {},
   "outputs": [
    {
     "data": {
      "application/vnd.jupyter.widget-view+json": {
       "model_id": "5ef212e884dc481794592c283aa16b6a",
       "version_major": 2,
       "version_minor": 0
      },
      "text/plain": [
       "HBox(children=(FloatProgress(value=0.0, max=3.0), HTML(value='')))"
      ]
     },
     "metadata": {},
     "output_type": "display_data"
    },
    {
     "name": "stdout",
     "output_type": "stream",
     "text": [
      "\n"
     ]
    },
    {
     "data": {
      "application/vnd.jupyter.widget-view+json": {
       "model_id": "f48d73329ed447ff82712c588381ccb2",
       "version_major": 2,
       "version_minor": 0
      },
      "text/plain": [
       "HBox(children=(FloatProgress(value=0.0, max=3.0), HTML(value='')))"
      ]
     },
     "metadata": {},
     "output_type": "display_data"
    },
    {
     "name": "stdout",
     "output_type": "stream",
     "text": [
      "\n"
     ]
    },
    {
     "data": {
      "application/vnd.jupyter.widget-view+json": {
       "model_id": "a982219e40f842f2848835cd7018f1f1",
       "version_major": 2,
       "version_minor": 0
      },
      "text/plain": [
       "HBox(children=(FloatProgress(value=0.0, max=3.0), HTML(value='')))"
      ]
     },
     "metadata": {},
     "output_type": "display_data"
    },
    {
     "name": "stdout",
     "output_type": "stream",
     "text": [
      "\n",
      "              precision    recall  f1-score   support\n",
      "\n",
      "    negative       0.99      0.99      0.99      1309\n",
      "    positive       0.97      0.99      0.98       728\n",
      "\n",
      "    accuracy                           0.99      2037\n",
      "   macro avg       0.98      0.99      0.99      2037\n",
      "weighted avg       0.99      0.99      0.99      2037\n",
      "\n"
     ]
    },
    {
     "data": {
      "image/png": "[encoded data removed]",
      "text/plain": [
       "<Figure size 432x288 with 2 Axes>"
      ]
     },
     "metadata": {
      "needs_background": "light"
     },
     "output_type": "display_data"
    }
   ],
   "source": [
    "dataset_feel_it = pd.DataFrame({\"text\": train_feel_it.text.apply(a.preprocess), \"idx\": train_feel_it.index, \"labels\": train_feel_it[[\"label\"]].apply(emotion2sentiment, axis=1)})\n",
    "eval_feelit_model(dataset_feel_it, keep_neutrals=False, dataset_name=\"Feel-IT\", plot_confidence=False)"
   ]
  },
  {
   "cell_type": "markdown",
   "id": "b1638963",
   "metadata": {
    "collapsed": true
   },
   "source": [
    "# Amazon reviews"
   ]
  },
  {
   "cell_type": "code",
   "execution_count": 17,
   "id": "32e31ba0",
   "metadata": {},
   "outputs": [],
   "source": [
    "##\n",
    "# To split the dataset, one split, read the directly the 2 files\n",
    "##\n",
    "\n",
    "# amazon = pd.read_json(PATH + \"Amazon-reviews/Amazon_reviews_computer_cloths_food_shoaps.json\")\n",
    "# X_train, X_test = train_test_split(amazon, test_size=0.3, random_state=42, stratify=amazon[\"rating\"])\n",
    "# X_train.to_json(PATH + \"Amazon-reviews/amazon_train.json\")\n",
    "# X_test.to_json(PATH + \"Amazon-reviews/amazon_test.json\")"
   ]
  },
  {
   "cell_type": "code",
   "execution_count": 55,
   "id": "8caf874f",
   "metadata": {},
   "outputs": [
    {
     "name": "stdout",
     "output_type": "stream",
     "text": [
      "Train:  820 [0.15       0.06585366 0.10731707 0.16707317 0.5097561 ]\n",
      "Test: 352 [0.14772727 0.06534091 0.10795455 0.16761364 0.51136364]\n",
      "\n",
      "Average review lenght Train:  462.36341463414635\n",
      "\n",
      "Average review lenght Test:  406.3011363636364\n"
     ]
    },
    {
     "data": {
      "text/html": [
       "<div>\n",
       "<style scoped>\n",
       "    .dataframe tbody tr th:only-of-type {\n",
       "        vertical-align: middle;\n",
       "    }\n",
       "\n",
       "    .dataframe tbody tr th {\n",
       "        vertical-align: top;\n",
       "    }\n",
       "\n",
       "    .dataframe thead th {\n",
       "        text-align: right;\n",
       "    }\n",
       "</style>\n",
       "<table border=\"1\" class=\"dataframe\">\n",
       "  <thead>\n",
       "    <tr style=\"text-align: right;\">\n",
       "      <th></th>\n",
       "      <th>title</th>\n",
       "      <th>text</th>\n",
       "      <th>rating</th>\n",
       "    </tr>\n",
       "  </thead>\n",
       "  <tbody>\n",
       "    <tr>\n",
       "      <th>136</th>\n",
       "      <td>Inutile.</td>\n",
       "      <td>Inutile.: Purtroppo non funziona</td>\n",
       "      <td>1</td>\n",
       "    </tr>\n",
       "    <tr>\n",
       "      <th>707</th>\n",
       "      <td>Soddisfatta</td>\n",
       "      <td>Soddisfatta: Spedizione veloce, arrivata in an...</td>\n",
       "      <td>5</td>\n",
       "    </tr>\n",
       "    <tr>\n",
       "      <th>233</th>\n",
       "      <td>Si è fuso subito</td>\n",
       "      <td>Si è fuso subito: bello, ha tutto, mandrino au...</td>\n",
       "      <td>3</td>\n",
       "    </tr>\n",
       "    <tr>\n",
       "      <th>272</th>\n",
       "      <td>Mi ha cambiato la vita</td>\n",
       "      <td>Mi ha cambiato la vita: Sono un artista CGI e ...</td>\n",
       "      <td>5</td>\n",
       "    </tr>\n",
       "    <tr>\n",
       "      <th>1013</th>\n",
       "      <td>Non funzionante</td>\n",
       "      <td>Non funzionante: L'unica funzione che ha è que...</td>\n",
       "      <td>1</td>\n",
       "    </tr>\n",
       "  </tbody>\n",
       "</table>\n",
       "</div>"
      ],
      "text/plain": [
       "                       title  \\\n",
       "136                 Inutile.   \n",
       "707              Soddisfatta   \n",
       "233         Si è fuso subito   \n",
       "272   Mi ha cambiato la vita   \n",
       "1013         Non funzionante   \n",
       "\n",
       "                                                   text  rating  \n",
       "136                    Inutile.: Purtroppo non funziona       1  \n",
       "707   Soddisfatta: Spedizione veloce, arrivata in an...       5  \n",
       "233   Si è fuso subito: bello, ha tutto, mandrino au...       3  \n",
       "272   Mi ha cambiato la vita: Sono un artista CGI e ...       5  \n",
       "1013  Non funzionante: L'unica funzione che ha è que...       1  "
      ]
     },
     "execution_count": 55,
     "metadata": {},
     "output_type": "execute_result"
    }
   ],
   "source": [
    "amazon_train = pd.read_json(PATH + \"Amazon-reviews/amazon_train.json\")\n",
    "amazon_test = pd.read_json(PATH + \"Amazon-reviews/amazon_test.json\")\n",
    "\n",
    "amazon_train[\"text\"] = amazon_train[\"title\"] + \": \" +  amazon_train[\"text\"]\n",
    "amazon_test[\"text\"] = amazon_test[\"title\"] + \": \" +  amazon_test[\"text\"]\n",
    "\n",
    "print(\"Train: \", len(amazon_train) , np.unique(amazon_train.rating, return_counts=True)[1]/len(amazon_train))\n",
    "print(\"Test:\", len(amazon_test) , np.unique(amazon_test.rating, return_counts=True)[1]/len(amazon_test))\n",
    "\n",
    "print(\"\\nAverage review lenght Train: \", np.mean(amazon_train[\"text\"].apply(len)))\n",
    "print(\"\\nAverage review lenght Test: \", np.mean(amazon_test[\"text\"].apply(len)))\n",
    "\n",
    "amazon_test.head()"
   ]
  },
  {
   "cell_type": "code",
   "execution_count": 56,
   "id": "bdfe26e8",
   "metadata": {},
   "outputs": [],
   "source": [
    "def rating2sentiment(row):\n",
    "    \"\"\"\n",
    "        Returns the polarity depending on the rating of the review\n",
    "    \"\"\"\n",
    "    if row[\"rating\"] == 3:\n",
    "        return 1\n",
    "    elif row[\"rating\"] > 3:\n",
    "        return 2\n",
    "    elif row[\"rating\"] < 3:\n",
    "        return 0\n",
    "    \n",
    "#tok = AutoTokenizer.from_pretrained(\"m-polignano-uniba/bert_uncased_L-12_H-768_A-12_italian_alb3rt0\")\n",
    "#tok.model_max_length = 400\n",
    "\n",
    "dataset_amazon_train = pd.DataFrame({\"text\": amazon_train.text.apply(a.preprocess), \"idx\": amazon_train.index, \"labels\": amazon_train[[\"rating\"]].apply(rating2sentiment, axis=1)}) \n",
    "dataset_amazon_test = pd.DataFrame({\"text\": amazon_test.text.apply(a.preprocess), \"idx\": amazon_test.index, \"labels\": amazon_test[[\"rating\"]].apply(rating2sentiment, axis=1)}) "
   ]
  },
  {
   "cell_type": "code",
   "execution_count": 57,
   "id": "1a3368ab",
   "metadata": {},
   "outputs": [
    {
     "data": {
      "text/html": [
       "<div>\n",
       "<style scoped>\n",
       "    .dataframe tbody tr th:only-of-type {\n",
       "        vertical-align: middle;\n",
       "    }\n",
       "\n",
       "    .dataframe tbody tr th {\n",
       "        vertical-align: top;\n",
       "    }\n",
       "\n",
       "    .dataframe thead th {\n",
       "        text-align: right;\n",
       "    }\n",
       "</style>\n",
       "<table border=\"1\" class=\"dataframe\">\n",
       "  <thead>\n",
       "    <tr style=\"text-align: right;\">\n",
       "      <th></th>\n",
       "      <th>text</th>\n",
       "      <th>idx</th>\n",
       "      <th>labels</th>\n",
       "    </tr>\n",
       "  </thead>\n",
       "  <tbody>\n",
       "    <tr>\n",
       "      <th>136</th>\n",
       "      <td>inutile purtroppo non funziona</td>\n",
       "      <td>136</td>\n",
       "      <td>0</td>\n",
       "    </tr>\n",
       "    <tr>\n",
       "      <th>707</th>\n",
       "      <td>soddisfatta spedizione veloce arrivata in anti...</td>\n",
       "      <td>707</td>\n",
       "      <td>2</td>\n",
       "    </tr>\n",
       "    <tr>\n",
       "      <th>233</th>\n",
       "      <td>si è fuso subito bello ha tutto mandrino autos...</td>\n",
       "      <td>233</td>\n",
       "      <td>1</td>\n",
       "    </tr>\n",
       "    <tr>\n",
       "      <th>272</th>\n",
       "      <td>mi ha cambiato la vita sono un artista cgi e l...</td>\n",
       "      <td>272</td>\n",
       "      <td>2</td>\n",
       "    </tr>\n",
       "    <tr>\n",
       "      <th>1013</th>\n",
       "      <td>non funzionante l unica funzione che ha è quel...</td>\n",
       "      <td>1013</td>\n",
       "      <td>0</td>\n",
       "    </tr>\n",
       "  </tbody>\n",
       "</table>\n",
       "</div>"
      ],
      "text/plain": [
       "                                                   text   idx  labels\n",
       "136                      inutile purtroppo non funziona   136       0\n",
       "707   soddisfatta spedizione veloce arrivata in anti...   707       2\n",
       "233   si è fuso subito bello ha tutto mandrino autos...   233       1\n",
       "272   mi ha cambiato la vita sono un artista cgi e l...   272       2\n",
       "1013  non funzionante l unica funzione che ha è quel...  1013       0"
      ]
     },
     "execution_count": 57,
     "metadata": {},
     "output_type": "execute_result"
    }
   ],
   "source": [
    "dataset_amazon_test.head()"
   ]
  },
  {
   "cell_type": "markdown",
   "id": "3f301b5c",
   "metadata": {},
   "source": [
    "### AlBERTo MC/opt - Amazon reviews"
   ]
  },
  {
   "cell_type": "code",
   "execution_count": 30,
   "id": "1d8cf7de",
   "metadata": {
    "scrolled": true
   },
   "outputs": [
    {
     "name": "stdout",
     "output_type": "stream",
     "text": [
      "\n",
      "\n",
      " AlBERTo MC\n",
      "\n",
      "\n"
     ]
    },
    {
     "data": {
      "application/vnd.jupyter.widget-view+json": {
       "model_id": "c8ee418c8155473487c572b79f86a539",
       "version_major": 2,
       "version_minor": 0
      },
      "text/plain": [
       "HBox(children=(FloatProgress(value=0.0, max=1.0), HTML(value='')))"
      ]
     },
     "metadata": {},
     "output_type": "display_data"
    },
    {
     "name": "stdout",
     "output_type": "stream",
     "text": [
      "\n"
     ]
    },
    {
     "data": {
      "application/vnd.jupyter.widget-view+json": {
       "model_id": "641c2bc55a38460ca71571f3749cab7b",
       "version_major": 2,
       "version_minor": 0
      },
      "text/plain": [
       "HBox(children=(FloatProgress(value=0.0, max=1.0), HTML(value='')))"
      ]
     },
     "metadata": {},
     "output_type": "display_data"
    },
    {
     "name": "stdout",
     "output_type": "stream",
     "text": [
      "\n",
      "              precision    recall  f1-score   support\n",
      "\n",
      "    negative       0.39      0.75      0.51        75\n",
      "     neutral       0.08      0.11      0.09        38\n",
      "    positive       0.90      0.60      0.72       239\n",
      "\n",
      "    accuracy                           0.58       352\n",
      "   macro avg       0.46      0.48      0.44       352\n",
      "weighted avg       0.70      0.58      0.61       352\n",
      "\n",
      "\n",
      "\n",
      " AlBERTo MC opt\n",
      "\n",
      "\n"
     ]
    },
    {
     "data": {
      "application/vnd.jupyter.widget-view+json": {
       "model_id": "21909eed42b54db9b8139f2275d95544",
       "version_major": 2,
       "version_minor": 0
      },
      "text/plain": [
       "HBox(children=(FloatProgress(value=0.0, max=1.0), HTML(value='')))"
      ]
     },
     "metadata": {},
     "output_type": "display_data"
    },
    {
     "name": "stdout",
     "output_type": "stream",
     "text": [
      "\n"
     ]
    },
    {
     "data": {
      "application/vnd.jupyter.widget-view+json": {
       "model_id": "14c940365104473c82193428614d5626",
       "version_major": 2,
       "version_minor": 0
      },
      "text/plain": [
       "HBox(children=(FloatProgress(value=0.0, max=1.0), HTML(value='')))"
      ]
     },
     "metadata": {},
     "output_type": "display_data"
    },
    {
     "name": "stdout",
     "output_type": "stream",
     "text": [
      "\n",
      "              precision    recall  f1-score   support\n",
      "\n",
      "    negative       0.38      0.79      0.51        75\n",
      "     neutral       0.17      0.11      0.13        38\n",
      "    positive       0.90      0.65      0.75       239\n",
      "\n",
      "    accuracy                           0.62       352\n",
      "   macro avg       0.48      0.51      0.46       352\n",
      "weighted avg       0.71      0.62      0.63       352\n",
      "\n",
      "\n",
      "\n",
      " AlBERTo MC no neutrals\n",
      "\n",
      "\n"
     ]
    },
    {
     "data": {
      "application/vnd.jupyter.widget-view+json": {
       "model_id": "bbd70c9a0fce4a0f98fa7429cd5d8f2b",
       "version_major": 2,
       "version_minor": 0
      },
      "text/plain": [
       "HBox(children=(FloatProgress(value=0.0, max=1.0), HTML(value='')))"
      ]
     },
     "metadata": {},
     "output_type": "display_data"
    },
    {
     "name": "stdout",
     "output_type": "stream",
     "text": [
      "\n"
     ]
    },
    {
     "data": {
      "application/vnd.jupyter.widget-view+json": {
       "model_id": "49f45e7653c349df9b1d1cd902fa325e",
       "version_major": 2,
       "version_minor": 0
      },
      "text/plain": [
       "HBox(children=(FloatProgress(value=0.0, max=1.0), HTML(value='')))"
      ]
     },
     "metadata": {},
     "output_type": "display_data"
    },
    {
     "name": "stdout",
     "output_type": "stream",
     "text": [
      "\n"
     ]
    },
    {
     "data": {
      "application/vnd.jupyter.widget-view+json": {
       "model_id": "ee0614beef594e279b2b02b391dc6339",
       "version_major": 2,
       "version_minor": 0
      },
      "text/plain": [
       "HBox(children=(FloatProgress(value=0.0, max=1.0), HTML(value='')))"
      ]
     },
     "metadata": {},
     "output_type": "display_data"
    },
    {
     "name": "stdout",
     "output_type": "stream",
     "text": [
      "\n",
      "              precision    recall  f1-score   support\n",
      "\n",
      "    negative       0.46      0.75      0.57        75\n",
      "    positive       0.90      0.72      0.80       239\n",
      "\n",
      "    accuracy                           0.73       314\n",
      "   macro avg       0.68      0.74      0.69       314\n",
      "weighted avg       0.80      0.73      0.75       314\n",
      "\n",
      "\n",
      "\n",
      " AlBERTo MC opt no neutrals\n",
      "\n",
      "\n"
     ]
    },
    {
     "data": {
      "application/vnd.jupyter.widget-view+json": {
       "model_id": "3aa80b33789d4d6eaff9534dbb4164c6",
       "version_major": 2,
       "version_minor": 0
      },
      "text/plain": [
       "HBox(children=(FloatProgress(value=0.0, max=1.0), HTML(value='')))"
      ]
     },
     "metadata": {},
     "output_type": "display_data"
    },
    {
     "name": "stdout",
     "output_type": "stream",
     "text": [
      "\n"
     ]
    },
    {
     "data": {
      "application/vnd.jupyter.widget-view+json": {
       "model_id": "35ee51715e174930b190bf10fdbeca0d",
       "version_major": 2,
       "version_minor": 0
      },
      "text/plain": [
       "HBox(children=(FloatProgress(value=0.0, max=1.0), HTML(value='')))"
      ]
     },
     "metadata": {},
     "output_type": "display_data"
    },
    {
     "name": "stdout",
     "output_type": "stream",
     "text": [
      "\n"
     ]
    },
    {
     "data": {
      "application/vnd.jupyter.widget-view+json": {
       "model_id": "29a9162d6b3e4a87a55c47eb0a346a22",
       "version_major": 2,
       "version_minor": 0
      },
      "text/plain": [
       "HBox(children=(FloatProgress(value=0.0, max=1.0), HTML(value='')))"
      ]
     },
     "metadata": {},
     "output_type": "display_data"
    },
    {
     "name": "stdout",
     "output_type": "stream",
     "text": [
      "\n",
      "              precision    recall  f1-score   support\n",
      "\n",
      "    negative       0.44      0.79      0.56        75\n",
      "    positive       0.91      0.69      0.78       239\n",
      "\n",
      "    accuracy                           0.71       314\n",
      "   macro avg       0.68      0.74      0.67       314\n",
      "weighted avg       0.80      0.71      0.73       314\n",
      "\n"
     ]
    },
    {
     "data": {
      "image/png": "[encoded data removed]",
      "text/plain": [
       "<Figure size 432x288 with 2 Axes>"
      ]
     },
     "metadata": {
      "needs_background": "light"
     },
     "output_type": "display_data"
    },
    {
     "data": {
      "image/png": "[encoded data removed]",
      "text/plain": [
       "<Figure size 432x288 with 2 Axes>"
      ]
     },
     "metadata": {
      "needs_background": "light"
     },
     "output_type": "display_data"
    },
    {
     "data": {
      "image/png": "[encoded data removed]",
      "text/plain": [
       "<Figure size 432x288 with 2 Axes>"
      ]
     },
     "metadata": {
      "needs_background": "light"
     },
     "output_type": "display_data"
    },
    {
     "data": {
      "image/png": "[encoded data removed]",
      "text/plain": [
       "<Figure size 432x288 with 2 Axes>"
      ]
     },
     "metadata": {
      "needs_background": "light"
     },
     "output_type": "display_data"
    }
   ],
   "source": [
    "print(\"\\n\\n AlBERTo MC\\n\\n\")\n",
    "eval_alberto(MyNetMC, \"AlBERTo MC\", \"models/alberto_multiclass.pt\", dataset_amazon_test, \"Amazon reviews\", keep_neutrals=True, plot_confidence=False)\n",
    "print(\"\\n\\n AlBERTo MC opt\\n\\n\")\n",
    "eval_alberto(MyNetMCTuned, \"AlBERTo MC opt\", \"models/alberto_multiclass_tuned.pt\", dataset_amazon_test, \"Amazon reviews\", keep_neutrals=True, plot_confidence=False)\n",
    "print(\"\\n\\n AlBERTo MC no neutrals\\n\\n\")\n",
    "eval_alberto(MyNetMC, \"AlBERTo MC\", \"models/alberto_multiclass.pt\", dataset_amazon_test, \"Amazon reviews\", keep_neutrals=False, plot_confidence=False)\n",
    "print(\"\\n\\n AlBERTo MC opt no neutrals\\n\\n\")\n",
    "eval_alberto(MyNetMCTuned, \"AlBERTo MC opt\", \"models/alberto_multiclass_tuned.pt\", dataset_amazon_test, \"Amazon reviews\", keep_neutrals=False, plot_confidence=False)"
   ]
  },
  {
   "cell_type": "markdown",
   "id": "3df037aa",
   "metadata": {},
   "source": [
    "### AlBERTo MC/opt fine tuned - Amazon reviews"
   ]
  },
  {
   "cell_type": "code",
   "execution_count": 61,
   "id": "dd853bdb",
   "metadata": {},
   "outputs": [
    {
     "name": "stdout",
     "output_type": "stream",
     "text": [
      "\n",
      "\n",
      " AlBERTo MC fine-tuned\n",
      "\n",
      "\n"
     ]
    },
    {
     "data": {
      "application/vnd.jupyter.widget-view+json": {
       "model_id": "c34699c1e6c24b6093ea52ed0755eca6",
       "version_major": 2,
       "version_minor": 0
      },
      "text/plain": [
       "HBox(children=(FloatProgress(value=0.0, max=1.0), HTML(value='')))"
      ]
     },
     "metadata": {},
     "output_type": "display_data"
    },
    {
     "name": "stdout",
     "output_type": "stream",
     "text": [
      "\n"
     ]
    },
    {
     "data": {
      "application/vnd.jupyter.widget-view+json": {
       "model_id": "625091511f304f8c8904888127274935",
       "version_major": 2,
       "version_minor": 0
      },
      "text/plain": [
       "HBox(children=(FloatProgress(value=0.0, max=1.0), HTML(value='')))"
      ]
     },
     "metadata": {},
     "output_type": "display_data"
    },
    {
     "name": "stdout",
     "output_type": "stream",
     "text": [
      "\n"
     ]
    },
    {
     "data": {
      "application/vnd.jupyter.widget-view+json": {
       "model_id": "ffa3e1c1ccfc464d875ed8c97c6369e8",
       "version_major": 2,
       "version_minor": 0
      },
      "text/plain": [
       "HBox(children=(FloatProgress(value=0.0, max=1.0), HTML(value='')))"
      ]
     },
     "metadata": {},
     "output_type": "display_data"
    },
    {
     "name": "stdout",
     "output_type": "stream",
     "text": [
      "\n"
     ]
    },
    {
     "data": {
      "application/vnd.jupyter.widget-view+json": {
       "model_id": "c380e07410084cc7823039ab0c251346",
       "version_major": 2,
       "version_minor": 0
      },
      "text/plain": [
       "HBox(children=(FloatProgress(value=0.0, max=1.0), HTML(value='')))"
      ]
     },
     "metadata": {},
     "output_type": "display_data"
    },
    {
     "name": "stdout",
     "output_type": "stream",
     "text": [
      "\n",
      "              precision    recall  f1-score   support\n",
      "\n",
      "    negative       0.77      0.73      0.75        75\n",
      "     neutral       0.25      0.05      0.09        38\n",
      "    positive       0.85      0.97      0.91       239\n",
      "\n",
      "    accuracy                           0.82       352\n",
      "   macro avg       0.62      0.59      0.58       352\n",
      "weighted avg       0.77      0.82      0.79       352\n",
      "\n",
      "\n",
      "\n",
      " AlBERTo MC opt fine-tuned\n",
      "\n",
      "\n"
     ]
    },
    {
     "data": {
      "application/vnd.jupyter.widget-view+json": {
       "model_id": "9b22cb2621c6414f844811f91643a647",
       "version_major": 2,
       "version_minor": 0
      },
      "text/plain": [
       "HBox(children=(FloatProgress(value=0.0, max=1.0), HTML(value='')))"
      ]
     },
     "metadata": {},
     "output_type": "display_data"
    },
    {
     "name": "stdout",
     "output_type": "stream",
     "text": [
      "\n"
     ]
    },
    {
     "data": {
      "application/vnd.jupyter.widget-view+json": {
       "model_id": "bc133f0f99da43f6be1fe3d0d2e90959",
       "version_major": 2,
       "version_minor": 0
      },
      "text/plain": [
       "HBox(children=(FloatProgress(value=0.0, max=1.0), HTML(value='')))"
      ]
     },
     "metadata": {},
     "output_type": "display_data"
    },
    {
     "name": "stdout",
     "output_type": "stream",
     "text": [
      "\n"
     ]
    },
    {
     "data": {
      "application/vnd.jupyter.widget-view+json": {
       "model_id": "f20f9a6b90c04f32add7d436f2eed56e",
       "version_major": 2,
       "version_minor": 0
      },
      "text/plain": [
       "HBox(children=(FloatProgress(value=0.0, max=1.0), HTML(value='')))"
      ]
     },
     "metadata": {},
     "output_type": "display_data"
    },
    {
     "name": "stdout",
     "output_type": "stream",
     "text": [
      "\n"
     ]
    },
    {
     "data": {
      "application/vnd.jupyter.widget-view+json": {
       "model_id": "cd1f6628de4247eab37aa7bfe33129de",
       "version_major": 2,
       "version_minor": 0
      },
      "text/plain": [
       "HBox(children=(FloatProgress(value=0.0, max=1.0), HTML(value='')))"
      ]
     },
     "metadata": {},
     "output_type": "display_data"
    },
    {
     "name": "stdout",
     "output_type": "stream",
     "text": [
      "\n",
      "              precision    recall  f1-score   support\n",
      "\n",
      "    negative       0.71      0.53      0.61        75\n",
      "     neutral       0.00      0.00      0.00        38\n",
      "    positive       0.79      0.97      0.87       239\n",
      "\n",
      "    accuracy                           0.77       352\n",
      "   macro avg       0.50      0.50      0.49       352\n",
      "weighted avg       0.69      0.77      0.72       352\n",
      "\n",
      "\n",
      "\n",
      " AlBERTo MC fine-tuned no neutrals\n",
      "\n",
      "\n"
     ]
    },
    {
     "data": {
      "application/vnd.jupyter.widget-view+json": {
       "model_id": "c1ff342d1c9f4a4595df1f07875d4133",
       "version_major": 2,
       "version_minor": 0
      },
      "text/plain": [
       "HBox(children=(FloatProgress(value=0.0, max=1.0), HTML(value='')))"
      ]
     },
     "metadata": {},
     "output_type": "display_data"
    },
    {
     "name": "stdout",
     "output_type": "stream",
     "text": [
      "\n"
     ]
    },
    {
     "data": {
      "application/vnd.jupyter.widget-view+json": {
       "model_id": "5ee8e3f0c0d2420cb3efc9cb8f59c22e",
       "version_major": 2,
       "version_minor": 0
      },
      "text/plain": [
       "HBox(children=(FloatProgress(value=0.0, max=1.0), HTML(value='')))"
      ]
     },
     "metadata": {},
     "output_type": "display_data"
    },
    {
     "name": "stdout",
     "output_type": "stream",
     "text": [
      "\n"
     ]
    },
    {
     "data": {
      "application/vnd.jupyter.widget-view+json": {
       "model_id": "207d961304604c059c2aae48ba6bbb04",
       "version_major": 2,
       "version_minor": 0
      },
      "text/plain": [
       "HBox(children=(FloatProgress(value=0.0, max=1.0), HTML(value='')))"
      ]
     },
     "metadata": {},
     "output_type": "display_data"
    },
    {
     "name": "stdout",
     "output_type": "stream",
     "text": [
      "\n"
     ]
    },
    {
     "data": {
      "application/vnd.jupyter.widget-view+json": {
       "model_id": "12e6be624e0646dbabef87ff488d3257",
       "version_major": 2,
       "version_minor": 0
      },
      "text/plain": [
       "HBox(children=(FloatProgress(value=0.0, max=1.0), HTML(value='')))"
      ]
     },
     "metadata": {},
     "output_type": "display_data"
    },
    {
     "name": "stdout",
     "output_type": "stream",
     "text": [
      "\n"
     ]
    },
    {
     "data": {
      "application/vnd.jupyter.widget-view+json": {
       "model_id": "7739cfe381c2420293c20a89445e8f8f",
       "version_major": 2,
       "version_minor": 0
      },
      "text/plain": [
       "HBox(children=(FloatProgress(value=0.0, max=1.0), HTML(value='')))"
      ]
     },
     "metadata": {},
     "output_type": "display_data"
    },
    {
     "name": "stdout",
     "output_type": "stream",
     "text": [
      "\n"
     ]
    },
    {
     "data": {
      "application/vnd.jupyter.widget-view+json": {
       "model_id": "8ceec7dcdc014eeda6298d599a0ed8e1",
       "version_major": 2,
       "version_minor": 0
      },
      "text/plain": [
       "HBox(children=(FloatProgress(value=0.0, max=1.0), HTML(value='')))"
      ]
     },
     "metadata": {},
     "output_type": "display_data"
    },
    {
     "name": "stdout",
     "output_type": "stream",
     "text": [
      "\n",
      "              precision    recall  f1-score   support\n",
      "\n",
      "    negative       0.86      0.84      0.85        75\n",
      "    positive       0.95      0.96      0.95       239\n",
      "\n",
      "    accuracy                           0.93       314\n",
      "   macro avg       0.91      0.90      0.90       314\n",
      "weighted avg       0.93      0.93      0.93       314\n",
      "\n",
      "\n",
      "\n",
      " AlBERTo MC opt fine-tuned no neutrals\n",
      "\n",
      "\n"
     ]
    },
    {
     "data": {
      "application/vnd.jupyter.widget-view+json": {
       "model_id": "3208e2737f5f48c99417dd095484c8a0",
       "version_major": 2,
       "version_minor": 0
      },
      "text/plain": [
       "HBox(children=(FloatProgress(value=0.0, max=1.0), HTML(value='')))"
      ]
     },
     "metadata": {},
     "output_type": "display_data"
    },
    {
     "name": "stdout",
     "output_type": "stream",
     "text": [
      "\n"
     ]
    },
    {
     "data": {
      "application/vnd.jupyter.widget-view+json": {
       "model_id": "57e63ee7d8374c9ea0f8a1cfe21e5913",
       "version_major": 2,
       "version_minor": 0
      },
      "text/plain": [
       "HBox(children=(FloatProgress(value=0.0, max=1.0), HTML(value='')))"
      ]
     },
     "metadata": {},
     "output_type": "display_data"
    },
    {
     "name": "stdout",
     "output_type": "stream",
     "text": [
      "\n"
     ]
    },
    {
     "data": {
      "application/vnd.jupyter.widget-view+json": {
       "model_id": "c1641bca4e8143b4b7ea5bf08fe0aab7",
       "version_major": 2,
       "version_minor": 0
      },
      "text/plain": [
       "HBox(children=(FloatProgress(value=0.0, max=1.0), HTML(value='')))"
      ]
     },
     "metadata": {},
     "output_type": "display_data"
    },
    {
     "name": "stdout",
     "output_type": "stream",
     "text": [
      "\n"
     ]
    },
    {
     "data": {
      "application/vnd.jupyter.widget-view+json": {
       "model_id": "a964064ce31249ada946742791d1e386",
       "version_major": 2,
       "version_minor": 0
      },
      "text/plain": [
       "HBox(children=(FloatProgress(value=0.0, max=1.0), HTML(value='')))"
      ]
     },
     "metadata": {},
     "output_type": "display_data"
    },
    {
     "name": "stdout",
     "output_type": "stream",
     "text": [
      "\n"
     ]
    },
    {
     "data": {
      "application/vnd.jupyter.widget-view+json": {
       "model_id": "1ef78cf19ba048d8abf9687890035b08",
       "version_major": 2,
       "version_minor": 0
      },
      "text/plain": [
       "HBox(children=(FloatProgress(value=0.0, max=1.0), HTML(value='')))"
      ]
     },
     "metadata": {},
     "output_type": "display_data"
    },
    {
     "name": "stdout",
     "output_type": "stream",
     "text": [
      "\n"
     ]
    },
    {
     "data": {
      "application/vnd.jupyter.widget-view+json": {
       "model_id": "c62480ef8f3c4cc59cedf127f8237e4f",
       "version_major": 2,
       "version_minor": 0
      },
      "text/plain": [
       "HBox(children=(FloatProgress(value=0.0, max=1.0), HTML(value='')))"
      ]
     },
     "metadata": {},
     "output_type": "display_data"
    },
    {
     "name": "stdout",
     "output_type": "stream",
     "text": [
      "\n",
      "              precision    recall  f1-score   support\n",
      "\n",
      "    negative       0.84      0.55      0.66        75\n",
      "    positive       0.87      0.97      0.92       239\n",
      "\n",
      "    accuracy                           0.87       314\n",
      "   macro avg       0.85      0.76      0.79       314\n",
      "weighted avg       0.86      0.87      0.86       314\n",
      "\n"
     ]
    },
    {
     "data": {
      "image/png": "[encoded data removed]",
      "text/plain": [
       "<Figure size 432x288 with 2 Axes>"
      ]
     },
     "metadata": {
      "needs_background": "light"
     },
     "output_type": "display_data"
    },
    {
     "data": {
      "image/png": "[encoded data removed]",
      "text/plain": [
       "<Figure size 432x288 with 2 Axes>"
      ]
     },
     "metadata": {
      "needs_background": "light"
     },
     "output_type": "display_data"
    },
    {
     "data": {
      "image/png": "[encoded data removed]",
      "text/plain": [
       "<Figure size 432x288 with 2 Axes>"
      ]
     },
     "metadata": {
      "needs_background": "light"
     },
     "output_type": "display_data"
    },
    {
     "data": {
      "image/png": "[encoded data removed]",
      "text/plain": [
       "<Figure size 432x288 with 2 Axes>"
      ]
     },
     "metadata": {
      "needs_background": "light"
     },
     "output_type": "display_data"
    }
   ],
   "source": [
    "print(\"\\n\\n AlBERTo MC fine-tuned\\n\\n\")\n",
    "eval_alberto(MyNetMC, \n",
    "             \"AlBERTo MC\", \n",
    "             \"models/alberto_multiclass.pt\", \n",
    "             dataset_amazon_test, \n",
    "             \"MultiEmotions-IT\", \n",
    "             keep_neutrals=True, \n",
    "             plot_confidence=False, \n",
    "             fine_tuning=True, \n",
    "             dataset_train=dataset_amazon_train,\n",
    "             logging=False,\n",
    "             model_type=\"MC\"\n",
    "            )\n",
    "\n",
    "print(\"\\n\\n AlBERTo MC opt fine-tuned\\n\\n\")\n",
    "eval_alberto(MyNetMCTuned, \n",
    "             \"AlBERTo MC opt\", \n",
    "             \"models/alberto_multiclass_tuned.pt\", \n",
    "             dataset_amazon_test, \n",
    "             \"MultiEmotions-IT\", \n",
    "             keep_neutrals=True, \n",
    "             plot_confidence=False, \n",
    "             fine_tuning=True, \n",
    "             dataset_train=dataset_amazon_train,\n",
    "             logging=False,\n",
    "             model_type=\"opt\"\n",
    "            )\n",
    "\n",
    "print(\"\\n\\n AlBERTo MC fine-tuned no neutrals\\n\\n\")\n",
    "eval_alberto(MyNetMC, \n",
    "             \"AlBERTo MC\", \n",
    "             \"models/alberto_multiclass.pt\", \n",
    "             dataset_amazon_test, \n",
    "             \"MultiEmotions-IT\", \n",
    "             keep_neutrals=False, \n",
    "             plot_confidence=False, \n",
    "             fine_tuning=True, \n",
    "             dataset_train=dataset_amazon_train,\n",
    "             logging=False,\n",
    "             model_type=\"MC\"\n",
    "            )\n",
    "\n",
    "print(\"\\n\\n AlBERTo MC opt fine-tuned no neutrals\\n\\n\")\n",
    "eval_alberto(MyNetMCTuned, \n",
    "             \"AlBERTo MC opt\", \n",
    "             \"models/alberto_multiclass_tuned.pt\", \n",
    "             dataset_amazon_test, \n",
    "             \"MultiEmotions-IT\", \n",
    "             keep_neutrals=False, \n",
    "             plot_confidence=False, \n",
    "             fine_tuning=True, \n",
    "             dataset_train=dataset_amazon_train,\n",
    "             logging=False,\n",
    "             model_type=\"opt\"\n",
    "            )"
   ]
  },
  {
   "cell_type": "markdown",
   "id": "5b0a90f5",
   "metadata": {},
   "source": [
    "### AlBERTo opt - Amazon reviews with stop words removal"
   ]
  },
  {
   "cell_type": "code",
   "execution_count": 11,
   "id": "f996292e",
   "metadata": {
    "scrolled": true
   },
   "outputs": [
    {
     "name": "stderr",
     "output_type": "stream",
     "text": [
      "[nltk_data] Downloading package stopwords to /home/steve/nltk_data...\n",
      "[nltk_data]   Package stopwords is already up-to-date!\n"
     ]
    },
    {
     "name": "stdout",
     "output_type": "stream",
     "text": [
      "\n",
      "\n",
      " AlBERTo MC opt no stop words\n",
      "\n",
      "\n"
     ]
    },
    {
     "data": {
      "application/vnd.jupyter.widget-view+json": {
       "model_id": "f6d10ac231e44fbfab1405967f633b44",
       "version_major": 2,
       "version_minor": 0
      },
      "text/plain": [
       "HBox(children=(FloatProgress(value=0.0, max=1.0), HTML(value='')))"
      ]
     },
     "metadata": {},
     "output_type": "display_data"
    },
    {
     "name": "stdout",
     "output_type": "stream",
     "text": [
      "\n",
      "              precision    recall  f1-score   support\n",
      "\n",
      "    negative       0.34      0.67      0.45        75\n",
      "     neutral       0.11      0.16      0.13        38\n",
      "    positive       0.87      0.55      0.67       239\n",
      "\n",
      "    accuracy                           0.53       352\n",
      "   macro avg       0.44      0.46      0.42       352\n",
      "weighted avg       0.68      0.53      0.57       352\n",
      "\n"
     ]
    },
    {
     "data": {
      "image/png": "[encoded data removed]",
      "text/plain": [
       "<Figure size 432x288 with 2 Axes>"
      ]
     },
     "metadata": {
      "needs_background": "light"
     },
     "output_type": "display_data"
    }
   ],
   "source": [
    "import nltk\n",
    "nltk.download('stopwords')\n",
    "from nltk.corpus import stopwords\n",
    "\n",
    "class AlBERTo_Preprocessing_Stop_words(object):\n",
    "    def __init__(self, do_lower_case=True, **kwargs):\n",
    "        self.do_lower_case = do_lower_case\n",
    "        self.stop_words = set(stopwords.words('italian'))\n",
    "\n",
    "    def preprocess(self, text):\n",
    "        if self.do_lower_case:\n",
    "            text = text.lower()\n",
    "        text = text_processor.pre_process_doc(text)\n",
    "        filtered_text = [w for w in text if not w in self.stop_words]\n",
    "        text = str(\" \".join(filtered_text))\n",
    "        text = re.sub(r'[^a-zA-ZÀ-ú</>!?♥♡\\s\\U00010000-\\U0010ffff]', ' ', text)\n",
    "        text = re.sub(r'\\s+', ' ', text)\n",
    "        text = re.sub(r'(\\w)\\1{2,}', r'\\1\\1', text)\n",
    "        text = re.sub(r'^\\s', '', text)\n",
    "        text = re.sub(r'\\s$', '', text)\n",
    "        return text\n",
    "\n",
    "b = AlBERTo_Preprocessing_Stop_words(do_lower_case=True)\n",
    "\n",
    "dataset_amazon = pd.DataFrame({\"text\": amazon_test.text.apply(b.preprocess), \"idx\": amazon_test.index, \"labels\": amazon_test[[\"rating\"]].apply(rating2sentiment, axis=1)})\n",
    "print(\"\\n\\n AlBERTo MC opt no stop words\\n\\n\")\n",
    "eval_alberto(MyNetMCTuned, \"AlBERTo MC opt no stop words\", \"models/alberto_multiclass_tuned.pt\", dataset_amazon, \"Amazon reviews\", keep_neutrals=True, plot_confidence=False)"
   ]
  },
  {
   "cell_type": "markdown",
   "id": "1b45ebf5",
   "metadata": {},
   "source": [
    "### Feel-it - Amazon reviews"
   ]
  },
  {
   "cell_type": "code",
   "execution_count": 31,
   "id": "cf7b8bfe",
   "metadata": {
    "scrolled": true
   },
   "outputs": [
    {
     "data": {
      "application/vnd.jupyter.widget-view+json": {
       "model_id": "56f462d9e0fa4cd980480b1f8925f5c5",
       "version_major": 2,
       "version_minor": 0
      },
      "text/plain": [
       "HBox(children=(FloatProgress(value=0.0, max=1.0), HTML(value='')))"
      ]
     },
     "metadata": {},
     "output_type": "display_data"
    },
    {
     "name": "stdout",
     "output_type": "stream",
     "text": [
      "\n"
     ]
    },
    {
     "data": {
      "application/vnd.jupyter.widget-view+json": {
       "model_id": "3f4f195848064976bda05521e5c63a5c",
       "version_major": 2,
       "version_minor": 0
      },
      "text/plain": [
       "HBox(children=(FloatProgress(value=0.0, max=1.0), HTML(value='')))"
      ]
     },
     "metadata": {},
     "output_type": "display_data"
    },
    {
     "name": "stdout",
     "output_type": "stream",
     "text": [
      "\n"
     ]
    },
    {
     "data": {
      "application/vnd.jupyter.widget-view+json": {
       "model_id": "f8ab5aab83fb4dff92fa5a383ecb25aa",
       "version_major": 2,
       "version_minor": 0
      },
      "text/plain": [
       "HBox(children=(FloatProgress(value=0.0, max=1.0), HTML(value='')))"
      ]
     },
     "metadata": {},
     "output_type": "display_data"
    },
    {
     "name": "stdout",
     "output_type": "stream",
     "text": [
      "\n",
      "              precision    recall  f1-score   support\n",
      "\n",
      "    negative       0.63      0.88      0.74        75\n",
      "    positive       0.96      0.84      0.90       239\n",
      "\n",
      "    accuracy                           0.85       314\n",
      "   macro avg       0.80      0.86      0.82       314\n",
      "weighted avg       0.88      0.85      0.86       314\n",
      "\n"
     ]
    },
    {
     "data": {
      "application/vnd.jupyter.widget-view+json": {
       "model_id": "f97fdd8eb3564508b7f398ff8974556d",
       "version_major": 2,
       "version_minor": 0
      },
      "text/plain": [
       "HBox(children=(FloatProgress(value=0.0, max=1.0), HTML(value='')))"
      ]
     },
     "metadata": {},
     "output_type": "display_data"
    },
    {
     "name": "stdout",
     "output_type": "stream",
     "text": [
      "\n"
     ]
    },
    {
     "data": {
      "application/vnd.jupyter.widget-view+json": {
       "model_id": "36ebb2550d4d44eebad95de2ff31d066",
       "version_major": 2,
       "version_minor": 0
      },
      "text/plain": [
       "HBox(children=(FloatProgress(value=0.0, max=1.0), HTML(value='')))"
      ]
     },
     "metadata": {},
     "output_type": "display_data"
    },
    {
     "name": "stdout",
     "output_type": "stream",
     "text": [
      "\n",
      "              precision    recall  f1-score   support\n",
      "\n",
      "    negative       0.49      0.88      0.63        75\n",
      "     neutral       0.00      0.00      0.00        38\n",
      "    positive       0.92      0.84      0.88       239\n",
      "\n",
      "    accuracy                           0.76       352\n",
      "   macro avg       0.47      0.57      0.50       352\n",
      "weighted avg       0.73      0.76      0.73       352\n",
      "\n"
     ]
    },
    {
     "data": {
      "image/png": "[encoded data removed]",
      "text/plain": [
       "<Figure size 432x288 with 2 Axes>"
      ]
     },
     "metadata": {
      "needs_background": "light"
     },
     "output_type": "display_data"
    },
    {
     "data": {
      "image/png": "[encoded data removed]",
      "text/plain": [
       "<Figure size 432x288 with 2 Axes>"
      ]
     },
     "metadata": {
      "needs_background": "light"
     },
     "output_type": "display_data"
    }
   ],
   "source": [
    "dataset = pd.DataFrame({\"text\": amazon_test.text.apply(a.preprocess), \"idx\": amazon_test.index, \"labels\": amazon_test[[\"rating\"]].apply(rating2sentiment, axis=1)})\n",
    "\n",
    "eval_feelit_model(dataset, keep_neutrals=False, dataset_name=\"Amazon reviews\", plot_confidence=False)\n",
    "eval_feelit_model(dataset, keep_neutrals=True, dataset_name=\"Amazon reviews\", plot_confidence=False)"
   ]
  },
  {
   "cell_type": "markdown",
   "id": "56824c06",
   "metadata": {},
   "source": [
    "# MultiEmotions-it"
   ]
  },
  {
   "cell_type": "code",
   "execution_count": 39,
   "id": "7ca9395e",
   "metadata": {},
   "outputs": [],
   "source": [
    "def separate2united_labels(row):\n",
    "    \"\"\"\n",
    "        Return a single scalar integer label associated to the polarity of the tweet.\n",
    "\n",
    "        Negative -> 0\n",
    "        Neutral  -> 1\n",
    "        Positive -> 2\n",
    "        Mixed/UNRELATED    -> 3\n",
    "    \"\"\"\n",
    "    if row[\"POS\"] == 0 and row[\"NEG\"] == 0 and row[\"NEUT\"] == 1:\n",
    "        return 1\n",
    "    elif row[\"NEG\"] == 0 and row[\"POS\"] == 1:\n",
    "        return 2\n",
    "    elif row[\"NEG\"] == 1 and row[\"POS\"] == 0:\n",
    "        return 0\n",
    "    else:\n",
    "        return 3\n",
    "\n",
    "##\n",
    "# To split the dataset, one split, read the directly the 2 files\n",
    "##\n",
    "# me_train = pd.read_csv(PATH + \"Multiemotions-it/Multiemotions-it.tsv\", sep='\\t')\n",
    "# me_train[\"labels\"] = me_train[[\"POS\", \"NEG\", \"NEUT\"]].apply(separate2united_labels, axis=1)\n",
    "\n",
    "# X_train, X_test = train_test_split(me_train, test_size=0.15, random_state=42, stratify=me_train[\"labels\"])\n",
    "# X_train.to_csv(PATH + \"Multiemotions-it/Multiemotions-it_train.tsv\", sep='\\t', index=False)\n",
    "# X_test.to_csv(PATH + \"Multiemotions-it/Multiemotions-it_test.tsv\", sep='\\t', index=False)"
   ]
  },
  {
   "cell_type": "code",
   "execution_count": 33,
   "id": "35dc8297",
   "metadata": {},
   "outputs": [
    {
     "name": "stdout",
     "output_type": "stream",
     "text": [
      "Train:  2754 [0.23710966 0.09114016 0.59150327 0.08024691]\n",
      "Test: 486 [0.23662551 0.09053498 0.59259259 0.08024691]\n",
      "\n",
      "Average comment lenght Train:  108.01234567901234\n",
      "\n",
      "Average comment lenght Test:  106.6604938271605\n"
     ]
    },
    {
     "data": {
      "text/html": [
       "<div>\n",
       "<style scoped>\n",
       "    .dataframe tbody tr th:only-of-type {\n",
       "        vertical-align: middle;\n",
       "    }\n",
       "\n",
       "    .dataframe tbody tr th {\n",
       "        vertical-align: top;\n",
       "    }\n",
       "\n",
       "    .dataframe thead th {\n",
       "        text-align: right;\n",
       "    }\n",
       "</style>\n",
       "<table border=\"1\" class=\"dataframe\">\n",
       "  <thead>\n",
       "    <tr style=\"text-align: right;\">\n",
       "      <th></th>\n",
       "      <th>labels</th>\n",
       "      <th>text</th>\n",
       "    </tr>\n",
       "  </thead>\n",
       "  <tbody>\n",
       "    <tr>\n",
       "      <th>0</th>\n",
       "      <td>2</td>\n",
       "      <td>Sei bella ❤️❤️</td>\n",
       "    </tr>\n",
       "    <tr>\n",
       "      <th>1</th>\n",
       "      <td>2</td>\n",
       "      <td>Chi ama Riki metta like, lo amooo❤️❤️</td>\n",
       "    </tr>\n",
       "    <tr>\n",
       "      <th>2</th>\n",
       "      <td>2</td>\n",
       "      <td>Questo e un modo bellissimo per \"Celebrare\" se...</td>\n",
       "    </tr>\n",
       "    <tr>\n",
       "      <th>3</th>\n",
       "      <td>1</td>\n",
       "      <td>Come si può avere la musica di sottofondo? Non...</td>\n",
       "    </tr>\n",
       "    <tr>\n",
       "      <th>4</th>\n",
       "      <td>0</td>\n",
       "      <td>In questi commenti mancano un po' di insulti c...</td>\n",
       "    </tr>\n",
       "  </tbody>\n",
       "</table>\n",
       "</div>"
      ],
      "text/plain": [
       "   labels                                               text\n",
       "0       2                                     Sei bella ❤️❤️\n",
       "1       2              Chi ama Riki metta like, lo amooo❤️❤️\n",
       "2       2  Questo e un modo bellissimo per \"Celebrare\" se...\n",
       "3       1  Come si può avere la musica di sottofondo? Non...\n",
       "4       0  In questi commenti mancano un po' di insulti c..."
      ]
     },
     "execution_count": 33,
     "metadata": {},
     "output_type": "execute_result"
    }
   ],
   "source": [
    "me_train = pd.read_csv(PATH + \"Multiemotions-it/Multiemotions-it_train.tsv\", sep='\\t')\n",
    "me_test = pd.read_csv(PATH + \"Multiemotions-it/Multiemotions-it_test.tsv\", sep='\\t')\n",
    "\n",
    "me_train[\"text\"] = me_train[\"comment\"] \n",
    "me_test[\"text\"] = me_test[\"comment\"]\n",
    "\n",
    "me_train.drop(['type', 'title', 'URL', 'comment', 'UNRELATED', 'NEUT', 'POS', 'NEG',\n",
    "               'GIOIA', 'FIDUCIA', 'TRISTEZZA', 'RABBIA', 'PAURA', 'DISGUSTO',\n",
    "               'SORPRESA', 'TREPIDAZIONE', 'SARCASM', 'EMOTIONS',], axis=1, inplace=True)\n",
    "me_test.drop(['type', 'title', 'URL', 'comment', 'UNRELATED', 'NEUT', 'POS', 'NEG',\n",
    "               'GIOIA', 'FIDUCIA', 'TRISTEZZA', 'RABBIA', 'PAURA', 'DISGUSTO',\n",
    "               'SORPRESA', 'TREPIDAZIONE', 'SARCASM', 'EMOTIONS',], axis=1, inplace=True)\n",
    "\n",
    "print(\"Train: \", len(me_train) , np.unique(me_train.labels, return_counts=True)[1]/len(me_train))\n",
    "print(\"Test:\", len(me_test) , np.unique(me_test.labels, return_counts=True)[1]/len(me_test))\n",
    "\n",
    "print(\"\\nAverage comment lenght Train: \", np.mean(me_train[\"text\"].apply(len)))\n",
    "print(\"\\nAverage comment lenght Test: \", np.mean(me_test[\"text\"].apply(len)))\n",
    "\n",
    "me_test.head()"
   ]
  },
  {
   "cell_type": "code",
   "execution_count": 39,
   "id": "eadc27d1",
   "metadata": {},
   "outputs": [],
   "source": [
    "dataset_me_train = pd.DataFrame({\"text\": me_train.text.apply(a.preprocess), \"idx\": me_train.index, \"labels\": me_train[\"labels\"].tolist()}) \n",
    "dataset_me_test = pd.DataFrame({\"text\": me_test.text.apply(a.preprocess), \"idx\": me_test.index, \"labels\": me_test[\"labels\"].tolist()}) "
   ]
  },
  {
   "cell_type": "code",
   "execution_count": 35,
   "id": "fe44cd18",
   "metadata": {},
   "outputs": [
    {
     "data": {
      "text/html": [
       "<div>\n",
       "<style scoped>\n",
       "    .dataframe tbody tr th:only-of-type {\n",
       "        vertical-align: middle;\n",
       "    }\n",
       "\n",
       "    .dataframe tbody tr th {\n",
       "        vertical-align: top;\n",
       "    }\n",
       "\n",
       "    .dataframe thead th {\n",
       "        text-align: right;\n",
       "    }\n",
       "</style>\n",
       "<table border=\"1\" class=\"dataframe\">\n",
       "  <thead>\n",
       "    <tr style=\"text-align: right;\">\n",
       "      <th></th>\n",
       "      <th>text</th>\n",
       "      <th>idx</th>\n",
       "      <th>labels</th>\n",
       "    </tr>\n",
       "  </thead>\n",
       "  <tbody>\n",
       "    <tr>\n",
       "      <th>0</th>\n",
       "      <td>sei bella</td>\n",
       "      <td>0</td>\n",
       "      <td>2</td>\n",
       "    </tr>\n",
       "    <tr>\n",
       "      <th>1</th>\n",
       "      <td>chi ama riki metta like lo amoo</td>\n",
       "      <td>1</td>\n",
       "      <td>2</td>\n",
       "    </tr>\n",
       "    <tr>\n",
       "      <th>2</th>\n",
       "      <td>questo e un modo bellissimo per celebrare senz...</td>\n",
       "      <td>2</td>\n",
       "      <td>2</td>\n",
       "    </tr>\n",
       "    <tr>\n",
       "      <th>3</th>\n",
       "      <td>come si può avere la musica di sottofondo ? no...</td>\n",
       "      <td>3</td>\n",
       "      <td>1</td>\n",
       "    </tr>\n",
       "    <tr>\n",
       "      <th>4</th>\n",
       "      <td>in questi commenti mancano un po di insulti cr...</td>\n",
       "      <td>4</td>\n",
       "      <td>0</td>\n",
       "    </tr>\n",
       "  </tbody>\n",
       "</table>\n",
       "</div>"
      ],
      "text/plain": [
       "                                                text  idx  labels\n",
       "0                                          sei bella    0       2\n",
       "1                    chi ama riki metta like lo amoo    1       2\n",
       "2  questo e un modo bellissimo per celebrare senz...    2       2\n",
       "3  come si può avere la musica di sottofondo ? no...    3       1\n",
       "4  in questi commenti mancano un po di insulti cr...    4       0"
      ]
     },
     "execution_count": 35,
     "metadata": {},
     "output_type": "execute_result"
    }
   ],
   "source": [
    "dataset_me_test.head()"
   ]
  },
  {
   "cell_type": "markdown",
   "id": "2e5c08b2",
   "metadata": {},
   "source": [
    "### AlBERTo MC/opt - MultiEmotions-IT"
   ]
  },
  {
   "cell_type": "code",
   "execution_count": 36,
   "id": "3b0aa4c1",
   "metadata": {
    "scrolled": true
   },
   "outputs": [
    {
     "name": "stdout",
     "output_type": "stream",
     "text": [
      "\n",
      "\n",
      " AlBERTo MC\n",
      "\n",
      "\n"
     ]
    },
    {
     "data": {
      "application/vnd.jupyter.widget-view+json": {
       "model_id": "095f9f0f700248939e3a634992ad3b63",
       "version_major": 2,
       "version_minor": 0
      },
      "text/plain": [
       "HBox(children=(FloatProgress(value=0.0, max=1.0), HTML(value='')))"
      ]
     },
     "metadata": {},
     "output_type": "display_data"
    },
    {
     "name": "stdout",
     "output_type": "stream",
     "text": [
      "\n"
     ]
    },
    {
     "data": {
      "application/vnd.jupyter.widget-view+json": {
       "model_id": "fb69ed84f784472e86154d74888b9b86",
       "version_major": 2,
       "version_minor": 0
      },
      "text/plain": [
       "HBox(children=(FloatProgress(value=0.0, max=1.0), HTML(value='')))"
      ]
     },
     "metadata": {},
     "output_type": "display_data"
    },
    {
     "name": "stdout",
     "output_type": "stream",
     "text": [
      "\n",
      "              precision    recall  f1-score   support\n",
      "\n",
      "    negative       0.59      0.71      0.64       115\n",
      "     neutral       0.39      0.64      0.48        44\n",
      "    positive       0.96      0.78      0.86       288\n",
      "\n",
      "    accuracy                           0.75       447\n",
      "   macro avg       0.64      0.71      0.66       447\n",
      "weighted avg       0.81      0.75      0.77       447\n",
      "\n",
      "\n",
      "\n",
      " AlBERTo MC opt\n",
      "\n",
      "\n"
     ]
    },
    {
     "data": {
      "application/vnd.jupyter.widget-view+json": {
       "model_id": "aaf73ab2a13441aa8a723e919d3f00d6",
       "version_major": 2,
       "version_minor": 0
      },
      "text/plain": [
       "HBox(children=(FloatProgress(value=0.0, max=1.0), HTML(value='')))"
      ]
     },
     "metadata": {},
     "output_type": "display_data"
    },
    {
     "name": "stdout",
     "output_type": "stream",
     "text": [
      "\n"
     ]
    },
    {
     "data": {
      "application/vnd.jupyter.widget-view+json": {
       "model_id": "c766d8989b6f4c4e831766f3fab5a203",
       "version_major": 2,
       "version_minor": 0
      },
      "text/plain": [
       "HBox(children=(FloatProgress(value=0.0, max=1.0), HTML(value='')))"
      ]
     },
     "metadata": {},
     "output_type": "display_data"
    },
    {
     "name": "stdout",
     "output_type": "stream",
     "text": [
      "\n",
      "              precision    recall  f1-score   support\n",
      "\n",
      "    negative       0.56      0.67      0.61       115\n",
      "     neutral       0.35      0.57      0.43        44\n",
      "    positive       0.93      0.77      0.84       288\n",
      "\n",
      "    accuracy                           0.72       447\n",
      "   macro avg       0.61      0.67      0.63       447\n",
      "weighted avg       0.78      0.72      0.74       447\n",
      "\n"
     ]
    },
    {
     "data": {
      "image/png": "[encoded data removed]",
      "text/plain": [
       "<Figure size 432x288 with 2 Axes>"
      ]
     },
     "metadata": {
      "needs_background": "light"
     },
     "output_type": "display_data"
    },
    {
     "data": {
      "image/png": "[encoded data removed]",
      "text/plain": [
       "<Figure size 432x288 with 2 Axes>"
      ]
     },
     "metadata": {
      "needs_background": "light"
     },
     "output_type": "display_data"
    }
   ],
   "source": [
    "print(\"\\n\\n AlBERTo MC\\n\\n\")\n",
    "eval_alberto(MyNetMC, \"AlBERTo MC\", \"models/alberto_multiclass.pt\", dataset_me_test, \"MultiEmotions-IT\", keep_neutrals=True, plot_confidence=False)\n",
    "print(\"\\n\\n AlBERTo MC opt\\n\\n\")\n",
    "eval_alberto(MyNetMCTuned, \"AlBERTo MC opt\", \"models/alberto_multiclass_tuned.pt\", dataset_me_test, \"MultiEmotions-IT\", keep_neutrals=True, plot_confidence=False)"
   ]
  },
  {
   "cell_type": "markdown",
   "id": "10ec5fb6",
   "metadata": {},
   "source": [
    "### AlBERTo MC/opt fine-tuned - MultiEmotions-IT"
   ]
  },
  {
   "cell_type": "code",
   "execution_count": 54,
   "id": "67eecde4",
   "metadata": {
    "scrolled": true
   },
   "outputs": [
    {
     "name": "stdout",
     "output_type": "stream",
     "text": [
      "\n",
      "\n",
      " AlBERTo MC fine tuned\n",
      "\n",
      "\n"
     ]
    },
    {
     "data": {
      "application/vnd.jupyter.widget-view+json": {
       "model_id": "d818a5522be747029822c5f7c24e3032",
       "version_major": 2,
       "version_minor": 0
      },
      "text/plain": [
       "HBox(children=(FloatProgress(value=0.0, max=1.0), HTML(value='')))"
      ]
     },
     "metadata": {},
     "output_type": "display_data"
    },
    {
     "name": "stdout",
     "output_type": "stream",
     "text": [
      "\n"
     ]
    },
    {
     "data": {
      "application/vnd.jupyter.widget-view+json": {
       "model_id": "ecf295db9c654b4698b7620a0558c282",
       "version_major": 2,
       "version_minor": 0
      },
      "text/plain": [
       "HBox(children=(FloatProgress(value=0.0, max=1.0), HTML(value='')))"
      ]
     },
     "metadata": {},
     "output_type": "display_data"
    },
    {
     "name": "stdout",
     "output_type": "stream",
     "text": [
      "\n"
     ]
    },
    {
     "data": {
      "application/vnd.jupyter.widget-view+json": {
       "model_id": "d48d63b0f49942cfb2852252a589859d",
       "version_major": 2,
       "version_minor": 0
      },
      "text/plain": [
       "HBox(children=(FloatProgress(value=0.0, max=3.0), HTML(value='')))"
      ]
     },
     "metadata": {},
     "output_type": "display_data"
    },
    {
     "name": "stdout",
     "output_type": "stream",
     "text": [
      "\n"
     ]
    },
    {
     "data": {
      "application/vnd.jupyter.widget-view+json": {
       "model_id": "d1d1804b27094787af673489fb2c75e8",
       "version_major": 2,
       "version_minor": 0
      },
      "text/plain": [
       "HBox(children=(FloatProgress(value=0.0, max=3.0), HTML(value='')))"
      ]
     },
     "metadata": {},
     "output_type": "display_data"
    },
    {
     "name": "stdout",
     "output_type": "stream",
     "text": [
      "\n",
      "              precision    recall  f1-score   support\n",
      "\n",
      "    negative       0.78      0.81      0.79       115\n",
      "     neutral       0.63      0.55      0.59        44\n",
      "    positive       0.92      0.93      0.93       288\n",
      "\n",
      "    accuracy                           0.86       447\n",
      "   macro avg       0.78      0.76      0.77       447\n",
      "weighted avg       0.86      0.86      0.86       447\n",
      "\n",
      "\n",
      "\n",
      " AlBERTo MC opt fine tuned\n",
      "\n",
      "\n"
     ]
    },
    {
     "data": {
      "application/vnd.jupyter.widget-view+json": {
       "model_id": "83e431cd33df4d219c4cd4e26b7d2efb",
       "version_major": 2,
       "version_minor": 0
      },
      "text/plain": [
       "HBox(children=(FloatProgress(value=0.0, max=1.0), HTML(value='')))"
      ]
     },
     "metadata": {},
     "output_type": "display_data"
    },
    {
     "name": "stdout",
     "output_type": "stream",
     "text": [
      "\n"
     ]
    },
    {
     "data": {
      "application/vnd.jupyter.widget-view+json": {
       "model_id": "f85b815de25b4770ba4a3a6a96903756",
       "version_major": 2,
       "version_minor": 0
      },
      "text/plain": [
       "HBox(children=(FloatProgress(value=0.0, max=1.0), HTML(value='')))"
      ]
     },
     "metadata": {},
     "output_type": "display_data"
    },
    {
     "name": "stdout",
     "output_type": "stream",
     "text": [
      "\n"
     ]
    },
    {
     "data": {
      "application/vnd.jupyter.widget-view+json": {
       "model_id": "189db522109a4467a76fa0bb8941c4ee",
       "version_major": 2,
       "version_minor": 0
      },
      "text/plain": [
       "HBox(children=(FloatProgress(value=0.0, max=3.0), HTML(value='')))"
      ]
     },
     "metadata": {},
     "output_type": "display_data"
    },
    {
     "name": "stdout",
     "output_type": "stream",
     "text": [
      "\n"
     ]
    },
    {
     "data": {
      "application/vnd.jupyter.widget-view+json": {
       "model_id": "bbba4af2e0584d7693346cf91671c7c5",
       "version_major": 2,
       "version_minor": 0
      },
      "text/plain": [
       "HBox(children=(FloatProgress(value=0.0, max=3.0), HTML(value='')))"
      ]
     },
     "metadata": {},
     "output_type": "display_data"
    },
    {
     "name": "stdout",
     "output_type": "stream",
     "text": [
      "\n",
      "              precision    recall  f1-score   support\n",
      "\n",
      "    negative       0.73      0.80      0.76       115\n",
      "     neutral       0.70      0.43      0.54        44\n",
      "    positive       0.89      0.91      0.90       288\n",
      "\n",
      "    accuracy                           0.84       447\n",
      "   macro avg       0.78      0.72      0.73       447\n",
      "weighted avg       0.83      0.84      0.83       447\n",
      "\n"
     ]
    },
    {
     "data": {
      "image/png": "[encoded data removed]",
      "text/plain": [
       "<Figure size 432x288 with 2 Axes>"
      ]
     },
     "metadata": {
      "needs_background": "light"
     },
     "output_type": "display_data"
    },
    {
     "data": {
      "image/png": "[encoded data removed]",
      "text/plain": [
       "<Figure size 432x288 with 2 Axes>"
      ]
     },
     "metadata": {
      "needs_background": "light"
     },
     "output_type": "display_data"
    }
   ],
   "source": [
    "print(\"\\n\\n AlBERTo MC fine tuned\\n\\n\")\n",
    "eval_alberto(MyNetMC, \n",
    "             \"AlBERTo MC\", \n",
    "             \"models/alberto_multiclass.pt\", \n",
    "             dataset_me_test, \n",
    "             \"MultiEmotions-IT\", \n",
    "             keep_neutrals=True, \n",
    "             plot_confidence=False, \n",
    "             fine_tuning=True, \n",
    "             dataset_train=dataset_me_train,\n",
    "             logging=False,\n",
    "             model_type=\"MC\"\n",
    "            )\n",
    "print(\"\\n\\n AlBERTo MC opt fine tuned\\n\\n\")\n",
    "eval_alberto(MyNetMCTuned, \n",
    "             \"AlBERTo MC opt\", \n",
    "             \"models/alberto_multiclass_tuned.pt\", \n",
    "             dataset_me_test, \n",
    "             \"MultiEmotions-IT\", \n",
    "             keep_neutrals=True, \n",
    "             plot_confidence=False, \n",
    "             fine_tuning=True, \n",
    "             dataset_train=dataset_me_train,\n",
    "             logging=False,\n",
    "             model_type=\"opt\"\n",
    "            )"
   ]
  },
  {
   "cell_type": "markdown",
   "id": "8a9b7660",
   "metadata": {},
   "source": [
    "### Feel-IT - MultiEmotions-IT"
   ]
  },
  {
   "cell_type": "code",
   "execution_count": 38,
   "id": "68ffd100",
   "metadata": {
    "scrolled": true
   },
   "outputs": [
    {
     "data": {
      "application/vnd.jupyter.widget-view+json": {
       "model_id": "ff4f9b0aa2d74b1aa6dbcca17525c4fc",
       "version_major": 2,
       "version_minor": 0
      },
      "text/plain": [
       "HBox(children=(FloatProgress(value=0.0, max=1.0), HTML(value='')))"
      ]
     },
     "metadata": {},
     "output_type": "display_data"
    },
    {
     "name": "stdout",
     "output_type": "stream",
     "text": [
      "\n"
     ]
    },
    {
     "data": {
      "application/vnd.jupyter.widget-view+json": {
       "model_id": "1b487c0bf86644169c5b61fb856abfa4",
       "version_major": 2,
       "version_minor": 0
      },
      "text/plain": [
       "HBox(children=(FloatProgress(value=0.0, max=1.0), HTML(value='')))"
      ]
     },
     "metadata": {},
     "output_type": "display_data"
    },
    {
     "name": "stdout",
     "output_type": "stream",
     "text": [
      "\n",
      "              precision    recall  f1-score   support\n",
      "\n",
      "    negative       0.50      0.90      0.64       115\n",
      "     neutral       0.00      0.00      0.00        44\n",
      "    positive       0.88      0.72      0.79       288\n",
      "\n",
      "    accuracy                           0.70       447\n",
      "   macro avg       0.46      0.54      0.48       447\n",
      "weighted avg       0.70      0.70      0.68       447\n",
      "\n"
     ]
    },
    {
     "data": {
      "application/vnd.jupyter.widget-view+json": {
       "model_id": "3cc3a522de314c9ea9057a2d8e33503e",
       "version_major": 2,
       "version_minor": 0
      },
      "text/plain": [
       "HBox(children=(FloatProgress(value=0.0, max=1.0), HTML(value='')))"
      ]
     },
     "metadata": {},
     "output_type": "display_data"
    },
    {
     "name": "stdout",
     "output_type": "stream",
     "text": [
      "\n"
     ]
    },
    {
     "data": {
      "application/vnd.jupyter.widget-view+json": {
       "model_id": "9e9a6dcc9da346f7acf893221314849f",
       "version_major": 2,
       "version_minor": 0
      },
      "text/plain": [
       "HBox(children=(FloatProgress(value=0.0, max=1.0), HTML(value='')))"
      ]
     },
     "metadata": {},
     "output_type": "display_data"
    },
    {
     "name": "stdout",
     "output_type": "stream",
     "text": [
      "\n"
     ]
    },
    {
     "data": {
      "application/vnd.jupyter.widget-view+json": {
       "model_id": "7b96caec3d0a4b858460e8e13ed87e14",
       "version_major": 2,
       "version_minor": 0
      },
      "text/plain": [
       "HBox(children=(FloatProgress(value=0.0, max=1.0), HTML(value='')))"
      ]
     },
     "metadata": {},
     "output_type": "display_data"
    },
    {
     "name": "stdout",
     "output_type": "stream",
     "text": [
      "\n",
      "              precision    recall  f1-score   support\n",
      "\n",
      "    negative       0.57      0.90      0.70       115\n",
      "    positive       0.95      0.72      0.82       288\n",
      "\n",
      "    accuracy                           0.77       403\n",
      "   macro avg       0.76      0.81      0.76       403\n",
      "weighted avg       0.84      0.77      0.78       403\n",
      "\n"
     ]
    },
    {
     "data": {
      "image/png": "[encoded data removed]",
      "text/plain": [
       "<Figure size 432x288 with 2 Axes>"
      ]
     },
     "metadata": {
      "needs_background": "light"
     },
     "output_type": "display_data"
    },
    {
     "data": {
      "image/png": "[encoded data removed]",
      "text/plain": [
       "<Figure size 432x288 with 2 Axes>"
      ]
     },
     "metadata": {
      "needs_background": "light"
     },
     "output_type": "display_data"
    }
   ],
   "source": [
    "eval_feelit_model(dataset_me_test, keep_neutrals=True, dataset_name=\"MultiEmotions-IT\", plot_confidence=False)\n",
    "eval_feelit_model(dataset_me_test, keep_neutrals=False, dataset_name=\"MultiEmotions-IT\", plot_confidence=False)"
   ]
  }
 ],
 "metadata": {
  "kernelspec": {
   "display_name": "Python 3",
   "language": "python",
   "name": "python3"
  },
  "language_info": {
   "codemirror_mode": {
    "name": "ipython",
    "version": 3
   },
   "file_extension": ".py",
   "mimetype": "text/x-python",
   "name": "python",
   "nbconvert_exporter": "python",
   "pygments_lexer": "ipython3",
   "version": "3.7.10"
  }
 },
 "nbformat": 4,
 "nbformat_minor": 5
}
