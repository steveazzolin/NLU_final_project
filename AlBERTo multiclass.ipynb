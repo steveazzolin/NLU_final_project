{
 "cells": [
  {
   "cell_type": "markdown",
   "id": "f639eef8",
   "metadata": {},
   "source": [
    "## AlBERTo multiclass\n",
    "Adaptation of AlBERTo (originally intended to adress 2 independent binary problems) to multiclass (for details, check the report)"
   ]
  },
  {
   "cell_type": "code",
   "execution_count": 1,
   "id": "0b9280b7",
   "metadata": {},
   "outputs": [],
   "source": [
    "from ekphrasis.classes.preprocessor import TextPreProcessor\n",
    "from ekphrasis.classes.tokenizer import SocialTokenizer\n",
    "from ekphrasis.dicts.emoticons import emoticons\n",
    "\n",
    "import pandas as pd\n",
    "import numpy as np\n",
    "import matplotlib.pyplot as plt\n",
    "from tqdm.notebook import tqdm\n",
    "import itertools\n",
    "import requests, re, string, datetime, copy\n",
    "from functools import partial\n",
    "\n",
    "import torch\n",
    "import torchvision.transforms as T, torch.nn.functional as F, torch.nn as nn\n",
    "\n",
    "from datasets import Dataset\n",
    "from transformers import TrainingArguments, EarlyStoppingCallback, TrainerCallback\n",
    "from transformers import Trainer\n",
    "from transformers.modeling_outputs import SequenceClassifierOutput\n",
    "\n",
    "from sklearn.model_selection import train_test_split\n",
    "from sklearn.metrics import classification_report, confusion_matrix, ConfusionMatrixDisplay\n",
    "from sklearn.metrics import precision_recall_fscore_support, accuracy_score\n",
    "\n",
    "PATH = \"./data/Sentipolc16/\""
   ]
  },
  {
   "cell_type": "markdown",
   "id": "158ec19c",
   "metadata": {},
   "source": [
    "### read data"
   ]
  },
  {
   "cell_type": "code",
   "execution_count": 2,
   "id": "2eb7c831",
   "metadata": {},
   "outputs": [
    {
     "data": {
      "text/html": [
       "<div>\n",
       "<style scoped>\n",
       "    .dataframe tbody tr th:only-of-type {\n",
       "        vertical-align: middle;\n",
       "    }\n",
       "\n",
       "    .dataframe tbody tr th {\n",
       "        vertical-align: top;\n",
       "    }\n",
       "\n",
       "    .dataframe thead th {\n",
       "        text-align: right;\n",
       "    }\n",
       "</style>\n",
       "<table border=\"1\" class=\"dataframe\">\n",
       "  <thead>\n",
       "    <tr style=\"text-align: right;\">\n",
       "      <th></th>\n",
       "      <th>idtwitter</th>\n",
       "      <th>subj</th>\n",
       "      <th>opos</th>\n",
       "      <th>oneg</th>\n",
       "      <th>iro</th>\n",
       "      <th>lpos</th>\n",
       "      <th>lneg</th>\n",
       "      <th>top</th>\n",
       "      <th>text</th>\n",
       "    </tr>\n",
       "  </thead>\n",
       "  <tbody>\n",
       "    <tr>\n",
       "      <th>0</th>\n",
       "      <td>122449983151669248</td>\n",
       "      <td>1</td>\n",
       "      <td>0</td>\n",
       "      <td>1</td>\n",
       "      <td>0</td>\n",
       "      <td>0</td>\n",
       "      <td>1</td>\n",
       "      <td>1</td>\n",
       "      <td>Intanto la partita per Via Nazionale si compli...</td>\n",
       "    </tr>\n",
       "    <tr>\n",
       "      <th>1</th>\n",
       "      <td>125485104863780865</td>\n",
       "      <td>1</td>\n",
       "      <td>0</td>\n",
       "      <td>1</td>\n",
       "      <td>0</td>\n",
       "      <td>0</td>\n",
       "      <td>1</td>\n",
       "      <td>1</td>\n",
       "      <td>False illusioni, sgradevoli realtà Mario Monti...</td>\n",
       "    </tr>\n",
       "    <tr>\n",
       "      <th>2</th>\n",
       "      <td>125513454315507712</td>\n",
       "      <td>1</td>\n",
       "      <td>0</td>\n",
       "      <td>1</td>\n",
       "      <td>0</td>\n",
       "      <td>0</td>\n",
       "      <td>1</td>\n",
       "      <td>1</td>\n",
       "      <td>False illusioni, sgradevoli realtà #editoriale...</td>\n",
       "    </tr>\n",
       "    <tr>\n",
       "      <th>3</th>\n",
       "      <td>125524238290522113</td>\n",
       "      <td>1</td>\n",
       "      <td>0</td>\n",
       "      <td>1</td>\n",
       "      <td>0</td>\n",
       "      <td>0</td>\n",
       "      <td>1</td>\n",
       "      <td>1</td>\n",
       "      <td>Mario Monti: Berlusconi risparmi all'Italia il...</td>\n",
       "    </tr>\n",
       "    <tr>\n",
       "      <th>4</th>\n",
       "      <td>125527933224886272</td>\n",
       "      <td>1</td>\n",
       "      <td>0</td>\n",
       "      <td>1</td>\n",
       "      <td>0</td>\n",
       "      <td>0</td>\n",
       "      <td>1</td>\n",
       "      <td>1</td>\n",
       "      <td>Mario Monti: Berlusconi risparmi all'Italia il...</td>\n",
       "    </tr>\n",
       "  </tbody>\n",
       "</table>\n",
       "</div>"
      ],
      "text/plain": [
       "            idtwitter  subj  opos  oneg  iro  lpos  lneg  top  \\\n",
       "0  122449983151669248     1     0     1    0     0     1    1   \n",
       "1  125485104863780865     1     0     1    0     0     1    1   \n",
       "2  125513454315507712     1     0     1    0     0     1    1   \n",
       "3  125524238290522113     1     0     1    0     0     1    1   \n",
       "4  125527933224886272     1     0     1    0     0     1    1   \n",
       "\n",
       "                                                text  \n",
       "0  Intanto la partita per Via Nazionale si compli...  \n",
       "1  False illusioni, sgradevoli realtà Mario Monti...  \n",
       "2  False illusioni, sgradevoli realtà #editoriale...  \n",
       "3  Mario Monti: Berlusconi risparmi all'Italia il...  \n",
       "4  Mario Monti: Berlusconi risparmi all'Italia il...  "
      ]
     },
     "execution_count": 2,
     "metadata": {},
     "output_type": "execute_result"
    }
   ],
   "source": [
    "train = pd.read_csv(PATH + \"training_set_sentipolc16.csv\")\n",
    "train.head()"
   ]
  },
  {
   "cell_type": "code",
   "execution_count": 3,
   "id": "8f046e22",
   "metadata": {},
   "outputs": [
    {
     "data": {
      "text/html": [
       "<div>\n",
       "<style scoped>\n",
       "    .dataframe tbody tr th:only-of-type {\n",
       "        vertical-align: middle;\n",
       "    }\n",
       "\n",
       "    .dataframe tbody tr th {\n",
       "        vertical-align: top;\n",
       "    }\n",
       "\n",
       "    .dataframe thead th {\n",
       "        text-align: right;\n",
       "    }\n",
       "</style>\n",
       "<table border=\"1\" class=\"dataframe\">\n",
       "  <thead>\n",
       "    <tr style=\"text-align: right;\">\n",
       "      <th></th>\n",
       "      <th>idtwitter</th>\n",
       "      <th>subj</th>\n",
       "      <th>opos</th>\n",
       "      <th>oneg</th>\n",
       "      <th>iro</th>\n",
       "      <th>lpos</th>\n",
       "      <th>lneg</th>\n",
       "      <th>top</th>\n",
       "      <th>text</th>\n",
       "    </tr>\n",
       "  </thead>\n",
       "  <tbody>\n",
       "    <tr>\n",
       "      <th>0</th>\n",
       "      <td>507074506880712705</td>\n",
       "      <td>0</td>\n",
       "      <td>0</td>\n",
       "      <td>0</td>\n",
       "      <td>0</td>\n",
       "      <td>0</td>\n",
       "      <td>0</td>\n",
       "      <td>2</td>\n",
       "      <td>\"Tra 5 minuti presentazione piano scuola del g...</td>\n",
       "    </tr>\n",
       "    <tr>\n",
       "      <th>1</th>\n",
       "      <td>507075789456961536</td>\n",
       "      <td>1</td>\n",
       "      <td>1</td>\n",
       "      <td>0</td>\n",
       "      <td>0</td>\n",
       "      <td>1</td>\n",
       "      <td>0</td>\n",
       "      <td>2</td>\n",
       "      <td>\"\\\"@matteorenzi: Alle 10 appuntamento su http:...</td>\n",
       "    </tr>\n",
       "    <tr>\n",
       "      <th>2</th>\n",
       "      <td>507077511902425088</td>\n",
       "      <td>1</td>\n",
       "      <td>0</td>\n",
       "      <td>1</td>\n",
       "      <td>0</td>\n",
       "      <td>0</td>\n",
       "      <td>1</td>\n",
       "      <td>2</td>\n",
       "      <td>\"#labuonascuola gli #evangelisti #digitali non...</td>\n",
       "    </tr>\n",
       "    <tr>\n",
       "      <th>3</th>\n",
       "      <td>507079183315787777</td>\n",
       "      <td>0</td>\n",
       "      <td>0</td>\n",
       "      <td>0</td>\n",
       "      <td>0</td>\n",
       "      <td>0</td>\n",
       "      <td>0</td>\n",
       "      <td>2</td>\n",
       "      <td>\"Riforma scuola Tutto il discorso di  Renzi su...</td>\n",
       "    </tr>\n",
       "    <tr>\n",
       "      <th>4</th>\n",
       "      <td>507080190225563648</td>\n",
       "      <td>1</td>\n",
       "      <td>0</td>\n",
       "      <td>0</td>\n",
       "      <td>0</td>\n",
       "      <td>0</td>\n",
       "      <td>0</td>\n",
       "      <td>2</td>\n",
       "      <td>\".@matteorenzi @MiurSocial #labuonascuola bast...</td>\n",
       "    </tr>\n",
       "  </tbody>\n",
       "</table>\n",
       "</div>"
      ],
      "text/plain": [
       "            idtwitter  subj  opos  oneg  iro  lpos  lneg  top  \\\n",
       "0  507074506880712705     0     0     0    0     0     0    2   \n",
       "1  507075789456961536     1     1     0    0     1     0    2   \n",
       "2  507077511902425088     1     0     1    0     0     1    2   \n",
       "3  507079183315787777     0     0     0    0     0     0    2   \n",
       "4  507080190225563648     1     0     0    0     0     0    2   \n",
       "\n",
       "                                                text  \n",
       "0  \"Tra 5 minuti presentazione piano scuola del g...  \n",
       "1  \"\\\"@matteorenzi: Alle 10 appuntamento su http:...  \n",
       "2  \"#labuonascuola gli #evangelisti #digitali non...  \n",
       "3  \"Riforma scuola Tutto il discorso di  Renzi su...  \n",
       "4  \".@matteorenzi @MiurSocial #labuonascuola bast...  "
      ]
     },
     "execution_count": 3,
     "metadata": {},
     "output_type": "execute_result"
    }
   ],
   "source": [
    "file1 = open(PATH + \"test_set_sentipolc16_gold2000.csv\", 'r') \n",
    "Lines = file1.readlines()\n",
    " \n",
    "test = []\n",
    "for line in Lines:\n",
    "  arr = line.split(\"\\\",\")\n",
    "  if len(arr) != 9:\n",
    "    arr[8] = arr[8] + arr[9]  #to account for tweets containing the delimiter charachter that would create more splits than needed\n",
    "    del arr[9:]\n",
    "  for i in range(8):\n",
    "    arr[i] = int(arr[i].strip(\"\\\"\"))\n",
    "  test.append(arr)\n",
    "\n",
    "test = pd.DataFrame(test, columns=train.columns)\n",
    "test.head()"
   ]
  },
  {
   "cell_type": "markdown",
   "id": "4d25a131",
   "metadata": {},
   "source": [
    "### utility functions"
   ]
  },
  {
   "cell_type": "code",
   "execution_count": 4,
   "id": "33c9b537",
   "metadata": {},
   "outputs": [
    {
     "name": "stderr",
     "output_type": "stream",
     "text": [
      "/home/steve/anaconda3/lib/python3.7/site-packages/ekphrasis/classes/tokenizer.py:225: FutureWarning: Possible nested set at position 2190\n",
      "  self.tok = re.compile(r\"({})\".format(\"|\".join(pipeline)))\n"
     ]
    },
    {
     "name": "stdout",
     "output_type": "stream",
     "text": [
      "Reading english - 1grams ...\n",
      "Reading english - 2grams ...\n"
     ]
    },
    {
     "name": "stderr",
     "output_type": "stream",
     "text": [
      "/home/steve/anaconda3/lib/python3.7/site-packages/ekphrasis/classes/exmanager.py:14: FutureWarning: Possible nested set at position 42\n",
      "  regexes = {k.lower(): re.compile(self.expressions[k]) for k, v in\n"
     ]
    },
    {
     "name": "stdout",
     "output_type": "stream",
     "text": [
      "Reading english - 1grams ...\n",
      "<hashtag> il governo </hashtag> presenta le linee guida sulla scuola <hashtag> la buona scuola </hashtag> <url>\n"
     ]
    }
   ],
   "source": [
    "\"\"\"Tokenization classes for Italian AlBERTo models.\"\"\"\n",
    "import collections\n",
    "import os\n",
    "\n",
    "\n",
    "def load_vocab(vocab_file):\n",
    "    \"\"\"Loads a vocabulary file into a dictionary.\"\"\"\n",
    "    vocab = collections.OrderedDict()\n",
    "    with open(vocab_file, \"r\", encoding=\"utf-8\") as reader:\n",
    "        tokens = reader.readlines()\n",
    "    for index, token in enumerate(tokens):\n",
    "        token = token.rstrip(\"\\n\")\n",
    "        vocab[token] = index\n",
    "    return vocab\n",
    "\n",
    "text_processor = TextPreProcessor(\n",
    "    # terms that will be normalized\n",
    "    normalize=['url', 'email', 'user', 'percent', 'money', 'phone', 'time', 'date', 'number'],\n",
    "    # terms that will be annotated\n",
    "    annotate={\"hashtag\"},\n",
    "    fix_html=True,  # fix HTML tokens\n",
    "\n",
    "    unpack_hashtags=True,  # perform word segmentation on hashtags\n",
    "\n",
    "    # select a tokenizer. You can use SocialTokenizer, or pass your own\n",
    "    # the tokenizer, should take as input a string and return a list of tokens\n",
    "    tokenizer=SocialTokenizer(lowercase=True).tokenize,\n",
    "    dicts=[emoticons]\n",
    ")\n",
    "\n",
    "class AlBERTo_Preprocessing(object):\n",
    "    def __init__(self, do_lower_case=True, **kwargs):\n",
    "        self.do_lower_case = do_lower_case\n",
    "\n",
    "    def preprocess(self, text):\n",
    "        if self.do_lower_case:\n",
    "            text = text.lower()\n",
    "        text = str(\" \".join(text_processor.pre_process_doc(text)))\n",
    "        text = re.sub(r'[^a-zA-ZÀ-ú</>!?♥♡\\s\\U00010000-\\U0010ffff]', ' ', text)\n",
    "        text = re.sub(r'\\s+', ' ', text)\n",
    "        text = re.sub(r'(\\w)\\1{2,}', r'\\1\\1', text)\n",
    "        text = re.sub(r'^\\s', '', text)\n",
    "        text = re.sub(r'\\s$', '', text)\n",
    "        return text\n",
    "\n",
    "a = AlBERTo_Preprocessing(do_lower_case=True)\n",
    "s = \"#IlGOverno presenta le linee guida sulla scuola #labuonascuola - http://t.co/SYS1T9QmQN\"\n",
    "b = a.preprocess(s)\n",
    "print(b)"
   ]
  },
  {
   "cell_type": "code",
   "execution_count": 5,
   "id": "563fc75b",
   "metadata": {},
   "outputs": [],
   "source": [
    "def k_steps_evidence(num_iterations, early_stopping_patience, training_args, net, training, testing, validating):\n",
    "    np.random.seed(0)\n",
    "    torch.manual_seed(0)\n",
    "\n",
    "    keys = [\"eval_loss\", \"eval_accuracy\", \"eval_f1\", \"eval_precision\", \"eval_recall\"]\n",
    "    metrics = { i: [] for i in keys}\n",
    "    for i in range(num_iterations):        \n",
    "        trainer = Trainer(\n",
    "            model=net(3),\n",
    "            args=training_args, \n",
    "            train_dataset=training.shuffle(seed=i), \n",
    "            eval_dataset=validating, \n",
    "            compute_metrics=compute_metrics,\n",
    "            callbacks=[EarlyStoppingCallback(early_stopping_patience=early_stopping_patience)] if early_stopping_patience is not None else None\n",
    "        )\n",
    "        trainer.train()\n",
    "        res = trainer.evaluate(testing)\n",
    "        for m in keys:\n",
    "            metrics[m].append(res[m])\n",
    "\n",
    "    for m in metrics.keys():\n",
    "        print(\"{:18s}\\t: {:.4} ± {:.4}\".format(m, np.mean(metrics[m]), np.std(metrics[m])))"
   ]
  },
  {
   "cell_type": "code",
   "execution_count": null,
   "id": "0ec39747",
   "metadata": {},
   "outputs": [],
   "source": [
    "from torch.utils.data import DataLoader\n",
    "from sklearn.metrics import precision_recall_fscore_support, accuracy_score, f1_score\n",
    "\n",
    "class EarlyStopping():    \n",
    "    def __init__(self, min_delta = 0, patience = 0):        \n",
    "        self.min_delta = min_delta\n",
    "        self.patience = patience\n",
    "        self.wait = 0\n",
    "        self.stopped_epoch = 0\n",
    "        self.best = -np.Inf\n",
    "        self.stop_training = False\n",
    "    \n",
    "    def on_epoch_end(self, epoch, current_value):\n",
    "        if np.greater((current_value - self.min_delta), self.best):\n",
    "            self.best = current_value\n",
    "            self.wait = 0\n",
    "        else:\n",
    "            self.wait += 1\n",
    "            if self.wait > self.patience:\n",
    "                self.stopped_epoch = epoch\n",
    "                self.stop_training = True\n",
    "        return self.stop_training\n",
    "\n",
    "\n",
    "TRAIN_BATCH_SIZE = 64 \n",
    "PREDICT_BATCH_SIZE = 64\n",
    "EVAL_BATCH_SIZE = 64 \n",
    "WEIGHT_DECAY = 0.01\n",
    "LEARNING_RATE = 2e-5\n",
    "NUM_EPOCHS = 3\n",
    "MAX_SEQ_LENGTH = 128\n",
    "WARMUP_PROPORTION = 0.1\n",
    "num_train_steps = int(len(training) / TRAIN_BATCH_SIZE * NUM_EPOCHS)+1\n",
    "NUM_WARMUP_STEPS =  int(num_train_steps * WARMUP_PROPORTION)\n",
    "RUN_NAME = \"test_trainer\""
   ]
  },
  {
   "cell_type": "code",
   "execution_count": 6,
   "id": "139d89f7",
   "metadata": {},
   "outputs": [
    {
     "name": "stdout",
     "output_type": "stream",
     "text": [
      "['<', 'ha', '##shtag', '>', 'il', 'governo', '<', '/', 'ha', '##shtag', '>', 'presenta', 'le', 'linee', 'guida', 'sulla', 'scuola', '<', 'ha', '##shtag', '>', 'la', 'buona', 'scuola', '<', '/', 'ha', '##shtag', '>', '<', 'ur', '##l', '>']\n"
     ]
    }
   ],
   "source": [
    "from transformers import AutoTokenizer, AutoModel\n",
    "\n",
    "a = AlBERTo_Preprocessing(do_lower_case=True)\n",
    "s: str = \"#IlGOverno presenta le linee guida sulla scuola #labuonascuola - http://t.co/SYS1T9QmQN\"\n",
    "b = a.preprocess(s)\n",
    "\n",
    "tok = AutoTokenizer.from_pretrained(\"m-polignano-uniba/bert_uncased_L-12_H-768_A-12_italian_alb3rt0\")\n",
    "pretrained_model = AutoModel.from_pretrained(\"m-polignano-uniba/bert_uncased_L-12_H-768_A-12_italian_alb3rt0\")\n",
    "tok.model_max_length = 128 #model.config.max_position_embeddings\n",
    "tokens = tok.tokenize(b)\n",
    "print(tokens)"
   ]
  },
  {
   "cell_type": "markdown",
   "id": "1b12b2f5",
   "metadata": {},
   "source": [
    "### dataset"
   ]
  },
  {
   "cell_type": "code",
   "execution_count": null,
   "id": "10d074c7",
   "metadata": {},
   "outputs": [],
   "source": [
    "def tokenize_function(examples):\n",
    "    sa = tok(examples[\"text\"], padding=\"max_length\", truncation=True)\n",
    "    return sa\n",
    "\n",
    "def separate2united_labels(row):\n",
    "    \"\"\"\n",
    "        Return a single scalar integer label associated to the polarity of the tweet.\n",
    "\n",
    "        Negative -> 0\n",
    "        Neutral  -> 1\n",
    "        Positive -> 2\n",
    "        Mixed    -> 3\n",
    "    \"\"\"\n",
    "    if row[\"opos\"] == 0 and row[\"oneg\"] == 0:\n",
    "        return 1\n",
    "    elif row[\"oneg\"] == 0 and row[\"opos\"] == 1:\n",
    "        return 2\n",
    "    elif row[\"oneg\"] == 1 and row[\"opos\"] == 0:\n",
    "        return 0\n",
    "    else:\n",
    "        return 3\n",
    "\n",
    "#train set\n",
    "dataset = pd.DataFrame({\"text\": train.text.apply(a.preprocess), \"idx\": train.index, \"labels\": train[[\"opos\", \"oneg\"]].apply(separate2united_labels, axis=1)})\n",
    "X_train, X_val = train_test_split(dataset, test_size=0.2, random_state=42, stratify=dataset[\"labels\"])\n",
    "\n",
    "X_train = Dataset.from_pandas(X_train)\n",
    "X_val = Dataset.from_pandas(X_val)\n",
    "\n",
    "training = X_train\\\n",
    "                    .map(tokenize_function, batched=True)\\\n",
    "                    .filter(lambda example: example['labels'] != 3)\\\n",
    "                    .shuffle(seed=42)\\\n",
    "                    .with_format(\"torch\")\n",
    "validating = X_val\\\n",
    "                    .map(tokenize_function, batched=True)\\\n",
    "                    .filter(lambda example: example['labels'] != 3)\\\n",
    "                    .with_format(\"torch\")\n",
    "\n",
    "\n",
    "#test set\n",
    "dataset = pd.DataFrame({\"text\": test.text.apply(a.preprocess), \"idx\": test.index, \"labels\": test[[\"opos\", \"oneg\"]].apply(separate2united_labels, axis=1)})\n",
    "dataset = Dataset.from_pandas(dataset)\n",
    "\n",
    "testing = dataset\\\n",
    "                    .map(tokenize_function, batched=True)\\\n",
    "                    .filter(lambda example: example['labels'] != 3)\\\n",
    "                    .with_format(\"torch\")"
   ]
  },
  {
   "cell_type": "markdown",
   "id": "ac56d9af",
   "metadata": {},
   "source": [
    "### models definition"
   ]
  },
  {
   "cell_type": "code",
   "execution_count": 9,
   "id": "da739cce",
   "metadata": {},
   "outputs": [],
   "source": [
    "class MyNetMC(nn.Module):\n",
    "    def __init__(self, num_labels):\n",
    "        super(MyNetMC, self).__init__()\n",
    "\n",
    "        self.num_labels = num_labels\n",
    "        self.model = copy.deepcopy(pretrained_model)#AutoModel.from_pretrained(\"m-polignano-uniba/bert_uncased_L-12_H-768_A-12_italian_alb3rt0\")\n",
    "        self.dropout1 = nn.Dropout(0.1)\n",
    "        self.linear1 = nn.Linear(768, 3)\n",
    "\n",
    "        self.loss_fct = nn.CrossEntropyLoss()\n",
    "\n",
    "\n",
    "    def forward(self, labels, input_ids, attention_mask, **args):\n",
    "        outputs = self.model(input_ids=input_ids, attention_mask=attention_mask, **args)\n",
    "        x = self.dropout1(outputs[1])\n",
    "        logits = self.linear1(x)\n",
    "        loss = self.loss_fct(logits, labels)\n",
    "        return logits , loss\n",
    "    \n",
    "class MyNetMCTuned(nn.Module):\n",
    "    def __init__(self, num_labels):\n",
    "        super(MyNetMCTuned, self).__init__()\n",
    "\n",
    "        self.num_labels = num_labels\n",
    "        self.model = copy.deepcopy(pretrained_model)\n",
    "        self.linear = nn.Linear(768, 3)\n",
    "\n",
    "        self.loss_fct = nn.CrossEntropyLoss()\n",
    "\n",
    "    def forward(self, labels, input_ids, attention_mask, **args):\n",
    "        outputs = self.model(input_ids=input_ids, attention_mask=attention_mask, **args)\n",
    "        logits = self.linear(outputs[1])\n",
    "        loss = self.loss_fct(logits, labels)\n",
    "        return logits , loss"
   ]
  },
  {
   "cell_type": "markdown",
   "id": "e807d96a",
   "metadata": {},
   "source": [
    "### training loops"
   ]
  },
  {
   "cell_type": "code",
   "execution_count": 10,
   "id": "e5a08013",
   "metadata": {},
   "outputs": [],
   "source": [
    "from transformers import get_linear_schedule_with_warmup\n",
    "\n",
    "device = \"cuda:0\"\n",
    "\n",
    "def train_epoch(model, train_loader, optimizer, scheduler, epoch, logging):\n",
    "    model.train()\n",
    "    targets = []\n",
    "    outputs = []\n",
    "    cumulative_loss = 0.\n",
    "    for i , data in tqdm(enumerate(train_loader, 0), total=len(train_loader)):        \n",
    "        targets.extend(data[\"labels\"].numpy())\n",
    "        \n",
    "        batch = {k: v.to(device) for k, v in data.items()}\n",
    "        logits , loss = model(**batch)\n",
    "\n",
    "        cumulative_loss += loss.detach()\n",
    "        if (i+1) % 25 == 0 and logging:\n",
    "            print(f'Epoch: {epoch}, Loss:  {cumulative_loss.item()/i}')\n",
    "        \n",
    "        optimizer.zero_grad()\n",
    "        loss.backward()\n",
    "        optimizer.step()\n",
    "        scheduler.step()\n",
    "        \n",
    "        outputs.extend(logits.argmax(-1).cpu().detach().numpy().tolist())\n",
    "    if logging: wandb.log({\"train\": {'loss': cumulative_loss.item() / len(outputs)}})\n",
    "    return outputs, targets\n",
    "    \n",
    "        \n",
    "def validation_epoch(model, epoch, val_loader, kind, logging):\n",
    "    model.eval()\n",
    "    targets = []\n",
    "    outputs = []\n",
    "    cumulative_loss = 0.\n",
    "    with torch.no_grad():\n",
    "        for _, data in enumerate(val_loader, 0):        \n",
    "            batch = {k: v.to(device) for k, v in data.items()}\n",
    "            logits , loss = model(**batch)\n",
    "            cumulative_loss += loss.detach()\n",
    "            if (i+1) % 25 == 0 and logging:\n",
    "                print(f'Epoch: {epoch}, Loss:  {cumulative_loss.item()/i}')\n",
    "    \n",
    "            targets.extend(batch[\"labels\"].cpu().detach().numpy())\n",
    "            outputs.extend(logits.argmax(-1).cpu().detach().numpy().tolist())\n",
    "    if logging: wandb.log({kind: {'loss': cumulative_loss.item() / len(outputs)}})\n",
    "    return outputs, targets"
   ]
  },
  {
   "cell_type": "markdown",
   "id": "400fe006",
   "metadata": {},
   "source": [
    "## HPT"
   ]
  },
  {
   "cell_type": "code",
   "execution_count": 11,
   "id": "5695ad10",
   "metadata": {},
   "outputs": [],
   "source": [
    "#%%script echo skipping\n",
    "import optuna\n",
    "from optuna.trial import TrialState\n",
    "\n",
    "def objective(trial):\n",
    "    model = MyNetMCTuned(3).to(device)\n",
    "\n",
    "    # Generate the optimizers.\n",
    "    lr = trial.suggest_float(\"learning_rate\", 2e-6, 2e-4, log=True)\n",
    "    wd = trial.suggest_float(\"weight_decay\", 1e-6, 1e-1)\n",
    "    warmup = trial.suggest_float(\"warmup_steps\", 0., 0.9, step=0.3),\n",
    "    optimizer = torch.optim.AdamW(model.parameters(),\n",
    "                              lr=lr,\n",
    "                              weight_decay=wd, \n",
    "                              eps=1e-6)\n",
    "\n",
    "    early_stopping = EarlyStopping(min_delta=0.005, patience=3)\n",
    "\n",
    "    train_loader = DataLoader(training.with_format(\"torch\", columns=[\"input_ids\", \"attention_mask\", \"labels\", \"token_type_ids\"]), shuffle=True, batch_size=64)\n",
    "    val_loader = DataLoader(validating.with_format(\"torch\", columns=[\"input_ids\", \"attention_mask\", \"labels\", \"token_type_ids\"]), batch_size=64)\n",
    "\n",
    "    num_epochs = 15\n",
    "    num_train_steps = int(len(train_loader) * num_epochs) + 1\n",
    "    NUM_WARMUP_STEPS =  int(num_train_steps * warmup[0])\n",
    "    scheduler = get_linear_schedule_with_warmup(optimizer, NUM_WARMUP_STEPS, num_train_steps)\n",
    "\n",
    "    logging = False\n",
    "    \n",
    "    best_val = 0\n",
    "    for epoch in range(num_epochs):\n",
    "        outputs, targets = train_epoch(model, train_loader, optimizer, scheduler, epoch, logging)\n",
    "        \n",
    "        outputs, targets = validation_epoch(model, epoch, val_loader, \"val\", logging)\n",
    "        f1_val = f1_score(targets, outputs, average='macro')\n",
    "        \n",
    "        if f1_val > best_val:\n",
    "            best_val = f1_val\n",
    "        if early_stopping.on_epoch_end(epoch, f1_val):\n",
    "            print(\"\\n\\nEARLY STOPPING AFTER {} EPOCHS\".format(epoch))\n",
    "            break\n",
    "\n",
    "        trial.report(f1_val, epoch)\n",
    "        \n",
    "        # Handle pruning based on the intermediate value.\n",
    "        if trial.should_prune():\n",
    "            raise optuna.exceptions.TrialPruned()\n",
    "        \n",
    "    return best_val"
   ]
  },
  {
   "cell_type": "markdown",
   "id": "6c7d37cf",
   "metadata": {},
   "source": [
    "## Training AlBERTo"
   ]
  },
  {
   "cell_type": "code",
   "execution_count": 12,
   "id": "7f541882",
   "metadata": {},
   "outputs": [
    {
     "data": {
      "application/vnd.jupyter.widget-view+json": {
       "model_id": "fd652d38c7ea4503a71ba13de73bd3ea",
       "version_major": 2,
       "version_minor": 0
      },
      "text/plain": [
       "HBox(children=(FloatProgress(value=0.0, max=8.0), HTML(value='')))"
      ]
     },
     "metadata": {},
     "output_type": "display_data"
    },
    {
     "name": "stdout",
     "output_type": "stream",
     "text": [
      "\n"
     ]
    },
    {
     "data": {
      "application/vnd.jupyter.widget-view+json": {
       "model_id": "f17e1d4047ea4e2a935d48a2ef102aae",
       "version_major": 2,
       "version_minor": 0
      },
      "text/plain": [
       "HBox(children=(FloatProgress(value=0.0, max=8.0), HTML(value='')))"
      ]
     },
     "metadata": {},
     "output_type": "display_data"
    },
    {
     "name": "stderr",
     "output_type": "stream",
     "text": [
      "Failed to detect the name of this notebook, you can set it manually with the WANDB_NOTEBOOK_NAME environment variable to enable code saving.\n"
     ]
    },
    {
     "name": "stdout",
     "output_type": "stream",
     "text": [
      "\n"
     ]
    },
    {
     "name": "stderr",
     "output_type": "stream",
     "text": [
      "\u001b[34m\u001b[1mwandb\u001b[0m: Currently logged in as: \u001b[33mmcstewe\u001b[0m (use `wandb login --relogin` to force relogin)\n"
     ]
    },
    {
     "data": {
      "text/html": [
       "\n",
       "                Tracking run with wandb version 0.11.0<br/>\n",
       "                Syncing run <strong style=\"color:#cdcd00\">AlBERTo-MC</strong> to <a href=\"https://wandb.ai\" target=\"_blank\">Weights & Biases</a> <a href=\"https://docs.wandb.com/integrations/jupyter.html\" target=\"_blank\">(Documentation)</a>.<br/>\n",
       "                Project page: <a href=\"https://wandb.ai/mcstewe/nlu_sentiment_analysis\" target=\"_blank\">https://wandb.ai/mcstewe/nlu_sentiment_analysis</a><br/>\n",
       "                Run page: <a href=\"https://wandb.ai/mcstewe/nlu_sentiment_analysis/runs/210b82cm\" target=\"_blank\">https://wandb.ai/mcstewe/nlu_sentiment_analysis/runs/210b82cm</a><br/>\n",
       "                Run data is saved locally in <code>/home/steve/NLU_final_project/wandb/run-20210728_163054-210b82cm</code><br/><br/>\n",
       "            "
      ],
      "text/plain": [
       "<IPython.core.display.HTML object>"
      ]
     },
     "metadata": {},
     "output_type": "display_data"
    },
    {
     "data": {
      "application/vnd.jupyter.widget-view+json": {
       "model_id": "f53e9f6d45f343debbd573e1aacbd928",
       "version_major": 2,
       "version_minor": 0
      },
      "text/plain": [
       "HBox(children=(FloatProgress(value=0.0, max=218.0), HTML(value='')))"
      ]
     },
     "metadata": {},
     "output_type": "display_data"
    },
    {
     "name": "stdout",
     "output_type": "stream",
     "text": [
      "Epoch: 0, Loss:  1.1672417322794597\n",
      "Epoch: 0, Loss:  1.0900421142578125\n",
      "Epoch: 0, Loss:  1.0311015361064189\n",
      "Epoch: 0, Loss:  0.9622758807558002\n",
      "Epoch: 0, Loss:  0.9175800200431578\n",
      "Epoch: 0, Loss:  0.8827222785693687\n",
      "Epoch: 0, Loss:  0.8574930826822916\n",
      "Epoch: 0, Loss:  0.8370763884117854\n",
      "\n",
      "Train F1 = 0.6079766420758286\n",
      "Test F1= 0.6495411155124479\n"
     ]
    },
    {
     "data": {
      "application/vnd.jupyter.widget-view+json": {
       "model_id": "cc890fa4d8874b1ca80a4ee55cb2497f",
       "version_major": 2,
       "version_minor": 0
      },
      "text/plain": [
       "HBox(children=(FloatProgress(value=0.0, max=218.0), HTML(value='')))"
      ]
     },
     "metadata": {},
     "output_type": "display_data"
    },
    {
     "name": "stdout",
     "output_type": "stream",
     "text": [
      "Epoch: 1, Loss:  0.5448492765426636\n",
      "Epoch: 1, Loss:  0.5211755402234136\n",
      "Epoch: 1, Loss:  0.5171999544710726\n",
      "Epoch: 1, Loss:  0.5265656673546993\n",
      "Epoch: 1, Loss:  0.5271656897760206\n",
      "Epoch: 1, Loss:  0.5270108216560927\n",
      "Epoch: 1, Loss:  0.5225905056657463\n",
      "Epoch: 1, Loss:  0.5179984317952065\n",
      "\n",
      "Train F1 = 0.7940278207062158\n",
      "Test F1= 0.6731079617269323\n"
     ]
    },
    {
     "data": {
      "application/vnd.jupyter.widget-view+json": {
       "model_id": "1b6b5df3688f4c468d86a99a67b11a9f",
       "version_major": 2,
       "version_minor": 0
      },
      "text/plain": [
       "HBox(children=(FloatProgress(value=0.0, max=218.0), HTML(value='')))"
      ]
     },
     "metadata": {},
     "output_type": "display_data"
    },
    {
     "name": "stdout",
     "output_type": "stream",
     "text": [
      "Epoch: 2, Loss:  0.3633444309234619\n",
      "Epoch: 2, Loss:  0.3372465639698262\n",
      "Epoch: 2, Loss:  0.3342942933778505\n",
      "Epoch: 2, Loss:  0.3259595235188802\n",
      "Epoch: 2, Loss:  0.32822070583220453\n",
      "Epoch: 2, Loss:  0.33242562313207846\n",
      "Epoch: 2, Loss:  0.32413901405772944\n",
      "Epoch: 2, Loss:  0.3237035550064777\n",
      "\n",
      "Train F1 = 0.8797160224239929\n",
      "Test F1= 0.6378024531237604\n"
     ]
    },
    {
     "data": {
      "text/html": [
       "<br/>Waiting for W&B process to finish, PID 14249<br/>Program ended successfully."
      ],
      "text/plain": [
       "<IPython.core.display.HTML object>"
      ]
     },
     "metadata": {},
     "output_type": "display_data"
    },
    {
     "data": {
      "application/vnd.jupyter.widget-view+json": {
       "model_id": "",
       "version_major": 2,
       "version_minor": 0
      },
      "text/plain": [
       "VBox(children=(Label(value=' 0.00MB of 0.00MB uploaded (0.00MB deduped)\\r'), FloatProgress(value=1.0, max=1.0)…"
      ]
     },
     "metadata": {},
     "output_type": "display_data"
    },
    {
     "data": {
      "text/html": [
       "Find user logs for this run at: <code>/home/steve/NLU_final_project/wandb/run-20210728_163054-210b82cm/logs/debug.log</code>"
      ],
      "text/plain": [
       "<IPython.core.display.HTML object>"
      ]
     },
     "metadata": {},
     "output_type": "display_data"
    },
    {
     "data": {
      "text/html": [
       "Find internal logs for this run at: <code>/home/steve/NLU_final_project/wandb/run-20210728_163054-210b82cm/logs/debug-internal.log</code>"
      ],
      "text/plain": [
       "<IPython.core.display.HTML object>"
      ]
     },
     "metadata": {},
     "output_type": "display_data"
    },
    {
     "data": {
      "text/html": [
       "<h3>Run summary:</h3><br/><style>\n",
       "    table.wandb td:nth-child(1) { padding: 0 10px; text-align: right }\n",
       "    </style><table class=\"wandb\">\n",
       "<tr><td>_runtime</td><td>203</td></tr><tr><td>_timestamp</td><td>1627482857</td></tr><tr><td>_step</td><td>8</td></tr></table>"
      ],
      "text/plain": [
       "<IPython.core.display.HTML object>"
      ]
     },
     "metadata": {},
     "output_type": "display_data"
    },
    {
     "data": {
      "text/html": [
       "<h3>Run history:</h3><br/><style>\n",
       "    table.wandb td:nth-child(1) { padding: 0 10px; text-align: right }\n",
       "    </style><table class=\"wandb\">\n",
       "<tr><td>_runtime</td><td>▁▁▁▄▅▅███</td></tr><tr><td>_timestamp</td><td>▁▁▁▄▅▅███</td></tr><tr><td>_step</td><td>▁▂▃▄▅▅▆▇█</td></tr></table><br/>"
      ],
      "text/plain": [
       "<IPython.core.display.HTML object>"
      ]
     },
     "metadata": {},
     "output_type": "display_data"
    },
    {
     "data": {
      "text/html": [
       "Synced 6 W&B file(s), 0 media file(s), 0 artifact file(s) and 0 other file(s)"
      ],
      "text/plain": [
       "<IPython.core.display.HTML object>"
      ]
     },
     "metadata": {},
     "output_type": "display_data"
    },
    {
     "data": {
      "text/html": [
       "\n",
       "                    <br/>Synced <strong style=\"color:#cdcd00\">AlBERTo-MC</strong>: <a href=\"https://wandb.ai/mcstewe/nlu_sentiment_analysis/runs/210b82cm\" target=\"_blank\">https://wandb.ai/mcstewe/nlu_sentiment_analysis/runs/210b82cm</a><br/>\n",
       "                "
      ],
      "text/plain": [
       "<IPython.core.display.HTML object>"
      ]
     },
     "metadata": {},
     "output_type": "display_data"
    }
   ],
   "source": [
    "np.random.seed(0)\n",
    "torch.manual_seed(0)\n",
    "model = MyNetMC(3).to(device)\n",
    "\n",
    "best_hyper = {'learning_rate': LEARNING_RATE, 'warmup_steps': WARMUP_PROPORTION, 'weight_decay': WEIGHT_DECAY}\n",
    "\n",
    "optimizer = torch.optim.AdamW(model.parameters(),\n",
    "                              lr=best_hyper[\"learning_rate\"],\n",
    "                              weight_decay=best_hyper[\"weight_decay\"], \n",
    "                              eps=1e-6)\n",
    "\n",
    "#train set\n",
    "tmp = pd.DataFrame({\"text\": train.text.apply(a.preprocess), \"idx\": train.index, \"labels\": train[[\"opos\", \"oneg\"]].apply(separate2united_labels, axis=1)})\n",
    "tmp = Dataset.from_pandas(tmp)\n",
    "tmp = tmp\\\n",
    "                    .map(tokenize_function, batched=True)\\\n",
    "                    .filter(lambda example: example['labels'] != 3)\\\n",
    "                    .shuffle(seed=42)\\\n",
    "                    .with_format(\"torch\")\n",
    "\n",
    "train_loader = DataLoader(tmp.with_format(\"torch\", columns=[\"input_ids\", \"attention_mask\", \"labels\", \"token_type_ids\"]), shuffle=True, batch_size=32)\n",
    "test_loader = DataLoader(testing.with_format(\"torch\", columns=[\"input_ids\", \"attention_mask\", \"labels\", \"token_type_ids\"]), batch_size=64)\n",
    "\n",
    "num_epochs = NUM_EPOCHS\n",
    "num_train_steps = int(len(train_loader) * num_epochs) + 1\n",
    "NUM_WARMUP_STEPS =  int(num_train_steps * best_hyper[\"warmup_steps\"])\n",
    "scheduler = get_linear_schedule_with_warmup(optimizer, NUM_WARMUP_STEPS, num_train_steps)\n",
    "\n",
    "logging = True\n",
    "if logging:\n",
    "    run = wandb.init(\n",
    "      project='nlu_sentiment_analysis',\n",
    "      name=\"AlBERTo-MC\",\n",
    "      entity='mcstewe',\n",
    "      notes='',\n",
    "      reinit=True,\n",
    "      config=dict (\n",
    "        epochs=num_epochs\n",
    "      )\n",
    "    )\n",
    "    wandb.watch(model)\n",
    "\n",
    "best_value = 0\n",
    "for epoch in range(num_epochs):\n",
    "    outputs, targets = train_epoch(model, train_loader, optimizer, scheduler, epoch, logging)\n",
    "    f1_train = f1_score(targets, outputs, average='macro')\n",
    "    \n",
    "    print(f\"Train F1 = {f1_train}\")\n",
    "    outputs, targets = validation_epoch(model, epoch, test_loader, \"test\", logging=False)\n",
    "    f1_test = f1_score(targets, outputs, average='macro')\n",
    "    print(\"Test F1=\", f1_test)\n",
    "    if logging:\n",
    "        wandb.log({\"train\": {'f1': f1_train, \"lr\": optimizer.param_groups[0]['lr']}})\n",
    "        wandb.log({\"test\": {'f1': f1_test}})\n",
    "torch.save(model.state_dict(), \"data/models/alberto_multiclass.pt\")    \n",
    "    \n",
    "if logging:\n",
    "    run.finish()"
   ]
  },
  {
   "cell_type": "code",
   "execution_count": 13,
   "id": "a89449cb",
   "metadata": {},
   "outputs": [
    {
     "name": "stdout",
     "output_type": "stream",
     "text": [
      "              precision    recall  f1-score   support\n",
      "\n",
      "    negative       0.85      0.51      0.64       734\n",
      "     neutral       0.70      0.78      0.74       914\n",
      "    positive       0.44      0.69      0.54       316\n",
      "\n",
      "    accuracy                           0.67      1964\n",
      "   macro avg       0.66      0.66      0.64      1964\n",
      "weighted avg       0.71      0.67      0.67      1964\n",
      "\n"
     ]
    },
    {
     "data": {
      "text/plain": [
       "Text(0.5, 1.0, 'SENTIPOLC16 - AlBERToMC')"
      ]
     },
     "execution_count": 13,
     "metadata": {},
     "output_type": "execute_result"
    },
    {
     "data": {
      "image/png": "[encoded data removed]",
      "text/plain": [
       "<Figure size 432x288 with 2 Axes>"
      ]
     },
     "metadata": {
      "needs_background": "light"
     },
     "output_type": "display_data"
    }
   ],
   "source": [
    "#load best model's params\n",
    "model = MyNetMC(3).to(device)\n",
    "model.load_state_dict(torch.load(\"data/models/alberto_multiclass.pt\"))\n",
    "\n",
    "preds , trues = validation_epoch(model, None, test_loader, \"test\", logging=False)\n",
    "\n",
    "print(classification_report(trues, preds, target_names=[\"negative\", \"neutral\", \"positive\"]))\n",
    "\n",
    "cm = confusion_matrix(trues, preds, normalize='all')\n",
    "ConfusionMatrixDisplay(confusion_matrix=cm, display_labels=[\"negative\", \"neutral\", \"positive\"]).plot()\n",
    "plt.title(\"SENTIPOLC16 - AlBERToMC\")"
   ]
  },
  {
   "cell_type": "markdown",
   "id": "760607ea",
   "metadata": {},
   "source": [
    "## Training AlBERTo validation set"
   ]
  },
  {
   "cell_type": "code",
   "execution_count": 14,
   "id": "0b079462",
   "metadata": {},
   "outputs": [
    {
     "data": {
      "text/html": [
       "\n",
       "                Tracking run with wandb version 0.11.0<br/>\n",
       "                Syncing run <strong style=\"color:#cdcd00\">AlBERTo-MC-val</strong> to <a href=\"https://wandb.ai\" target=\"_blank\">Weights & Biases</a> <a href=\"https://docs.wandb.com/integrations/jupyter.html\" target=\"_blank\">(Documentation)</a>.<br/>\n",
       "                Project page: <a href=\"https://wandb.ai/mcstewe/nlu_sentiment_analysis\" target=\"_blank\">https://wandb.ai/mcstewe/nlu_sentiment_analysis</a><br/>\n",
       "                Run page: <a href=\"https://wandb.ai/mcstewe/nlu_sentiment_analysis/runs/2mt45vmo\" target=\"_blank\">https://wandb.ai/mcstewe/nlu_sentiment_analysis/runs/2mt45vmo</a><br/>\n",
       "                Run data is saved locally in <code>/home/steve/NLU_final_project/wandb/run-20210728_163430-2mt45vmo</code><br/><br/>\n",
       "            "
      ],
      "text/plain": [
       "<IPython.core.display.HTML object>"
      ]
     },
     "metadata": {},
     "output_type": "display_data"
    },
    {
     "data": {
      "application/vnd.jupyter.widget-view+json": {
       "model_id": "2656a2d0b6114170837d5d983f7ee1e1",
       "version_major": 2,
       "version_minor": 0
      },
      "text/plain": [
       "HBox(children=(FloatProgress(value=0.0, max=175.0), HTML(value='')))"
      ]
     },
     "metadata": {},
     "output_type": "display_data"
    },
    {
     "name": "stdout",
     "output_type": "stream",
     "text": [
      "Epoch: 0, Loss:  1.1712799866994221\n",
      "Epoch: 0, Loss:  1.0679651377152424\n",
      "Epoch: 0, Loss:  1.0052797472154773\n",
      "Epoch: 0, Loss:  0.9508586845012627\n",
      "Epoch: 0, Loss:  0.909255612281061\n",
      "Epoch: 0, Loss:  0.8833399010984689\n",
      "Epoch: 0, Loss:  0.8587818364987428\n",
      "\n",
      "Val F1 = 0.7027370806947463\n",
      "Test F1= 0.6254052521412569\n"
     ]
    },
    {
     "data": {
      "application/vnd.jupyter.widget-view+json": {
       "model_id": "ce60ed33d1224435afe0271a072a96ae",
       "version_major": 2,
       "version_minor": 0
      },
      "text/plain": [
       "HBox(children=(FloatProgress(value=0.0, max=175.0), HTML(value='')))"
      ]
     },
     "metadata": {},
     "output_type": "display_data"
    },
    {
     "name": "stdout",
     "output_type": "stream",
     "text": [
      "Epoch: 1, Loss:  0.5450160503387451\n",
      "Epoch: 1, Loss:  0.5507573497538664\n",
      "Epoch: 1, Loss:  0.5418497034021326\n",
      "Epoch: 1, Loss:  0.5457449248342803\n",
      "Epoch: 1, Loss:  0.5376837945753529\n",
      "Epoch: 1, Loss:  0.5340351898398176\n",
      "Epoch: 1, Loss:  0.532709012086364\n",
      "\n",
      "Val F1 = 0.6983327553153043\n",
      "Test F1= 0.6899761719686611\n"
     ]
    },
    {
     "data": {
      "application/vnd.jupyter.widget-view+json": {
       "model_id": "305f78a078ff406b90b90ca180f5af62",
       "version_major": 2,
       "version_minor": 0
      },
      "text/plain": [
       "HBox(children=(FloatProgress(value=0.0, max=175.0), HTML(value='')))"
      ]
     },
     "metadata": {},
     "output_type": "display_data"
    },
    {
     "name": "stdout",
     "output_type": "stream",
     "text": [
      "Epoch: 2, Loss:  0.39226233959198\n",
      "Epoch: 2, Loss:  0.36785460491569677\n",
      "Epoch: 2, Loss:  0.3752712301305822\n",
      "Epoch: 2, Loss:  0.36247661860302244\n",
      "Epoch: 2, Loss:  0.3568246287684287\n",
      "Epoch: 2, Loss:  0.35420068318411807\n",
      "Epoch: 2, Loss:  0.3472936345242906\n",
      "\n",
      "Val F1 = 0.7119154268155468\n",
      "Test F1= 0.6629525495550136\n"
     ]
    },
    {
     "data": {
      "text/html": [
       "<br/>Waiting for W&B process to finish, PID 14295<br/>Program ended successfully."
      ],
      "text/plain": [
       "<IPython.core.display.HTML object>"
      ]
     },
     "metadata": {},
     "output_type": "display_data"
    },
    {
     "data": {
      "application/vnd.jupyter.widget-view+json": {
       "model_id": "",
       "version_major": 2,
       "version_minor": 0
      },
      "text/plain": [
       "VBox(children=(Label(value=' 0.00MB of 0.00MB uploaded (0.00MB deduped)\\r'), FloatProgress(value=1.0, max=1.0)…"
      ]
     },
     "metadata": {},
     "output_type": "display_data"
    },
    {
     "data": {
      "text/html": [
       "Find user logs for this run at: <code>/home/steve/NLU_final_project/wandb/run-20210728_163430-2mt45vmo/logs/debug.log</code>"
      ],
      "text/plain": [
       "<IPython.core.display.HTML object>"
      ]
     },
     "metadata": {},
     "output_type": "display_data"
    },
    {
     "data": {
      "text/html": [
       "Find internal logs for this run at: <code>/home/steve/NLU_final_project/wandb/run-20210728_163430-2mt45vmo/logs/debug-internal.log</code>"
      ],
      "text/plain": [
       "<IPython.core.display.HTML object>"
      ]
     },
     "metadata": {},
     "output_type": "display_data"
    },
    {
     "data": {
      "text/html": [
       "<h3>Run summary:</h3><br/><style>\n",
       "    table.wandb td:nth-child(1) { padding: 0 10px; text-align: right }\n",
       "    </style><table class=\"wandb\">\n",
       "<tr><td>_runtime</td><td>183</td></tr><tr><td>_timestamp</td><td>1627483053</td></tr><tr><td>_step</td><td>11</td></tr></table>"
      ],
      "text/plain": [
       "<IPython.core.display.HTML object>"
      ]
     },
     "metadata": {},
     "output_type": "display_data"
    },
    {
     "data": {
      "text/html": [
       "<h3>Run history:</h3><br/><style>\n",
       "    table.wandb td:nth-child(1) { padding: 0 10px; text-align: right }\n",
       "    </style><table class=\"wandb\">\n",
       "<tr><td>_runtime</td><td>▁▂▂▂▄▅▅▅▇███</td></tr><tr><td>_timestamp</td><td>▁▂▂▂▄▅▅▅▇███</td></tr><tr><td>_step</td><td>▁▂▂▃▄▄▅▅▆▇▇█</td></tr></table><br/>"
      ],
      "text/plain": [
       "<IPython.core.display.HTML object>"
      ]
     },
     "metadata": {},
     "output_type": "display_data"
    },
    {
     "data": {
      "text/html": [
       "Synced 6 W&B file(s), 0 media file(s), 0 artifact file(s) and 0 other file(s)"
      ],
      "text/plain": [
       "<IPython.core.display.HTML object>"
      ]
     },
     "metadata": {},
     "output_type": "display_data"
    },
    {
     "data": {
      "text/html": [
       "\n",
       "                    <br/>Synced <strong style=\"color:#cdcd00\">AlBERTo-MC-val</strong>: <a href=\"https://wandb.ai/mcstewe/nlu_sentiment_analysis/runs/2mt45vmo\" target=\"_blank\">https://wandb.ai/mcstewe/nlu_sentiment_analysis/runs/2mt45vmo</a><br/>\n",
       "                "
      ],
      "text/plain": [
       "<IPython.core.display.HTML object>"
      ]
     },
     "metadata": {},
     "output_type": "display_data"
    }
   ],
   "source": [
    "np.random.seed(0)\n",
    "torch.manual_seed(0)\n",
    "model = MyNetMC(3).to(device)\n",
    "\n",
    "best_hyper = {'learning_rate': LEARNING_RATE, 'warmup_steps': WARMUP_PROPORTION, 'weight_decay': WEIGHT_DECAY}\n",
    "\n",
    "optimizer = torch.optim.AdamW(model.parameters(),\n",
    "                              lr=best_hyper[\"learning_rate\"],\n",
    "                              weight_decay=best_hyper[\"weight_decay\"], \n",
    "                              eps=1e-6)\n",
    "\n",
    "train_loader = DataLoader(training.with_format(\"torch\", columns=[\"input_ids\", \"attention_mask\", \"labels\", \"token_type_ids\"]), shuffle=True, batch_size=32)\n",
    "val_loader = DataLoader(validating.with_format(\"torch\", columns=[\"input_ids\", \"attention_mask\", \"labels\", \"token_type_ids\"]), batch_size=64)\n",
    "test_loader = DataLoader(testing.with_format(\"torch\", columns=[\"input_ids\", \"attention_mask\", \"labels\", \"token_type_ids\"]), batch_size=64)\n",
    "\n",
    "num_epochs = NUM_EPOCHS\n",
    "num_train_steps = int(len(train_loader) * num_epochs) + 1\n",
    "NUM_WARMUP_STEPS =  int(num_train_steps * best_hyper[\"warmup_steps\"])\n",
    "scheduler = get_linear_schedule_with_warmup(optimizer, NUM_WARMUP_STEPS, num_train_steps)\n",
    "\n",
    "logging = True\n",
    "if logging:\n",
    "    run = wandb.init(\n",
    "      project='nlu_sentiment_analysis',\n",
    "      name=\"AlBERTo-MC-val\",\n",
    "      entity='mcstewe',\n",
    "      notes='',\n",
    "      reinit=True,\n",
    "      config=dict (\n",
    "        epochs=num_epochs\n",
    "      )\n",
    "    )\n",
    "    wandb.watch(model)\n",
    "\n",
    "best_value = 0\n",
    "for epoch in range(num_epochs):\n",
    "    outputs, targets = train_epoch(model, train_loader, optimizer, scheduler, epoch, logging)\n",
    "    f1_train = f1_score(targets, outputs, average='macro')\n",
    "    outputs, targets = validation_epoch(model, epoch, val_loader, \"val\", logging=False)\n",
    "    \n",
    "    f1_val = f1_score(targets, outputs, average='macro')\n",
    "    if f1_val > best_value:\n",
    "        best_value = f1_val\n",
    "        torch.save(model.state_dict(), \"data/models/alberto_multiclass_val.pt\")    \n",
    "    \n",
    "    print(f\"Val F1 = {f1_val}\")\n",
    "    outputs, targets = validation_epoch(model, epoch, test_loader, \"test\", logging=False)\n",
    "    f1_test = f1_score(targets, outputs, average='macro')\n",
    "    print(\"Test F1=\", f1_test)\n",
    "    if logging:\n",
    "        wandb.log({\"train\": {'f1': f1_train, \"lr\": optimizer.param_groups[0]['lr']}})\n",
    "        wandb.log({\"val\": {'f1': f1_val}})\n",
    "        wandb.log({\"test\": {'f1': f1_test}})\n",
    "    \n",
    "if logging:\n",
    "    run.finish()"
   ]
  },
  {
   "cell_type": "code",
   "execution_count": 15,
   "id": "d5b251c1",
   "metadata": {},
   "outputs": [
    {
     "name": "stdout",
     "output_type": "stream",
     "text": [
      "              precision    recall  f1-score   support\n",
      "\n",
      "    negative       0.85      0.54      0.66       734\n",
      "     neutral       0.70      0.82      0.76       914\n",
      "    positive       0.50      0.68      0.57       316\n",
      "\n",
      "    accuracy                           0.69      1964\n",
      "   macro avg       0.68      0.68      0.66      1964\n",
      "weighted avg       0.72      0.69      0.69      1964\n",
      "\n"
     ]
    },
    {
     "data": {
      "text/plain": [
       "Text(0.5, 1.0, 'SENTIPOLC16 - AlBERToMC val')"
      ]
     },
     "execution_count": 15,
     "metadata": {},
     "output_type": "execute_result"
    },
    {
     "data": {
      "image/png": "[encoded data removed]",
      "text/plain": [
       "<Figure size 432x288 with 2 Axes>"
      ]
     },
     "metadata": {
      "needs_background": "light"
     },
     "output_type": "display_data"
    }
   ],
   "source": [
    "#load best model's params\n",
    "model = MyNetMC(3).to(device)\n",
    "model.load_state_dict(torch.load(\"data/models/alberto_multiclass_val.pt\"))\n",
    "\n",
    "preds , trues = validation_epoch(model, None, test_loader, \"test\", logging=False)\n",
    "\n",
    "print(classification_report(trues, preds, target_names=[\"negative\", \"neutral\", \"positive\"]))\n",
    "\n",
    "cm = confusion_matrix(trues, preds, normalize='all')\n",
    "ConfusionMatrixDisplay(confusion_matrix=cm, display_labels=[\"negative\", \"neutral\", \"positive\"]).plot()\n",
    "plt.title(\"SENTIPOLC16 - AlBERToMC val\")"
   ]
  },
  {
   "cell_type": "markdown",
   "id": "8eef60e8",
   "metadata": {},
   "source": [
    "## Training AlBERTo validation set + early stopping"
   ]
  },
  {
   "cell_type": "code",
   "execution_count": 16,
   "id": "f9cba1d9",
   "metadata": {},
   "outputs": [
    {
     "data": {
      "text/html": [
       "\n",
       "                Tracking run with wandb version 0.11.0<br/>\n",
       "                Syncing run <strong style=\"color:#cdcd00\">AlBERTo-MC-val-early</strong> to <a href=\"https://wandb.ai\" target=\"_blank\">Weights & Biases</a> <a href=\"https://docs.wandb.com/integrations/jupyter.html\" target=\"_blank\">(Documentation)</a>.<br/>\n",
       "                Project page: <a href=\"https://wandb.ai/mcstewe/nlu_sentiment_analysis\" target=\"_blank\">https://wandb.ai/mcstewe/nlu_sentiment_analysis</a><br/>\n",
       "                Run page: <a href=\"https://wandb.ai/mcstewe/nlu_sentiment_analysis/runs/ud4kou7m\" target=\"_blank\">https://wandb.ai/mcstewe/nlu_sentiment_analysis/runs/ud4kou7m</a><br/>\n",
       "                Run data is saved locally in <code>/home/steve/NLU_final_project/wandb/run-20210728_163743-ud4kou7m</code><br/><br/>\n",
       "            "
      ],
      "text/plain": [
       "<IPython.core.display.HTML object>"
      ]
     },
     "metadata": {},
     "output_type": "display_data"
    },
    {
     "data": {
      "application/vnd.jupyter.widget-view+json": {
       "model_id": "4df2c480ced54ef187a2153f332fd2bd",
       "version_major": 2,
       "version_minor": 0
      },
      "text/plain": [
       "HBox(children=(FloatProgress(value=0.0, max=175.0), HTML(value='')))"
      ]
     },
     "metadata": {},
     "output_type": "display_data"
    },
    {
     "name": "stdout",
     "output_type": "stream",
     "text": [
      "Epoch: 0, Loss:  1.2345131238301594\n",
      "Epoch: 0, Loss:  1.1411834249691086\n",
      "Epoch: 0, Loss:  1.1024458601668075\n",
      "Epoch: 0, Loss:  1.0697204898102115\n",
      "Epoch: 0, Loss:  1.041627699329007\n",
      "Epoch: 0, Loss:  1.013516419685927\n",
      "Epoch: 0, Loss:  0.9802253986227101\n",
      "\n",
      "Val F1 = 0.6686317008619516\n",
      "Test F1= 0.5879855197717557\n"
     ]
    },
    {
     "data": {
      "application/vnd.jupyter.widget-view+json": {
       "model_id": "781561958e1c4120beb92d0a269e7ca2",
       "version_major": 2,
       "version_minor": 0
      },
      "text/plain": [
       "HBox(children=(FloatProgress(value=0.0, max=175.0), HTML(value='')))"
      ]
     },
     "metadata": {},
     "output_type": "display_data"
    },
    {
     "name": "stdout",
     "output_type": "stream",
     "text": [
      "Epoch: 1, Loss:  0.690000851949056\n",
      "Epoch: 1, Loss:  0.6775322738958864\n",
      "Epoch: 1, Loss:  0.6683350124874631\n",
      "Epoch: 1, Loss:  0.6740531536063763\n",
      "Epoch: 1, Loss:  0.6742321137459047\n",
      "Epoch: 1, Loss:  0.6683968665615824\n",
      "Epoch: 1, Loss:  0.666448702757386\n",
      "\n",
      "Val F1 = 0.7043895429086909\n",
      "Test F1= 0.6696951477196876\n"
     ]
    },
    {
     "data": {
      "application/vnd.jupyter.widget-view+json": {
       "model_id": "ec2772e299bb46d9bda6b20dfef1a119",
       "version_major": 2,
       "version_minor": 0
      },
      "text/plain": [
       "HBox(children=(FloatProgress(value=0.0, max=175.0), HTML(value='')))"
      ]
     },
     "metadata": {},
     "output_type": "display_data"
    },
    {
     "name": "stdout",
     "output_type": "stream",
     "text": [
      "Epoch: 2, Loss:  0.4457172155380249\n",
      "Epoch: 2, Loss:  0.43172252421476404\n",
      "Epoch: 2, Loss:  0.4375398996713999\n",
      "Epoch: 2, Loss:  0.418652659714824\n",
      "Epoch: 2, Loss:  0.41905996876378215\n",
      "Epoch: 2, Loss:  0.42191662884398595\n",
      "Epoch: 2, Loss:  0.41719335797189294\n",
      "\n",
      "Val F1 = 0.6952758781234302\n",
      "Test F1= 0.6282632185690321\n"
     ]
    },
    {
     "data": {
      "application/vnd.jupyter.widget-view+json": {
       "model_id": "c2a9aafa39d44f8aba3754fe8c343f25",
       "version_major": 2,
       "version_minor": 0
      },
      "text/plain": [
       "HBox(children=(FloatProgress(value=0.0, max=175.0), HTML(value='')))"
      ]
     },
     "metadata": {},
     "output_type": "display_data"
    },
    {
     "name": "stdout",
     "output_type": "stream",
     "text": [
      "Epoch: 3, Loss:  0.20192249615987143\n",
      "Epoch: 3, Loss:  0.22299976738131777\n",
      "Epoch: 3, Loss:  0.20574488510956634\n",
      "Epoch: 3, Loss:  0.1952764530374546\n",
      "Epoch: 3, Loss:  0.20137188511510049\n",
      "Epoch: 3, Loss:  0.19925735780856754\n",
      "Epoch: 3, Loss:  0.200122044004243\n",
      "\n",
      "Val F1 = 0.6719427784564243\n",
      "Test F1= 0.5958470073279017\n"
     ]
    },
    {
     "data": {
      "application/vnd.jupyter.widget-view+json": {
       "model_id": "4c9e52ffcd04408b8041710a97a2c8fd",
       "version_major": 2,
       "version_minor": 0
      },
      "text/plain": [
       "HBox(children=(FloatProgress(value=0.0, max=175.0), HTML(value='')))"
      ]
     },
     "metadata": {},
     "output_type": "display_data"
    },
    {
     "name": "stdout",
     "output_type": "stream",
     "text": [
      "Epoch: 4, Loss:  0.12693308790524802\n",
      "Epoch: 4, Loss:  0.11382808490675322\n",
      "Epoch: 4, Loss:  0.10991976712201093\n",
      "Epoch: 4, Loss:  0.11067261358704229\n",
      "Epoch: 4, Loss:  0.10642489310233824\n",
      "Epoch: 4, Loss:  0.11058808653146629\n",
      "Epoch: 4, Loss:  0.10781150028623383\n",
      "\n",
      "Val F1 = 0.6896221052706455\n",
      "Test F1= 0.65822544071392\n"
     ]
    },
    {
     "data": {
      "application/vnd.jupyter.widget-view+json": {
       "model_id": "9aff5911fe1f41e18e76e846036aa6ae",
       "version_major": 2,
       "version_minor": 0
      },
      "text/plain": [
       "HBox(children=(FloatProgress(value=0.0, max=175.0), HTML(value='')))"
      ]
     },
     "metadata": {},
     "output_type": "display_data"
    },
    {
     "name": "stdout",
     "output_type": "stream",
     "text": [
      "Epoch: 5, Loss:  0.045173188050587974\n",
      "Epoch: 5, Loss:  0.04322034485486089\n",
      "Epoch: 5, Loss:  0.045195292782139136\n",
      "Epoch: 5, Loss:  0.05122991523357353\n",
      "Epoch: 5, Loss:  0.049474958450563496\n",
      "Epoch: 5, Loss:  0.049493114420231556\n",
      "Epoch: 5, Loss:  0.0536770765808807\n",
      "\n",
      "\n",
      "\n",
      "EARLY STOPPING AFTER 5 EPOCHS\n"
     ]
    },
    {
     "data": {
      "text/html": [
       "<br/>Waiting for W&B process to finish, PID 15408<br/>Program ended successfully."
      ],
      "text/plain": [
       "<IPython.core.display.HTML object>"
      ]
     },
     "metadata": {},
     "output_type": "display_data"
    },
    {
     "data": {
      "application/vnd.jupyter.widget-view+json": {
       "model_id": "",
       "version_major": 2,
       "version_minor": 0
      },
      "text/plain": [
       "VBox(children=(Label(value=' 0.00MB of 0.00MB uploaded (0.00MB deduped)\\r'), FloatProgress(value=1.0, max=1.0)…"
      ]
     },
     "metadata": {},
     "output_type": "display_data"
    },
    {
     "data": {
      "text/html": [
       "Find user logs for this run at: <code>/home/steve/NLU_final_project/wandb/run-20210728_163743-ud4kou7m/logs/debug.log</code>"
      ],
      "text/plain": [
       "<IPython.core.display.HTML object>"
      ]
     },
     "metadata": {},
     "output_type": "display_data"
    },
    {
     "data": {
      "text/html": [
       "Find internal logs for this run at: <code>/home/steve/NLU_final_project/wandb/run-20210728_163743-ud4kou7m/logs/debug-internal.log</code>"
      ],
      "text/plain": [
       "<IPython.core.display.HTML object>"
      ]
     },
     "metadata": {},
     "output_type": "display_data"
    },
    {
     "data": {
      "text/html": [
       "<h3>Run summary:</h3><br/><style>\n",
       "    table.wandb td:nth-child(1) { padding: 0 10px; text-align: right }\n",
       "    </style><table class=\"wandb\">\n",
       "<tr><td>_runtime</td><td>352</td></tr><tr><td>_timestamp</td><td>1627483415</td></tr><tr><td>_step</td><td>20</td></tr></table>"
      ],
      "text/plain": [
       "<IPython.core.display.HTML object>"
      ]
     },
     "metadata": {},
     "output_type": "display_data"
    },
    {
     "data": {
      "text/html": [
       "<h3>Run history:</h3><br/><style>\n",
       "    table.wandb td:nth-child(1) { padding: 0 10px; text-align: right }\n",
       "    </style><table class=\"wandb\">\n",
       "<tr><td>_runtime</td><td>▁▁▁▁▂▃▃▃▄▄▄▄▅▅▅▅▇▇▇▇█</td></tr><tr><td>_timestamp</td><td>▁▁▁▁▂▃▃▃▄▄▄▄▅▅▅▅▇▇▇▇█</td></tr><tr><td>_step</td><td>▁▁▂▂▂▃▃▃▄▄▅▅▅▆▆▆▇▇▇██</td></tr></table><br/>"
      ],
      "text/plain": [
       "<IPython.core.display.HTML object>"
      ]
     },
     "metadata": {},
     "output_type": "display_data"
    },
    {
     "data": {
      "text/html": [
       "Synced 6 W&B file(s), 0 media file(s), 0 artifact file(s) and 0 other file(s)"
      ],
      "text/plain": [
       "<IPython.core.display.HTML object>"
      ]
     },
     "metadata": {},
     "output_type": "display_data"
    },
    {
     "data": {
      "text/html": [
       "\n",
       "                    <br/>Synced <strong style=\"color:#cdcd00\">AlBERTo-MC-val-early</strong>: <a href=\"https://wandb.ai/mcstewe/nlu_sentiment_analysis/runs/ud4kou7m\" target=\"_blank\">https://wandb.ai/mcstewe/nlu_sentiment_analysis/runs/ud4kou7m</a><br/>\n",
       "                "
      ],
      "text/plain": [
       "<IPython.core.display.HTML object>"
      ]
     },
     "metadata": {},
     "output_type": "display_data"
    }
   ],
   "source": [
    "np.random.seed(0)\n",
    "torch.manual_seed(0)\n",
    "model = MyNetMC(3).to(device)\n",
    "\n",
    "best_hyper = {'learning_rate': LEARNING_RATE, 'warmup_steps': WARMUP_PROPORTION, 'weight_decay': WEIGHT_DECAY}\n",
    "\n",
    "optimizer = torch.optim.AdamW(model.parameters(),\n",
    "                              lr=best_hyper[\"learning_rate\"],\n",
    "                              weight_decay=best_hyper[\"weight_decay\"], \n",
    "                              eps=1e-6)\n",
    "\n",
    "train_loader = DataLoader(training.with_format(\"torch\", columns=[\"input_ids\", \"attention_mask\", \"labels\", \"token_type_ids\"]), shuffle=True, batch_size=32)\n",
    "val_loader = DataLoader(validating.with_format(\"torch\", columns=[\"input_ids\", \"attention_mask\", \"labels\", \"token_type_ids\"]), batch_size=64)\n",
    "test_loader = DataLoader(testing.with_format(\"torch\", columns=[\"input_ids\", \"attention_mask\", \"labels\", \"token_type_ids\"]), batch_size=64)\n",
    "\n",
    "num_epochs = 15\n",
    "num_train_steps = int(len(train_loader) * num_epochs) + 1\n",
    "NUM_WARMUP_STEPS =  int(num_train_steps * best_hyper[\"warmup_steps\"])\n",
    "scheduler = get_linear_schedule_with_warmup(optimizer, NUM_WARMUP_STEPS, num_train_steps)\n",
    "early_stopping = EarlyStopping(min_delta=0.005, patience=3)\n",
    "\n",
    "logging = True\n",
    "if logging:\n",
    "    run = wandb.init(\n",
    "      project='nlu_sentiment_analysis',\n",
    "      name=\"AlBERTo-MC-val-early\",\n",
    "      entity='mcstewe',\n",
    "      notes='',\n",
    "      reinit=True,\n",
    "      config=dict (\n",
    "        epochs=num_epochs\n",
    "      )\n",
    "    )\n",
    "    wandb.watch(model)\n",
    "\n",
    "best_value = 0\n",
    "for epoch in range(num_epochs):\n",
    "    outputs, targets = train_epoch(model, train_loader, optimizer, scheduler, epoch, logging)\n",
    "    f1_train = f1_score(targets, outputs, average='macro')\n",
    "    outputs, targets = validation_epoch(model, epoch, val_loader, \"val\", logging=False)\n",
    "    \n",
    "    f1_val = f1_score(targets, outputs, average='macro')\n",
    "    if f1_val > best_value:\n",
    "        best_value = f1_val\n",
    "        torch.save(model.state_dict(), \"data/models/alberto_multiclass_val_early.pt\")   \n",
    "    if early_stopping.on_epoch_end(epoch, f1_val):\n",
    "        print(\"\\n\\nEARLY STOPPING AFTER {} EPOCHS\".format(epoch))\n",
    "        break\n",
    "    \n",
    "    print(f\"Val F1 = {f1_val}\")\n",
    "    outputs, targets = validation_epoch(model, epoch, test_loader, \"test\", logging=False)\n",
    "    f1_test = f1_score(targets, outputs, average='macro')\n",
    "    print(\"Test F1=\", f1_test)\n",
    "    if logging:\n",
    "        wandb.log({\"train\": {'f1': f1_train, \"lr\": optimizer.param_groups[0]['lr']}})\n",
    "        wandb.log({\"val\": {'f1': f1_val}})\n",
    "        wandb.log({\"test\": {'f1': f1_test}})\n",
    "    \n",
    "if logging:\n",
    "    run.finish()"
   ]
  },
  {
   "cell_type": "code",
   "execution_count": 17,
   "id": "3e76c47a",
   "metadata": {},
   "outputs": [
    {
     "name": "stdout",
     "output_type": "stream",
     "text": [
      "              precision    recall  f1-score   support\n",
      "\n",
      "    negative       0.86      0.53      0.66       734\n",
      "     neutral       0.67      0.88      0.76       914\n",
      "    positive       0.60      0.59      0.59       316\n",
      "\n",
      "    accuracy                           0.70      1964\n",
      "   macro avg       0.71      0.67      0.67      1964\n",
      "weighted avg       0.73      0.70      0.69      1964\n",
      "\n"
     ]
    },
    {
     "data": {
      "text/plain": [
       "Text(0.5, 1.0, 'SENTIPOLC16 - AlBERToMC val+early')"
      ]
     },
     "execution_count": 17,
     "metadata": {},
     "output_type": "execute_result"
    },
    {
     "data": {
      "image/png": "[encoded data removed]",
      "text/plain": [
       "<Figure size 432x288 with 2 Axes>"
      ]
     },
     "metadata": {
      "needs_background": "light"
     },
     "output_type": "display_data"
    }
   ],
   "source": [
    "#load best model's params\n",
    "model = MyNetMC(3).to(device)\n",
    "model.load_state_dict(torch.load(\"data/models/alberto_multiclass_val_early.pt\"))\n",
    "\n",
    "preds , trues = validation_epoch(model, None, test_loader, \"test\", logging=False)\n",
    "\n",
    "print(classification_report(trues, preds, target_names=[\"negative\", \"neutral\", \"positive\"]))\n",
    "\n",
    "cm = confusion_matrix(trues, preds, normalize='all')\n",
    "ConfusionMatrixDisplay(confusion_matrix=cm, display_labels=[\"negative\", \"neutral\", \"positive\"]).plot()\n",
    "plt.title(\"SENTIPOLC16 - AlBERToMC val+early\")"
   ]
  },
  {
   "cell_type": "markdown",
   "id": "d4e3e595",
   "metadata": {},
   "source": [
    "## Training AlBERTo tuned + early stopping"
   ]
  },
  {
   "cell_type": "markdown",
   "id": "1926291a",
   "metadata": {},
   "source": [
    "#### run HPT to get the best hyper-parameters, then train the model"
   ]
  },
  {
   "cell_type": "code",
   "execution_count": 12,
   "id": "c60ac93d",
   "metadata": {},
   "outputs": [],
   "source": [
    "best_hyper = None"
   ]
  },
  {
   "cell_type": "code",
   "execution_count": 13,
   "id": "9e312ad6",
   "metadata": {},
   "outputs": [
    {
     "name": "stdout",
     "output_type": "stream",
     "text": [
      "skipping\n"
     ]
    }
   ],
   "source": [
    "%%script echo skipping\n",
    "study = optuna.create_study(direction=\"maximize\")\n",
    "study.optimize(objective, n_trials=30, timeout=600)\n",
    "\n",
    "pruned_trials = study.get_trials(deepcopy=False, states=[TrialState.PRUNED])\n",
    "complete_trials = study.get_trials(deepcopy=False, states=[TrialState.COMPLETE])\n",
    "\n",
    "print(\"Study statistics: \")\n",
    "print(\"  Number of finished trials: \", len(study.trials))\n",
    "print(\"  Number of pruned trials: \", len(pruned_trials))\n",
    "print(\"  Number of complete trials: \", len(complete_trials))\n",
    "\n",
    "print(\"Best trial:\")\n",
    "trial = study.best_trial\n",
    "best_hyper = trial.params\n",
    "print(\"  Value: \", trial.value)\n",
    "\n",
    "print(\"  Params: \")\n",
    "for key, value in trial.params.items():\n",
    "    print(\"    {}: {}\".format(key, value))"
   ]
  },
  {
   "cell_type": "code",
   "execution_count": 21,
   "id": "7ba7e89b",
   "metadata": {},
   "outputs": [
    {
     "data": {
      "application/vnd.jupyter.widget-view+json": {
       "model_id": "cefffd624fec41df87aa4f4eb49059dc",
       "version_major": 2,
       "version_minor": 0
      },
      "text/plain": [
       "HBox(children=(FloatProgress(value=0.0, max=175.0), HTML(value='')))"
      ]
     },
     "metadata": {},
     "output_type": "display_data"
    },
    {
     "name": "stdout",
     "output_type": "stream",
     "text": [
      "\n",
      "Val F1 = 0.2724485437545008\n",
      "Test F1= 0.31124803732608974\n"
     ]
    },
    {
     "data": {
      "application/vnd.jupyter.widget-view+json": {
       "model_id": "f094e433cbb742c0910487c95fdcc81a",
       "version_major": 2,
       "version_minor": 0
      },
      "text/plain": [
       "HBox(children=(FloatProgress(value=0.0, max=175.0), HTML(value='')))"
      ]
     },
     "metadata": {},
     "output_type": "display_data"
    },
    {
     "name": "stdout",
     "output_type": "stream",
     "text": [
      "\n",
      "Val F1 = 0.37721603956898075\n",
      "Test F1= 0.4199889925125291\n"
     ]
    },
    {
     "data": {
      "application/vnd.jupyter.widget-view+json": {
       "model_id": "45a559719a8545cd83fdae3bfa09f387",
       "version_major": 2,
       "version_minor": 0
      },
      "text/plain": [
       "HBox(children=(FloatProgress(value=0.0, max=175.0), HTML(value='')))"
      ]
     },
     "metadata": {},
     "output_type": "display_data"
    },
    {
     "name": "stdout",
     "output_type": "stream",
     "text": [
      "\n",
      "Val F1 = 0.46300888268758267\n",
      "Test F1= 0.47188545099569407\n"
     ]
    },
    {
     "data": {
      "application/vnd.jupyter.widget-view+json": {
       "model_id": "869ecb8ab4d946459a2d0cc1159ba806",
       "version_major": 2,
       "version_minor": 0
      },
      "text/plain": [
       "HBox(children=(FloatProgress(value=0.0, max=175.0), HTML(value='')))"
      ]
     },
     "metadata": {},
     "output_type": "display_data"
    },
    {
     "name": "stdout",
     "output_type": "stream",
     "text": [
      "\n",
      "Val F1 = 0.6107943483950645\n",
      "Test F1= 0.590590089508691\n"
     ]
    },
    {
     "data": {
      "application/vnd.jupyter.widget-view+json": {
       "model_id": "d59a1e17c8bf4836bfdd1b767dde98da",
       "version_major": 2,
       "version_minor": 0
      },
      "text/plain": [
       "HBox(children=(FloatProgress(value=0.0, max=175.0), HTML(value='')))"
      ]
     },
     "metadata": {},
     "output_type": "display_data"
    },
    {
     "name": "stdout",
     "output_type": "stream",
     "text": [
      "\n",
      "Val F1 = 0.674694012949511\n",
      "Test F1= 0.6444330196773654\n"
     ]
    },
    {
     "data": {
      "application/vnd.jupyter.widget-view+json": {
       "model_id": "d12c76d3596b4537b19857ad695fce49",
       "version_major": 2,
       "version_minor": 0
      },
      "text/plain": [
       "HBox(children=(FloatProgress(value=0.0, max=175.0), HTML(value='')))"
      ]
     },
     "metadata": {},
     "output_type": "display_data"
    },
    {
     "name": "stdout",
     "output_type": "stream",
     "text": [
      "\n",
      "Val F1 = 0.6877731600936868\n",
      "Test F1= 0.6506429472373746\n"
     ]
    },
    {
     "data": {
      "application/vnd.jupyter.widget-view+json": {
       "model_id": "42066f8cbbfb4f85977e2893150fc6da",
       "version_major": 2,
       "version_minor": 0
      },
      "text/plain": [
       "HBox(children=(FloatProgress(value=0.0, max=175.0), HTML(value='')))"
      ]
     },
     "metadata": {},
     "output_type": "display_data"
    },
    {
     "name": "stdout",
     "output_type": "stream",
     "text": [
      "\n",
      "Val F1 = 0.6969663074800191\n",
      "Test F1= 0.6813401256930449\n"
     ]
    },
    {
     "data": {
      "application/vnd.jupyter.widget-view+json": {
       "model_id": "e63848f0a0a644678a15942b240b0fd7",
       "version_major": 2,
       "version_minor": 0
      },
      "text/plain": [
       "HBox(children=(FloatProgress(value=0.0, max=175.0), HTML(value='')))"
      ]
     },
     "metadata": {},
     "output_type": "display_data"
    },
    {
     "name": "stdout",
     "output_type": "stream",
     "text": [
      "\n",
      "Val F1 = 0.7042552748383276\n",
      "Test F1= 0.6674615448729483\n"
     ]
    },
    {
     "data": {
      "application/vnd.jupyter.widget-view+json": {
       "model_id": "865ab3b595cc49ff9f755121b7207ed8",
       "version_major": 2,
       "version_minor": 0
      },
      "text/plain": [
       "HBox(children=(FloatProgress(value=0.0, max=175.0), HTML(value='')))"
      ]
     },
     "metadata": {},
     "output_type": "display_data"
    },
    {
     "name": "stdout",
     "output_type": "stream",
     "text": [
      "\n",
      "Val F1 = 0.7028982524637204\n",
      "Test F1= 0.699602790663357\n"
     ]
    },
    {
     "data": {
      "application/vnd.jupyter.widget-view+json": {
       "model_id": "16d0d19faf5c4caaa1d0e141576fbeec",
       "version_major": 2,
       "version_minor": 0
      },
      "text/plain": [
       "HBox(children=(FloatProgress(value=0.0, max=175.0), HTML(value='')))"
      ]
     },
     "metadata": {},
     "output_type": "display_data"
    },
    {
     "name": "stdout",
     "output_type": "stream",
     "text": [
      "\n",
      "Val F1 = 0.7043223678478109\n",
      "Test F1= 0.680325606225073\n"
     ]
    },
    {
     "data": {
      "application/vnd.jupyter.widget-view+json": {
       "model_id": "be98c950359043958abc85d34e8bb4bd",
       "version_major": 2,
       "version_minor": 0
      },
      "text/plain": [
       "HBox(children=(FloatProgress(value=0.0, max=175.0), HTML(value='')))"
      ]
     },
     "metadata": {},
     "output_type": "display_data"
    },
    {
     "name": "stdout",
     "output_type": "stream",
     "text": [
      "\n",
      "Val F1 = 0.7104462675822143\n",
      "Test F1= 0.6679803148880493\n"
     ]
    },
    {
     "data": {
      "application/vnd.jupyter.widget-view+json": {
       "model_id": "97ea2cf560f94cc69b67ca04e819303f",
       "version_major": 2,
       "version_minor": 0
      },
      "text/plain": [
       "HBox(children=(FloatProgress(value=0.0, max=175.0), HTML(value='')))"
      ]
     },
     "metadata": {},
     "output_type": "display_data"
    },
    {
     "name": "stdout",
     "output_type": "stream",
     "text": [
      "\n",
      "Val F1 = 0.7121108164350799\n",
      "Test F1= 0.6714469967540279\n"
     ]
    },
    {
     "data": {
      "application/vnd.jupyter.widget-view+json": {
       "model_id": "a1eaa0c25a3e4a5f8f95d2dde534be5c",
       "version_major": 2,
       "version_minor": 0
      },
      "text/plain": [
       "HBox(children=(FloatProgress(value=0.0, max=175.0), HTML(value='')))"
      ]
     },
     "metadata": {},
     "output_type": "display_data"
    },
    {
     "name": "stdout",
     "output_type": "stream",
     "text": [
      "\n",
      "Val F1 = 0.7038949140870102\n",
      "Test F1= 0.666467299283587\n"
     ]
    },
    {
     "data": {
      "application/vnd.jupyter.widget-view+json": {
       "model_id": "0be7a0a962304a1590cfaf7b808caf03",
       "version_major": 2,
       "version_minor": 0
      },
      "text/plain": [
       "HBox(children=(FloatProgress(value=0.0, max=175.0), HTML(value='')))"
      ]
     },
     "metadata": {},
     "output_type": "display_data"
    },
    {
     "name": "stdout",
     "output_type": "stream",
     "text": [
      "\n",
      "Val F1 = 0.7024560607824114\n",
      "Test F1= 0.6629838853305716\n"
     ]
    },
    {
     "data": {
      "application/vnd.jupyter.widget-view+json": {
       "model_id": "5e4120eac5224d93b1561119f8723dd8",
       "version_major": 2,
       "version_minor": 0
      },
      "text/plain": [
       "HBox(children=(FloatProgress(value=0.0, max=175.0), HTML(value='')))"
      ]
     },
     "metadata": {},
     "output_type": "display_data"
    },
    {
     "name": "stdout",
     "output_type": "stream",
     "text": [
      "\n",
      "\n",
      "\n",
      "EARLY STOPPING AFTER 14 EPOCHS\n"
     ]
    }
   ],
   "source": [
    "np.random.seed(0)\n",
    "torch.manual_seed(0)\n",
    "model = MyNetMCTuned(3).to(device)\n",
    "\n",
    "if best_hyper is None:\n",
    "    best_hyper = {'learning_rate': 3.000003529363845e-06, 'warmup_steps': 0.6, 'weight_decay': 0.000260393798851559}\n",
    "\n",
    "\n",
    "# we will iterate through the layers of the network\n",
    "#final_weights = []\n",
    "#pretrained_weights = []\n",
    "# for name, param in model.named_parameters():\n",
    "#     if name.startswith('model'):\n",
    "#         pretrained_weights.append(param)\n",
    "#     else:\n",
    "#         final_weights.append(param)\n",
    "#optimizer = torch.optim.AdamW(params=[\n",
    "#                                {'params': pretrained_weights, 'lr': 1e-5},\n",
    "#                                {'params': final_weights, 'lr': 6e-5}],\n",
    "#                              weight_decay=0.01, \n",
    "#                              eps=1e-6)\n",
    "optimizer = torch.optim.AdamW(model.parameters(),\n",
    "                              lr=best_hyper[\"learning_rate\"],\n",
    "                              weight_decay=best_hyper[\"weight_decay\"], \n",
    "                              eps=1e-6)\n",
    "early_stopping = EarlyStopping(min_delta=0.005, patience=3)\n",
    "\n",
    "\n",
    "train_loader = DataLoader(training.with_format(\"torch\", columns=[\"input_ids\", \"attention_mask\", \"labels\", \"token_type_ids\"]), shuffle=True, batch_size=32)\n",
    "val_loader = DataLoader(validating.with_format(\"torch\", columns=[\"input_ids\", \"attention_mask\", \"labels\", \"token_type_ids\"]), batch_size=64)\n",
    "test_loader = DataLoader(testing.with_format(\"torch\", columns=[\"input_ids\", \"attention_mask\", \"labels\", \"token_type_ids\"]), batch_size=64)\n",
    "\n",
    "num_epochs = 15\n",
    "num_train_steps = int(len(train_loader) * num_epochs) + 1\n",
    "NUM_WARMUP_STEPS =  int(num_train_steps * best_hyper[\"warmup_steps\"])\n",
    "scheduler = get_linear_schedule_with_warmup(optimizer, NUM_WARMUP_STEPS, num_train_steps)\n",
    "\n",
    "logging = False\n",
    "if logging:\n",
    "    run = wandb.init(\n",
    "      project='nlu_sentiment_analysis',\n",
    "      name=\"AlBERTo-MC-tuned\",\n",
    "      entity='mcstewe',\n",
    "      notes='',\n",
    "      reinit=True,\n",
    "      config=dict (\n",
    "        epochs=num_epochs\n",
    "      )\n",
    "    )\n",
    "    wandb.watch(model)\n",
    "\n",
    "best_value = 0\n",
    "for epoch in range(num_epochs):\n",
    "    outputs, targets = train_epoch(model, train_loader, optimizer, scheduler, epoch, logging)\n",
    "    f1_train = f1_score(targets, outputs, average='macro')\n",
    "    outputs, targets = validation_epoch(model, epoch, val_loader, \"val\", logging=False)\n",
    "    \n",
    "    f1_val = f1_score(targets, outputs, average='macro')\n",
    "    if f1_val > best_value:\n",
    "        best_value = f1_val\n",
    "        torch.save(model.state_dict(), \"data/models/alberto_multiclass_tuned.pt\")    \n",
    "    if early_stopping.on_epoch_end(epoch, f1_val):\n",
    "        print(\"\\n\\nEARLY STOPPING AFTER {} EPOCHS\".format(epoch))\n",
    "        break\n",
    "    \n",
    "    print(f\"Val F1 = {f1_val}\")\n",
    "    outputs, targets = validation_epoch(model, epoch, test_loader, \"test\", logging=False)\n",
    "    f1_test = f1_score(targets, outputs, average='macro')\n",
    "    print(\"Test F1=\", f1_test)\n",
    "    if logging:\n",
    "        wandb.log({\"train\": {'f1': f1_train, \"lr\": optimizer.param_groups[0]['lr']}})\n",
    "        wandb.log({\"val\": {'f1': f1_val}})\n",
    "        wandb.log({\"test\": {'f1': f1_test}})\n",
    "    \n",
    "if logging:\n",
    "    run.finish()"
   ]
  },
  {
   "cell_type": "code",
   "execution_count": 22,
   "id": "f97c70da",
   "metadata": {},
   "outputs": [
    {
     "name": "stdout",
     "output_type": "stream",
     "text": [
      "              precision    recall  f1-score   support\n",
      "\n",
      "    negative       0.85      0.55      0.67       734\n",
      "     neutral       0.70      0.85      0.76       914\n",
      "    positive       0.53      0.63      0.58       316\n",
      "\n",
      "    accuracy                           0.70      1964\n",
      "   macro avg       0.69      0.68      0.67      1964\n",
      "weighted avg       0.73      0.70      0.70      1964\n",
      "\n"
     ]
    },
    {
     "data": {
      "text/plain": [
       "Text(0.5, 1.0, 'SENTIPOLC16 - AlBERToMC tuned')"
      ]
     },
     "execution_count": 22,
     "metadata": {},
     "output_type": "execute_result"
    },
    {
     "data": {
      "image/png": "[encoded data removed]",
      "text/plain": [
       "<Figure size 432x288 with 2 Axes>"
      ]
     },
     "metadata": {
      "needs_background": "light"
     },
     "output_type": "display_data"
    }
   ],
   "source": [
    "#load best model's params\n",
    "model = MyNetMCTuned(3).to(device)\n",
    "model.load_state_dict(torch.load(\"data/models/alberto_multiclass_tuned.pt\"))\n",
    "\n",
    "preds , trues = validation_epoch(model, None, test_loader, \"test\", logging=False)\n",
    "print(classification_report(trues, preds, target_names=[\"negative\", \"neutral\", \"positive\"]))\n",
    "\n",
    "cm = confusion_matrix(trues, preds, normalize='all')\n",
    "ConfusionMatrixDisplay(confusion_matrix=cm, display_labels=[\"negative\", \"neutral\", \"positive\"]).plot()\n",
    "plt.title(\"SENTIPOLC16 - AlBERToMC tuned\")"
   ]
  }
 ],
 "metadata": {
  "kernelspec": {
   "display_name": "Python 3",
   "language": "python",
   "name": "python3"
  },
  "language_info": {
   "codemirror_mode": {
    "name": "ipython",
    "version": 3
   },
   "file_extension": ".py",
   "mimetype": "text/x-python",
   "name": "python",
   "nbconvert_exporter": "python",
   "pygments_lexer": "ipython3",
   "version": "3.7.10"
  }
 },
 "nbformat": 4,
 "nbformat_minor": 5
}
