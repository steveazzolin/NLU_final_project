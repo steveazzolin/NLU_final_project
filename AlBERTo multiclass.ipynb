{
 "cells": [
  {
   "cell_type": "code",
   "execution_count": 1,
   "id": "36508ebf",
   "metadata": {},
   "outputs": [
    {
     "name": "stdout",
     "output_type": "stream",
     "text": [
      "env: WANDB_PROJECT=nlu_sentiment_analysis\n",
      "\u001b[34m\u001b[1mwandb\u001b[0m: Appending key for api.wandb.ai to your netrc file: /home/steve/.netrc\n"
     ]
    }
   ],
   "source": [
    "%env WANDB_PROJECT=nlu_sentiment_analysis\n",
    "!wandb login 2cad8a8279143c69ce071f54bf37c1f5a5f4e5ff\n",
    "import wandb\n",
    "\n",
    "from ekphrasis.classes.preprocessor import TextPreProcessor\n",
    "from ekphrasis.classes.tokenizer import SocialTokenizer\n",
    "from ekphrasis.dicts.emoticons import emoticons\n",
    "\n",
    "import pandas as pd\n",
    "import numpy as np\n",
    "import matplotlib.pyplot as plt\n",
    "from tqdm.notebook import tqdm\n",
    "import itertools\n",
    "import requests, re, string, datetime, copy\n",
    "from functools import partial\n",
    "\n",
    "import torch\n",
    "import torchvision.transforms as T, torch.nn.functional as F, torch.nn as nn\n",
    "\n",
    "from datasets import Dataset\n",
    "from transformers import TrainingArguments, EarlyStoppingCallback, TrainerCallback\n",
    "from transformers import Trainer\n",
    "from transformers.modeling_outputs import SequenceClassifierOutput\n",
    "\n",
    "from sklearn.model_selection import train_test_split\n",
    "from sklearn.metrics import classification_report, confusion_matrix, ConfusionMatrixDisplay\n",
    "from sklearn.metrics import precision_recall_fscore_support, accuracy_score\n",
    "\n",
    "PATH = \"./data/Sentipolc16/\""
   ]
  },
  {
   "cell_type": "code",
   "execution_count": 2,
   "id": "252c576e",
   "metadata": {},
   "outputs": [
    {
     "data": {
      "text/html": [
       "<div>\n",
       "<style scoped>\n",
       "    .dataframe tbody tr th:only-of-type {\n",
       "        vertical-align: middle;\n",
       "    }\n",
       "\n",
       "    .dataframe tbody tr th {\n",
       "        vertical-align: top;\n",
       "    }\n",
       "\n",
       "    .dataframe thead th {\n",
       "        text-align: right;\n",
       "    }\n",
       "</style>\n",
       "<table border=\"1\" class=\"dataframe\">\n",
       "  <thead>\n",
       "    <tr style=\"text-align: right;\">\n",
       "      <th></th>\n",
       "      <th>idtwitter</th>\n",
       "      <th>subj</th>\n",
       "      <th>opos</th>\n",
       "      <th>oneg</th>\n",
       "      <th>iro</th>\n",
       "      <th>lpos</th>\n",
       "      <th>lneg</th>\n",
       "      <th>top</th>\n",
       "      <th>text</th>\n",
       "    </tr>\n",
       "  </thead>\n",
       "  <tbody>\n",
       "    <tr>\n",
       "      <th>0</th>\n",
       "      <td>122449983151669248</td>\n",
       "      <td>1</td>\n",
       "      <td>0</td>\n",
       "      <td>1</td>\n",
       "      <td>0</td>\n",
       "      <td>0</td>\n",
       "      <td>1</td>\n",
       "      <td>1</td>\n",
       "      <td>Intanto la partita per Via Nazionale si compli...</td>\n",
       "    </tr>\n",
       "    <tr>\n",
       "      <th>1</th>\n",
       "      <td>125485104863780865</td>\n",
       "      <td>1</td>\n",
       "      <td>0</td>\n",
       "      <td>1</td>\n",
       "      <td>0</td>\n",
       "      <td>0</td>\n",
       "      <td>1</td>\n",
       "      <td>1</td>\n",
       "      <td>False illusioni, sgradevoli realtà Mario Monti...</td>\n",
       "    </tr>\n",
       "    <tr>\n",
       "      <th>2</th>\n",
       "      <td>125513454315507712</td>\n",
       "      <td>1</td>\n",
       "      <td>0</td>\n",
       "      <td>1</td>\n",
       "      <td>0</td>\n",
       "      <td>0</td>\n",
       "      <td>1</td>\n",
       "      <td>1</td>\n",
       "      <td>False illusioni, sgradevoli realtà #editoriale...</td>\n",
       "    </tr>\n",
       "    <tr>\n",
       "      <th>3</th>\n",
       "      <td>125524238290522113</td>\n",
       "      <td>1</td>\n",
       "      <td>0</td>\n",
       "      <td>1</td>\n",
       "      <td>0</td>\n",
       "      <td>0</td>\n",
       "      <td>1</td>\n",
       "      <td>1</td>\n",
       "      <td>Mario Monti: Berlusconi risparmi all'Italia il...</td>\n",
       "    </tr>\n",
       "    <tr>\n",
       "      <th>4</th>\n",
       "      <td>125527933224886272</td>\n",
       "      <td>1</td>\n",
       "      <td>0</td>\n",
       "      <td>1</td>\n",
       "      <td>0</td>\n",
       "      <td>0</td>\n",
       "      <td>1</td>\n",
       "      <td>1</td>\n",
       "      <td>Mario Monti: Berlusconi risparmi all'Italia il...</td>\n",
       "    </tr>\n",
       "  </tbody>\n",
       "</table>\n",
       "</div>"
      ],
      "text/plain": [
       "            idtwitter  subj  opos  oneg  iro  lpos  lneg  top  \\\n",
       "0  122449983151669248     1     0     1    0     0     1    1   \n",
       "1  125485104863780865     1     0     1    0     0     1    1   \n",
       "2  125513454315507712     1     0     1    0     0     1    1   \n",
       "3  125524238290522113     1     0     1    0     0     1    1   \n",
       "4  125527933224886272     1     0     1    0     0     1    1   \n",
       "\n",
       "                                                text  \n",
       "0  Intanto la partita per Via Nazionale si compli...  \n",
       "1  False illusioni, sgradevoli realtà Mario Monti...  \n",
       "2  False illusioni, sgradevoli realtà #editoriale...  \n",
       "3  Mario Monti: Berlusconi risparmi all'Italia il...  \n",
       "4  Mario Monti: Berlusconi risparmi all'Italia il...  "
      ]
     },
     "execution_count": 2,
     "metadata": {},
     "output_type": "execute_result"
    }
   ],
   "source": [
    "train = pd.read_csv(PATH + \"training_set_sentipolc16.csv\")\n",
    "train.head()"
   ]
  },
  {
   "cell_type": "code",
   "execution_count": 3,
   "id": "6fb8180d",
   "metadata": {},
   "outputs": [
    {
     "data": {
      "text/html": [
       "<div>\n",
       "<style scoped>\n",
       "    .dataframe tbody tr th:only-of-type {\n",
       "        vertical-align: middle;\n",
       "    }\n",
       "\n",
       "    .dataframe tbody tr th {\n",
       "        vertical-align: top;\n",
       "    }\n",
       "\n",
       "    .dataframe thead th {\n",
       "        text-align: right;\n",
       "    }\n",
       "</style>\n",
       "<table border=\"1\" class=\"dataframe\">\n",
       "  <thead>\n",
       "    <tr style=\"text-align: right;\">\n",
       "      <th></th>\n",
       "      <th>idtwitter</th>\n",
       "      <th>subj</th>\n",
       "      <th>opos</th>\n",
       "      <th>oneg</th>\n",
       "      <th>iro</th>\n",
       "      <th>lpos</th>\n",
       "      <th>lneg</th>\n",
       "      <th>top</th>\n",
       "      <th>text</th>\n",
       "    </tr>\n",
       "  </thead>\n",
       "  <tbody>\n",
       "    <tr>\n",
       "      <th>0</th>\n",
       "      <td>507074506880712705</td>\n",
       "      <td>0</td>\n",
       "      <td>0</td>\n",
       "      <td>0</td>\n",
       "      <td>0</td>\n",
       "      <td>0</td>\n",
       "      <td>0</td>\n",
       "      <td>2</td>\n",
       "      <td>\"Tra 5 minuti presentazione piano scuola del g...</td>\n",
       "    </tr>\n",
       "    <tr>\n",
       "      <th>1</th>\n",
       "      <td>507075789456961536</td>\n",
       "      <td>1</td>\n",
       "      <td>1</td>\n",
       "      <td>0</td>\n",
       "      <td>0</td>\n",
       "      <td>1</td>\n",
       "      <td>0</td>\n",
       "      <td>2</td>\n",
       "      <td>\"\\\"@matteorenzi: Alle 10 appuntamento su http:...</td>\n",
       "    </tr>\n",
       "    <tr>\n",
       "      <th>2</th>\n",
       "      <td>507077511902425088</td>\n",
       "      <td>1</td>\n",
       "      <td>0</td>\n",
       "      <td>1</td>\n",
       "      <td>0</td>\n",
       "      <td>0</td>\n",
       "      <td>1</td>\n",
       "      <td>2</td>\n",
       "      <td>\"#labuonascuola gli #evangelisti #digitali non...</td>\n",
       "    </tr>\n",
       "    <tr>\n",
       "      <th>3</th>\n",
       "      <td>507079183315787777</td>\n",
       "      <td>0</td>\n",
       "      <td>0</td>\n",
       "      <td>0</td>\n",
       "      <td>0</td>\n",
       "      <td>0</td>\n",
       "      <td>0</td>\n",
       "      <td>2</td>\n",
       "      <td>\"Riforma scuola Tutto il discorso di  Renzi su...</td>\n",
       "    </tr>\n",
       "    <tr>\n",
       "      <th>4</th>\n",
       "      <td>507080190225563648</td>\n",
       "      <td>1</td>\n",
       "      <td>0</td>\n",
       "      <td>0</td>\n",
       "      <td>0</td>\n",
       "      <td>0</td>\n",
       "      <td>0</td>\n",
       "      <td>2</td>\n",
       "      <td>\".@matteorenzi @MiurSocial #labuonascuola bast...</td>\n",
       "    </tr>\n",
       "  </tbody>\n",
       "</table>\n",
       "</div>"
      ],
      "text/plain": [
       "            idtwitter  subj  opos  oneg  iro  lpos  lneg  top  \\\n",
       "0  507074506880712705     0     0     0    0     0     0    2   \n",
       "1  507075789456961536     1     1     0    0     1     0    2   \n",
       "2  507077511902425088     1     0     1    0     0     1    2   \n",
       "3  507079183315787777     0     0     0    0     0     0    2   \n",
       "4  507080190225563648     1     0     0    0     0     0    2   \n",
       "\n",
       "                                                text  \n",
       "0  \"Tra 5 minuti presentazione piano scuola del g...  \n",
       "1  \"\\\"@matteorenzi: Alle 10 appuntamento su http:...  \n",
       "2  \"#labuonascuola gli #evangelisti #digitali non...  \n",
       "3  \"Riforma scuola Tutto il discorso di  Renzi su...  \n",
       "4  \".@matteorenzi @MiurSocial #labuonascuola bast...  "
      ]
     },
     "execution_count": 3,
     "metadata": {},
     "output_type": "execute_result"
    }
   ],
   "source": [
    "file1 = open(PATH + \"test_set_sentipolc16_gold2000.csv\", 'r') \n",
    "Lines = file1.readlines()\n",
    " \n",
    "test = []\n",
    "for line in Lines:\n",
    "  arr = line.split(\"\\\",\")\n",
    "  if len(arr) != 9:\n",
    "    arr[8] = arr[8] + arr[9]  #to account for tweets containing the delimiter charachter that would create more splits than needed\n",
    "    del arr[9:]\n",
    "  for i in range(8):\n",
    "    arr[i] = int(arr[i].strip(\"\\\"\"))\n",
    "  test.append(arr)\n",
    "\n",
    "test = pd.DataFrame(test, columns=train.columns)\n",
    "test.head()"
   ]
  },
  {
   "cell_type": "code",
   "execution_count": 4,
   "id": "8dc5af1a",
   "metadata": {},
   "outputs": [
    {
     "name": "stderr",
     "output_type": "stream",
     "text": [
      "/home/steve/anaconda3/envs/nlu/lib/python3.7/site-packages/ekphrasis/classes/tokenizer.py:225: FutureWarning: Possible nested set at position 2190\n",
      "  self.tok = re.compile(r\"({})\".format(\"|\".join(pipeline)))\n"
     ]
    },
    {
     "name": "stdout",
     "output_type": "stream",
     "text": [
      "Reading english - 1grams ...\n",
      "Reading english - 2grams ...\n"
     ]
    },
    {
     "name": "stderr",
     "output_type": "stream",
     "text": [
      "/home/steve/anaconda3/envs/nlu/lib/python3.7/site-packages/ekphrasis/classes/exmanager.py:14: FutureWarning: Possible nested set at position 42\n",
      "  regexes = {k.lower(): re.compile(self.expressions[k]) for k, v in\n"
     ]
    },
    {
     "name": "stdout",
     "output_type": "stream",
     "text": [
      "Reading english - 1grams ...\n",
      "<hashtag> il governo </hashtag> presenta le linee guida sulla scuola <hashtag> la buona scuola </hashtag> <url>\n"
     ]
    }
   ],
   "source": [
    "\"\"\"Tokenization classes for Italian AlBERTo models.\"\"\"\n",
    "import collections\n",
    "import os\n",
    "\n",
    "\n",
    "def load_vocab(vocab_file):\n",
    "    \"\"\"Loads a vocabulary file into a dictionary.\"\"\"\n",
    "    vocab = collections.OrderedDict()\n",
    "    with open(vocab_file, \"r\", encoding=\"utf-8\") as reader:\n",
    "        tokens = reader.readlines()\n",
    "    for index, token in enumerate(tokens):\n",
    "        token = token.rstrip(\"\\n\")\n",
    "        vocab[token] = index\n",
    "    return vocab\n",
    "\n",
    "text_processor = TextPreProcessor(\n",
    "    # terms that will be normalized\n",
    "    normalize=['url', 'email', 'user', 'percent', 'money', 'phone', 'time', 'date', 'number'],\n",
    "    # terms that will be annotated\n",
    "    annotate={\"hashtag\"},\n",
    "    fix_html=True,  # fix HTML tokens\n",
    "\n",
    "    unpack_hashtags=True,  # perform word segmentation on hashtags\n",
    "\n",
    "    # select a tokenizer. You can use SocialTokenizer, or pass your own\n",
    "    # the tokenizer, should take as input a string and return a list of tokens\n",
    "    tokenizer=SocialTokenizer(lowercase=True).tokenize,\n",
    "    dicts=[emoticons]\n",
    ")\n",
    "\n",
    "class AlBERTo_Preprocessing(object):\n",
    "    def __init__(self, do_lower_case=True, **kwargs):\n",
    "        self.do_lower_case = do_lower_case\n",
    "\n",
    "    def preprocess(self, text):\n",
    "        if self.do_lower_case:\n",
    "            text = text.lower()\n",
    "        text = str(\" \".join(text_processor.pre_process_doc(text)))\n",
    "        text = re.sub(r'[^a-zA-ZÀ-ú</>!?♥♡\\s\\U00010000-\\U0010ffff]', ' ', text)\n",
    "        text = re.sub(r'\\s+', ' ', text)\n",
    "        text = re.sub(r'(\\w)\\1{2,}', r'\\1\\1', text)\n",
    "        text = re.sub(r'^\\s', '', text)\n",
    "        text = re.sub(r'\\s$', '', text)\n",
    "        return text\n",
    "\n",
    "a = AlBERTo_Preprocessing(do_lower_case=True)\n",
    "s = \"#IlGOverno presenta le linee guida sulla scuola #labuonascuola - http://t.co/SYS1T9QmQN\"\n",
    "b = a.preprocess(s)\n",
    "print(b)"
   ]
  },
  {
   "cell_type": "code",
   "execution_count": 5,
   "id": "d876ec1f",
   "metadata": {},
   "outputs": [],
   "source": [
    "def k_steps_evidence(num_iterations, early_stopping_patience, training_args, net, training, testing, validating):\n",
    "    np.random.seed(0)\n",
    "    torch.manual_seed(0)\n",
    "\n",
    "    keys = [\"eval_loss\", \"eval_accuracy\", \"eval_f1\", \"eval_precision\", \"eval_recall\"]\n",
    "    metrics = { i: [] for i in keys}\n",
    "    for i in range(num_iterations):        \n",
    "        trainer = Trainer(\n",
    "            model=net(3),\n",
    "            args=training_args, \n",
    "            train_dataset=training.shuffle(seed=i), \n",
    "            eval_dataset=validating, \n",
    "            compute_metrics=compute_metrics,\n",
    "            callbacks=[EarlyStoppingCallback(early_stopping_patience=early_stopping_patience)] if early_stopping_patience is not None else None\n",
    "        )\n",
    "        trainer.train()\n",
    "        res = trainer.evaluate(testing)\n",
    "        for m in keys:\n",
    "            metrics[m].append(res[m])\n",
    "\n",
    "    for m in metrics.keys():\n",
    "        print(\"{:18s}\\t: {:.4} ± {:.4}\".format(m, np.mean(metrics[m]), np.std(metrics[m])))"
   ]
  },
  {
   "cell_type": "code",
   "execution_count": 6,
   "id": "7af16a27",
   "metadata": {},
   "outputs": [
    {
     "name": "stdout",
     "output_type": "stream",
     "text": [
      "['<', 'ha', '##shtag', '>', 'il', 'governo', '<', '/', 'ha', '##shtag', '>', 'presenta', 'le', 'linee', 'guida', 'sulla', 'scuola', '<', 'ha', '##shtag', '>', 'la', 'buona', 'scuola', '<', '/', 'ha', '##shtag', '>', '<', 'ur', '##l', '>']\n"
     ]
    }
   ],
   "source": [
    "from transformers import AutoTokenizer, AutoModel\n",
    "\n",
    "a = AlBERTo_Preprocessing(do_lower_case=True)\n",
    "s: str = \"#IlGOverno presenta le linee guida sulla scuola #labuonascuola - http://t.co/SYS1T9QmQN\"\n",
    "b = a.preprocess(s)\n",
    "\n",
    "tok = AutoTokenizer.from_pretrained(\"m-polignano-uniba/bert_uncased_L-12_H-768_A-12_italian_alb3rt0\")\n",
    "pretrained_model = AutoModel.from_pretrained(\"m-polignano-uniba/bert_uncased_L-12_H-768_A-12_italian_alb3rt0\")\n",
    "tok.model_max_length = 128 #model.config.max_position_embeddings\n",
    "tokens = tok.tokenize(b)\n",
    "print(tokens)"
   ]
  },
  {
   "cell_type": "code",
   "execution_count": 7,
   "id": "bd96fda6",
   "metadata": {},
   "outputs": [
    {
     "data": {
      "application/vnd.jupyter.widget-view+json": {
       "model_id": "0d2bf8ed7ce64d6d8866396d94400efb",
       "version_major": 2,
       "version_minor": 0
      },
      "text/plain": [
       "HBox(children=(FloatProgress(value=0.0, max=6.0), HTML(value='')))"
      ]
     },
     "metadata": {},
     "output_type": "display_data"
    },
    {
     "name": "stdout",
     "output_type": "stream",
     "text": [
      "\n"
     ]
    },
    {
     "data": {
      "application/vnd.jupyter.widget-view+json": {
       "model_id": "4cc85ceedc6e4e5ab740ce3c88c78908",
       "version_major": 2,
       "version_minor": 0
      },
      "text/plain": [
       "HBox(children=(FloatProgress(value=0.0, max=6.0), HTML(value='')))"
      ]
     },
     "metadata": {},
     "output_type": "display_data"
    },
    {
     "name": "stdout",
     "output_type": "stream",
     "text": [
      "\n"
     ]
    },
    {
     "data": {
      "application/vnd.jupyter.widget-view+json": {
       "model_id": "335387d2b608474d9328b372536d2067",
       "version_major": 2,
       "version_minor": 0
      },
      "text/plain": [
       "HBox(children=(FloatProgress(value=0.0, max=2.0), HTML(value='')))"
      ]
     },
     "metadata": {},
     "output_type": "display_data"
    },
    {
     "name": "stdout",
     "output_type": "stream",
     "text": [
      "\n"
     ]
    },
    {
     "data": {
      "application/vnd.jupyter.widget-view+json": {
       "model_id": "504b68204d2f454e89bbe74af082df42",
       "version_major": 2,
       "version_minor": 0
      },
      "text/plain": [
       "HBox(children=(FloatProgress(value=0.0, max=2.0), HTML(value='')))"
      ]
     },
     "metadata": {},
     "output_type": "display_data"
    },
    {
     "name": "stdout",
     "output_type": "stream",
     "text": [
      "\n"
     ]
    },
    {
     "data": {
      "application/vnd.jupyter.widget-view+json": {
       "model_id": "db60b63b30ac487681bd6b80390cb57a",
       "version_major": 2,
       "version_minor": 0
      },
      "text/plain": [
       "HBox(children=(FloatProgress(value=0.0, max=2.0), HTML(value='')))"
      ]
     },
     "metadata": {},
     "output_type": "display_data"
    },
    {
     "name": "stdout",
     "output_type": "stream",
     "text": [
      "\n"
     ]
    },
    {
     "data": {
      "application/vnd.jupyter.widget-view+json": {
       "model_id": "27a59000137340e089d877992153192e",
       "version_major": 2,
       "version_minor": 0
      },
      "text/plain": [
       "HBox(children=(FloatProgress(value=0.0, max=2.0), HTML(value='')))"
      ]
     },
     "metadata": {},
     "output_type": "display_data"
    },
    {
     "name": "stdout",
     "output_type": "stream",
     "text": [
      "\n"
     ]
    }
   ],
   "source": [
    "def tokenize_function(examples):\n",
    "    sa = tok(examples[\"text\"], padding=\"max_length\", truncation=True)\n",
    "    return sa\n",
    "\n",
    "def separate2united_labels(row):\n",
    "    \"\"\"\n",
    "        Return a single scalar integer label associated to the polarity of the tweet.\n",
    "\n",
    "        Negative -> 0\n",
    "        Neutral  -> 1\n",
    "        Positive -> 2\n",
    "        Mixed    -> 3\n",
    "    \"\"\"\n",
    "    if row[\"opos\"] == 0 and row[\"oneg\"] == 0:\n",
    "        return 1\n",
    "    elif row[\"oneg\"] == 0 and row[\"opos\"] == 1:\n",
    "        return 2\n",
    "    elif row[\"oneg\"] == 1 and row[\"opos\"] == 0:\n",
    "        return 0\n",
    "    else:\n",
    "        return 3\n",
    "\n",
    "#train set\n",
    "dataset = pd.DataFrame({\"text\": train.text.apply(a.preprocess), \"idx\": train.index, \"labels\": train[[\"opos\", \"oneg\"]].apply(separate2united_labels, axis=1)})\n",
    "X_train, X_val = train_test_split(dataset, test_size=0.2, random_state=42, stratify=dataset[\"labels\"])\n",
    "\n",
    "X_train = Dataset.from_pandas(X_train)\n",
    "X_val = Dataset.from_pandas(X_val)\n",
    "\n",
    "training = X_train\\\n",
    "                    .map(tokenize_function, batched=True)\\\n",
    "                    .filter(lambda example: example['labels'] != 3)\\\n",
    "                    .shuffle(seed=42)\\\n",
    "                    .with_format(\"torch\")\n",
    "validating = X_val\\\n",
    "                    .map(tokenize_function, batched=True)\\\n",
    "                    .filter(lambda example: example['labels'] != 3)\\\n",
    "                    .with_format(\"torch\")\n",
    "\n",
    "\n",
    "#test set\n",
    "dataset = pd.DataFrame({\"text\": test.text.apply(a.preprocess), \"idx\": test.index, \"labels\": test[[\"opos\", \"oneg\"]].apply(separate2united_labels, axis=1)})\n",
    "dataset = Dataset.from_pandas(dataset)\n",
    "\n",
    "testing = dataset\\\n",
    "                    .map(tokenize_function, batched=True)\\\n",
    "                    .filter(lambda example: example['labels'] != 3)\\\n",
    "                    .with_format(\"torch\")"
   ]
  },
  {
   "cell_type": "code",
   "execution_count": 8,
   "id": "67f630d8",
   "metadata": {},
   "outputs": [],
   "source": [
    "from torch.utils.data import DataLoader\n",
    "from sklearn.metrics import precision_recall_fscore_support, accuracy_score, f1_score\n",
    "\n",
    "class EarlyStopping():    \n",
    "    def __init__(self, min_delta = 0, patience = 0):        \n",
    "        self.min_delta = min_delta\n",
    "        self.patience = patience\n",
    "        self.wait = 0\n",
    "        self.stopped_epoch = 0\n",
    "        self.best = -np.Inf\n",
    "        self.stop_training = False\n",
    "    \n",
    "    def on_epoch_end(self, epoch, current_value):\n",
    "        if np.greater((current_value - self.min_delta), self.best):\n",
    "            self.best = current_value\n",
    "            self.wait = 0\n",
    "        else:\n",
    "            self.wait += 1\n",
    "            if self.wait > self.patience:\n",
    "                self.stopped_epoch = epoch\n",
    "                self.stop_training = True\n",
    "        return self.stop_training\n",
    "\n",
    "\n",
    "TRAIN_BATCH_SIZE = 64 \n",
    "PREDICT_BATCH_SIZE = 64\n",
    "EVAL_BATCH_SIZE = 64 \n",
    "WEIGHT_DECAY = 0.01\n",
    "LEARNING_RATE = 2e-5\n",
    "NUM_EPOCHS = 3\n",
    "MAX_SEQ_LENGTH = 128\n",
    "WARMUP_PROPORTION = 0.1\n",
    "num_train_steps = int(len(training) / TRAIN_BATCH_SIZE * NUM_EPOCHS)+1\n",
    "NUM_WARMUP_STEPS =  int(num_train_steps * WARMUP_PROPORTION)\n",
    "RUN_NAME = \"test_trainer\""
   ]
  },
  {
   "cell_type": "markdown",
   "id": "9346f869",
   "metadata": {},
   "source": [
    "## Torch loop"
   ]
  },
  {
   "cell_type": "code",
   "execution_count": 9,
   "id": "00ca5490",
   "metadata": {},
   "outputs": [],
   "source": [
    "class MyNetMC(nn.Module):\n",
    "    \"\"\"\n",
    "        Attach a FC layer on top of the BERT head in order to produce a classification output.\n",
    "\n",
    "        The pooled_output output of BERT is basically a projection of the [CLS] embeddings via another FC layer (768 -> 768 hidden units).\n",
    "        We stack another FC layer with Dropout on top of that, as reported in https://github.com/google-research/bert/blob/eedf5716ce1268e56f0a50264a88cafad334ac61/run_classifier.py#L574\n",
    "    \"\"\"\n",
    "    def __init__(self, num_labels):\n",
    "        super(MyNetMC, self).__init__()\n",
    "\n",
    "        self.num_labels = num_labels\n",
    "        self.model = copy.deepcopy(pretrained_model)#AutoModel.from_pretrained(\"m-polignano-uniba/bert_uncased_L-12_H-768_A-12_italian_alb3rt0\")\n",
    "        self.dropout1 = nn.Dropout(0.1)\n",
    "        self.linear1 = nn.Linear(768, 3)\n",
    "\n",
    "        self.loss_fct = nn.CrossEntropyLoss()\n",
    "\n",
    "\n",
    "    def forward(self, labels, input_ids, attention_mask, **args):\n",
    "        outputs = self.model(input_ids=input_ids, attention_mask=attention_mask, **args)\n",
    "        x = self.dropout1(outputs[1])\n",
    "        logits = self.linear1(x)\n",
    "        loss = self.loss_fct(logits, labels)\n",
    "        return logits , loss\n",
    "    \n",
    "class MyNetMCTuned(nn.Module):\n",
    "    \"\"\"\n",
    "        Attach a FC layer on top of the BERT head in order to produce a classification output.\n",
    "\n",
    "        The pooled_output output of BERT is basically a projection of the [CLS] embeddings via another FC layer (768 -> 768 hidden units).\n",
    "        We stack another FC layer without Dropout on top of that, as reported in https://github.com/google-research/bert/blob/eedf5716ce1268e56f0a50264a88cafad334ac61/run_classifier.py#L574\n",
    "    \"\"\"\n",
    "    def __init__(self, num_labels):\n",
    "        super(MyNetMCTuned, self).__init__()\n",
    "\n",
    "        self.num_labels = num_labels\n",
    "        self.model = copy.deepcopy(pretrained_model)\n",
    "        self.linear = nn.Linear(768, 3)\n",
    "\n",
    "        self.loss_fct = nn.CrossEntropyLoss()\n",
    "\n",
    "    def forward(self, labels, input_ids, attention_mask, **args):\n",
    "        outputs = self.model(input_ids=input_ids, attention_mask=attention_mask, **args)\n",
    "        logits = self.linear(outputs[1])\n",
    "        loss = self.loss_fct(logits, labels)\n",
    "        return logits , loss"
   ]
  },
  {
   "cell_type": "markdown",
   "id": "8ccdd458",
   "metadata": {},
   "source": [
    "## Utility functions"
   ]
  },
  {
   "cell_type": "code",
   "execution_count": 10,
   "id": "2b4ddfcb",
   "metadata": {},
   "outputs": [],
   "source": [
    "from transformers import get_linear_schedule_with_warmup\n",
    "\n",
    "device = \"cuda:0\"\n",
    "\n",
    "def train_epoch(model, train_loader, optimizer, scheduler, epoch, logging):\n",
    "    model.train()\n",
    "    targets = []\n",
    "    outputs = []\n",
    "    cumulative_loss = 0.\n",
    "    for i , data in tqdm(enumerate(train_loader, 0), total=len(train_loader)):        \n",
    "        targets.extend(data[\"labels\"].numpy())\n",
    "        \n",
    "        batch = {k: v.to(device) for k, v in data.items()}\n",
    "        logits , loss = model(**batch)\n",
    "\n",
    "        cumulative_loss += loss.detach()\n",
    "        if (i+1) % 25 == 0 and logging:\n",
    "            print(f'Epoch: {epoch}, Loss:  {cumulative_loss.item()/i}')\n",
    "        \n",
    "        optimizer.zero_grad()\n",
    "        loss.backward()\n",
    "        optimizer.step()\n",
    "        scheduler.step()\n",
    "        \n",
    "        outputs.extend(logits.argmax(-1).cpu().detach().numpy().tolist())\n",
    "    #print(\"Cum_loss_opos = \", model.cum_loss_opos.item() / len(train_loader))\n",
    "    #print(\"Cum_loss_oneg = \", model.cum_loss_oneg.item() / len(train_loader))\n",
    "    #model.reset_cum_loss()\n",
    "    if logging: wandb.log({\"train\": {'loss': cumulative_loss.item() / len(outputs)}})\n",
    "    return outputs, targets\n",
    "    \n",
    "        \n",
    "def validation_epoch(model, epoch, val_loader, kind, logging):\n",
    "    model.eval()\n",
    "    targets = []\n",
    "    outputs = []\n",
    "    cumulative_loss = 0.\n",
    "    with torch.no_grad():\n",
    "        for _, data in enumerate(val_loader, 0):\n",
    "            #ids            = data['input_ids'].to(device, dtype = torch.long)\n",
    "            #mask           = data['attention_mask'].to(device, dtype = torch.long)\n",
    "            #token_type_ids = data['token_type_ids'].to(device, dtype = torch.long)\n",
    "            #targets        = data['labels'].to(device, dtype = torch.long)\n",
    "            \n",
    "            batch = {k: v.to(device) for k, v in data.items()}\n",
    "            logits , loss = model(**batch)\n",
    "            cumulative_loss += loss.detach()\n",
    "            if (i+1) % 25 == 0 and logging:\n",
    "                print(f'Epoch: {epoch}, Loss:  {cumulative_loss.item()/i}')\n",
    "            \n",
    "            #outputs_opos , outputs_oneg , _ = model(input_ids=ids, attention_mask=mask, token_type_ids=token_type_ids, labels=targets)\n",
    "            \n",
    "            targets.extend(batch[\"labels\"].cpu().detach().numpy())\n",
    "            outputs.extend(logits.argmax(-1).cpu().detach().numpy().tolist())\n",
    "    if logging: wandb.log({kind: {'loss': cumulative_loss.item() / len(outputs)}})\n",
    "    return outputs, targets"
   ]
  },
  {
   "cell_type": "markdown",
   "id": "bb1a0d76",
   "metadata": {},
   "source": [
    "## HPT"
   ]
  },
  {
   "cell_type": "code",
   "execution_count": 11,
   "id": "8a51075f",
   "metadata": {},
   "outputs": [],
   "source": [
    "#%%script echo skipping\n",
    "import optuna\n",
    "from optuna.trial import TrialState\n",
    "\n",
    "def objective(trial):\n",
    "    model = MyNetMCTuned(3).to(device)\n",
    "\n",
    "    # Generate the optimizers.\n",
    "    lr = trial.suggest_float(\"learning_rate\", 2e-6, 2e-4, log=True)\n",
    "    wd = trial.suggest_float(\"weight_decay\", 1e-6, 1e-1)\n",
    "    warmup = trial.suggest_float(\"warmup_steps\", 0., 0.9, step=0.3),\n",
    "    optimizer = torch.optim.AdamW(model.parameters(),\n",
    "                              lr=lr,\n",
    "                              weight_decay=wd, \n",
    "                              eps=1e-6)\n",
    "\n",
    "    early_stopping = EarlyStopping(min_delta=0.005, patience=3)\n",
    "\n",
    "    train_loader = DataLoader(training.with_format(\"torch\", columns=[\"input_ids\", \"attention_mask\", \"labels\", \"token_type_ids\"]), shuffle=True, batch_size=64)\n",
    "    val_loader = DataLoader(validating.with_format(\"torch\", columns=[\"input_ids\", \"attention_mask\", \"labels\", \"token_type_ids\"]), batch_size=64)\n",
    "\n",
    "    num_epochs = 15\n",
    "    num_train_steps = int(len(train_loader) * num_epochs) + 1\n",
    "    NUM_WARMUP_STEPS =  int(num_train_steps * warmup[0])\n",
    "    scheduler = get_linear_schedule_with_warmup(optimizer, NUM_WARMUP_STEPS, num_train_steps)\n",
    "\n",
    "    logging = False\n",
    "    \n",
    "    best_val = 0\n",
    "    for epoch in range(num_epochs):\n",
    "        outputs, targets = train_epoch(model, train_loader, optimizer, scheduler, epoch, logging)\n",
    "        #f1_train = f1_score(targets, outputs, average='macro')\n",
    "        \n",
    "        outputs, targets = validation_epoch(model, epoch, val_loader, \"val\", logging)\n",
    "        f1_val = f1_score(targets, outputs, average='macro')\n",
    "        \n",
    "        if f1_val > best_val:\n",
    "            best_val = f1_val\n",
    "        if early_stopping.on_epoch_end(epoch, f1_val):\n",
    "            print(\"\\n\\nEARLY STOPPING AFTER {} EPOCHS\".format(epoch))\n",
    "            break\n",
    "\n",
    "        #print(f\"Val F1 = {f1_val}\")\n",
    "        trial.report(f1_val, epoch)\n",
    "        \n",
    "        # Handle pruning based on the intermediate value.\n",
    "        if trial.should_prune():\n",
    "            raise optuna.exceptions.TrialPruned()\n",
    "        \n",
    "    return best_val"
   ]
  },
  {
   "cell_type": "markdown",
   "id": "0231c2ee",
   "metadata": {},
   "source": [
    "## Training AlBERTo"
   ]
  },
  {
   "cell_type": "code",
   "execution_count": 12,
   "id": "74e8da0f",
   "metadata": {},
   "outputs": [
    {
     "data": {
      "application/vnd.jupyter.widget-view+json": {
       "model_id": "fd652d38c7ea4503a71ba13de73bd3ea",
       "version_major": 2,
       "version_minor": 0
      },
      "text/plain": [
       "HBox(children=(FloatProgress(value=0.0, max=8.0), HTML(value='')))"
      ]
     },
     "metadata": {},
     "output_type": "display_data"
    },
    {
     "name": "stdout",
     "output_type": "stream",
     "text": [
      "\n"
     ]
    },
    {
     "data": {
      "application/vnd.jupyter.widget-view+json": {
       "model_id": "f17e1d4047ea4e2a935d48a2ef102aae",
       "version_major": 2,
       "version_minor": 0
      },
      "text/plain": [
       "HBox(children=(FloatProgress(value=0.0, max=8.0), HTML(value='')))"
      ]
     },
     "metadata": {},
     "output_type": "display_data"
    },
    {
     "name": "stderr",
     "output_type": "stream",
     "text": [
      "Failed to detect the name of this notebook, you can set it manually with the WANDB_NOTEBOOK_NAME environment variable to enable code saving.\n"
     ]
    },
    {
     "name": "stdout",
     "output_type": "stream",
     "text": [
      "\n"
     ]
    },
    {
     "name": "stderr",
     "output_type": "stream",
     "text": [
      "\u001b[34m\u001b[1mwandb\u001b[0m: Currently logged in as: \u001b[33mmcstewe\u001b[0m (use `wandb login --relogin` to force relogin)\n"
     ]
    },
    {
     "data": {
      "text/html": [
       "\n",
       "                Tracking run with wandb version 0.11.0<br/>\n",
       "                Syncing run <strong style=\"color:#cdcd00\">AlBERTo-MC</strong> to <a href=\"https://wandb.ai\" target=\"_blank\">Weights & Biases</a> <a href=\"https://docs.wandb.com/integrations/jupyter.html\" target=\"_blank\">(Documentation)</a>.<br/>\n",
       "                Project page: <a href=\"https://wandb.ai/mcstewe/nlu_sentiment_analysis\" target=\"_blank\">https://wandb.ai/mcstewe/nlu_sentiment_analysis</a><br/>\n",
       "                Run page: <a href=\"https://wandb.ai/mcstewe/nlu_sentiment_analysis/runs/210b82cm\" target=\"_blank\">https://wandb.ai/mcstewe/nlu_sentiment_analysis/runs/210b82cm</a><br/>\n",
       "                Run data is saved locally in <code>/home/steve/NLU_final_project/wandb/run-20210728_163054-210b82cm</code><br/><br/>\n",
       "            "
      ],
      "text/plain": [
       "<IPython.core.display.HTML object>"
      ]
     },
     "metadata": {},
     "output_type": "display_data"
    },
    {
     "data": {
      "application/vnd.jupyter.widget-view+json": {
       "model_id": "f53e9f6d45f343debbd573e1aacbd928",
       "version_major": 2,
       "version_minor": 0
      },
      "text/plain": [
       "HBox(children=(FloatProgress(value=0.0, max=218.0), HTML(value='')))"
      ]
     },
     "metadata": {},
     "output_type": "display_data"
    },
    {
     "name": "stdout",
     "output_type": "stream",
     "text": [
      "Epoch: 0, Loss:  1.1672417322794597\n",
      "Epoch: 0, Loss:  1.0900421142578125\n",
      "Epoch: 0, Loss:  1.0311015361064189\n",
      "Epoch: 0, Loss:  0.9622758807558002\n",
      "Epoch: 0, Loss:  0.9175800200431578\n",
      "Epoch: 0, Loss:  0.8827222785693687\n",
      "Epoch: 0, Loss:  0.8574930826822916\n",
      "Epoch: 0, Loss:  0.8370763884117854\n",
      "\n",
      "Train F1 = 0.6079766420758286\n",
      "Test F1= 0.6495411155124479\n"
     ]
    },
    {
     "data": {
      "application/vnd.jupyter.widget-view+json": {
       "model_id": "cc890fa4d8874b1ca80a4ee55cb2497f",
       "version_major": 2,
       "version_minor": 0
      },
      "text/plain": [
       "HBox(children=(FloatProgress(value=0.0, max=218.0), HTML(value='')))"
      ]
     },
     "metadata": {},
     "output_type": "display_data"
    },
    {
     "name": "stdout",
     "output_type": "stream",
     "text": [
      "Epoch: 1, Loss:  0.5448492765426636\n",
      "Epoch: 1, Loss:  0.5211755402234136\n",
      "Epoch: 1, Loss:  0.5171999544710726\n",
      "Epoch: 1, Loss:  0.5265656673546993\n",
      "Epoch: 1, Loss:  0.5271656897760206\n",
      "Epoch: 1, Loss:  0.5270108216560927\n",
      "Epoch: 1, Loss:  0.5225905056657463\n",
      "Epoch: 1, Loss:  0.5179984317952065\n",
      "\n",
      "Train F1 = 0.7940278207062158\n",
      "Test F1= 0.6731079617269323\n"
     ]
    },
    {
     "data": {
      "application/vnd.jupyter.widget-view+json": {
       "model_id": "1b6b5df3688f4c468d86a99a67b11a9f",
       "version_major": 2,
       "version_minor": 0
      },
      "text/plain": [
       "HBox(children=(FloatProgress(value=0.0, max=218.0), HTML(value='')))"
      ]
     },
     "metadata": {},
     "output_type": "display_data"
    },
    {
     "name": "stdout",
     "output_type": "stream",
     "text": [
      "Epoch: 2, Loss:  0.3633444309234619\n",
      "Epoch: 2, Loss:  0.3372465639698262\n",
      "Epoch: 2, Loss:  0.3342942933778505\n",
      "Epoch: 2, Loss:  0.3259595235188802\n",
      "Epoch: 2, Loss:  0.32822070583220453\n",
      "Epoch: 2, Loss:  0.33242562313207846\n",
      "Epoch: 2, Loss:  0.32413901405772944\n",
      "Epoch: 2, Loss:  0.3237035550064777\n",
      "\n",
      "Train F1 = 0.8797160224239929\n",
      "Test F1= 0.6378024531237604\n"
     ]
    },
    {
     "data": {
      "text/html": [
       "<br/>Waiting for W&B process to finish, PID 14249<br/>Program ended successfully."
      ],
      "text/plain": [
       "<IPython.core.display.HTML object>"
      ]
     },
     "metadata": {},
     "output_type": "display_data"
    },
    {
     "data": {
      "application/vnd.jupyter.widget-view+json": {
       "model_id": "",
       "version_major": 2,
       "version_minor": 0
      },
      "text/plain": [
       "VBox(children=(Label(value=' 0.00MB of 0.00MB uploaded (0.00MB deduped)\\r'), FloatProgress(value=1.0, max=1.0)…"
      ]
     },
     "metadata": {},
     "output_type": "display_data"
    },
    {
     "data": {
      "text/html": [
       "Find user logs for this run at: <code>/home/steve/NLU_final_project/wandb/run-20210728_163054-210b82cm/logs/debug.log</code>"
      ],
      "text/plain": [
       "<IPython.core.display.HTML object>"
      ]
     },
     "metadata": {},
     "output_type": "display_data"
    },
    {
     "data": {
      "text/html": [
       "Find internal logs for this run at: <code>/home/steve/NLU_final_project/wandb/run-20210728_163054-210b82cm/logs/debug-internal.log</code>"
      ],
      "text/plain": [
       "<IPython.core.display.HTML object>"
      ]
     },
     "metadata": {},
     "output_type": "display_data"
    },
    {
     "data": {
      "text/html": [
       "<h3>Run summary:</h3><br/><style>\n",
       "    table.wandb td:nth-child(1) { padding: 0 10px; text-align: right }\n",
       "    </style><table class=\"wandb\">\n",
       "<tr><td>_runtime</td><td>203</td></tr><tr><td>_timestamp</td><td>1627482857</td></tr><tr><td>_step</td><td>8</td></tr></table>"
      ],
      "text/plain": [
       "<IPython.core.display.HTML object>"
      ]
     },
     "metadata": {},
     "output_type": "display_data"
    },
    {
     "data": {
      "text/html": [
       "<h3>Run history:</h3><br/><style>\n",
       "    table.wandb td:nth-child(1) { padding: 0 10px; text-align: right }\n",
       "    </style><table class=\"wandb\">\n",
       "<tr><td>_runtime</td><td>▁▁▁▄▅▅███</td></tr><tr><td>_timestamp</td><td>▁▁▁▄▅▅███</td></tr><tr><td>_step</td><td>▁▂▃▄▅▅▆▇█</td></tr></table><br/>"
      ],
      "text/plain": [
       "<IPython.core.display.HTML object>"
      ]
     },
     "metadata": {},
     "output_type": "display_data"
    },
    {
     "data": {
      "text/html": [
       "Synced 6 W&B file(s), 0 media file(s), 0 artifact file(s) and 0 other file(s)"
      ],
      "text/plain": [
       "<IPython.core.display.HTML object>"
      ]
     },
     "metadata": {},
     "output_type": "display_data"
    },
    {
     "data": {
      "text/html": [
       "\n",
       "                    <br/>Synced <strong style=\"color:#cdcd00\">AlBERTo-MC</strong>: <a href=\"https://wandb.ai/mcstewe/nlu_sentiment_analysis/runs/210b82cm\" target=\"_blank\">https://wandb.ai/mcstewe/nlu_sentiment_analysis/runs/210b82cm</a><br/>\n",
       "                "
      ],
      "text/plain": [
       "<IPython.core.display.HTML object>"
      ]
     },
     "metadata": {},
     "output_type": "display_data"
    }
   ],
   "source": [
    "np.random.seed(0)\n",
    "torch.manual_seed(0)\n",
    "model = MyNetMC(3).to(device)\n",
    "\n",
    "best_hyper = {'learning_rate': LEARNING_RATE, 'warmup_steps': WARMUP_PROPORTION, 'weight_decay': WEIGHT_DECAY}\n",
    "\n",
    "optimizer = torch.optim.AdamW(model.parameters(),\n",
    "                              lr=best_hyper[\"learning_rate\"],\n",
    "                              weight_decay=best_hyper[\"weight_decay\"], \n",
    "                              eps=1e-6)\n",
    "\n",
    "#train set\n",
    "tmp = pd.DataFrame({\"text\": train.text.apply(a.preprocess), \"idx\": train.index, \"labels\": train[[\"opos\", \"oneg\"]].apply(separate2united_labels, axis=1)})\n",
    "tmp = Dataset.from_pandas(tmp)\n",
    "tmp = tmp\\\n",
    "                    .map(tokenize_function, batched=True)\\\n",
    "                    .filter(lambda example: example['labels'] != 3)\\\n",
    "                    .shuffle(seed=42)\\\n",
    "                    .with_format(\"torch\")\n",
    "\n",
    "train_loader = DataLoader(tmp.with_format(\"torch\", columns=[\"input_ids\", \"attention_mask\", \"labels\", \"token_type_ids\"]), shuffle=True, batch_size=32)\n",
    "test_loader = DataLoader(testing.with_format(\"torch\", columns=[\"input_ids\", \"attention_mask\", \"labels\", \"token_type_ids\"]), batch_size=64)\n",
    "\n",
    "num_epochs = NUM_EPOCHS\n",
    "num_train_steps = int(len(train_loader) * num_epochs) + 1\n",
    "NUM_WARMUP_STEPS =  int(num_train_steps * best_hyper[\"warmup_steps\"])\n",
    "scheduler = get_linear_schedule_with_warmup(optimizer, NUM_WARMUP_STEPS, num_train_steps)\n",
    "\n",
    "logging = True\n",
    "if logging:\n",
    "    run = wandb.init(\n",
    "      project='nlu_sentiment_analysis',\n",
    "      name=\"AlBERTo-MC\",\n",
    "      entity='mcstewe',\n",
    "      notes='',\n",
    "      reinit=True,\n",
    "      config=dict (\n",
    "        epochs=num_epochs\n",
    "      )\n",
    "    )\n",
    "    wandb.watch(model)\n",
    "\n",
    "best_value = 0\n",
    "for epoch in range(num_epochs):\n",
    "    outputs, targets = train_epoch(model, train_loader, optimizer, scheduler, epoch, logging)\n",
    "    f1_train = f1_score(targets, outputs, average='macro')\n",
    "    \n",
    "    print(f\"Train F1 = {f1_train}\")\n",
    "    outputs, targets = validation_epoch(model, epoch, test_loader, \"test\", logging=False)\n",
    "    f1_test = f1_score(targets, outputs, average='macro')\n",
    "    print(\"Test F1=\", f1_test)\n",
    "    if logging:\n",
    "        wandb.log({\"train\": {'f1': f1_train, \"lr\": optimizer.param_groups[0]['lr']}})\n",
    "        wandb.log({\"test\": {'f1': f1_test}})\n",
    "torch.save(model.state_dict(), \"data/models/alberto_multiclass.pt\")    \n",
    "    \n",
    "if logging:\n",
    "    run.finish()"
   ]
  },
  {
   "cell_type": "code",
   "execution_count": 13,
   "id": "9f0d269b",
   "metadata": {},
   "outputs": [
    {
     "name": "stdout",
     "output_type": "stream",
     "text": [
      "              precision    recall  f1-score   support\n",
      "\n",
      "    negative       0.85      0.51      0.64       734\n",
      "     neutral       0.70      0.78      0.74       914\n",
      "    positive       0.44      0.69      0.54       316\n",
      "\n",
      "    accuracy                           0.67      1964\n",
      "   macro avg       0.66      0.66      0.64      1964\n",
      "weighted avg       0.71      0.67      0.67      1964\n",
      "\n"
     ]
    },
    {
     "data": {
      "text/plain": [
       "Text(0.5, 1.0, 'SENTIPOLC16 - AlBERToMC')"
      ]
     },
     "execution_count": 13,
     "metadata": {},
     "output_type": "execute_result"
    },
    {
     "data": {
      "image/png": "[encoded data removed]",
      "text/plain": [
       "<Figure size 432x288 with 2 Axes>"
      ]
     },
     "metadata": {
      "needs_background": "light"
     },
     "output_type": "display_data"
    }
   ],
   "source": [
    "#load best model's params\n",
    "model = MyNetMC(3).to(device)\n",
    "model.load_state_dict(torch.load(\"data/models/alberto_multiclass.pt\"))\n",
    "\n",
    "preds , trues = validation_epoch(model, None, test_loader, \"test\", logging=False)\n",
    "\n",
    "print(classification_report(trues, preds, target_names=[\"negative\", \"neutral\", \"positive\"]))\n",
    "\n",
    "cm = confusion_matrix(trues, preds, normalize='all')\n",
    "ConfusionMatrixDisplay(confusion_matrix=cm, display_labels=[\"negative\", \"neutral\", \"positive\"]).plot()\n",
    "plt.title(\"SENTIPOLC16 - AlBERToMC\")"
   ]
  },
  {
   "cell_type": "markdown",
   "id": "16920ecb",
   "metadata": {},
   "source": [
    "## Training AlBERTo validation set"
   ]
  },
  {
   "cell_type": "code",
   "execution_count": 14,
   "id": "dfa6994e",
   "metadata": {},
   "outputs": [
    {
     "data": {
      "text/html": [
       "\n",
       "                Tracking run with wandb version 0.11.0<br/>\n",
       "                Syncing run <strong style=\"color:#cdcd00\">AlBERTo-MC-val</strong> to <a href=\"https://wandb.ai\" target=\"_blank\">Weights & Biases</a> <a href=\"https://docs.wandb.com/integrations/jupyter.html\" target=\"_blank\">(Documentation)</a>.<br/>\n",
       "                Project page: <a href=\"https://wandb.ai/mcstewe/nlu_sentiment_analysis\" target=\"_blank\">https://wandb.ai/mcstewe/nlu_sentiment_analysis</a><br/>\n",
       "                Run page: <a href=\"https://wandb.ai/mcstewe/nlu_sentiment_analysis/runs/2mt45vmo\" target=\"_blank\">https://wandb.ai/mcstewe/nlu_sentiment_analysis/runs/2mt45vmo</a><br/>\n",
       "                Run data is saved locally in <code>/home/steve/NLU_final_project/wandb/run-20210728_163430-2mt45vmo</code><br/><br/>\n",
       "            "
      ],
      "text/plain": [
       "<IPython.core.display.HTML object>"
      ]
     },
     "metadata": {},
     "output_type": "display_data"
    },
    {
     "data": {
      "application/vnd.jupyter.widget-view+json": {
       "model_id": "2656a2d0b6114170837d5d983f7ee1e1",
       "version_major": 2,
       "version_minor": 0
      },
      "text/plain": [
       "HBox(children=(FloatProgress(value=0.0, max=175.0), HTML(value='')))"
      ]
     },
     "metadata": {},
     "output_type": "display_data"
    },
    {
     "name": "stdout",
     "output_type": "stream",
     "text": [
      "Epoch: 0, Loss:  1.1712799866994221\n",
      "Epoch: 0, Loss:  1.0679651377152424\n",
      "Epoch: 0, Loss:  1.0052797472154773\n",
      "Epoch: 0, Loss:  0.9508586845012627\n",
      "Epoch: 0, Loss:  0.909255612281061\n",
      "Epoch: 0, Loss:  0.8833399010984689\n",
      "Epoch: 0, Loss:  0.8587818364987428\n",
      "\n",
      "Val F1 = 0.7027370806947463\n",
      "Test F1= 0.6254052521412569\n"
     ]
    },
    {
     "data": {
      "application/vnd.jupyter.widget-view+json": {
       "model_id": "ce60ed33d1224435afe0271a072a96ae",
       "version_major": 2,
       "version_minor": 0
      },
      "text/plain": [
       "HBox(children=(FloatProgress(value=0.0, max=175.0), HTML(value='')))"
      ]
     },
     "metadata": {},
     "output_type": "display_data"
    },
    {
     "name": "stdout",
     "output_type": "stream",
     "text": [
      "Epoch: 1, Loss:  0.5450160503387451\n",
      "Epoch: 1, Loss:  0.5507573497538664\n",
      "Epoch: 1, Loss:  0.5418497034021326\n",
      "Epoch: 1, Loss:  0.5457449248342803\n",
      "Epoch: 1, Loss:  0.5376837945753529\n",
      "Epoch: 1, Loss:  0.5340351898398176\n",
      "Epoch: 1, Loss:  0.532709012086364\n",
      "\n",
      "Val F1 = 0.6983327553153043\n",
      "Test F1= 0.6899761719686611\n"
     ]
    },
    {
     "data": {
      "application/vnd.jupyter.widget-view+json": {
       "model_id": "305f78a078ff406b90b90ca180f5af62",
       "version_major": 2,
       "version_minor": 0
      },
      "text/plain": [
       "HBox(children=(FloatProgress(value=0.0, max=175.0), HTML(value='')))"
      ]
     },
     "metadata": {},
     "output_type": "display_data"
    },
    {
     "name": "stdout",
     "output_type": "stream",
     "text": [
      "Epoch: 2, Loss:  0.39226233959198\n",
      "Epoch: 2, Loss:  0.36785460491569677\n",
      "Epoch: 2, Loss:  0.3752712301305822\n",
      "Epoch: 2, Loss:  0.36247661860302244\n",
      "Epoch: 2, Loss:  0.3568246287684287\n",
      "Epoch: 2, Loss:  0.35420068318411807\n",
      "Epoch: 2, Loss:  0.3472936345242906\n",
      "\n",
      "Val F1 = 0.7119154268155468\n",
      "Test F1= 0.6629525495550136\n"
     ]
    },
    {
     "data": {
      "text/html": [
       "<br/>Waiting for W&B process to finish, PID 14295<br/>Program ended successfully."
      ],
      "text/plain": [
       "<IPython.core.display.HTML object>"
      ]
     },
     "metadata": {},
     "output_type": "display_data"
    },
    {
     "data": {
      "application/vnd.jupyter.widget-view+json": {
       "model_id": "",
       "version_major": 2,
       "version_minor": 0
      },
      "text/plain": [
       "VBox(children=(Label(value=' 0.00MB of 0.00MB uploaded (0.00MB deduped)\\r'), FloatProgress(value=1.0, max=1.0)…"
      ]
     },
     "metadata": {},
     "output_type": "display_data"
    },
    {
     "data": {
      "text/html": [
       "Find user logs for this run at: <code>/home/steve/NLU_final_project/wandb/run-20210728_163430-2mt45vmo/logs/debug.log</code>"
      ],
      "text/plain": [
       "<IPython.core.display.HTML object>"
      ]
     },
     "metadata": {},
     "output_type": "display_data"
    },
    {
     "data": {
      "text/html": [
       "Find internal logs for this run at: <code>/home/steve/NLU_final_project/wandb/run-20210728_163430-2mt45vmo/logs/debug-internal.log</code>"
      ],
      "text/plain": [
       "<IPython.core.display.HTML object>"
      ]
     },
     "metadata": {},
     "output_type": "display_data"
    },
    {
     "data": {
      "text/html": [
       "<h3>Run summary:</h3><br/><style>\n",
       "    table.wandb td:nth-child(1) { padding: 0 10px; text-align: right }\n",
       "    </style><table class=\"wandb\">\n",
       "<tr><td>_runtime</td><td>183</td></tr><tr><td>_timestamp</td><td>1627483053</td></tr><tr><td>_step</td><td>11</td></tr></table>"
      ],
      "text/plain": [
       "<IPython.core.display.HTML object>"
      ]
     },
     "metadata": {},
     "output_type": "display_data"
    },
    {
     "data": {
      "text/html": [
       "<h3>Run history:</h3><br/><style>\n",
       "    table.wandb td:nth-child(1) { padding: 0 10px; text-align: right }\n",
       "    </style><table class=\"wandb\">\n",
       "<tr><td>_runtime</td><td>▁▂▂▂▄▅▅▅▇███</td></tr><tr><td>_timestamp</td><td>▁▂▂▂▄▅▅▅▇███</td></tr><tr><td>_step</td><td>▁▂▂▃▄▄▅▅▆▇▇█</td></tr></table><br/>"
      ],
      "text/plain": [
       "<IPython.core.display.HTML object>"
      ]
     },
     "metadata": {},
     "output_type": "display_data"
    },
    {
     "data": {
      "text/html": [
       "Synced 6 W&B file(s), 0 media file(s), 0 artifact file(s) and 0 other file(s)"
      ],
      "text/plain": [
       "<IPython.core.display.HTML object>"
      ]
     },
     "metadata": {},
     "output_type": "display_data"
    },
    {
     "data": {
      "text/html": [
       "\n",
       "                    <br/>Synced <strong style=\"color:#cdcd00\">AlBERTo-MC-val</strong>: <a href=\"https://wandb.ai/mcstewe/nlu_sentiment_analysis/runs/2mt45vmo\" target=\"_blank\">https://wandb.ai/mcstewe/nlu_sentiment_analysis/runs/2mt45vmo</a><br/>\n",
       "                "
      ],
      "text/plain": [
       "<IPython.core.display.HTML object>"
      ]
     },
     "metadata": {},
     "output_type": "display_data"
    }
   ],
   "source": [
    "np.random.seed(0)\n",
    "torch.manual_seed(0)\n",
    "model = MyNetMC(3).to(device)\n",
    "\n",
    "best_hyper = {'learning_rate': LEARNING_RATE, 'warmup_steps': WARMUP_PROPORTION, 'weight_decay': WEIGHT_DECAY}\n",
    "\n",
    "optimizer = torch.optim.AdamW(model.parameters(),\n",
    "                              lr=best_hyper[\"learning_rate\"],\n",
    "                              weight_decay=best_hyper[\"weight_decay\"], \n",
    "                              eps=1e-6)\n",
    "\n",
    "train_loader = DataLoader(training.with_format(\"torch\", columns=[\"input_ids\", \"attention_mask\", \"labels\", \"token_type_ids\"]), shuffle=True, batch_size=32)\n",
    "val_loader = DataLoader(validating.with_format(\"torch\", columns=[\"input_ids\", \"attention_mask\", \"labels\", \"token_type_ids\"]), batch_size=64)\n",
    "test_loader = DataLoader(testing.with_format(\"torch\", columns=[\"input_ids\", \"attention_mask\", \"labels\", \"token_type_ids\"]), batch_size=64)\n",
    "\n",
    "num_epochs = NUM_EPOCHS\n",
    "num_train_steps = int(len(train_loader) * num_epochs) + 1\n",
    "NUM_WARMUP_STEPS =  int(num_train_steps * best_hyper[\"warmup_steps\"])\n",
    "scheduler = get_linear_schedule_with_warmup(optimizer, NUM_WARMUP_STEPS, num_train_steps)\n",
    "\n",
    "logging = True\n",
    "if logging:\n",
    "    run = wandb.init(\n",
    "      project='nlu_sentiment_analysis',\n",
    "      name=\"AlBERTo-MC-val\",\n",
    "      entity='mcstewe',\n",
    "      notes='',\n",
    "      reinit=True,\n",
    "      config=dict (\n",
    "        epochs=num_epochs\n",
    "      )\n",
    "    )\n",
    "    wandb.watch(model)\n",
    "\n",
    "best_value = 0\n",
    "for epoch in range(num_epochs):\n",
    "    outputs, targets = train_epoch(model, train_loader, optimizer, scheduler, epoch, logging)\n",
    "    f1_train = f1_score(targets, outputs, average='macro')\n",
    "    outputs, targets = validation_epoch(model, epoch, val_loader, \"val\", logging=False)\n",
    "    \n",
    "    f1_val = f1_score(targets, outputs, average='macro')\n",
    "    if f1_val > best_value:\n",
    "        best_value = f1_val\n",
    "        torch.save(model.state_dict(), \"data/models/alberto_multiclass_val.pt\")    \n",
    "    \n",
    "    print(f\"Val F1 = {f1_val}\")\n",
    "    outputs, targets = validation_epoch(model, epoch, test_loader, \"test\", logging=False)\n",
    "    f1_test = f1_score(targets, outputs, average='macro')\n",
    "    print(\"Test F1=\", f1_test)\n",
    "    if logging:\n",
    "        wandb.log({\"train\": {'f1': f1_train, \"lr\": optimizer.param_groups[0]['lr']}})\n",
    "        wandb.log({\"val\": {'f1': f1_val}})\n",
    "        wandb.log({\"test\": {'f1': f1_test}})\n",
    "    \n",
    "if logging:\n",
    "    run.finish()"
   ]
  },
  {
   "cell_type": "code",
   "execution_count": 15,
   "id": "1e924218",
   "metadata": {},
   "outputs": [
    {
     "name": "stdout",
     "output_type": "stream",
     "text": [
      "              precision    recall  f1-score   support\n",
      "\n",
      "    negative       0.85      0.54      0.66       734\n",
      "     neutral       0.70      0.82      0.76       914\n",
      "    positive       0.50      0.68      0.57       316\n",
      "\n",
      "    accuracy                           0.69      1964\n",
      "   macro avg       0.68      0.68      0.66      1964\n",
      "weighted avg       0.72      0.69      0.69      1964\n",
      "\n"
     ]
    },
    {
     "data": {
      "text/plain": [
       "Text(0.5, 1.0, 'SENTIPOLC16 - AlBERToMC val')"
      ]
     },
     "execution_count": 15,
     "metadata": {},
     "output_type": "execute_result"
    },
    {
     "data": {
      "image/png": "[encoded data removed]",
      "text/plain": [
       "<Figure size 432x288 with 2 Axes>"
      ]
     },
     "metadata": {
      "needs_background": "light"
     },
     "output_type": "display_data"
    }
   ],
   "source": [
    "#load best model's params\n",
    "model = MyNetMC(3).to(device)\n",
    "model.load_state_dict(torch.load(\"data/models/alberto_multiclass_val.pt\"))\n",
    "\n",
    "preds , trues = validation_epoch(model, None, test_loader, \"test\", logging=False)\n",
    "\n",
    "print(classification_report(trues, preds, target_names=[\"negative\", \"neutral\", \"positive\"]))\n",
    "\n",
    "cm = confusion_matrix(trues, preds, normalize='all')\n",
    "ConfusionMatrixDisplay(confusion_matrix=cm, display_labels=[\"negative\", \"neutral\", \"positive\"]).plot()\n",
    "plt.title(\"SENTIPOLC16 - AlBERToMC val\")"
   ]
  },
  {
   "cell_type": "markdown",
   "id": "82f92ba4",
   "metadata": {},
   "source": [
    "## Training AlBERTo validation set + early stopping"
   ]
  },
  {
   "cell_type": "code",
   "execution_count": 16,
   "id": "9ade676c",
   "metadata": {},
   "outputs": [
    {
     "data": {
      "text/html": [
       "\n",
       "                Tracking run with wandb version 0.11.0<br/>\n",
       "                Syncing run <strong style=\"color:#cdcd00\">AlBERTo-MC-val-early</strong> to <a href=\"https://wandb.ai\" target=\"_blank\">Weights & Biases</a> <a href=\"https://docs.wandb.com/integrations/jupyter.html\" target=\"_blank\">(Documentation)</a>.<br/>\n",
       "                Project page: <a href=\"https://wandb.ai/mcstewe/nlu_sentiment_analysis\" target=\"_blank\">https://wandb.ai/mcstewe/nlu_sentiment_analysis</a><br/>\n",
       "                Run page: <a href=\"https://wandb.ai/mcstewe/nlu_sentiment_analysis/runs/ud4kou7m\" target=\"_blank\">https://wandb.ai/mcstewe/nlu_sentiment_analysis/runs/ud4kou7m</a><br/>\n",
       "                Run data is saved locally in <code>/home/steve/NLU_final_project/wandb/run-20210728_163743-ud4kou7m</code><br/><br/>\n",
       "            "
      ],
      "text/plain": [
       "<IPython.core.display.HTML object>"
      ]
     },
     "metadata": {},
     "output_type": "display_data"
    },
    {
     "data": {
      "application/vnd.jupyter.widget-view+json": {
       "model_id": "4df2c480ced54ef187a2153f332fd2bd",
       "version_major": 2,
       "version_minor": 0
      },
      "text/plain": [
       "HBox(children=(FloatProgress(value=0.0, max=175.0), HTML(value='')))"
      ]
     },
     "metadata": {},
     "output_type": "display_data"
    },
    {
     "name": "stdout",
     "output_type": "stream",
     "text": [
      "Epoch: 0, Loss:  1.2345131238301594\n",
      "Epoch: 0, Loss:  1.1411834249691086\n",
      "Epoch: 0, Loss:  1.1024458601668075\n",
      "Epoch: 0, Loss:  1.0697204898102115\n",
      "Epoch: 0, Loss:  1.041627699329007\n",
      "Epoch: 0, Loss:  1.013516419685927\n",
      "Epoch: 0, Loss:  0.9802253986227101\n",
      "\n",
      "Val F1 = 0.6686317008619516\n",
      "Test F1= 0.5879855197717557\n"
     ]
    },
    {
     "data": {
      "application/vnd.jupyter.widget-view+json": {
       "model_id": "781561958e1c4120beb92d0a269e7ca2",
       "version_major": 2,
       "version_minor": 0
      },
      "text/plain": [
       "HBox(children=(FloatProgress(value=0.0, max=175.0), HTML(value='')))"
      ]
     },
     "metadata": {},
     "output_type": "display_data"
    },
    {
     "name": "stdout",
     "output_type": "stream",
     "text": [
      "Epoch: 1, Loss:  0.690000851949056\n",
      "Epoch: 1, Loss:  0.6775322738958864\n",
      "Epoch: 1, Loss:  0.6683350124874631\n",
      "Epoch: 1, Loss:  0.6740531536063763\n",
      "Epoch: 1, Loss:  0.6742321137459047\n",
      "Epoch: 1, Loss:  0.6683968665615824\n",
      "Epoch: 1, Loss:  0.666448702757386\n",
      "\n",
      "Val F1 = 0.7043895429086909\n",
      "Test F1= 0.6696951477196876\n"
     ]
    },
    {
     "data": {
      "application/vnd.jupyter.widget-view+json": {
       "model_id": "ec2772e299bb46d9bda6b20dfef1a119",
       "version_major": 2,
       "version_minor": 0
      },
      "text/plain": [
       "HBox(children=(FloatProgress(value=0.0, max=175.0), HTML(value='')))"
      ]
     },
     "metadata": {},
     "output_type": "display_data"
    },
    {
     "name": "stdout",
     "output_type": "stream",
     "text": [
      "Epoch: 2, Loss:  0.4457172155380249\n",
      "Epoch: 2, Loss:  0.43172252421476404\n",
      "Epoch: 2, Loss:  0.4375398996713999\n",
      "Epoch: 2, Loss:  0.418652659714824\n",
      "Epoch: 2, Loss:  0.41905996876378215\n",
      "Epoch: 2, Loss:  0.42191662884398595\n",
      "Epoch: 2, Loss:  0.41719335797189294\n",
      "\n",
      "Val F1 = 0.6952758781234302\n",
      "Test F1= 0.6282632185690321\n"
     ]
    },
    {
     "data": {
      "application/vnd.jupyter.widget-view+json": {
       "model_id": "c2a9aafa39d44f8aba3754fe8c343f25",
       "version_major": 2,
       "version_minor": 0
      },
      "text/plain": [
       "HBox(children=(FloatProgress(value=0.0, max=175.0), HTML(value='')))"
      ]
     },
     "metadata": {},
     "output_type": "display_data"
    },
    {
     "name": "stdout",
     "output_type": "stream",
     "text": [
      "Epoch: 3, Loss:  0.20192249615987143\n",
      "Epoch: 3, Loss:  0.22299976738131777\n",
      "Epoch: 3, Loss:  0.20574488510956634\n",
      "Epoch: 3, Loss:  0.1952764530374546\n",
      "Epoch: 3, Loss:  0.20137188511510049\n",
      "Epoch: 3, Loss:  0.19925735780856754\n",
      "Epoch: 3, Loss:  0.200122044004243\n",
      "\n",
      "Val F1 = 0.6719427784564243\n",
      "Test F1= 0.5958470073279017\n"
     ]
    },
    {
     "data": {
      "application/vnd.jupyter.widget-view+json": {
       "model_id": "4c9e52ffcd04408b8041710a97a2c8fd",
       "version_major": 2,
       "version_minor": 0
      },
      "text/plain": [
       "HBox(children=(FloatProgress(value=0.0, max=175.0), HTML(value='')))"
      ]
     },
     "metadata": {},
     "output_type": "display_data"
    },
    {
     "name": "stdout",
     "output_type": "stream",
     "text": [
      "Epoch: 4, Loss:  0.12693308790524802\n",
      "Epoch: 4, Loss:  0.11382808490675322\n",
      "Epoch: 4, Loss:  0.10991976712201093\n",
      "Epoch: 4, Loss:  0.11067261358704229\n",
      "Epoch: 4, Loss:  0.10642489310233824\n",
      "Epoch: 4, Loss:  0.11058808653146629\n",
      "Epoch: 4, Loss:  0.10781150028623383\n",
      "\n",
      "Val F1 = 0.6896221052706455\n",
      "Test F1= 0.65822544071392\n"
     ]
    },
    {
     "data": {
      "application/vnd.jupyter.widget-view+json": {
       "model_id": "9aff5911fe1f41e18e76e846036aa6ae",
       "version_major": 2,
       "version_minor": 0
      },
      "text/plain": [
       "HBox(children=(FloatProgress(value=0.0, max=175.0), HTML(value='')))"
      ]
     },
     "metadata": {},
     "output_type": "display_data"
    },
    {
     "name": "stdout",
     "output_type": "stream",
     "text": [
      "Epoch: 5, Loss:  0.045173188050587974\n",
      "Epoch: 5, Loss:  0.04322034485486089\n",
      "Epoch: 5, Loss:  0.045195292782139136\n",
      "Epoch: 5, Loss:  0.05122991523357353\n",
      "Epoch: 5, Loss:  0.049474958450563496\n",
      "Epoch: 5, Loss:  0.049493114420231556\n",
      "Epoch: 5, Loss:  0.0536770765808807\n",
      "\n",
      "\n",
      "\n",
      "EARLY STOPPING AFTER 5 EPOCHS\n"
     ]
    },
    {
     "data": {
      "text/html": [
       "<br/>Waiting for W&B process to finish, PID 15408<br/>Program ended successfully."
      ],
      "text/plain": [
       "<IPython.core.display.HTML object>"
      ]
     },
     "metadata": {},
     "output_type": "display_data"
    },
    {
     "data": {
      "application/vnd.jupyter.widget-view+json": {
       "model_id": "",
       "version_major": 2,
       "version_minor": 0
      },
      "text/plain": [
       "VBox(children=(Label(value=' 0.00MB of 0.00MB uploaded (0.00MB deduped)\\r'), FloatProgress(value=1.0, max=1.0)…"
      ]
     },
     "metadata": {},
     "output_type": "display_data"
    },
    {
     "data": {
      "text/html": [
       "Find user logs for this run at: <code>/home/steve/NLU_final_project/wandb/run-20210728_163743-ud4kou7m/logs/debug.log</code>"
      ],
      "text/plain": [
       "<IPython.core.display.HTML object>"
      ]
     },
     "metadata": {},
     "output_type": "display_data"
    },
    {
     "data": {
      "text/html": [
       "Find internal logs for this run at: <code>/home/steve/NLU_final_project/wandb/run-20210728_163743-ud4kou7m/logs/debug-internal.log</code>"
      ],
      "text/plain": [
       "<IPython.core.display.HTML object>"
      ]
     },
     "metadata": {},
     "output_type": "display_data"
    },
    {
     "data": {
      "text/html": [
       "<h3>Run summary:</h3><br/><style>\n",
       "    table.wandb td:nth-child(1) { padding: 0 10px; text-align: right }\n",
       "    </style><table class=\"wandb\">\n",
       "<tr><td>_runtime</td><td>352</td></tr><tr><td>_timestamp</td><td>1627483415</td></tr><tr><td>_step</td><td>20</td></tr></table>"
      ],
      "text/plain": [
       "<IPython.core.display.HTML object>"
      ]
     },
     "metadata": {},
     "output_type": "display_data"
    },
    {
     "data": {
      "text/html": [
       "<h3>Run history:</h3><br/><style>\n",
       "    table.wandb td:nth-child(1) { padding: 0 10px; text-align: right }\n",
       "    </style><table class=\"wandb\">\n",
       "<tr><td>_runtime</td><td>▁▁▁▁▂▃▃▃▄▄▄▄▅▅▅▅▇▇▇▇█</td></tr><tr><td>_timestamp</td><td>▁▁▁▁▂▃▃▃▄▄▄▄▅▅▅▅▇▇▇▇█</td></tr><tr><td>_step</td><td>▁▁▂▂▂▃▃▃▄▄▅▅▅▆▆▆▇▇▇██</td></tr></table><br/>"
      ],
      "text/plain": [
       "<IPython.core.display.HTML object>"
      ]
     },
     "metadata": {},
     "output_type": "display_data"
    },
    {
     "data": {
      "text/html": [
       "Synced 6 W&B file(s), 0 media file(s), 0 artifact file(s) and 0 other file(s)"
      ],
      "text/plain": [
       "<IPython.core.display.HTML object>"
      ]
     },
     "metadata": {},
     "output_type": "display_data"
    },
    {
     "data": {
      "text/html": [
       "\n",
       "                    <br/>Synced <strong style=\"color:#cdcd00\">AlBERTo-MC-val-early</strong>: <a href=\"https://wandb.ai/mcstewe/nlu_sentiment_analysis/runs/ud4kou7m\" target=\"_blank\">https://wandb.ai/mcstewe/nlu_sentiment_analysis/runs/ud4kou7m</a><br/>\n",
       "                "
      ],
      "text/plain": [
       "<IPython.core.display.HTML object>"
      ]
     },
     "metadata": {},
     "output_type": "display_data"
    }
   ],
   "source": [
    "np.random.seed(0)\n",
    "torch.manual_seed(0)\n",
    "model = MyNetMC(3).to(device)\n",
    "\n",
    "best_hyper = {'learning_rate': LEARNING_RATE, 'warmup_steps': WARMUP_PROPORTION, 'weight_decay': WEIGHT_DECAY}\n",
    "\n",
    "optimizer = torch.optim.AdamW(model.parameters(),\n",
    "                              lr=best_hyper[\"learning_rate\"],\n",
    "                              weight_decay=best_hyper[\"weight_decay\"], \n",
    "                              eps=1e-6)\n",
    "\n",
    "train_loader = DataLoader(training.with_format(\"torch\", columns=[\"input_ids\", \"attention_mask\", \"labels\", \"token_type_ids\"]), shuffle=True, batch_size=32)\n",
    "val_loader = DataLoader(validating.with_format(\"torch\", columns=[\"input_ids\", \"attention_mask\", \"labels\", \"token_type_ids\"]), batch_size=64)\n",
    "test_loader = DataLoader(testing.with_format(\"torch\", columns=[\"input_ids\", \"attention_mask\", \"labels\", \"token_type_ids\"]), batch_size=64)\n",
    "\n",
    "num_epochs = 15\n",
    "num_train_steps = int(len(train_loader) * num_epochs) + 1\n",
    "NUM_WARMUP_STEPS =  int(num_train_steps * best_hyper[\"warmup_steps\"])\n",
    "scheduler = get_linear_schedule_with_warmup(optimizer, NUM_WARMUP_STEPS, num_train_steps)\n",
    "early_stopping = EarlyStopping(min_delta=0.005, patience=3)\n",
    "\n",
    "logging = True\n",
    "if logging:\n",
    "    run = wandb.init(\n",
    "      project='nlu_sentiment_analysis',\n",
    "      name=\"AlBERTo-MC-val-early\",\n",
    "      entity='mcstewe',\n",
    "      notes='',\n",
    "      reinit=True,\n",
    "      config=dict (\n",
    "        epochs=num_epochs\n",
    "      )\n",
    "    )\n",
    "    wandb.watch(model)\n",
    "\n",
    "best_value = 0\n",
    "for epoch in range(num_epochs):\n",
    "    outputs, targets = train_epoch(model, train_loader, optimizer, scheduler, epoch, logging)\n",
    "    f1_train = f1_score(targets, outputs, average='macro')\n",
    "    outputs, targets = validation_epoch(model, epoch, val_loader, \"val\", logging=False)\n",
    "    \n",
    "    f1_val = f1_score(targets, outputs, average='macro')\n",
    "    if f1_val > best_value:\n",
    "        best_value = f1_val\n",
    "        torch.save(model.state_dict(), \"data/models/alberto_multiclass_val_early.pt\")   \n",
    "    if early_stopping.on_epoch_end(epoch, f1_val):\n",
    "        print(\"\\n\\nEARLY STOPPING AFTER {} EPOCHS\".format(epoch))\n",
    "        break\n",
    "    \n",
    "    print(f\"Val F1 = {f1_val}\")\n",
    "    outputs, targets = validation_epoch(model, epoch, test_loader, \"test\", logging=False)\n",
    "    f1_test = f1_score(targets, outputs, average='macro')\n",
    "    print(\"Test F1=\", f1_test)\n",
    "    if logging:\n",
    "        wandb.log({\"train\": {'f1': f1_train, \"lr\": optimizer.param_groups[0]['lr']}})\n",
    "        wandb.log({\"val\": {'f1': f1_val}})\n",
    "        wandb.log({\"test\": {'f1': f1_test}})\n",
    "    \n",
    "if logging:\n",
    "    run.finish()"
   ]
  },
  {
   "cell_type": "code",
   "execution_count": 17,
   "id": "5fe52a67",
   "metadata": {},
   "outputs": [
    {
     "name": "stdout",
     "output_type": "stream",
     "text": [
      "              precision    recall  f1-score   support\n",
      "\n",
      "    negative       0.86      0.53      0.66       734\n",
      "     neutral       0.67      0.88      0.76       914\n",
      "    positive       0.60      0.59      0.59       316\n",
      "\n",
      "    accuracy                           0.70      1964\n",
      "   macro avg       0.71      0.67      0.67      1964\n",
      "weighted avg       0.73      0.70      0.69      1964\n",
      "\n"
     ]
    },
    {
     "data": {
      "text/plain": [
       "Text(0.5, 1.0, 'SENTIPOLC16 - AlBERToMC val+early')"
      ]
     },
     "execution_count": 17,
     "metadata": {},
     "output_type": "execute_result"
    },
    {
     "data": {
      "image/png": "[encoded data removed]",
      "text/plain": [
       "<Figure size 432x288 with 2 Axes>"
      ]
     },
     "metadata": {
      "needs_background": "light"
     },
     "output_type": "display_data"
    }
   ],
   "source": [
    "#load best model's params\n",
    "model = MyNetMC(3).to(device)\n",
    "model.load_state_dict(torch.load(\"data/models/alberto_multiclass_val_early.pt\"))\n",
    "\n",
    "preds , trues = validation_epoch(model, None, test_loader, \"test\", logging=False)\n",
    "\n",
    "print(classification_report(trues, preds, target_names=[\"negative\", \"neutral\", \"positive\"]))\n",
    "\n",
    "cm = confusion_matrix(trues, preds, normalize='all')\n",
    "ConfusionMatrixDisplay(confusion_matrix=cm, display_labels=[\"negative\", \"neutral\", \"positive\"]).plot()\n",
    "plt.title(\"SENTIPOLC16 - AlBERToMC val+early\")"
   ]
  },
  {
   "cell_type": "markdown",
   "id": "8221bf79",
   "metadata": {},
   "source": [
    "## Training AlBERTo tuned + early stopping"
   ]
  },
  {
   "cell_type": "markdown",
   "id": "94aad716",
   "metadata": {},
   "source": [
    "#### run HPT to get the best hyper-parameters, then train the model"
   ]
  },
  {
   "cell_type": "code",
   "execution_count": 20,
   "id": "f3d135d0",
   "metadata": {},
   "outputs": [],
   "source": [
    "best_hyper = None"
   ]
  },
  {
   "cell_type": "code",
   "execution_count": 13,
   "id": "327a105e",
   "metadata": {},
   "outputs": [
    {
     "name": "stdout",
     "output_type": "stream",
     "text": [
      "skipping\n"
     ]
    }
   ],
   "source": [
    "%%script echo skipping\n",
    "study = optuna.create_study(direction=\"maximize\")\n",
    "study.optimize(objective, n_trials=30, timeout=600)\n",
    "\n",
    "pruned_trials = study.get_trials(deepcopy=False, states=[TrialState.PRUNED])\n",
    "complete_trials = study.get_trials(deepcopy=False, states=[TrialState.COMPLETE])\n",
    "\n",
    "print(\"Study statistics: \")\n",
    "print(\"  Number of finished trials: \", len(study.trials))\n",
    "print(\"  Number of pruned trials: \", len(pruned_trials))\n",
    "print(\"  Number of complete trials: \", len(complete_trials))\n",
    "\n",
    "print(\"Best trial:\")\n",
    "trial = study.best_trial\n",
    "best_hyper = trial.params\n",
    "print(\"  Value: \", trial.value)\n",
    "\n",
    "print(\"  Params: \")\n",
    "for key, value in trial.params.items():\n",
    "    print(\"    {}: {}\".format(key, value))"
   ]
  },
  {
   "cell_type": "code",
   "execution_count": 21,
   "id": "e3d0d620",
   "metadata": {},
   "outputs": [
    {
     "data": {
      "application/vnd.jupyter.widget-view+json": {
       "model_id": "cefffd624fec41df87aa4f4eb49059dc",
       "version_major": 2,
       "version_minor": 0
      },
      "text/plain": [
       "HBox(children=(FloatProgress(value=0.0, max=175.0), HTML(value='')))"
      ]
     },
     "metadata": {},
     "output_type": "display_data"
    },
    {
     "name": "stdout",
     "output_type": "stream",
     "text": [
      "\n",
      "Val F1 = 0.2724485437545008\n",
      "Test F1= 0.31124803732608974\n"
     ]
    },
    {
     "data": {
      "application/vnd.jupyter.widget-view+json": {
       "model_id": "f094e433cbb742c0910487c95fdcc81a",
       "version_major": 2,
       "version_minor": 0
      },
      "text/plain": [
       "HBox(children=(FloatProgress(value=0.0, max=175.0), HTML(value='')))"
      ]
     },
     "metadata": {},
     "output_type": "display_data"
    },
    {
     "name": "stdout",
     "output_type": "stream",
     "text": [
      "\n",
      "Val F1 = 0.37721603956898075\n",
      "Test F1= 0.4199889925125291\n"
     ]
    },
    {
     "data": {
      "application/vnd.jupyter.widget-view+json": {
       "model_id": "45a559719a8545cd83fdae3bfa09f387",
       "version_major": 2,
       "version_minor": 0
      },
      "text/plain": [
       "HBox(children=(FloatProgress(value=0.0, max=175.0), HTML(value='')))"
      ]
     },
     "metadata": {},
     "output_type": "display_data"
    },
    {
     "name": "stdout",
     "output_type": "stream",
     "text": [
      "\n",
      "Val F1 = 0.46300888268758267\n",
      "Test F1= 0.47188545099569407\n"
     ]
    },
    {
     "data": {
      "application/vnd.jupyter.widget-view+json": {
       "model_id": "869ecb8ab4d946459a2d0cc1159ba806",
       "version_major": 2,
       "version_minor": 0
      },
      "text/plain": [
       "HBox(children=(FloatProgress(value=0.0, max=175.0), HTML(value='')))"
      ]
     },
     "metadata": {},
     "output_type": "display_data"
    },
    {
     "name": "stdout",
     "output_type": "stream",
     "text": [
      "\n",
      "Val F1 = 0.6107943483950645\n",
      "Test F1= 0.590590089508691\n"
     ]
    },
    {
     "data": {
      "application/vnd.jupyter.widget-view+json": {
       "model_id": "d59a1e17c8bf4836bfdd1b767dde98da",
       "version_major": 2,
       "version_minor": 0
      },
      "text/plain": [
       "HBox(children=(FloatProgress(value=0.0, max=175.0), HTML(value='')))"
      ]
     },
     "metadata": {},
     "output_type": "display_data"
    },
    {
     "name": "stdout",
     "output_type": "stream",
     "text": [
      "\n",
      "Val F1 = 0.674694012949511\n",
      "Test F1= 0.6444330196773654\n"
     ]
    },
    {
     "data": {
      "application/vnd.jupyter.widget-view+json": {
       "model_id": "d12c76d3596b4537b19857ad695fce49",
       "version_major": 2,
       "version_minor": 0
      },
      "text/plain": [
       "HBox(children=(FloatProgress(value=0.0, max=175.0), HTML(value='')))"
      ]
     },
     "metadata": {},
     "output_type": "display_data"
    },
    {
     "name": "stdout",
     "output_type": "stream",
     "text": [
      "\n",
      "Val F1 = 0.6877731600936868\n",
      "Test F1= 0.6506429472373746\n"
     ]
    },
    {
     "data": {
      "application/vnd.jupyter.widget-view+json": {
       "model_id": "42066f8cbbfb4f85977e2893150fc6da",
       "version_major": 2,
       "version_minor": 0
      },
      "text/plain": [
       "HBox(children=(FloatProgress(value=0.0, max=175.0), HTML(value='')))"
      ]
     },
     "metadata": {},
     "output_type": "display_data"
    },
    {
     "name": "stdout",
     "output_type": "stream",
     "text": [
      "\n",
      "Val F1 = 0.6969663074800191\n",
      "Test F1= 0.6813401256930449\n"
     ]
    },
    {
     "data": {
      "application/vnd.jupyter.widget-view+json": {
       "model_id": "e63848f0a0a644678a15942b240b0fd7",
       "version_major": 2,
       "version_minor": 0
      },
      "text/plain": [
       "HBox(children=(FloatProgress(value=0.0, max=175.0), HTML(value='')))"
      ]
     },
     "metadata": {},
     "output_type": "display_data"
    },
    {
     "name": "stdout",
     "output_type": "stream",
     "text": [
      "\n",
      "Val F1 = 0.7042552748383276\n",
      "Test F1= 0.6674615448729483\n"
     ]
    },
    {
     "data": {
      "application/vnd.jupyter.widget-view+json": {
       "model_id": "865ab3b595cc49ff9f755121b7207ed8",
       "version_major": 2,
       "version_minor": 0
      },
      "text/plain": [
       "HBox(children=(FloatProgress(value=0.0, max=175.0), HTML(value='')))"
      ]
     },
     "metadata": {},
     "output_type": "display_data"
    },
    {
     "name": "stdout",
     "output_type": "stream",
     "text": [
      "\n",
      "Val F1 = 0.7028982524637204\n",
      "Test F1= 0.699602790663357\n"
     ]
    },
    {
     "data": {
      "application/vnd.jupyter.widget-view+json": {
       "model_id": "16d0d19faf5c4caaa1d0e141576fbeec",
       "version_major": 2,
       "version_minor": 0
      },
      "text/plain": [
       "HBox(children=(FloatProgress(value=0.0, max=175.0), HTML(value='')))"
      ]
     },
     "metadata": {},
     "output_type": "display_data"
    },
    {
     "name": "stdout",
     "output_type": "stream",
     "text": [
      "\n",
      "Val F1 = 0.7043223678478109\n",
      "Test F1= 0.680325606225073\n"
     ]
    },
    {
     "data": {
      "application/vnd.jupyter.widget-view+json": {
       "model_id": "be98c950359043958abc85d34e8bb4bd",
       "version_major": 2,
       "version_minor": 0
      },
      "text/plain": [
       "HBox(children=(FloatProgress(value=0.0, max=175.0), HTML(value='')))"
      ]
     },
     "metadata": {},
     "output_type": "display_data"
    },
    {
     "name": "stdout",
     "output_type": "stream",
     "text": [
      "\n",
      "Val F1 = 0.7104462675822143\n",
      "Test F1= 0.6679803148880493\n"
     ]
    },
    {
     "data": {
      "application/vnd.jupyter.widget-view+json": {
       "model_id": "97ea2cf560f94cc69b67ca04e819303f",
       "version_major": 2,
       "version_minor": 0
      },
      "text/plain": [
       "HBox(children=(FloatProgress(value=0.0, max=175.0), HTML(value='')))"
      ]
     },
     "metadata": {},
     "output_type": "display_data"
    },
    {
     "name": "stdout",
     "output_type": "stream",
     "text": [
      "\n",
      "Val F1 = 0.7121108164350799\n",
      "Test F1= 0.6714469967540279\n"
     ]
    },
    {
     "data": {
      "application/vnd.jupyter.widget-view+json": {
       "model_id": "a1eaa0c25a3e4a5f8f95d2dde534be5c",
       "version_major": 2,
       "version_minor": 0
      },
      "text/plain": [
       "HBox(children=(FloatProgress(value=0.0, max=175.0), HTML(value='')))"
      ]
     },
     "metadata": {},
     "output_type": "display_data"
    },
    {
     "name": "stdout",
     "output_type": "stream",
     "text": [
      "\n",
      "Val F1 = 0.7038949140870102\n",
      "Test F1= 0.666467299283587\n"
     ]
    },
    {
     "data": {
      "application/vnd.jupyter.widget-view+json": {
       "model_id": "0be7a0a962304a1590cfaf7b808caf03",
       "version_major": 2,
       "version_minor": 0
      },
      "text/plain": [
       "HBox(children=(FloatProgress(value=0.0, max=175.0), HTML(value='')))"
      ]
     },
     "metadata": {},
     "output_type": "display_data"
    },
    {
     "name": "stdout",
     "output_type": "stream",
     "text": [
      "\n",
      "Val F1 = 0.7024560607824114\n",
      "Test F1= 0.6629838853305716\n"
     ]
    },
    {
     "data": {
      "application/vnd.jupyter.widget-view+json": {
       "model_id": "5e4120eac5224d93b1561119f8723dd8",
       "version_major": 2,
       "version_minor": 0
      },
      "text/plain": [
       "HBox(children=(FloatProgress(value=0.0, max=175.0), HTML(value='')))"
      ]
     },
     "metadata": {},
     "output_type": "display_data"
    },
    {
     "name": "stdout",
     "output_type": "stream",
     "text": [
      "\n",
      "\n",
      "\n",
      "EARLY STOPPING AFTER 14 EPOCHS\n"
     ]
    }
   ],
   "source": [
    "np.random.seed(0)\n",
    "torch.manual_seed(0)\n",
    "model = MyNetMCTuned(3).to(device)\n",
    "\n",
    "if best_hyper is None:\n",
    "    best_hyper = {'learning_rate': 3.000003529363845e-06, 'warmup_steps': 0.6, 'weight_decay': 0.000260393798851559}\n",
    "\n",
    "\n",
    "# we will iterate through the layers of the network\n",
    "#final_weights = []\n",
    "#pretrained_weights = []\n",
    "# for name, param in model.named_parameters():\n",
    "#     if name.startswith('model'):\n",
    "#         pretrained_weights.append(param)\n",
    "#     else:\n",
    "#         final_weights.append(param)\n",
    "#optimizer = torch.optim.AdamW(params=[\n",
    "#                                {'params': pretrained_weights, 'lr': 1e-5},\n",
    "#                                {'params': final_weights, 'lr': 6e-5}],\n",
    "#                              weight_decay=0.01, \n",
    "#                              eps=1e-6)\n",
    "optimizer = torch.optim.AdamW(model.parameters(),\n",
    "                              lr=best_hyper[\"learning_rate\"],\n",
    "                              weight_decay=best_hyper[\"weight_decay\"], \n",
    "                              eps=1e-6)\n",
    "early_stopping = EarlyStopping(min_delta=0.005, patience=3)\n",
    "\n",
    "\n",
    "train_loader = DataLoader(training.with_format(\"torch\", columns=[\"input_ids\", \"attention_mask\", \"labels\", \"token_type_ids\"]), shuffle=True, batch_size=32)\n",
    "val_loader = DataLoader(validating.with_format(\"torch\", columns=[\"input_ids\", \"attention_mask\", \"labels\", \"token_type_ids\"]), batch_size=64)\n",
    "test_loader = DataLoader(testing.with_format(\"torch\", columns=[\"input_ids\", \"attention_mask\", \"labels\", \"token_type_ids\"]), batch_size=64)\n",
    "\n",
    "num_epochs = 15\n",
    "num_train_steps = int(len(train_loader) * num_epochs) + 1\n",
    "NUM_WARMUP_STEPS =  int(num_train_steps * best_hyper[\"warmup_steps\"])\n",
    "scheduler = get_linear_schedule_with_warmup(optimizer, NUM_WARMUP_STEPS, num_train_steps)\n",
    "\n",
    "logging = False\n",
    "if logging:\n",
    "    run = wandb.init(\n",
    "      project='nlu_sentiment_analysis',\n",
    "      name=\"AlBERTo-MC-tuned\",\n",
    "      entity='mcstewe',\n",
    "      notes='',\n",
    "      reinit=True,\n",
    "      config=dict (\n",
    "        epochs=num_epochs\n",
    "      )\n",
    "    )\n",
    "    wandb.watch(model)\n",
    "\n",
    "best_value = 0\n",
    "for epoch in range(num_epochs):\n",
    "    outputs, targets = train_epoch(model, train_loader, optimizer, scheduler, epoch, logging)\n",
    "    f1_train = f1_score(targets, outputs, average='macro')\n",
    "    outputs, targets = validation_epoch(model, epoch, val_loader, \"val\", logging=False)\n",
    "    \n",
    "    f1_val = f1_score(targets, outputs, average='macro')\n",
    "    if f1_val > best_value:\n",
    "        best_value = f1_val\n",
    "        torch.save(model.state_dict(), \"data/models/alberto_multiclass_tuned.pt\")    \n",
    "    if early_stopping.on_epoch_end(epoch, f1_val):\n",
    "        print(\"\\n\\nEARLY STOPPING AFTER {} EPOCHS\".format(epoch))\n",
    "        break\n",
    "    \n",
    "    print(f\"Val F1 = {f1_val}\")\n",
    "    outputs, targets = validation_epoch(model, epoch, test_loader, \"test\", logging=False)\n",
    "    f1_test = f1_score(targets, outputs, average='macro')\n",
    "    print(\"Test F1=\", f1_test)\n",
    "    if logging:\n",
    "        wandb.log({\"train\": {'f1': f1_train, \"lr\": optimizer.param_groups[0]['lr']}})\n",
    "        wandb.log({\"val\": {'f1': f1_val}})\n",
    "        wandb.log({\"test\": {'f1': f1_test}})\n",
    "    \n",
    "if logging:\n",
    "    run.finish()"
   ]
  },
  {
   "cell_type": "code",
   "execution_count": 22,
   "id": "87bc2318",
   "metadata": {},
   "outputs": [
    {
     "name": "stdout",
     "output_type": "stream",
     "text": [
      "              precision    recall  f1-score   support\n",
      "\n",
      "    negative       0.85      0.55      0.67       734\n",
      "     neutral       0.70      0.85      0.76       914\n",
      "    positive       0.53      0.63      0.58       316\n",
      "\n",
      "    accuracy                           0.70      1964\n",
      "   macro avg       0.69      0.68      0.67      1964\n",
      "weighted avg       0.73      0.70      0.70      1964\n",
      "\n"
     ]
    },
    {
     "data": {
      "text/plain": [
       "Text(0.5, 1.0, 'SENTIPOLC16 - AlBERToMC tuned')"
      ]
     },
     "execution_count": 22,
     "metadata": {},
     "output_type": "execute_result"
    },
    {
     "data": {
      "image/png": "[encoded data removed]",
      "text/plain": [
       "<Figure size 432x288 with 2 Axes>"
      ]
     },
     "metadata": {
      "needs_background": "light"
     },
     "output_type": "display_data"
    }
   ],
   "source": [
    "#load best model's params\n",
    "model = MyNetMCTuned(3).to(device)\n",
    "model.load_state_dict(torch.load(\"data/models/alberto_multiclass_tuned.pt\"))\n",
    "\n",
    "preds , trues = validation_epoch(model, None, test_loader, \"test\", logging=False)\n",
    "print(classification_report(trues, preds, target_names=[\"negative\", \"neutral\", \"positive\"]))\n",
    "\n",
    "cm = confusion_matrix(trues, preds, normalize='all')\n",
    "ConfusionMatrixDisplay(confusion_matrix=cm, display_labels=[\"negative\", \"neutral\", \"positive\"]).plot()\n",
    "plt.title(\"SENTIPOLC16 - AlBERToMC tuned\")"
   ]
  },
  {
   "cell_type": "markdown",
   "id": "5303e154",
   "metadata": {},
   "source": [
    "## FEEL-IT model test\n",
    "Note that it was trained just for positive/negative class, so the neutral class is taken for examples with low confidence in the prediction."
   ]
  },
  {
   "cell_type": "code",
   "execution_count": 11,
   "id": "3fafafe4",
   "metadata": {},
   "outputs": [],
   "source": [
    "device = \"cuda:0\""
   ]
  },
  {
   "cell_type": "code",
   "execution_count": 12,
   "id": "300b4b5d",
   "metadata": {},
   "outputs": [
    {
     "data": {
      "application/vnd.jupyter.widget-view+json": {
       "model_id": "b7215483248548c1a1f3c86830a6c530",
       "version_major": 2,
       "version_minor": 0
      },
      "text/plain": [
       "HBox(children=(FloatProgress(value=0.0, max=2.0), HTML(value='')))"
      ]
     },
     "metadata": {},
     "output_type": "display_data"
    },
    {
     "name": "stdout",
     "output_type": "stream",
     "text": [
      "\n"
     ]
    },
    {
     "data": {
      "application/vnd.jupyter.widget-view+json": {
       "model_id": "122a8772c87944018974ee8efc52bda8",
       "version_major": 2,
       "version_minor": 0
      },
      "text/plain": [
       "HBox(children=(FloatProgress(value=0.0, max=2.0), HTML(value='')))"
      ]
     },
     "metadata": {},
     "output_type": "display_data"
    },
    {
     "name": "stdout",
     "output_type": "stream",
     "text": [
      "\n",
      "              precision    recall  f1-score   support\n",
      "\n",
      "    negative       0.61      0.89      0.72       734\n",
      "     neutral       0.50      0.00      0.00       914\n",
      "    positive       0.29      0.80      0.42       316\n",
      "\n",
      "    accuracy                           0.46      1964\n",
      "   macro avg       0.46      0.56      0.38      1964\n",
      "weighted avg       0.50      0.46      0.34      1964\n",
      "\n"
     ]
    },
    {
     "data": {
      "text/plain": [
       "Text(0.5, 1.0, 'SENTIPOLC16 - Feel-it pretrained')"
      ]
     },
     "execution_count": 12,
     "metadata": {},
     "output_type": "execute_result"
    },
    {
     "data": {
      "image/png": "[encoded data removed]",
      "text/plain": [
       "<Figure size 432x288 with 2 Axes>"
      ]
     },
     "metadata": {
      "needs_background": "light"
     },
     "output_type": "display_data"
    }
   ],
   "source": [
    "from transformers import AutoTokenizer, AutoModelForSequenceClassification\n",
    "\n",
    "def adapt_labels(example):\n",
    "    if example[\"labels\"] == 2: #positive class\n",
    "        example[\"labels\"] = 1\n",
    "        return example\n",
    "    return example #negative class\n",
    "\n",
    "\n",
    "tok_feelit = AutoTokenizer.from_pretrained(\"MilaNLProc/feel-it-italian-sentiment\")\n",
    "tok_feelit.model_max_length = 128\n",
    "\n",
    "model = AutoModelForSequenceClassification.from_pretrained(\"MilaNLProc/feel-it-italian-sentiment\").to(device)\n",
    "model.eval()\n",
    "\n",
    "dataset = pd.DataFrame({\"text\": test.text.apply(a.preprocess), \"idx\": test.index, \"labels\": test[[\"opos\", \"oneg\"]].apply(separate2united_labels, axis=1)})\n",
    "dataset = Dataset.from_pandas(dataset)\n",
    "testing = dataset\\\n",
    "                .map(lambda examples: tok_feelit(examples[\"text\"], padding=\"max_length\", truncation=True), batched=True)\\\n",
    "                .filter(lambda example: example['labels'] != 3)\\\n",
    "                .with_format(\"torch\")\n",
    "test_loader = DataLoader(testing.with_format(\"torch\", columns=[\"input_ids\", \"attention_mask\", \"labels\"]), batch_size=64)\n",
    "\n",
    "\n",
    "trues , preds , logitss = [] , [] , []\n",
    "with torch.no_grad():\n",
    "    for _, data in enumerate(test_loader, 0):\n",
    "        batch = {k: data[k].to(device) for k in ['attention_mask', 'input_ids']}\n",
    "        logits = model(**batch)[0]\n",
    "        trues.extend(data[\"labels\"].detach().numpy())\n",
    "        preds.extend(logits.argmax(-1).cpu().detach().numpy().tolist())\n",
    "        logitss.extend(logits.cpu().detach().numpy().tolist()) #logits = logits.squeeze(0)\n",
    "        \n",
    "        \n",
    "proba = torch.nn.functional.softmax(torch.tensor(logitss), dim=1)\n",
    "\n",
    "assert len(preds) == len(proba) and np.all(np.array((proba[:,1] + proba[:,0]) >= 0.99))\n",
    "for i in range(len(proba)):\n",
    "    if preds[i] == 1: #the net produces just [0,1] for positive/negative, so adjust label\n",
    "        preds[i] = 2\n",
    "    if max(proba[i,0] , proba[i, 1]) <= 0.55: #set to neutral  if the prediction's confidence is too low\n",
    "        preds[i] = 1\n",
    "\n",
    "print(classification_report(trues, preds, target_names=[\"negative\", \"neutral\", \"positive\"]))\n",
    "cm = confusion_matrix(trues, preds, normalize='all')\n",
    "ConfusionMatrixDisplay(confusion_matrix=cm, display_labels=[\"negative\", \"neutral\", \"positive\"]).plot()\n",
    "plt.title(\"SENTIPOLC16 - Feel-it pretrained\")"
   ]
  },
  {
   "cell_type": "code",
   "execution_count": 24,
   "id": "bf1ed735",
   "metadata": {},
   "outputs": [
    {
     "data": {
      "application/vnd.plotly.v1+json": {
       "config": {
        "plotlyServerURL": "https://plot.ly"
       },
       "data": [
        {
         "histnorm": "probability",
         "type": "histogram",
         "x": [
          0.00026591852656565607,
          0.00028206981369294226,
          0.9995638728141785,
          0.9997337460517883,
          0.9996386766433716,
          0.0002776664332486689,
          0.0008150215144269168,
          0.00023115353542380035,
          0.9995711445808411,
          0.9997748732566833,
          0.00031519850017502904,
          0.00029005325632169843,
          0.0020688665099442005,
          0.9995871186256409,
          0.9743122458457947,
          0.9997840523719788,
          0.00034527856041677296,
          0.9997674822807312,
          0.0006139889592304826,
          0.007806073874235153,
          0.9996415376663208,
          0.9997569918632507,
          0.9997506737709045,
          0.00030467138276435435,
          0.00023508360027335584,
          0.00022703016293235123,
          0.9997832179069519,
          0.00029388765688054264,
          0.9997774958610535,
          0.0002931050257757306,
          0.9997929930686951,
          0.9991077780723572,
          0.9996893405914307,
          0.0002502435236237943,
          0.00033365291892550886,
          0.9997757077217102,
          0.9997761845588684,
          0.00021428967011161149,
          0.0003313301131129265,
          0.9997745156288147,
          0.9997846484184265,
          0.999790370464325,
          0.9997941851615906,
          0.9997609257698059,
          0.9997792840003967,
          0.9996823072433472,
          0.0002834336191881448,
          0.006496699992567301,
          0.00022620111121796072,
          0.9997722506523132,
          0.9997386336326599,
          0.9998003840446472,
          0.9997301697731018,
          0.0003014314570464194,
          0.00041193445213139057,
          0.9997066855430603,
          0.9997889399528503,
          0.00023025411064736545,
          0.0002746549143921584,
          0.9997759461402893,
          0.9986717700958252,
          0.0002582916640676558,
          0.9997610449790955,
          0.9997863173484802,
          0.9997876286506653,
          0.9997487664222717,
          0.9997430443763733,
          0.9997779726982117,
          0.9993358254432678,
          0.0003283553814981133,
          0.00021529894729610533,
          0.9997830986976624,
          0.9997933506965637,
          0.9997746348381042,
          0.999744713306427,
          0.9997592568397522,
          0.9997841715812683,
          0.0005705858930014074,
          0.9997839331626892,
          0.36482155323028564,
          0.00023809430422261357,
          0.999778687953949,
          0.004703771322965622,
          0.9992105960845947,
          0.00025938815088011324,
          0.9791279435157776,
          0.9995204210281372,
          0.9997548460960388,
          0.00021579833992291242,
          0.9997543692588806,
          0.0002880569372791797,
          0.0986374020576477,
          0.9997826218605042,
          0.9991857409477234,
          0.9997656941413879,
          0.999776303768158,
          0.9997751116752625,
          0.999799907207489,
          0.00045928815961815417,
          0.9997900128364563,
          0.0010021018097177148,
          0.9997705817222595,
          0.9997814297676086,
          0.00025406552595086396,
          0.9995445609092712,
          0.0005754039157181978,
          0.9997875094413757,
          0.00031291935010813177,
          0.9997484087944031,
          0.9997918009757996,
          0.9997758269309998,
          0.0002289229742018506,
          0.000999209936708212,
          0.0002457255613990128,
          0.9997555613517761,
          0.802734375,
          0.0022598085924983025,
          0.00023304986825678498,
          0.9997056126594543,
          0.9921729564666748,
          0.0004661566053982824,
          0.9997978806495667,
          0.9996649026870728,
          0.999714195728302,
          0.9997515082359314,
          0.0009586475207470357,
          0.022517217323184013,
          0.996250331401825,
          0.9997853636741638,
          0.9997720122337341,
          0.044323284178972244,
          0.03972925990819931,
          0.0006766704027540982,
          0.9950174689292908,
          0.9997938275337219,
          0.9996659755706787,
          0.00023147270258050412,
          0.9997660517692566,
          0.9997393488883972,
          0.9997692704200745,
          0.9997366070747375,
          0.9997949004173279,
          0.9997900128364563,
          0.0005457682418636978,
          0.005801085382699966,
          0.9994528889656067,
          0.9997703433036804,
          0.0002400198281975463,
          0.006736127194017172,
          0.00048263874487020075,
          0.0002943683066405356,
          0.00027823381242342293,
          0.5023804903030396,
          0.9997897744178772,
          0.999795138835907,
          0.0007492033182643354,
          0.05298115313053131,
          0.9997988343238831,
          0.0002956080134026706,
          0.00026481287204660475,
          0.0012751718750223517,
          0.33638352155685425,
          0.9997945427894592,
          0.9996378421783447,
          0.0004599234671331942,
          0.0002466962323524058,
          0.9997493624687195,
          0.10767768323421478,
          0.9997848868370056,
          0.9997844099998474,
          0.9997979998588562,
          0.9997634291648865,
          0.9997212290763855,
          0.9996726512908936,
          0.9997698664665222,
          0.0002492752973921597,
          0.43327993154525757,
          0.9997093081474304,
          0.9998002648353577,
          0.9994118213653564,
          0.999785840511322,
          0.99944669008255,
          0.00026186753530055285,
          0.00028874873532913625,
          0.9993385672569275,
          0.99979168176651,
          0.0023122248239815235,
          0.9975624084472656,
          0.9997727274894714,
          0.9997630715370178,
          0.9997792840003967,
          0.0023699200246483088,
          0.9997984766960144,
          0.00023694297124166042,
          0.9997817873954773,
          0.0002648381341714412,
          0.0002501523995306343,
          0.9997795224189758,
          0.9971741437911987,
          0.9997813105583191,
          0.0003004232421517372,
          0.00028735006344504654,
          0.9997913241386414,
          0.00845151487737894,
          0.0003254162729717791,
          0.00027725615655072033,
          0.9997870326042175,
          0.001599904615432024,
          0.9997642636299133,
          0.9991349577903748,
          0.0005388652789406478,
          0.999627947807312,
          0.0002713692665565759,
          0.9997944235801697,
          0.9992226362228394,
          0.9997244477272034,
          0.9997633099555969,
          0.00022737871040590107,
          0.0006937247817404568,
          0.9996122717857361,
          0.9997578263282776,
          0.9997755885124207,
          0.0003753245691768825,
          0.9039345979690552,
          0.9997376799583435,
          0.9997908473014832,
          0.0006510252133011818,
          0.99973064661026,
          0.00036417352384887636,
          0.9997534155845642,
          0.9997486472129822,
          0.9997122883796692,
          0.9997803568840027,
          0.9997702240943909,
          0.0002496206434443593,
          0.9997376799583435,
          0.9997285008430481,
          0.0009268487920053303,
          0.999797523021698,
          0.9997934699058533,
          0.9997569918632507,
          0.999789297580719,
          0.00022409607481677085,
          0.999782383441925,
          0.0003701726673170924,
          0.00039362438837997615,
          0.0002276464074384421,
          0.00038384960498660803,
          0.999750554561615,
          0.0003397786058485508,
          0.9997751116752625,
          0.003280102275311947,
          0.0002992141235154122,
          0.0002816030755639076,
          0.999748170375824,
          0.0004915103199891746,
          0.9997795224189758,
          0.031100470572710037,
          0.9935531616210938,
          0.9997900128364563,
          0.9997231364250183,
          0.9997691512107849,
          0.8105519413948059,
          0.9992128610610962,
          0.03074614889919758,
          0.009438750334084034,
          0.00027170710382051766,
          0.0006057796999812126,
          0.0002794154279399663,
          0.0003310294996481389,
          0.9996919631958008,
          0.0004339046136010438,
          0.999782145023346,
          0.9997907280921936,
          0.9997943043708801,
          0.831229031085968,
          0.9997745156288147,
          0.6759579181671143,
          0.99978107213974,
          0.9997884631156921,
          0.0003093739796895534,
          0.5035294890403748,
          0.9891854524612427,
          0.9997932314872742,
          0.9997966885566711,
          0.9997437596321106,
          0.9997898936271667,
          0.9997939467430115,
          0.9997803568840027,
          0.0014241181779652834,
          0.9992185831069946,
          0.9997923970222473,
          0.00022302901197690517,
          0.26670077443122864,
          0.9996238946914673,
          0.00032930209999904037,
          0.0003440365253482014,
          0.0002340469800401479,
          0.9997425675392151,
          0.00040977209573611617,
          0.9997977614402771,
          0.0002207340585300699,
          0.9997943043708801,
          0.00029521118267439306,
          0.9768787026405334,
          0.9997891783714294,
          0.00025488901883363724,
          0.9997718930244446,
          0.9997895359992981,
          0.0002320441126357764,
          0.99978107213974,
          0.00022534391609951854,
          0.9997922778129578,
          0.0009163394570350647,
          0.1496933400630951,
          0.9997298121452332,
          0.9997894167900085,
          0.00032643642043694854,
          0.0002374871401116252,
          0.00037638662615790963,
          0.9997770190238953,
          0.9997740387916565,
          0.0004467755206860602,
          0.00021330425806809217,
          0.0002760962815955281,
          0.0002600369043648243,
          0.9997281432151794,
          0.001145393936894834,
          0.00026312589761801064,
          0.00023155876260716468,
          0.9997902512550354,
          0.0006593553116545081,
          0.9216389060020447,
          0.00024787886650301516,
          0.9997909665107727,
          0.999758780002594,
          0.9997581839561462,
          0.9986388087272644,
          0.9997822642326355,
          0.999784529209137,
          0.9997879862785339,
          0.999739944934845,
          0.9997883439064026,
          0.9997828602790833,
          0.999736487865448,
          0.999756395816803,
          0.9997878670692444,
          0.999792754650116,
          0.999790370464325,
          0.02075931802392006,
          0.9997782111167908,
          0.9997931122779846,
          0.0003736835496965796,
          0.9965001344680786,
          0.9997380375862122,
          0.9997934699058533,
          0.9029531478881836,
          0.9997931122779846,
          0.9934839606285095,
          0.9997016787528992,
          0.9996284246444702,
          0.9995067119598389,
          0.9997522234916687,
          0.9997672438621521,
          0.0005050647305324674,
          0.9990973472595215,
          0.0003543483035173267,
          0.00028220730018801987,
          0.00025030653341673315,
          0.03755957633256912,
          0.9997850060462952,
          0.00028263998683542013,
          0.9997854828834534,
          0.9996767044067383,
          0.9997679591178894,
          0.9997774958610535,
          0.9997919201850891,
          0.9997879862785339,
          0.9997684359550476,
          0.9997798800468445,
          0.9997878670692444,
          0.9995525479316711,
          0.9997807145118713,
          0.9892404675483704,
          0.9997827410697937,
          0.9996510744094849,
          0.9997351765632629,
          0.9997956156730652,
          0.0003058660659007728,
          0.00022877306037116796,
          0.9997898936271667,
          0.9997835755348206,
          0.9997422099113464,
          0.00035794387804344296,
          0.9997950196266174,
          0.9988327622413635,
          0.9997949004173279,
          0.9997925162315369,
          0.9996572732925415,
          0.9997913241386414,
          0.9997783303260803,
          0.999796450138092,
          0.9997511506080627,
          0.9997925162315369,
          0.1656743288040161,
          0.00036247927346266806,
          0.419836163520813,
          0.9997530579566956,
          0.9997034668922424,
          0.9997803568840027,
          0.999716579914093,
          0.999762237071991,
          0.9996283054351807,
          0.99978107213974,
          0.9997877478599548,
          0.0002536913088988513,
          0.000710069143678993,
          0.999792754650116,
          0.000791338155977428,
          0.0030133461114019156,
          0.3600536584854126,
          0.9997742772102356,
          0.9997413754463196,
          0.9997922778129578,
          0.0002580897998996079,
          0.9996486902236938,
          0.9996720552444458,
          0.00033975590486079454,
          0.013755976222455502,
          0.9997555613517761,
          0.9997910857200623,
          0.000228342687478289,
          0.9997708201408386,
          0.9997867941856384,
          0.9997902512550354,
          0.00032099371310323477,
          0.999747097492218,
          0.9997822642326355,
          0.0003043531905859709,
          0.0019736462272703648,
          0.999714195728302,
          0.999530553817749,
          0.9997931122779846,
          0.9997875094413757,
          0.9997943043708801,
          0.9997900128364563,
          0.9997867941856384,
          0.9887378215789795,
          0.005535886622965336,
          0.9997988343238831,
          0.9991602897644043,
          0.9997846484184265,
          0.9997487664222717,
          0.9937531352043152,
          0.00035558996023610234,
          0.9997863173484802,
          0.9982119798660278,
          0.9997925162315369,
          0.9997734427452087,
          0.008427365683019161,
          0.9997419714927673,
          0.06545615196228027,
          0.9997890591621399,
          0.9997915625572205,
          0.9997627139091492,
          0.9997511506080627,
          0.00024835675139911473,
          0.9997925162315369,
          0.9997946619987488,
          0.00024852374917827547,
          0.00023893117031548172,
          0.0004234451334923506,
          0.007133792154490948,
          0.00023511273320764303,
          0.9998006224632263,
          0.9997840523719788,
          0.9997982382774353,
          0.9998001456260681,
          0.999767005443573,
          0.9997203946113586,
          0.9996598958969116,
          0.9997971653938293,
          0.9997300505638123,
          0.9997747540473938,
          0.00023210476501844823,
          0.0007929640705697238,
          0.9997296929359436,
          0.999786913394928,
          0.9997840523719788,
          0.9997857213020325,
          0.9950140118598938,
          0.9997766613960266,
          0.9997943043708801,
          0.9997894167900085,
          0.9997928738594055,
          0.9997686743736267,
          0.9997702240943909,
          0.00025093567091971636,
          0.0003676626365631819,
          0.8136981725692749,
          0.999779999256134,
          0.0002203721523983404,
          0.9996637105941772,
          0.00038484178367070854,
          0.999716579914093,
          0.00022290697961580008,
          0.9997877478599548,
          0.0002481058472767472,
          0.999763548374176,
          0.9997891783714294,
          0.0002319410559721291,
          0.999750554561615,
          0.00024382563424296677,
          0.9997736811637878,
          0.00026017503114417195,
          0.00024338481307495385,
          0.0003268680302426219,
          0.00023198395501822233,
          0.0008064654539339244,
          0.0002685747167561203,
          0.0002681863261386752,
          0.9997895359992981,
          0.9997873902320862,
          0.00023981351114343852,
          0.21262143552303314,
          0.9997846484184265,
          0.9997983574867249,
          0.00022837426513433456,
          0.0002400143421255052,
          0.996938943862915,
          0.9997797608375549,
          0.9997915625572205,
          0.9995790123939514,
          0.9996546506881714,
          0.00045413669431582093,
          0.0002381830709055066,
          0.9990448355674744,
          0.2464066445827484,
          0.2773560583591461,
          0.0003973532293457538,
          0.12565922737121582,
          0.9997867941856384,
          0.9997977614402771,
          0.9997974038124084,
          0.00039000986726023257,
          0.999792754650116,
          0.9997972846031189,
          0.9989134073257446,
          0.0002231272665085271,
          0.9997935891151428,
          0.9919416904449463,
          0.9948474168777466,
          0.00023830596182961017,
          0.0003569522814359516,
          0.9997618794441223,
          0.25833603739738464,
          0.999797523021698,
          0.00025126701802946627,
          0.9997884631156921,
          0.0002996354887727648,
          0.00022418027219828218,
          0.8062973022460938,
          0.0002390788431512192,
          0.9995805621147156,
          0.99979168176651,
          0.9997645020484924,
          0.9997044205665588,
          0.00024021441640798002,
          0.00023118109675124288,
          0.9997907280921936,
          0.0002172316308133304,
          0.0002268795360578224,
          0.999782145023346,
          0.00027108145877718925,
          0.9997771382331848,
          0.999763548374176,
          0.9973070621490479,
          0.00024821754777804017,
          0.9997584223747253,
          0.9997660517692566,
          0.957286536693573,
          0.34981322288513184,
          0.9997931122779846,
          0.9997945427894592,
          0.00039026312879286706,
          0.0002812411403283477,
          0.0028797730337828398,
          0.00023234388208948076,
          0.9997614026069641,
          0.00180585659109056,
          0.9997825026512146,
          0.9981202483177185,
          0.9997881054878235,
          0.0002218197623733431,
          0.9997817873954773,
          0.9997480511665344,
          0.00030126995989121497,
          0.001593718770891428,
          0.0017547730822116137,
          0.0003048483340535313,
          0.0005975770764052868,
          0.999789297580719,
          0.9994970560073853,
          0.9997959733009338,
          0.9997748732566833,
          0.0005160122527740896,
          0.9990841150283813,
          0.9996193647384644,
          0.06064942851662636,
          0.9998002648353577,
          0.9997991919517517,
          0.9998013377189636,
          0.9997932314872742,
          0.9997943043708801,
          0.9997997879981995,
          0.9997883439064026,
          0.02929694391787052,
          0.9991663694381714,
          0.9997768998146057,
          0.9996935129165649,
          0.9997788071632385,
          0.0005545216845348477,
          0.9997889399528503,
          0.0002556630061008036,
          0.9992989301681519,
          0.9997814297676086,
          0.0004604384594131261,
          0.00029758427990600467,
          0.009092935360968113,
          0.9021995663642883,
          0.9997522234916687,
          0.9967161417007446,
          0.21815504133701324,
          0.00026065943529829383,
          0.9997890591621399,
          0.0012962702894583344,
          0.0006076327408663929,
          0.9996848106384277,
          0.546577513217926,
          0.9997269511222839,
          0.0006082924082875252,
          0.0005474946810863912,
          0.9996520280838013,
          0.00041720361332409084,
          0.9997798800468445,
          0.9996956586837769,
          0.9997276663780212,
          0.05323304608464241,
          0.0007220233092084527,
          0.9997915625572205,
          0.012758731842041016,
          0.9997914433479309,
          0.9969193935394287,
          0.9997945427894592,
          0.9997733235359192,
          0.999792754650116,
          0.00036978963180445135,
          0.9983526468276978,
          0.9975676536560059,
          0.9977757334709167,
          0.9997993111610413,
          0.9997993111610413,
          0.00041816558223217726,
          0.9991461038589478,
          0.9997274279594421,
          0.9997943043708801,
          0.9997921586036682,
          0.9997755885124207,
          0.9997915625572205,
          0.384382426738739,
          0.9991515874862671,
          0.00048560003051534295,
          0.9997764229774475,
          0.00023669912479817867,
          0.09274137765169144,
          0.0022225133143365383,
          0.0003636195615399629,
          0.9997901320457458,
          0.0003083809860982001,
          0.9997935891151428,
          0.0003555706061888486,
          0.9996738433837891,
          0.0010910461423918605,
          0.9997884631156921,
          0.008245280012488365,
          0.00023824146774131805,
          0.0002335694880457595,
          0.00046912944526411593,
          0.9997835755348206,
          0.9995701909065247,
          0.9997897744178772,
          0.00022069786791689694,
          0.9995348453521729,
          0.9996125102043152,
          0.9997965693473816,
          0.9997559189796448,
          0.9998008608818054,
          0.9997784495353699,
          0.9997705817222595,
          0.000703721190802753,
          0.9997977614402771,
          0.9997696280479431,
          0.9997987151145935,
          0.9994966983795166,
          0.00023649813374504447,
          0.9985058307647705,
          0.000378993630874902,
          0.9997938275337219,
          0.8595035672187805,
          0.9247094392776489,
          0.9997991919517517,
          0.00032732204999774694,
          0.999799907207489,
          0.9997796416282654,
          0.999795138835907,
          0.00022892166452948004,
          0.0002454396744724363,
          0.0003369582409504801,
          0.9984741806983948,
          0.9986140727996826,
          0.9997761845588684,
          0.6604002714157104,
          0.0013033491559326649,
          0.9997925162315369,
          0.9997135996818542,
          0.9997921586036682,
          0.876025378704071,
          0.9997780919075012,
          0.851834237575531,
          0.9997500777244568,
          0.9997947812080383,
          0.25307154655456543,
          0.9997918009757996,
          0.0006557519664056599,
          0.9997308850288391,
          0.9995569586753845,
          0.9997865557670593,
          0.00033137400168925524,
          0.9994669556617737,
          0.000281379820080474,
          0.9997708201408386,
          0.0009153450955636799,
          0.999731719493866,
          0.9997873902320862,
          0.9997202754020691,
          0.999767005443573,
          0.00026718739536590874,
          0.00029400564380921423,
          0.9997891783714294,
          0.999743640422821,
          0.9997418522834778,
          0.9996659755706787,
          0.0002827545104082674,
          0.999735414981842,
          0.9997839331626892,
          0.029812097549438477,
          0.00025395702687092125,
          0.0009943840559571981,
          0.9997579455375671,
          0.9991171956062317,
          0.9990664124488831,
          0.9997978806495667,
          0.9997909665107727,
          0.00036408641608431935,
          0.0002858450170606375,
          0.0007069642306305468,
          0.9997939467430115,
          0.9997853636741638,
          0.9997764229774475,
          0.00027657419559545815,
          0.0343567430973053,
          0.0003140790213365108,
          0.9997970461845398,
          0.9997956156730652,
          0.00023139017866924405,
          0.00035241793375462294,
          0.0014450873713940382,
          0.0007542467792518437,
          0.0006807638565078378,
          0.0007241967832669616,
          0.0002486799203325063,
          0.0002395274059381336,
          0.9997077584266663,
          0.00021677231416106224,
          0.1345227062702179,
          0.00028556367033161223,
          0.0004751585656777024,
          0.9997872710227966,
          0.000231252983212471,
          0.9997720122337341,
          0.9997500777244568,
          0.9997765421867371,
          0.9997298121452332,
          0.00027763412799686193,
          0.00044504483230412006,
          0.01073727011680603,
          0.0005881240358576179,
          0.7758898735046387,
          0.0002537457621656358,
          0.9997230172157288,
          0.9997519850730896,
          0.00026124060968868434,
          0.00026647889171727,
          0.9997872710227966,
          0.9997650980949402,
          0.020500482991337776,
          0.0004234909429214895,
          0.9997926354408264,
          0.9997841715812683,
          0.9997896552085876,
          0.9997095465660095,
          0.9997298121452332,
          0.0003084483614657074,
          0.0002160507283406332,
          0.00428105378523469,
          0.0012156640877947211,
          0.9997932314872742,
          0.9997313618659973,
          0.9988441467285156,
          0.9997515082359314,
          0.9996020197868347,
          0.0003693657636176795,
          0.0004347249632701278,
          0.9989466071128845,
          0.9997938275337219,
          0.028873862698674202,
          0.00035611542989499867,
          0.0002421594108454883,
          0.9981970191001892,
          0.9997655749320984,
          0.00024820261751301587,
          0.9903331398963928,
          0.998863935470581,
          0.9997301697731018,
          0.9997740387916565,
          0.9997162222862244,
          0.9997146725654602,
          0.9997875094413757,
          0.0005392886232584715,
          0.0013136218767613173,
          0.9997747540473938,
          0.9997541308403015,
          0.03597872704267502,
          0.9997842907905579,
          0.0006477052811533213,
          0.9997884631156921,
          0.0003629130660556257,
          0.9997819066047668,
          0.9973359704017639,
          0.9997720122337341,
          0.0002675203140825033,
          0.99979168176651,
          0.9196240305900574,
          0.9996289014816284,
          0.0003315215581096709,
          0.00022609287407249212,
          0.0008531135390512645,
          0.0003464471083134413,
          0.9997445940971375,
          0.9997159838676453,
          0.9997733235359192,
          0.994831919670105,
          0.9997712969779968,
          0.9891854524612427,
          0.9997360110282898,
          0.9997742772102356,
          0.999129593372345,
          0.00023527083976659924,
          0.0005646427161991596,
          0.12868690490722656,
          0.0002447358565405011,
          0.0003830496279988438,
          0.0003167952236253768,
          0.00026221908046863973,
          0.9997782111167908,
          0.9997732043266296,
          0.9997857213020325,
          0.00041122527909465134,
          0.0002557112311478704,
          0.6450709104537964,
          0.000757200934458524,
          0.07001020014286041,
          0.00025546731194481254,
          0.9997969269752502,
          0.999714195728302,
          0.0006007453775964677,
          0.019865162670612335,
          0.0002377309137955308,
          0.9997819066047668,
          0.9996768236160278,
          0.06483764201402664,
          0.00023415233590640128,
          0.0022496103774756193,
          0.00025046695373021066,
          0.0007002998609095812,
          0.9997649788856506,
          0.00036506325704976916,
          0.9997491240501404,
          0.00023355857410933822,
          0.00028717477107420564,
          0.9997530579566956,
          0.8671729564666748,
          0.9997013211250305,
          0.0007508496637456119,
          0.9970921277999878,
          0.9997928738594055,
          0.9996922016143799,
          0.9997981190681458,
          0.9997060894966125,
          0.00022505491506308317,
          0.9997871518135071,
          0.9931384921073914,
          0.9997177720069885,
          0.999789297580719,
          0.00023301919281948358,
          0.9997820258140564,
          0.9997815489768982,
          0.00105790956877172,
          0.9997544884681702,
          0.999713122844696,
          0.9997172951698303,
          0.9997450709342957,
          0.010167790576815605,
          0.9996691942214966,
          0.9997561573982239,
          0.9997867941856384,
          0.0003166007809340954,
          0.00034393780515529215,
          0.99977046251297,
          0.9997270703315735,
          0.1885768473148346,
          0.0002546344476286322,
          0.9993359446525574,
          0.999768078327179,
          0.9997935891151428,
          0.9997342228889465,
          0.9997811913490295,
          0.0003598156908992678,
          0.0003183129010722041,
          0.9997829794883728,
          0.999777615070343,
          0.0012966482900083065,
          0.002732114167883992,
          0.9997790455818176,
          0.0004222037096042186,
          0.9997677206993103,
          0.005717101972550154,
          0.9997499585151672,
          0.9997639060020447,
          0.999745786190033,
          0.00035295472480356693,
          0.9997774958610535,
          0.9827924370765686,
          0.9997748732566833,
          0.9229875206947327,
          0.9991227984428406,
          0.999764621257782,
          0.9997934699058533,
          0.999561607837677,
          0.9997805953025818,
          0.9997759461402893,
          0.000288173119770363,
          0.9994648098945618,
          0.9997597336769104,
          0.00025595613988116384,
          0.0004234352381899953,
          0.9997739195823669,
          0.999134361743927,
          0.00026672673993743956,
          0.9997428059577942,
          0.9996479749679565,
          0.0002631750830914825,
          0.00034433577093295753,
          0.9997889399528503,
          0.9997368454933167,
          0.9997759461402893,
          0.9997850060462952,
          0.9997953772544861,
          0.9997479319572449,
          0.9997969269752502,
          0.0003088653029408306,
          0.27977368235588074,
          0.999790608882904,
          0.9997920393943787,
          0.00028763565933331847,
          0.9986494183540344,
          0.7206888794898987,
          0.0003344854630995542,
          0.9997814297676086,
          0.15910907089710236,
          0.9997755885124207,
          0.00023781707568559796,
          0.9997966885566711,
          0.9997989535331726,
          0.9997977614402771,
          0.9996954202651978,
          0.9997394680976868,
          0.9997891783714294,
          0.0003348945756442845,
          0.00036436697700992227,
          0.9997895359992981,
          0.0005854802438989282,
          0.00035980987013317645,
          0.0008701891638338566,
          0.9997089505195618,
          0.002321456791833043,
          0.9996269941329956,
          0.9997838139533997,
          0.5954347252845764,
          0.8121212720870972,
          0.001835705479606986,
          0.0002893886703532189,
          0.9997863173484802,
          0.9997873902320862,
          0.029080254957079887,
          0.00026703104958869517,
          0.0037421465385705233,
          0.0006890613585710526,
          0.9997654557228088,
          0.0003184698289260268,
          0.00042535323882475495,
          0.946647047996521,
          0.0003137755556963384,
          0.007317889481782913,
          0.04084610566496849,
          0.00028852722607553005,
          0.9997249245643616,
          0.00027076530386693776,
          0.9997997879981995,
          0.0002288027317263186,
          0.00026403108495287597,
          0.0021907154005020857,
          0.0002415492490399629,
          0.00022379585425369442,
          0.9470741748809814,
          0.999649167060852,
          0.9996045231819153,
          0.9989399313926697,
          0.9997957348823547,
          0.9997422099113464,
          0.0004441006458364427,
          0.9980073571205139,
          0.9997486472129822,
          0.9997736811637878,
          0.9997768998146057,
          0.9997929930686951,
          0.9997498393058777,
          0.00031739077530801296,
          0.0005225402419455349,
          0.9997811913490295,
          0.0005605269689112902,
          0.999783456325531,
          0.9997913241386414,
          0.9996839761734009,
          0.9996980428695679,
          0.00029008035198785365,
          0.9996869564056396,
          0.9995808005332947,
          0.9997722506523132,
          0.0002349529677303508,
          0.9997619986534119,
          0.00021503058087546378,
          0.9997445940971375,
          0.9997783303260803,
          0.0007183832349255681,
          0.0002644984924700111,
          0.9995738863945007,
          0.0005523130530491471,
          0.0002721050404943526,
          0.9997772574424744,
          0.999796450138092,
          0.0003423716116230935,
          0.0011617490090429783,
          0.9997764229774475,
          0.9994237422943115,
          0.00027492790832184255,
          0.9998019337654114,
          0.00023693597177043557,
          0.9997900128364563,
          0.0003272581088822335,
          0.9996544122695923,
          0.9997698664665222,
          0.006063499487936497,
          0.0009746560826897621,
          0.9997768998146057,
          0.9997957348823547,
          0.9997114539146423,
          0.9997946619987488,
          0.9997925162315369,
          0.10174564272165298,
          0.00025267121964134276,
          0.9997959733009338,
          0.9997801184654236,
          0.42954638600349426,
          0.9997767806053162,
          0.9997830986976624,
          0.0002874125202652067,
          0.9997636675834656,
          0.9997888207435608,
          0.00032251153606921434,
          0.9997867941856384,
          0.0019716243259608746,
          0.999788224697113,
          0.9997947812080383,
          0.9997912049293518,
          0.9991794228553772,
          0.00663712527602911,
          0.9997925162315369,
          0.0002668518864084035,
          0.999777615070343,
          0.0004547920834738761,
          0.9997949004173279,
          0.8444923758506775,
          0.9997830986976624,
          0.999788224697113,
          0.9997677206993103,
          0.9922778606414795,
          0.999715268611908,
          0.999774158000946,
          0.0002734529844019562,
          0.9954083561897278,
          0.9997954964637756,
          0.9997648596763611,
          0.0002552501391619444,
          0.9997095465660095,
          0.1924581229686737,
          0.00023112072085496038,
          0.9997887015342712,
          0.00025273984647355974,
          0.0002492182538844645,
          0.00025631513562984765,
          0.00024911374202929437,
          0.0003905495395883918,
          0.00023352318385150284,
          0.0003241393715143204,
          0.00028206227580085397,
          0.0006316918297670782,
          0.0007164624985307455,
          0.9818688035011292,
          0.9996904134750366,
          0.0002593708341009915,
          0.9997231364250183,
          0.00041400245390832424,
          0.9997656941413879,
          0.0009427817421965301,
          0.9997947812080383,
          0.9997809529304504,
          0.0002352360461372882,
          0.00032569034374319017,
          0.9997590184211731,
          0.9997164607048035,
          0.9997629523277283,
          0.999786913394928,
          0.0009978532325476408,
          0.9997938275337219,
          0.9997891783714294,
          0.9997735619544983,
          0.9997965693473816,
          0.9997977614402771,
          0.0002863589324988425,
          0.9754246473312378,
          0.00023273985425475985,
          0.9997588992118835,
          0.00030272454023361206,
          0.9995132684707642,
          0.999785840511322,
          0.9931439161300659,
          0.034164994955062866,
          0.9997168183326721,
          0.3780319094657898,
          0.9997643828392029,
          0.9997870326042175,
          0.00024568787193857133,
          0.9997264742851257,
          0.999790370464325,
          0.9997949004173279,
          0.9997335076332092,
          0.002500097965821624,
          0.0004973523318767548,
          0.00046444186591543257,
          0.9998003840446472,
          0.999796450138092,
          0.00023440341465175152,
          0.9997614026069641,
          0.0002232588012702763,
          0.9986265897750854,
          0.00023808248806744814,
          0.999687910079956,
          0.9997891783714294,
          0.999790370464325,
          0.9997312426567078,
          0.010164542123675346,
          0.0002735680027399212,
          0.0002837848733179271,
          0.9997864365577698,
          0.9997864365577698,
          0.00024041469441726804,
          0.9987611770629883,
          0.00022702928981743753,
          0.9995676875114441,
          0.9783274531364441,
          0.9976441264152527,
          0.9996851682662964,
          0.9997360110282898,
          0.9997947812080383,
          0.9997945427894592,
          0.00022145923867356032,
          0.04339372366666794,
          0.00021839840337634087,
          0.039758432656526566,
          0.008324709720909595,
          0.00022955179156269878,
          0.0006096610450185835,
          0.03535164147615433,
          0.0011107324389740825,
          0.9997928738594055,
          0.00026900682132691145,
          0.009378576651215553,
          0.0003221157530788332,
          0.000275145546765998,
          0.9970676302909851,
          0.0005292173591442406,
          0.999786913394928,
          0.0064429850317537785,
          0.00023368174151983112,
          0.00022568751592189074,
          0.0003684939001686871,
          0.01250943448394537,
          0.000961124140303582,
          0.0004369720700196922,
          0.998828113079071,
          0.7152819633483887,
          0.00043526568333618343,
          0.9997798800468445,
          0.0003108943346887827,
          0.00031637930078431964,
          0.9978364109992981,
          0.000338744226610288,
          0.0002831141173373908,
          0.00124627526383847,
          0.000744545366615057,
          0.00038638158002868295,
          0.002171797677874565,
          0.00026619090931490064,
          0.9998007416725159,
          0.0003178058541379869,
          0.9997953772544861,
          0.9997761845588684,
          0.0002921500417869538,
          0.0002452256449032575,
          0.9997842907905579,
          0.0002639908343553543,
          0.9991238713264465,
          0.9996870756149292,
          0.37811344861984253,
          0.9997853636741638,
          0.0005097436369396746,
          0.9997643828392029,
          0.00030403767595998943,
          0.0003983885399065912,
          0.9997894167900085,
          0.0038113316986709833,
          0.9997969269752502,
          0.04176810756325722,
          0.00030790947494097054,
          0.9915134310722351,
          0.0002804846444632858,
          0.9997910857200623,
          0.0003213820164091885,
          0.6066467761993408,
          0.00022929497936274856,
          0.0009644897072575986,
          0.0005137171829119325,
          0.9997215867042542,
          0.0005265732179395854,
          0.6687771081924438,
          0.9997847676277161,
          0.998621940612793,
          0.00029586456366814673,
          0.9997884631156921,
          0.9998014569282532,
          0.11873795837163925,
          0.00029575935332104564,
          0.9997981190681458,
          0.9997783303260803,
          0.9959308505058289,
          0.15404778718948364,
          0.0003998529864475131,
          0.9996078610420227,
          0.9997913241386414,
          0.9997474551200867,
          0.9997860789299011,
          0.9997939467430115,
          0.9997902512550354,
          0.0021120551973581314,
          0.0018505440093576908,
          0.9997913241386414,
          0.9643074870109558,
          0.0002591038937680423,
          0.00024246577231679112,
          0.999764621257782,
          0.9997919201850891,
          0.0009382670978084207,
          0.9996013045310974,
          0.3173193633556366,
          0.9997971653938293,
          0.9997747540473938,
          0.00026167809846810997,
          0.0002839180233422667,
          0.00029107631416991353,
          0.9997953772544861,
          0.00031800923170521855,
          0.0004434384172782302,
          0.9997676014900208,
          0.999659538269043,
          0.9997877478599548,
          0.4533819556236267,
          0.9997956156730652,
          0.9997562766075134,
          0.9993019104003906,
          0.0002586230984888971,
          0.0002539216948207468,
          0.0002496772794984281,
          0.0002549653290770948,
          0.9997938275337219,
          0.0002708701358642429,
          0.00026262487517669797,
          0.9997890591621399,
          0.0008120086858980358,
          0.9997426867485046,
          0.0025472415145486593,
          0.009638211689889431,
          0.00038431023131124675,
          0.5514964461326599,
          0.0002752909203991294,
          0.9991397857666016,
          0.9997767806053162,
          0.9997939467430115,
          0.9997847676277161,
          0.9997865557670593,
          0.0016850597457960248,
          0.0011043039849027991,
          0.9997807145118713,
          0.00025474614812992513,
          0.9993035793304443,
          0.7424930930137634,
          0.0002672893169801682,
          0.9988434314727783,
          0.9997956156730652,
          0.0003325995057821274,
          0.18934623897075653,
          0.0012255983892828226,
          0.00039952300721779466,
          0.9997760653495789,
          0.5762784481048584,
          0.9997085928916931,
          0.0012209371197968721,
          0.9997546076774597,
          0.00025875409482978284,
          0.9997329115867615,
          0.0014082444831728935,
          0.0008682812913320959,
          0.9997990727424622,
          0.0010833466658368707,
          0.0004115498159080744,
          0.9997934699058533,
          0.00022744291345588863,
          0.9955456256866455,
          0.9997768998146057,
          0.0002470853505656123,
          0.0005241555045358837,
          0.00024126800417434424,
          0.00038013505400158465,
          0.00022302390425466,
          0.00030185215291567147,
          0.9997730851173401,
          0.0003040486772079021,
          0.2825581729412079,
          0.9435156583786011,
          0.9988757967948914,
          0.00025007323711179197,
          0.0012211244320496917,
          0.9964259266853333,
          0.0003727936709765345,
          0.9989860653877258,
          0.999764621257782,
          0.0002533321385271847,
          0.9997989535331726,
          0.00032897701021283865,
          0.0007778435829095542,
          0.9997902512550354,
          0.9996002316474915,
          0.0006500410381704569,
          0.0005598747520707548,
          0.0003322553529869765,
          0.9990832805633545,
          0.0005740391789004207,
          0.00048803247045725584,
          0.9965996146202087,
          0.9997679591178894,
          0.9997937083244324,
          0.9997739195823669,
          0.0014323366340249777,
          0.9996994733810425,
          0.9997814297676086,
          0.00024315172049682587,
          0.00027876245439983904,
          0.00045300688361749053,
          0.9997856020927429,
          0.9997695088386536,
          0.00023936624347697943,
          0.0003039901203010231,
          0.2733078896999359,
          0.0003230213769711554,
          0.00030536350095644593,
          0.00024834441137500107,
          0.001374419080093503,
          0.9997902512550354,
          0.9997989535331726,
          0.00029175475356169045,
          0.00028042664052918553,
          0.9997909665107727,
          0.000238393695326522,
          0.00023959754616953433,
          0.9996330738067627,
          0.0006267856224440038,
          0.05001778528094292,
          0.006649347022175789,
          0.9997925162315369,
          0.0005323371151462197,
          0.9997506737709045,
          0.0003685134288389236,
          0.0012040678411722183,
          0.0004109519359190017,
          0.9994983673095703,
          0.9997672438621521,
          0.9997448325157166,
          0.00021707139967475086,
          0.9997879862785339,
          0.00045293435687199235,
          0.00036518590059131384,
          0.9997857213020325,
          0.0003005117760039866,
          0.00027015493833459914,
          0.00033076072577387094,
          0.02837442420423031,
          0.00027874225634150207,
          0.738938570022583,
          0.9997702240943909,
          0.00021554395789280534,
          0.9997476935386658,
          0.06843078881502151,
          0.9997603297233582,
          0.00026960199465975165,
          0.0002868247975129634,
          0.0013316806871443987,
          0.9997813105583191,
          0.999629020690918,
          0.0002192985703004524,
          0.12033393979072571,
          0.0008819489157758653,
          0.9996936321258545,
          0.9996813535690308,
          0.006206698250025511,
          0.9070708155632019,
          0.00024911752552725375,
          0.00034266887814737856,
          0.9997876286506653,
          0.9997684359550476,
          0.0002808328135870397,
          0.9997950196266174,
          0.9997827410697937,
          0.002709773136302829,
          0.8868794441223145,
          0.0003490844974294305,
          0.00043837452540174127,
          0.00050644256407395,
          0.0003205123939551413,
          0.0004238081455696374,
          0.9996427297592163,
          0.00021830220066476613,
          0.0002457759401295334,
          0.9997852444648743,
          0.9998013377189636,
          0.9995718598365784,
          0.00023184729798231274,
          0.008592420257627964,
          0.0003987225063610822,
          0.0007224917062558234,
          0.9997944235801697,
          0.0002169627696275711,
          0.9997997879981995,
          0.9994656443595886,
          0.000247854768531397,
          0.0003288948500994593,
          0.0002219572925241664,
          0.9997820258140564,
          0.9997683167457581,
          0.00023075762146618217,
          0.0005549692432396114,
          0.9994454979896545,
          0.9997624754905701,
          0.9996674060821533,
          0.9997733235359192,
          0.0031187720596790314,
          0.9987123012542725,
          0.00022674957290291786,
          0.9997581839561462,
          0.999729573726654,
          0.9997993111610413,
          0.9997982382774353,
          0.9996070265769958,
          0.21342764794826508,
          0.9997774958610535,
          0.999797523021698,
          0.9997780919075012,
          0.0004844312206842005,
          0.00028482842026278377,
          0.00026240211445838213,
          0.9997851252555847,
          0.9997817873954773,
          0.00023179159325081855,
          0.9997749924659729,
          0.7205348610877991,
          0.9942834973335266,
          0.010539384558796883,
          0.00023784222139511257,
          0.2746044099330902,
          0.9997068047523499,
          0.00023711970425210893,
          0.9997910857200623,
          0.9985578656196594,
          0.9997937083244324,
          0.0002915206423494965,
          0.8846781849861145,
          0.004437968600541353,
          0.997904896736145,
          0.00023539469111710787,
          0.9994733929634094,
          0.999792754650116,
          0.9997807145118713,
          0.9997861981391907,
          0.002584820380434394,
          0.9997890591621399,
          0.9997597336769104,
          0.9997352957725525,
          0.9997912049293518,
          0.00024167433730326593,
          0.9997466206550598,
          0.9997586607933044,
          0.0002846617135219276,
          0.9997404217720032,
          0.0002494559739716351,
          0.0047798859886825085,
          0.0012882811715826392,
          0.9997418522834778,
          0.9997392296791077,
          0.00021147383085917681,
          0.9950879216194153,
          0.9996733665466309,
          0.00023306184448301792,
          0.0005551361828111112,
          0.9997877478599548,
          0.999748170375824,
          0.9995858073234558,
          0.9997623562812805,
          0.9997977614402771,
          0.00033437227830290794,
          0.999667763710022,
          0.0004890434793196619,
          0.00042663022759370506,
          0.000726632890291512,
          0.000241085872403346,
          0.999797523021698,
          0.00023828963458072394,
          0.0002758813207037747,
          0.00023525400320068002,
          0.9997983574867249,
          0.00027218885952606797,
          0.00024450538330711424,
          0.00021718733478337526,
          0.9997313618659973,
          0.0002370871661696583,
          0.00023476753267459571,
          0.0003868865023832768,
          0.9997785687446594,
          0.007116477470844984,
          0.00025412029935978353,
          0.9997864365577698,
          0.9998003840446472,
          0.00041410073754377663,
          0.9996706247329712,
          0.0003356011875439435,
          0.9997957348823547,
          0.9997939467430115,
          0.814846396446228,
          0.9997949004173279,
          0.00024148063675966114,
          0.00026703765615820885,
          0.0002355428587179631,
          0.06755650788545609,
          0.9997277855873108,
          0.9997640252113342,
          0.0003552353591658175,
          0.9997896552085876,
          0.00023664945911150426,
          0.9997667670249939,
          0.9377809166908264,
          0.999763548374176,
          0.0002647661603987217,
          0.00030670035630464554,
          0.00022944195370655507,
          0.9997337460517883,
          0.0002590880903881043,
          0.9990423321723938,
          0.0003245107363909483,
          0.9925629496574402,
          0.00022513604199048132,
          0.9992932081222534,
          0.9997784495353699,
          0.0002509864280000329,
          0.9997710585594177,
          0.00025146405096165836,
          0.0007332669920288026,
          0.9997557997703552,
          0.000294677447527647,
          0.9997813105583191,
          0.00027496411348693073,
          0.999764621257782,
          0.0005022768164053559,
          0.9992164373397827,
          0.002208727179095149,
          0.0002165787445846945,
          0.9996829032897949,
          0.00024205876979976892,
          0.9997560381889343,
          0.000228292410611175,
          0.00030394262284971774,
          0.00026703765615820885,
          0.9997842907905579,
          0.00021320809901226312,
          0.999765932559967,
          0.9997486472129822,
          0.0002210609382018447,
          0.9669976830482483,
          0.999782145023346,
          0.9997879862785339,
          0.9996336698532104,
          0.00021711713634431362,
          0.00041159181273542345,
          0.999270498752594,
          0.9996097683906555,
          0.9997994303703308,
          0.9997871518135071,
          0.9997534155845642,
          0.9997863173484802,
          0.9997885823249817,
          0.00022150337463244796,
          0.00023472189786843956,
          0.00025084405206143856,
          0.00026402733055874705,
          0.00021926489716861397,
          0.9997828602790833,
          0.9996145963668823,
          0.999695897102356,
          0.00026242766762152314,
          0.999768078327179,
          0.9997246861457825,
          0.9670166373252869,
          0.9997989535331726,
          0.0002470705076120794,
          0.9997996687889099,
          0.001786468317732215,
          0.00022681055997963995,
          0.9996883869171143,
          0.00022958245244808495,
          0.00023621440050192177,
          0.9997920393943787,
          0.0002716579183470458,
          0.0002916691009886563,
          0.0014287178637459874,
          0.9997943043708801,
          0.9979578256607056,
          0.9996726512908936,
          0.00029038276989012957,
          0.9997852444648743,
          0.0002186778001487255,
          0.9997952580451965,
          0.9997989535331726,
          0.9997919201850891,
          0.999790370464325,
          0.0002711460692808032,
          0.999794065952301,
          0.996306300163269,
          0.00032956028007902205,
          0.9997699856758118,
          0.00022741645807400346,
          0.0007976860506460071,
          0.9997324347496033,
          0.9997946619987488,
          0.9997881054878235,
          0.9997332692146301,
          0.9997791647911072,
          0.00023040917585603893,
          0.00024301334633491933,
          0.00038238029810599983,
          0.002624554792419076,
          0.0004252218932379037,
          0.0004125648410990834,
          0.0007054283632896841,
          0.0003740292740985751,
          0.002437599701806903,
          0.9997935891151428,
          0.003344562603160739,
          0.9997828602790833,
          0.0002382032835157588,
          0.00023069733288139105,
          0.8914404511451721,
          0.9998021721839905,
          0.05033401772379875,
          0.0002631921670399606,
          0.00023652991512790322,
          0.9997826218605042,
          0.0002107703039655462,
          0.0017286406364291906,
          0.0004997933865524828,
          0.9997970461845398,
          0.9975695013999939,
          0.9987414479255676,
          0.0003031034430023283,
          0.999392032623291,
          0.00043309811735525727,
          0.9993017911911011,
          0.00023354898439720273,
          0.0002484045980963856,
          0.9994369149208069,
          0.9997695088386536,
          0.00023464042169507593,
          0.999799907207489,
          0.00029396917670965195,
          0.998526930809021,
          0.0002640683378558606,
          0.9997859597206116,
          0.00021979279699735343,
          0.9997945427894592,
          0.9994340538978577,
          0.9997557997703552,
          0.9996577501296997,
          0.0007859006291255355,
          0.9997357726097107,
          0.9997969269752502,
          0.00023858605709392577,
          0.00024312666209880263,
          0.9997952580451965,
          0.0006680067745037377,
          0.9997791647911072,
          0.00026295939460396767,
          0.00021649326663464308,
          0.9997902512550354,
          0.00023396132746711373,
          0.9997426867485046,
          0.0002659101446624845,
          0.001364602241665125,
          0.9997597336769104,
          0.0002382032835157588,
          0.00029278185684233904,
          0.00023048737784847617,
          0.00024306758132297546,
          0.9997759461402893,
          0.9997971653938293,
          0.9997420907020569,
          0.0002485289878677577,
          0.00037694411003030837,
          0.0005868274602107704,
          0.0002260682958876714,
          0.9997915625572205,
          0.9997990727424622,
          0.00022937412722967565,
          0.0004237170796841383,
          0.0014132040087133646,
          0.00021446893515530974,
          0.0002144167956430465,
          0.9918391108512878,
          0.0016207542503252625,
          0.00026680936571210623,
          0.0002241031324956566,
          0.9997836947441101,
          0.00022299136617220938,
          0.0002756622852757573,
          0.9997994303703308,
          0.0014764702646061778,
          0.00021430602646432817,
          0.9997356534004211,
          0.09613002091646194,
          0.00022389786317944527,
          0.0002564615570008755,
          0.00024065228353720158,
          0.0002232994302175939,
          0.9995043277740479,
          0.999376118183136,
          0.00024279841454699636,
          0.9997608065605164,
          0.9903457760810852,
          0.9997995495796204,
          0.9997819066047668,
          0.00025895817088894546,
          0.00022442557383328676,
          0.9997987151145935,
          0.9997788071632385,
          0.9996863603591919,
          0.9958541393280029,
          0.00022336438996717334,
          0.00022089830599725246,
          0.9996881484985352,
          0.9997672438621521,
          0.15749375522136688,
          0.0003181763750035316,
          0.9247299432754517,
          0.9997997879981995,
          0.9997982382774353,
          0.0007019773474894464,
          0.9996647834777832,
          0.00023742648772895336,
          0.001931130071170628,
          0.9997738003730774,
          0.0016425920184701681,
          0.9998003840446472,
          0.00021484552416950464,
          0.0004408603999763727,
          0.0007955365581437945,
          0.00022667564917355776,
          0.9997767806053162,
          0.005466020666062832,
          0.9997758269309998,
          0.9997308850288391,
          0.9997407793998718,
          0.9997918009757996,
          0.0005789927672594786,
          0.00026020503719337285,
          0.039329834282398224,
          0.0004953753668814898,
          0.0002566354814916849,
          0.9997132420539856,
          0.9995309114456177,
          0.00023287303338292986,
          0.5671623349189758,
          0.999785840511322,
          0.00022897864982951432,
          0.9996435642242432,
          0.00502348504960537,
          0.0002245315263280645,
          0.9971491694450378,
          0.00021537899738177657,
          0.0002622155880089849,
          0.00030536495614796877,
          0.00021415037917904556,
          0.0007176176295615733,
          0.0002508301695343107,
          0.00021913426462560892,
          0.00024087172641884536,
          0.0010027919197455049,
          0.0002390861336607486,
          0.9997851252555847,
          0.00023957673693075776,
          0.9997965693473816,
          0.9997090697288513,
          0.00022326303587760776,
          0.9995694756507874,
          0.00022139673819765449,
          0.00024075050896499306,
          0.00972145888954401,
          0.9997808337211609,
          0.00026824718224816024,
          0.999768078327179,
          0.9997438788414001,
          0.0005071664345450699,
          0.00028658017981797457,
          0.00027986016357317567,
          0.003773023607209325,
          0.9997311234474182,
          0.0002179471921408549,
          0.9997816681861877,
          0.9996559619903564,
          0.0002353578747715801,
          0.00022955070016905665,
          0.0002558663545642048,
          0.00021978294535074383,
          0.9978184700012207,
          0.0003388395416550338,
          0.00040389009518548846,
          0.9997826218605042,
          0.0003329557948745787,
          0.0002298180916113779,
          0.9997759461402893,
          0.0005557772819884121,
          0.9997604489326477,
          0.9997877478599548,
          0.0002296590682817623,
          0.00030838363454677165,
          0.00022221330436877906,
          0.0002559266285970807,
          0.0002152894885512069,
          0.9997945427894592,
          0.00021523570467252284,
          0.9997981190681458,
          0.00021864818700123578,
          0.00026566407177597284,
          0.9997537732124329,
          0.00022626925783697516,
          0.0002724339428823441,
          0.0003543780476320535,
          0.00022597433417104185,
          0.0002492719504516572,
          0.00027729899738915265,
          0.0004075239703524858,
          0.00027099516591988504,
          0.0002736235619522631,
          0.00026138912653550506,
          0.00045474403304979205,
          0.9997919201850891,
          0.9997742772102356,
          0.012731995433568954,
          0.9888620972633362,
          0.0007608710438944399,
          0.0007453737780451775,
          0.00021980579185765237,
          0.9939898252487183,
          0.9997901320457458,
          0.9998013377189636,
          0.9997938275337219,
          0.999715268611908,
          0.00029773751157335937,
          0.00025084405206143856,
          0.0005169042851775885,
          0.9997931122779846,
          0.0002459161332808435,
          0.8592656850814819,
          0.002010002499446273,
          0.00021912946249358356,
          0.00026221858570352197,
          0.0002860140521079302,
          0.9893466830253601,
          0.00022871376131661236,
          0.9994848966598511,
          0.9970132112503052,
          0.9989038705825806,
          0.9997722506523132,
          0.999620795249939,
          0.9997915625572205,
          0.00025406357599422336,
          0.9997830986976624,
          0.00021390141046140343,
          0.9997658133506775,
          0.00022359643480740488,
          0.00022279309632722288,
          0.9997919201850891,
          0.00021449898486025631,
          0.9997197985649109,
          0.9997933506965637,
          0.00042568144272081554,
          0.0004214840882923454,
          0.0002874881902243942,
          0.9997989535331726,
          0.9983484745025635
         ],
         "xbins": {
          "end": 1,
          "size": 0.1,
          "start": 0
         }
        }
       ],
       "layout": {
        "template": {
         "data": {
          "bar": [
           {
            "error_x": {
             "color": "#2a3f5f"
            },
            "error_y": {
             "color": "#2a3f5f"
            },
            "marker": {
             "line": {
              "color": "#E5ECF6",
              "width": 0.5
             },
             "pattern": {
              "fillmode": "overlay",
              "size": 10,
              "solidity": 0.2
             }
            },
            "type": "bar"
           }
          ],
          "barpolar": [
           {
            "marker": {
             "line": {
              "color": "#E5ECF6",
              "width": 0.5
             },
             "pattern": {
              "fillmode": "overlay",
              "size": 10,
              "solidity": 0.2
             }
            },
            "type": "barpolar"
           }
          ],
          "carpet": [
           {
            "aaxis": {
             "endlinecolor": "#2a3f5f",
             "gridcolor": "white",
             "linecolor": "white",
             "minorgridcolor": "white",
             "startlinecolor": "#2a3f5f"
            },
            "baxis": {
             "endlinecolor": "#2a3f5f",
             "gridcolor": "white",
             "linecolor": "white",
             "minorgridcolor": "white",
             "startlinecolor": "#2a3f5f"
            },
            "type": "carpet"
           }
          ],
          "choropleth": [
           {
            "colorbar": {
             "outlinewidth": 0,
             "ticks": ""
            },
            "type": "choropleth"
           }
          ],
          "contour": [
           {
            "colorbar": {
             "outlinewidth": 0,
             "ticks": ""
            },
            "colorscale": [
             [
              0,
              "#0d0887"
             ],
             [
              0.1111111111111111,
              "#46039f"
             ],
             [
              0.2222222222222222,
              "#7201a8"
             ],
             [
              0.3333333333333333,
              "#9c179e"
             ],
             [
              0.4444444444444444,
              "#bd3786"
             ],
             [
              0.5555555555555556,
              "#d8576b"
             ],
             [
              0.6666666666666666,
              "#ed7953"
             ],
             [
              0.7777777777777778,
              "#fb9f3a"
             ],
             [
              0.8888888888888888,
              "#fdca26"
             ],
             [
              1,
              "#f0f921"
             ]
            ],
            "type": "contour"
           }
          ],
          "contourcarpet": [
           {
            "colorbar": {
             "outlinewidth": 0,
             "ticks": ""
            },
            "type": "contourcarpet"
           }
          ],
          "heatmap": [
           {
            "colorbar": {
             "outlinewidth": 0,
             "ticks": ""
            },
            "colorscale": [
             [
              0,
              "#0d0887"
             ],
             [
              0.1111111111111111,
              "#46039f"
             ],
             [
              0.2222222222222222,
              "#7201a8"
             ],
             [
              0.3333333333333333,
              "#9c179e"
             ],
             [
              0.4444444444444444,
              "#bd3786"
             ],
             [
              0.5555555555555556,
              "#d8576b"
             ],
             [
              0.6666666666666666,
              "#ed7953"
             ],
             [
              0.7777777777777778,
              "#fb9f3a"
             ],
             [
              0.8888888888888888,
              "#fdca26"
             ],
             [
              1,
              "#f0f921"
             ]
            ],
            "type": "heatmap"
           }
          ],
          "heatmapgl": [
           {
            "colorbar": {
             "outlinewidth": 0,
             "ticks": ""
            },
            "colorscale": [
             [
              0,
              "#0d0887"
             ],
             [
              0.1111111111111111,
              "#46039f"
             ],
             [
              0.2222222222222222,
              "#7201a8"
             ],
             [
              0.3333333333333333,
              "#9c179e"
             ],
             [
              0.4444444444444444,
              "#bd3786"
             ],
             [
              0.5555555555555556,
              "#d8576b"
             ],
             [
              0.6666666666666666,
              "#ed7953"
             ],
             [
              0.7777777777777778,
              "#fb9f3a"
             ],
             [
              0.8888888888888888,
              "#fdca26"
             ],
             [
              1,
              "#f0f921"
             ]
            ],
            "type": "heatmapgl"
           }
          ],
          "histogram": [
           {
            "marker": {
             "pattern": {
              "fillmode": "overlay",
              "size": 10,
              "solidity": 0.2
             }
            },
            "type": "histogram"
           }
          ],
          "histogram2d": [
           {
            "colorbar": {
             "outlinewidth": 0,
             "ticks": ""
            },
            "colorscale": [
             [
              0,
              "#0d0887"
             ],
             [
              0.1111111111111111,
              "#46039f"
             ],
             [
              0.2222222222222222,
              "#7201a8"
             ],
             [
              0.3333333333333333,
              "#9c179e"
             ],
             [
              0.4444444444444444,
              "#bd3786"
             ],
             [
              0.5555555555555556,
              "#d8576b"
             ],
             [
              0.6666666666666666,
              "#ed7953"
             ],
             [
              0.7777777777777778,
              "#fb9f3a"
             ],
             [
              0.8888888888888888,
              "#fdca26"
             ],
             [
              1,
              "#f0f921"
             ]
            ],
            "type": "histogram2d"
           }
          ],
          "histogram2dcontour": [
           {
            "colorbar": {
             "outlinewidth": 0,
             "ticks": ""
            },
            "colorscale": [
             [
              0,
              "#0d0887"
             ],
             [
              0.1111111111111111,
              "#46039f"
             ],
             [
              0.2222222222222222,
              "#7201a8"
             ],
             [
              0.3333333333333333,
              "#9c179e"
             ],
             [
              0.4444444444444444,
              "#bd3786"
             ],
             [
              0.5555555555555556,
              "#d8576b"
             ],
             [
              0.6666666666666666,
              "#ed7953"
             ],
             [
              0.7777777777777778,
              "#fb9f3a"
             ],
             [
              0.8888888888888888,
              "#fdca26"
             ],
             [
              1,
              "#f0f921"
             ]
            ],
            "type": "histogram2dcontour"
           }
          ],
          "mesh3d": [
           {
            "colorbar": {
             "outlinewidth": 0,
             "ticks": ""
            },
            "type": "mesh3d"
           }
          ],
          "parcoords": [
           {
            "line": {
             "colorbar": {
              "outlinewidth": 0,
              "ticks": ""
             }
            },
            "type": "parcoords"
           }
          ],
          "pie": [
           {
            "automargin": true,
            "type": "pie"
           }
          ],
          "scatter": [
           {
            "marker": {
             "colorbar": {
              "outlinewidth": 0,
              "ticks": ""
             }
            },
            "type": "scatter"
           }
          ],
          "scatter3d": [
           {
            "line": {
             "colorbar": {
              "outlinewidth": 0,
              "ticks": ""
             }
            },
            "marker": {
             "colorbar": {
              "outlinewidth": 0,
              "ticks": ""
             }
            },
            "type": "scatter3d"
           }
          ],
          "scattercarpet": [
           {
            "marker": {
             "colorbar": {
              "outlinewidth": 0,
              "ticks": ""
             }
            },
            "type": "scattercarpet"
           }
          ],
          "scattergeo": [
           {
            "marker": {
             "colorbar": {
              "outlinewidth": 0,
              "ticks": ""
             }
            },
            "type": "scattergeo"
           }
          ],
          "scattergl": [
           {
            "marker": {
             "colorbar": {
              "outlinewidth": 0,
              "ticks": ""
             }
            },
            "type": "scattergl"
           }
          ],
          "scattermapbox": [
           {
            "marker": {
             "colorbar": {
              "outlinewidth": 0,
              "ticks": ""
             }
            },
            "type": "scattermapbox"
           }
          ],
          "scatterpolar": [
           {
            "marker": {
             "colorbar": {
              "outlinewidth": 0,
              "ticks": ""
             }
            },
            "type": "scatterpolar"
           }
          ],
          "scatterpolargl": [
           {
            "marker": {
             "colorbar": {
              "outlinewidth": 0,
              "ticks": ""
             }
            },
            "type": "scatterpolargl"
           }
          ],
          "scatterternary": [
           {
            "marker": {
             "colorbar": {
              "outlinewidth": 0,
              "ticks": ""
             }
            },
            "type": "scatterternary"
           }
          ],
          "surface": [
           {
            "colorbar": {
             "outlinewidth": 0,
             "ticks": ""
            },
            "colorscale": [
             [
              0,
              "#0d0887"
             ],
             [
              0.1111111111111111,
              "#46039f"
             ],
             [
              0.2222222222222222,
              "#7201a8"
             ],
             [
              0.3333333333333333,
              "#9c179e"
             ],
             [
              0.4444444444444444,
              "#bd3786"
             ],
             [
              0.5555555555555556,
              "#d8576b"
             ],
             [
              0.6666666666666666,
              "#ed7953"
             ],
             [
              0.7777777777777778,
              "#fb9f3a"
             ],
             [
              0.8888888888888888,
              "#fdca26"
             ],
             [
              1,
              "#f0f921"
             ]
            ],
            "type": "surface"
           }
          ],
          "table": [
           {
            "cells": {
             "fill": {
              "color": "#EBF0F8"
             },
             "line": {
              "color": "white"
             }
            },
            "header": {
             "fill": {
              "color": "#C8D4E3"
             },
             "line": {
              "color": "white"
             }
            },
            "type": "table"
           }
          ]
         },
         "layout": {
          "annotationdefaults": {
           "arrowcolor": "#2a3f5f",
           "arrowhead": 0,
           "arrowwidth": 1
          },
          "autotypenumbers": "strict",
          "coloraxis": {
           "colorbar": {
            "outlinewidth": 0,
            "ticks": ""
           }
          },
          "colorscale": {
           "diverging": [
            [
             0,
             "#8e0152"
            ],
            [
             0.1,
             "#c51b7d"
            ],
            [
             0.2,
             "#de77ae"
            ],
            [
             0.3,
             "#f1b6da"
            ],
            [
             0.4,
             "#fde0ef"
            ],
            [
             0.5,
             "#f7f7f7"
            ],
            [
             0.6,
             "#e6f5d0"
            ],
            [
             0.7,
             "#b8e186"
            ],
            [
             0.8,
             "#7fbc41"
            ],
            [
             0.9,
             "#4d9221"
            ],
            [
             1,
             "#276419"
            ]
           ],
           "sequential": [
            [
             0,
             "#0d0887"
            ],
            [
             0.1111111111111111,
             "#46039f"
            ],
            [
             0.2222222222222222,
             "#7201a8"
            ],
            [
             0.3333333333333333,
             "#9c179e"
            ],
            [
             0.4444444444444444,
             "#bd3786"
            ],
            [
             0.5555555555555556,
             "#d8576b"
            ],
            [
             0.6666666666666666,
             "#ed7953"
            ],
            [
             0.7777777777777778,
             "#fb9f3a"
            ],
            [
             0.8888888888888888,
             "#fdca26"
            ],
            [
             1,
             "#f0f921"
            ]
           ],
           "sequentialminus": [
            [
             0,
             "#0d0887"
            ],
            [
             0.1111111111111111,
             "#46039f"
            ],
            [
             0.2222222222222222,
             "#7201a8"
            ],
            [
             0.3333333333333333,
             "#9c179e"
            ],
            [
             0.4444444444444444,
             "#bd3786"
            ],
            [
             0.5555555555555556,
             "#d8576b"
            ],
            [
             0.6666666666666666,
             "#ed7953"
            ],
            [
             0.7777777777777778,
             "#fb9f3a"
            ],
            [
             0.8888888888888888,
             "#fdca26"
            ],
            [
             1,
             "#f0f921"
            ]
           ]
          },
          "colorway": [
           "#636efa",
           "#EF553B",
           "#00cc96",
           "#ab63fa",
           "#FFA15A",
           "#19d3f3",
           "#FF6692",
           "#B6E880",
           "#FF97FF",
           "#FECB52"
          ],
          "font": {
           "color": "#2a3f5f"
          },
          "geo": {
           "bgcolor": "white",
           "lakecolor": "white",
           "landcolor": "#E5ECF6",
           "showlakes": true,
           "showland": true,
           "subunitcolor": "white"
          },
          "hoverlabel": {
           "align": "left"
          },
          "hovermode": "closest",
          "mapbox": {
           "style": "light"
          },
          "paper_bgcolor": "white",
          "plot_bgcolor": "#E5ECF6",
          "polar": {
           "angularaxis": {
            "gridcolor": "white",
            "linecolor": "white",
            "ticks": ""
           },
           "bgcolor": "#E5ECF6",
           "radialaxis": {
            "gridcolor": "white",
            "linecolor": "white",
            "ticks": ""
           }
          },
          "scene": {
           "xaxis": {
            "backgroundcolor": "#E5ECF6",
            "gridcolor": "white",
            "gridwidth": 2,
            "linecolor": "white",
            "showbackground": true,
            "ticks": "",
            "zerolinecolor": "white"
           },
           "yaxis": {
            "backgroundcolor": "#E5ECF6",
            "gridcolor": "white",
            "gridwidth": 2,
            "linecolor": "white",
            "showbackground": true,
            "ticks": "",
            "zerolinecolor": "white"
           },
           "zaxis": {
            "backgroundcolor": "#E5ECF6",
            "gridcolor": "white",
            "gridwidth": 2,
            "linecolor": "white",
            "showbackground": true,
            "ticks": "",
            "zerolinecolor": "white"
           }
          },
          "shapedefaults": {
           "line": {
            "color": "#2a3f5f"
           }
          },
          "ternary": {
           "aaxis": {
            "gridcolor": "white",
            "linecolor": "white",
            "ticks": ""
           },
           "baxis": {
            "gridcolor": "white",
            "linecolor": "white",
            "ticks": ""
           },
           "bgcolor": "#E5ECF6",
           "caxis": {
            "gridcolor": "white",
            "linecolor": "white",
            "ticks": ""
           }
          },
          "title": {
           "x": 0.05
          },
          "xaxis": {
           "automargin": true,
           "gridcolor": "white",
           "linecolor": "white",
           "ticks": "",
           "title": {
            "standoff": 15
           },
           "zerolinecolor": "white",
           "zerolinewidth": 2
          },
          "yaxis": {
           "automargin": true,
           "gridcolor": "white",
           "linecolor": "white",
           "ticks": "",
           "title": {
            "standoff": 15
           },
           "zerolinecolor": "white",
           "zerolinewidth": 2
          }
         }
        },
        "title": {
         "text": "Feel-it model's confidence distribution for Sentipolc16"
        },
        "xaxis": {
         "title": {
          "text": "confidence"
         }
        },
        "yaxis": {
         "title": {
          "text": "normalized count"
         }
        }
       }
      },
      "text/html": [
       "<div>                            <div id=\"434c0e7e-9d9b-4ec2-b678-5c1012dd065d\" class=\"plotly-graph-div\" style=\"height:525px; width:100%;\"></div>            <script type=\"text/javascript\">                require([\"plotly\"], function(Plotly) {                    window.PLOTLYENV=window.PLOTLYENV || {};                                    if (document.getElementById(\"434c0e7e-9d9b-4ec2-b678-5c1012dd065d\")) {                    Plotly.newPlot(                        \"434c0e7e-9d9b-4ec2-b678-5c1012dd065d\",                        [{\"histnorm\":\"probability\",\"type\":\"histogram\",\"x\":[0.00026591852656565607,0.00028206981369294226,0.9995638728141785,0.9997337460517883,0.9996386766433716,0.0002776664332486689,0.0008150215144269168,0.00023115353542380035,0.9995711445808411,0.9997748732566833,0.00031519850017502904,0.00029005325632169843,0.0020688665099442005,0.9995871186256409,0.9743122458457947,0.9997840523719788,0.00034527856041677296,0.9997674822807312,0.0006139889592304826,0.007806073874235153,0.9996415376663208,0.9997569918632507,0.9997506737709045,0.00030467138276435435,0.00023508360027335584,0.00022703016293235123,0.9997832179069519,0.00029388765688054264,0.9997774958610535,0.0002931050257757306,0.9997929930686951,0.9991077780723572,0.9996893405914307,0.0002502435236237943,0.00033365291892550886,0.9997757077217102,0.9997761845588684,0.00021428967011161149,0.0003313301131129265,0.9997745156288147,0.9997846484184265,0.999790370464325,0.9997941851615906,0.9997609257698059,0.9997792840003967,0.9996823072433472,0.0002834336191881448,0.006496699992567301,0.00022620111121796072,0.9997722506523132,0.9997386336326599,0.9998003840446472,0.9997301697731018,0.0003014314570464194,0.00041193445213139057,0.9997066855430603,0.9997889399528503,0.00023025411064736545,0.0002746549143921584,0.9997759461402893,0.9986717700958252,0.0002582916640676558,0.9997610449790955,0.9997863173484802,0.9997876286506653,0.9997487664222717,0.9997430443763733,0.9997779726982117,0.9993358254432678,0.0003283553814981133,0.00021529894729610533,0.9997830986976624,0.9997933506965637,0.9997746348381042,0.999744713306427,0.9997592568397522,0.9997841715812683,0.0005705858930014074,0.9997839331626892,0.36482155323028564,0.00023809430422261357,0.999778687953949,0.004703771322965622,0.9992105960845947,0.00025938815088011324,0.9791279435157776,0.9995204210281372,0.9997548460960388,0.00021579833992291242,0.9997543692588806,0.0002880569372791797,0.0986374020576477,0.9997826218605042,0.9991857409477234,0.9997656941413879,0.999776303768158,0.9997751116752625,0.999799907207489,0.00045928815961815417,0.9997900128364563,0.0010021018097177148,0.9997705817222595,0.9997814297676086,0.00025406552595086396,0.9995445609092712,0.0005754039157181978,0.9997875094413757,0.00031291935010813177,0.9997484087944031,0.9997918009757996,0.9997758269309998,0.0002289229742018506,0.000999209936708212,0.0002457255613990128,0.9997555613517761,0.802734375,0.0022598085924983025,0.00023304986825678498,0.9997056126594543,0.9921729564666748,0.0004661566053982824,0.9997978806495667,0.9996649026870728,0.999714195728302,0.9997515082359314,0.0009586475207470357,0.022517217323184013,0.996250331401825,0.9997853636741638,0.9997720122337341,0.044323284178972244,0.03972925990819931,0.0006766704027540982,0.9950174689292908,0.9997938275337219,0.9996659755706787,0.00023147270258050412,0.9997660517692566,0.9997393488883972,0.9997692704200745,0.9997366070747375,0.9997949004173279,0.9997900128364563,0.0005457682418636978,0.005801085382699966,0.9994528889656067,0.9997703433036804,0.0002400198281975463,0.006736127194017172,0.00048263874487020075,0.0002943683066405356,0.00027823381242342293,0.5023804903030396,0.9997897744178772,0.999795138835907,0.0007492033182643354,0.05298115313053131,0.9997988343238831,0.0002956080134026706,0.00026481287204660475,0.0012751718750223517,0.33638352155685425,0.9997945427894592,0.9996378421783447,0.0004599234671331942,0.0002466962323524058,0.9997493624687195,0.10767768323421478,0.9997848868370056,0.9997844099998474,0.9997979998588562,0.9997634291648865,0.9997212290763855,0.9996726512908936,0.9997698664665222,0.0002492752973921597,0.43327993154525757,0.9997093081474304,0.9998002648353577,0.9994118213653564,0.999785840511322,0.99944669008255,0.00026186753530055285,0.00028874873532913625,0.9993385672569275,0.99979168176651,0.0023122248239815235,0.9975624084472656,0.9997727274894714,0.9997630715370178,0.9997792840003967,0.0023699200246483088,0.9997984766960144,0.00023694297124166042,0.9997817873954773,0.0002648381341714412,0.0002501523995306343,0.9997795224189758,0.9971741437911987,0.9997813105583191,0.0003004232421517372,0.00028735006344504654,0.9997913241386414,0.00845151487737894,0.0003254162729717791,0.00027725615655072033,0.9997870326042175,0.001599904615432024,0.9997642636299133,0.9991349577903748,0.0005388652789406478,0.999627947807312,0.0002713692665565759,0.9997944235801697,0.9992226362228394,0.9997244477272034,0.9997633099555969,0.00022737871040590107,0.0006937247817404568,0.9996122717857361,0.9997578263282776,0.9997755885124207,0.0003753245691768825,0.9039345979690552,0.9997376799583435,0.9997908473014832,0.0006510252133011818,0.99973064661026,0.00036417352384887636,0.9997534155845642,0.9997486472129822,0.9997122883796692,0.9997803568840027,0.9997702240943909,0.0002496206434443593,0.9997376799583435,0.9997285008430481,0.0009268487920053303,0.999797523021698,0.9997934699058533,0.9997569918632507,0.999789297580719,0.00022409607481677085,0.999782383441925,0.0003701726673170924,0.00039362438837997615,0.0002276464074384421,0.00038384960498660803,0.999750554561615,0.0003397786058485508,0.9997751116752625,0.003280102275311947,0.0002992141235154122,0.0002816030755639076,0.999748170375824,0.0004915103199891746,0.9997795224189758,0.031100470572710037,0.9935531616210938,0.9997900128364563,0.9997231364250183,0.9997691512107849,0.8105519413948059,0.9992128610610962,0.03074614889919758,0.009438750334084034,0.00027170710382051766,0.0006057796999812126,0.0002794154279399663,0.0003310294996481389,0.9996919631958008,0.0004339046136010438,0.999782145023346,0.9997907280921936,0.9997943043708801,0.831229031085968,0.9997745156288147,0.6759579181671143,0.99978107213974,0.9997884631156921,0.0003093739796895534,0.5035294890403748,0.9891854524612427,0.9997932314872742,0.9997966885566711,0.9997437596321106,0.9997898936271667,0.9997939467430115,0.9997803568840027,0.0014241181779652834,0.9992185831069946,0.9997923970222473,0.00022302901197690517,0.26670077443122864,0.9996238946914673,0.00032930209999904037,0.0003440365253482014,0.0002340469800401479,0.9997425675392151,0.00040977209573611617,0.9997977614402771,0.0002207340585300699,0.9997943043708801,0.00029521118267439306,0.9768787026405334,0.9997891783714294,0.00025488901883363724,0.9997718930244446,0.9997895359992981,0.0002320441126357764,0.99978107213974,0.00022534391609951854,0.9997922778129578,0.0009163394570350647,0.1496933400630951,0.9997298121452332,0.9997894167900085,0.00032643642043694854,0.0002374871401116252,0.00037638662615790963,0.9997770190238953,0.9997740387916565,0.0004467755206860602,0.00021330425806809217,0.0002760962815955281,0.0002600369043648243,0.9997281432151794,0.001145393936894834,0.00026312589761801064,0.00023155876260716468,0.9997902512550354,0.0006593553116545081,0.9216389060020447,0.00024787886650301516,0.9997909665107727,0.999758780002594,0.9997581839561462,0.9986388087272644,0.9997822642326355,0.999784529209137,0.9997879862785339,0.999739944934845,0.9997883439064026,0.9997828602790833,0.999736487865448,0.999756395816803,0.9997878670692444,0.999792754650116,0.999790370464325,0.02075931802392006,0.9997782111167908,0.9997931122779846,0.0003736835496965796,0.9965001344680786,0.9997380375862122,0.9997934699058533,0.9029531478881836,0.9997931122779846,0.9934839606285095,0.9997016787528992,0.9996284246444702,0.9995067119598389,0.9997522234916687,0.9997672438621521,0.0005050647305324674,0.9990973472595215,0.0003543483035173267,0.00028220730018801987,0.00025030653341673315,0.03755957633256912,0.9997850060462952,0.00028263998683542013,0.9997854828834534,0.9996767044067383,0.9997679591178894,0.9997774958610535,0.9997919201850891,0.9997879862785339,0.9997684359550476,0.9997798800468445,0.9997878670692444,0.9995525479316711,0.9997807145118713,0.9892404675483704,0.9997827410697937,0.9996510744094849,0.9997351765632629,0.9997956156730652,0.0003058660659007728,0.00022877306037116796,0.9997898936271667,0.9997835755348206,0.9997422099113464,0.00035794387804344296,0.9997950196266174,0.9988327622413635,0.9997949004173279,0.9997925162315369,0.9996572732925415,0.9997913241386414,0.9997783303260803,0.999796450138092,0.9997511506080627,0.9997925162315369,0.1656743288040161,0.00036247927346266806,0.419836163520813,0.9997530579566956,0.9997034668922424,0.9997803568840027,0.999716579914093,0.999762237071991,0.9996283054351807,0.99978107213974,0.9997877478599548,0.0002536913088988513,0.000710069143678993,0.999792754650116,0.000791338155977428,0.0030133461114019156,0.3600536584854126,0.9997742772102356,0.9997413754463196,0.9997922778129578,0.0002580897998996079,0.9996486902236938,0.9996720552444458,0.00033975590486079454,0.013755976222455502,0.9997555613517761,0.9997910857200623,0.000228342687478289,0.9997708201408386,0.9997867941856384,0.9997902512550354,0.00032099371310323477,0.999747097492218,0.9997822642326355,0.0003043531905859709,0.0019736462272703648,0.999714195728302,0.999530553817749,0.9997931122779846,0.9997875094413757,0.9997943043708801,0.9997900128364563,0.9997867941856384,0.9887378215789795,0.005535886622965336,0.9997988343238831,0.9991602897644043,0.9997846484184265,0.9997487664222717,0.9937531352043152,0.00035558996023610234,0.9997863173484802,0.9982119798660278,0.9997925162315369,0.9997734427452087,0.008427365683019161,0.9997419714927673,0.06545615196228027,0.9997890591621399,0.9997915625572205,0.9997627139091492,0.9997511506080627,0.00024835675139911473,0.9997925162315369,0.9997946619987488,0.00024852374917827547,0.00023893117031548172,0.0004234451334923506,0.007133792154490948,0.00023511273320764303,0.9998006224632263,0.9997840523719788,0.9997982382774353,0.9998001456260681,0.999767005443573,0.9997203946113586,0.9996598958969116,0.9997971653938293,0.9997300505638123,0.9997747540473938,0.00023210476501844823,0.0007929640705697238,0.9997296929359436,0.999786913394928,0.9997840523719788,0.9997857213020325,0.9950140118598938,0.9997766613960266,0.9997943043708801,0.9997894167900085,0.9997928738594055,0.9997686743736267,0.9997702240943909,0.00025093567091971636,0.0003676626365631819,0.8136981725692749,0.999779999256134,0.0002203721523983404,0.9996637105941772,0.00038484178367070854,0.999716579914093,0.00022290697961580008,0.9997877478599548,0.0002481058472767472,0.999763548374176,0.9997891783714294,0.0002319410559721291,0.999750554561615,0.00024382563424296677,0.9997736811637878,0.00026017503114417195,0.00024338481307495385,0.0003268680302426219,0.00023198395501822233,0.0008064654539339244,0.0002685747167561203,0.0002681863261386752,0.9997895359992981,0.9997873902320862,0.00023981351114343852,0.21262143552303314,0.9997846484184265,0.9997983574867249,0.00022837426513433456,0.0002400143421255052,0.996938943862915,0.9997797608375549,0.9997915625572205,0.9995790123939514,0.9996546506881714,0.00045413669431582093,0.0002381830709055066,0.9990448355674744,0.2464066445827484,0.2773560583591461,0.0003973532293457538,0.12565922737121582,0.9997867941856384,0.9997977614402771,0.9997974038124084,0.00039000986726023257,0.999792754650116,0.9997972846031189,0.9989134073257446,0.0002231272665085271,0.9997935891151428,0.9919416904449463,0.9948474168777466,0.00023830596182961017,0.0003569522814359516,0.9997618794441223,0.25833603739738464,0.999797523021698,0.00025126701802946627,0.9997884631156921,0.0002996354887727648,0.00022418027219828218,0.8062973022460938,0.0002390788431512192,0.9995805621147156,0.99979168176651,0.9997645020484924,0.9997044205665588,0.00024021441640798002,0.00023118109675124288,0.9997907280921936,0.0002172316308133304,0.0002268795360578224,0.999782145023346,0.00027108145877718925,0.9997771382331848,0.999763548374176,0.9973070621490479,0.00024821754777804017,0.9997584223747253,0.9997660517692566,0.957286536693573,0.34981322288513184,0.9997931122779846,0.9997945427894592,0.00039026312879286706,0.0002812411403283477,0.0028797730337828398,0.00023234388208948076,0.9997614026069641,0.00180585659109056,0.9997825026512146,0.9981202483177185,0.9997881054878235,0.0002218197623733431,0.9997817873954773,0.9997480511665344,0.00030126995989121497,0.001593718770891428,0.0017547730822116137,0.0003048483340535313,0.0005975770764052868,0.999789297580719,0.9994970560073853,0.9997959733009338,0.9997748732566833,0.0005160122527740896,0.9990841150283813,0.9996193647384644,0.06064942851662636,0.9998002648353577,0.9997991919517517,0.9998013377189636,0.9997932314872742,0.9997943043708801,0.9997997879981995,0.9997883439064026,0.02929694391787052,0.9991663694381714,0.9997768998146057,0.9996935129165649,0.9997788071632385,0.0005545216845348477,0.9997889399528503,0.0002556630061008036,0.9992989301681519,0.9997814297676086,0.0004604384594131261,0.00029758427990600467,0.009092935360968113,0.9021995663642883,0.9997522234916687,0.9967161417007446,0.21815504133701324,0.00026065943529829383,0.9997890591621399,0.0012962702894583344,0.0006076327408663929,0.9996848106384277,0.546577513217926,0.9997269511222839,0.0006082924082875252,0.0005474946810863912,0.9996520280838013,0.00041720361332409084,0.9997798800468445,0.9996956586837769,0.9997276663780212,0.05323304608464241,0.0007220233092084527,0.9997915625572205,0.012758731842041016,0.9997914433479309,0.9969193935394287,0.9997945427894592,0.9997733235359192,0.999792754650116,0.00036978963180445135,0.9983526468276978,0.9975676536560059,0.9977757334709167,0.9997993111610413,0.9997993111610413,0.00041816558223217726,0.9991461038589478,0.9997274279594421,0.9997943043708801,0.9997921586036682,0.9997755885124207,0.9997915625572205,0.384382426738739,0.9991515874862671,0.00048560003051534295,0.9997764229774475,0.00023669912479817867,0.09274137765169144,0.0022225133143365383,0.0003636195615399629,0.9997901320457458,0.0003083809860982001,0.9997935891151428,0.0003555706061888486,0.9996738433837891,0.0010910461423918605,0.9997884631156921,0.008245280012488365,0.00023824146774131805,0.0002335694880457595,0.00046912944526411593,0.9997835755348206,0.9995701909065247,0.9997897744178772,0.00022069786791689694,0.9995348453521729,0.9996125102043152,0.9997965693473816,0.9997559189796448,0.9998008608818054,0.9997784495353699,0.9997705817222595,0.000703721190802753,0.9997977614402771,0.9997696280479431,0.9997987151145935,0.9994966983795166,0.00023649813374504447,0.9985058307647705,0.000378993630874902,0.9997938275337219,0.8595035672187805,0.9247094392776489,0.9997991919517517,0.00032732204999774694,0.999799907207489,0.9997796416282654,0.999795138835907,0.00022892166452948004,0.0002454396744724363,0.0003369582409504801,0.9984741806983948,0.9986140727996826,0.9997761845588684,0.6604002714157104,0.0013033491559326649,0.9997925162315369,0.9997135996818542,0.9997921586036682,0.876025378704071,0.9997780919075012,0.851834237575531,0.9997500777244568,0.9997947812080383,0.25307154655456543,0.9997918009757996,0.0006557519664056599,0.9997308850288391,0.9995569586753845,0.9997865557670593,0.00033137400168925524,0.9994669556617737,0.000281379820080474,0.9997708201408386,0.0009153450955636799,0.999731719493866,0.9997873902320862,0.9997202754020691,0.999767005443573,0.00026718739536590874,0.00029400564380921423,0.9997891783714294,0.999743640422821,0.9997418522834778,0.9996659755706787,0.0002827545104082674,0.999735414981842,0.9997839331626892,0.029812097549438477,0.00025395702687092125,0.0009943840559571981,0.9997579455375671,0.9991171956062317,0.9990664124488831,0.9997978806495667,0.9997909665107727,0.00036408641608431935,0.0002858450170606375,0.0007069642306305468,0.9997939467430115,0.9997853636741638,0.9997764229774475,0.00027657419559545815,0.0343567430973053,0.0003140790213365108,0.9997970461845398,0.9997956156730652,0.00023139017866924405,0.00035241793375462294,0.0014450873713940382,0.0007542467792518437,0.0006807638565078378,0.0007241967832669616,0.0002486799203325063,0.0002395274059381336,0.9997077584266663,0.00021677231416106224,0.1345227062702179,0.00028556367033161223,0.0004751585656777024,0.9997872710227966,0.000231252983212471,0.9997720122337341,0.9997500777244568,0.9997765421867371,0.9997298121452332,0.00027763412799686193,0.00044504483230412006,0.01073727011680603,0.0005881240358576179,0.7758898735046387,0.0002537457621656358,0.9997230172157288,0.9997519850730896,0.00026124060968868434,0.00026647889171727,0.9997872710227966,0.9997650980949402,0.020500482991337776,0.0004234909429214895,0.9997926354408264,0.9997841715812683,0.9997896552085876,0.9997095465660095,0.9997298121452332,0.0003084483614657074,0.0002160507283406332,0.00428105378523469,0.0012156640877947211,0.9997932314872742,0.9997313618659973,0.9988441467285156,0.9997515082359314,0.9996020197868347,0.0003693657636176795,0.0004347249632701278,0.9989466071128845,0.9997938275337219,0.028873862698674202,0.00035611542989499867,0.0002421594108454883,0.9981970191001892,0.9997655749320984,0.00024820261751301587,0.9903331398963928,0.998863935470581,0.9997301697731018,0.9997740387916565,0.9997162222862244,0.9997146725654602,0.9997875094413757,0.0005392886232584715,0.0013136218767613173,0.9997747540473938,0.9997541308403015,0.03597872704267502,0.9997842907905579,0.0006477052811533213,0.9997884631156921,0.0003629130660556257,0.9997819066047668,0.9973359704017639,0.9997720122337341,0.0002675203140825033,0.99979168176651,0.9196240305900574,0.9996289014816284,0.0003315215581096709,0.00022609287407249212,0.0008531135390512645,0.0003464471083134413,0.9997445940971375,0.9997159838676453,0.9997733235359192,0.994831919670105,0.9997712969779968,0.9891854524612427,0.9997360110282898,0.9997742772102356,0.999129593372345,0.00023527083976659924,0.0005646427161991596,0.12868690490722656,0.0002447358565405011,0.0003830496279988438,0.0003167952236253768,0.00026221908046863973,0.9997782111167908,0.9997732043266296,0.9997857213020325,0.00041122527909465134,0.0002557112311478704,0.6450709104537964,0.000757200934458524,0.07001020014286041,0.00025546731194481254,0.9997969269752502,0.999714195728302,0.0006007453775964677,0.019865162670612335,0.0002377309137955308,0.9997819066047668,0.9996768236160278,0.06483764201402664,0.00023415233590640128,0.0022496103774756193,0.00025046695373021066,0.0007002998609095812,0.9997649788856506,0.00036506325704976916,0.9997491240501404,0.00023355857410933822,0.00028717477107420564,0.9997530579566956,0.8671729564666748,0.9997013211250305,0.0007508496637456119,0.9970921277999878,0.9997928738594055,0.9996922016143799,0.9997981190681458,0.9997060894966125,0.00022505491506308317,0.9997871518135071,0.9931384921073914,0.9997177720069885,0.999789297580719,0.00023301919281948358,0.9997820258140564,0.9997815489768982,0.00105790956877172,0.9997544884681702,0.999713122844696,0.9997172951698303,0.9997450709342957,0.010167790576815605,0.9996691942214966,0.9997561573982239,0.9997867941856384,0.0003166007809340954,0.00034393780515529215,0.99977046251297,0.9997270703315735,0.1885768473148346,0.0002546344476286322,0.9993359446525574,0.999768078327179,0.9997935891151428,0.9997342228889465,0.9997811913490295,0.0003598156908992678,0.0003183129010722041,0.9997829794883728,0.999777615070343,0.0012966482900083065,0.002732114167883992,0.9997790455818176,0.0004222037096042186,0.9997677206993103,0.005717101972550154,0.9997499585151672,0.9997639060020447,0.999745786190033,0.00035295472480356693,0.9997774958610535,0.9827924370765686,0.9997748732566833,0.9229875206947327,0.9991227984428406,0.999764621257782,0.9997934699058533,0.999561607837677,0.9997805953025818,0.9997759461402893,0.000288173119770363,0.9994648098945618,0.9997597336769104,0.00025595613988116384,0.0004234352381899953,0.9997739195823669,0.999134361743927,0.00026672673993743956,0.9997428059577942,0.9996479749679565,0.0002631750830914825,0.00034433577093295753,0.9997889399528503,0.9997368454933167,0.9997759461402893,0.9997850060462952,0.9997953772544861,0.9997479319572449,0.9997969269752502,0.0003088653029408306,0.27977368235588074,0.999790608882904,0.9997920393943787,0.00028763565933331847,0.9986494183540344,0.7206888794898987,0.0003344854630995542,0.9997814297676086,0.15910907089710236,0.9997755885124207,0.00023781707568559796,0.9997966885566711,0.9997989535331726,0.9997977614402771,0.9996954202651978,0.9997394680976868,0.9997891783714294,0.0003348945756442845,0.00036436697700992227,0.9997895359992981,0.0005854802438989282,0.00035980987013317645,0.0008701891638338566,0.9997089505195618,0.002321456791833043,0.9996269941329956,0.9997838139533997,0.5954347252845764,0.8121212720870972,0.001835705479606986,0.0002893886703532189,0.9997863173484802,0.9997873902320862,0.029080254957079887,0.00026703104958869517,0.0037421465385705233,0.0006890613585710526,0.9997654557228088,0.0003184698289260268,0.00042535323882475495,0.946647047996521,0.0003137755556963384,0.007317889481782913,0.04084610566496849,0.00028852722607553005,0.9997249245643616,0.00027076530386693776,0.9997997879981995,0.0002288027317263186,0.00026403108495287597,0.0021907154005020857,0.0002415492490399629,0.00022379585425369442,0.9470741748809814,0.999649167060852,0.9996045231819153,0.9989399313926697,0.9997957348823547,0.9997422099113464,0.0004441006458364427,0.9980073571205139,0.9997486472129822,0.9997736811637878,0.9997768998146057,0.9997929930686951,0.9997498393058777,0.00031739077530801296,0.0005225402419455349,0.9997811913490295,0.0005605269689112902,0.999783456325531,0.9997913241386414,0.9996839761734009,0.9996980428695679,0.00029008035198785365,0.9996869564056396,0.9995808005332947,0.9997722506523132,0.0002349529677303508,0.9997619986534119,0.00021503058087546378,0.9997445940971375,0.9997783303260803,0.0007183832349255681,0.0002644984924700111,0.9995738863945007,0.0005523130530491471,0.0002721050404943526,0.9997772574424744,0.999796450138092,0.0003423716116230935,0.0011617490090429783,0.9997764229774475,0.9994237422943115,0.00027492790832184255,0.9998019337654114,0.00023693597177043557,0.9997900128364563,0.0003272581088822335,0.9996544122695923,0.9997698664665222,0.006063499487936497,0.0009746560826897621,0.9997768998146057,0.9997957348823547,0.9997114539146423,0.9997946619987488,0.9997925162315369,0.10174564272165298,0.00025267121964134276,0.9997959733009338,0.9997801184654236,0.42954638600349426,0.9997767806053162,0.9997830986976624,0.0002874125202652067,0.9997636675834656,0.9997888207435608,0.00032251153606921434,0.9997867941856384,0.0019716243259608746,0.999788224697113,0.9997947812080383,0.9997912049293518,0.9991794228553772,0.00663712527602911,0.9997925162315369,0.0002668518864084035,0.999777615070343,0.0004547920834738761,0.9997949004173279,0.8444923758506775,0.9997830986976624,0.999788224697113,0.9997677206993103,0.9922778606414795,0.999715268611908,0.999774158000946,0.0002734529844019562,0.9954083561897278,0.9997954964637756,0.9997648596763611,0.0002552501391619444,0.9997095465660095,0.1924581229686737,0.00023112072085496038,0.9997887015342712,0.00025273984647355974,0.0002492182538844645,0.00025631513562984765,0.00024911374202929437,0.0003905495395883918,0.00023352318385150284,0.0003241393715143204,0.00028206227580085397,0.0006316918297670782,0.0007164624985307455,0.9818688035011292,0.9996904134750366,0.0002593708341009915,0.9997231364250183,0.00041400245390832424,0.9997656941413879,0.0009427817421965301,0.9997947812080383,0.9997809529304504,0.0002352360461372882,0.00032569034374319017,0.9997590184211731,0.9997164607048035,0.9997629523277283,0.999786913394928,0.0009978532325476408,0.9997938275337219,0.9997891783714294,0.9997735619544983,0.9997965693473816,0.9997977614402771,0.0002863589324988425,0.9754246473312378,0.00023273985425475985,0.9997588992118835,0.00030272454023361206,0.9995132684707642,0.999785840511322,0.9931439161300659,0.034164994955062866,0.9997168183326721,0.3780319094657898,0.9997643828392029,0.9997870326042175,0.00024568787193857133,0.9997264742851257,0.999790370464325,0.9997949004173279,0.9997335076332092,0.002500097965821624,0.0004973523318767548,0.00046444186591543257,0.9998003840446472,0.999796450138092,0.00023440341465175152,0.9997614026069641,0.0002232588012702763,0.9986265897750854,0.00023808248806744814,0.999687910079956,0.9997891783714294,0.999790370464325,0.9997312426567078,0.010164542123675346,0.0002735680027399212,0.0002837848733179271,0.9997864365577698,0.9997864365577698,0.00024041469441726804,0.9987611770629883,0.00022702928981743753,0.9995676875114441,0.9783274531364441,0.9976441264152527,0.9996851682662964,0.9997360110282898,0.9997947812080383,0.9997945427894592,0.00022145923867356032,0.04339372366666794,0.00021839840337634087,0.039758432656526566,0.008324709720909595,0.00022955179156269878,0.0006096610450185835,0.03535164147615433,0.0011107324389740825,0.9997928738594055,0.00026900682132691145,0.009378576651215553,0.0003221157530788332,0.000275145546765998,0.9970676302909851,0.0005292173591442406,0.999786913394928,0.0064429850317537785,0.00023368174151983112,0.00022568751592189074,0.0003684939001686871,0.01250943448394537,0.000961124140303582,0.0004369720700196922,0.998828113079071,0.7152819633483887,0.00043526568333618343,0.9997798800468445,0.0003108943346887827,0.00031637930078431964,0.9978364109992981,0.000338744226610288,0.0002831141173373908,0.00124627526383847,0.000744545366615057,0.00038638158002868295,0.002171797677874565,0.00026619090931490064,0.9998007416725159,0.0003178058541379869,0.9997953772544861,0.9997761845588684,0.0002921500417869538,0.0002452256449032575,0.9997842907905579,0.0002639908343553543,0.9991238713264465,0.9996870756149292,0.37811344861984253,0.9997853636741638,0.0005097436369396746,0.9997643828392029,0.00030403767595998943,0.0003983885399065912,0.9997894167900085,0.0038113316986709833,0.9997969269752502,0.04176810756325722,0.00030790947494097054,0.9915134310722351,0.0002804846444632858,0.9997910857200623,0.0003213820164091885,0.6066467761993408,0.00022929497936274856,0.0009644897072575986,0.0005137171829119325,0.9997215867042542,0.0005265732179395854,0.6687771081924438,0.9997847676277161,0.998621940612793,0.00029586456366814673,0.9997884631156921,0.9998014569282532,0.11873795837163925,0.00029575935332104564,0.9997981190681458,0.9997783303260803,0.9959308505058289,0.15404778718948364,0.0003998529864475131,0.9996078610420227,0.9997913241386414,0.9997474551200867,0.9997860789299011,0.9997939467430115,0.9997902512550354,0.0021120551973581314,0.0018505440093576908,0.9997913241386414,0.9643074870109558,0.0002591038937680423,0.00024246577231679112,0.999764621257782,0.9997919201850891,0.0009382670978084207,0.9996013045310974,0.3173193633556366,0.9997971653938293,0.9997747540473938,0.00026167809846810997,0.0002839180233422667,0.00029107631416991353,0.9997953772544861,0.00031800923170521855,0.0004434384172782302,0.9997676014900208,0.999659538269043,0.9997877478599548,0.4533819556236267,0.9997956156730652,0.9997562766075134,0.9993019104003906,0.0002586230984888971,0.0002539216948207468,0.0002496772794984281,0.0002549653290770948,0.9997938275337219,0.0002708701358642429,0.00026262487517669797,0.9997890591621399,0.0008120086858980358,0.9997426867485046,0.0025472415145486593,0.009638211689889431,0.00038431023131124675,0.5514964461326599,0.0002752909203991294,0.9991397857666016,0.9997767806053162,0.9997939467430115,0.9997847676277161,0.9997865557670593,0.0016850597457960248,0.0011043039849027991,0.9997807145118713,0.00025474614812992513,0.9993035793304443,0.7424930930137634,0.0002672893169801682,0.9988434314727783,0.9997956156730652,0.0003325995057821274,0.18934623897075653,0.0012255983892828226,0.00039952300721779466,0.9997760653495789,0.5762784481048584,0.9997085928916931,0.0012209371197968721,0.9997546076774597,0.00025875409482978284,0.9997329115867615,0.0014082444831728935,0.0008682812913320959,0.9997990727424622,0.0010833466658368707,0.0004115498159080744,0.9997934699058533,0.00022744291345588863,0.9955456256866455,0.9997768998146057,0.0002470853505656123,0.0005241555045358837,0.00024126800417434424,0.00038013505400158465,0.00022302390425466,0.00030185215291567147,0.9997730851173401,0.0003040486772079021,0.2825581729412079,0.9435156583786011,0.9988757967948914,0.00025007323711179197,0.0012211244320496917,0.9964259266853333,0.0003727936709765345,0.9989860653877258,0.999764621257782,0.0002533321385271847,0.9997989535331726,0.00032897701021283865,0.0007778435829095542,0.9997902512550354,0.9996002316474915,0.0006500410381704569,0.0005598747520707548,0.0003322553529869765,0.9990832805633545,0.0005740391789004207,0.00048803247045725584,0.9965996146202087,0.9997679591178894,0.9997937083244324,0.9997739195823669,0.0014323366340249777,0.9996994733810425,0.9997814297676086,0.00024315172049682587,0.00027876245439983904,0.00045300688361749053,0.9997856020927429,0.9997695088386536,0.00023936624347697943,0.0003039901203010231,0.2733078896999359,0.0003230213769711554,0.00030536350095644593,0.00024834441137500107,0.001374419080093503,0.9997902512550354,0.9997989535331726,0.00029175475356169045,0.00028042664052918553,0.9997909665107727,0.000238393695326522,0.00023959754616953433,0.9996330738067627,0.0006267856224440038,0.05001778528094292,0.006649347022175789,0.9997925162315369,0.0005323371151462197,0.9997506737709045,0.0003685134288389236,0.0012040678411722183,0.0004109519359190017,0.9994983673095703,0.9997672438621521,0.9997448325157166,0.00021707139967475086,0.9997879862785339,0.00045293435687199235,0.00036518590059131384,0.9997857213020325,0.0003005117760039866,0.00027015493833459914,0.00033076072577387094,0.02837442420423031,0.00027874225634150207,0.738938570022583,0.9997702240943909,0.00021554395789280534,0.9997476935386658,0.06843078881502151,0.9997603297233582,0.00026960199465975165,0.0002868247975129634,0.0013316806871443987,0.9997813105583191,0.999629020690918,0.0002192985703004524,0.12033393979072571,0.0008819489157758653,0.9996936321258545,0.9996813535690308,0.006206698250025511,0.9070708155632019,0.00024911752552725375,0.00034266887814737856,0.9997876286506653,0.9997684359550476,0.0002808328135870397,0.9997950196266174,0.9997827410697937,0.002709773136302829,0.8868794441223145,0.0003490844974294305,0.00043837452540174127,0.00050644256407395,0.0003205123939551413,0.0004238081455696374,0.9996427297592163,0.00021830220066476613,0.0002457759401295334,0.9997852444648743,0.9998013377189636,0.9995718598365784,0.00023184729798231274,0.008592420257627964,0.0003987225063610822,0.0007224917062558234,0.9997944235801697,0.0002169627696275711,0.9997997879981995,0.9994656443595886,0.000247854768531397,0.0003288948500994593,0.0002219572925241664,0.9997820258140564,0.9997683167457581,0.00023075762146618217,0.0005549692432396114,0.9994454979896545,0.9997624754905701,0.9996674060821533,0.9997733235359192,0.0031187720596790314,0.9987123012542725,0.00022674957290291786,0.9997581839561462,0.999729573726654,0.9997993111610413,0.9997982382774353,0.9996070265769958,0.21342764794826508,0.9997774958610535,0.999797523021698,0.9997780919075012,0.0004844312206842005,0.00028482842026278377,0.00026240211445838213,0.9997851252555847,0.9997817873954773,0.00023179159325081855,0.9997749924659729,0.7205348610877991,0.9942834973335266,0.010539384558796883,0.00023784222139511257,0.2746044099330902,0.9997068047523499,0.00023711970425210893,0.9997910857200623,0.9985578656196594,0.9997937083244324,0.0002915206423494965,0.8846781849861145,0.004437968600541353,0.997904896736145,0.00023539469111710787,0.9994733929634094,0.999792754650116,0.9997807145118713,0.9997861981391907,0.002584820380434394,0.9997890591621399,0.9997597336769104,0.9997352957725525,0.9997912049293518,0.00024167433730326593,0.9997466206550598,0.9997586607933044,0.0002846617135219276,0.9997404217720032,0.0002494559739716351,0.0047798859886825085,0.0012882811715826392,0.9997418522834778,0.9997392296791077,0.00021147383085917681,0.9950879216194153,0.9996733665466309,0.00023306184448301792,0.0005551361828111112,0.9997877478599548,0.999748170375824,0.9995858073234558,0.9997623562812805,0.9997977614402771,0.00033437227830290794,0.999667763710022,0.0004890434793196619,0.00042663022759370506,0.000726632890291512,0.000241085872403346,0.999797523021698,0.00023828963458072394,0.0002758813207037747,0.00023525400320068002,0.9997983574867249,0.00027218885952606797,0.00024450538330711424,0.00021718733478337526,0.9997313618659973,0.0002370871661696583,0.00023476753267459571,0.0003868865023832768,0.9997785687446594,0.007116477470844984,0.00025412029935978353,0.9997864365577698,0.9998003840446472,0.00041410073754377663,0.9996706247329712,0.0003356011875439435,0.9997957348823547,0.9997939467430115,0.814846396446228,0.9997949004173279,0.00024148063675966114,0.00026703765615820885,0.0002355428587179631,0.06755650788545609,0.9997277855873108,0.9997640252113342,0.0003552353591658175,0.9997896552085876,0.00023664945911150426,0.9997667670249939,0.9377809166908264,0.999763548374176,0.0002647661603987217,0.00030670035630464554,0.00022944195370655507,0.9997337460517883,0.0002590880903881043,0.9990423321723938,0.0003245107363909483,0.9925629496574402,0.00022513604199048132,0.9992932081222534,0.9997784495353699,0.0002509864280000329,0.9997710585594177,0.00025146405096165836,0.0007332669920288026,0.9997557997703552,0.000294677447527647,0.9997813105583191,0.00027496411348693073,0.999764621257782,0.0005022768164053559,0.9992164373397827,0.002208727179095149,0.0002165787445846945,0.9996829032897949,0.00024205876979976892,0.9997560381889343,0.000228292410611175,0.00030394262284971774,0.00026703765615820885,0.9997842907905579,0.00021320809901226312,0.999765932559967,0.9997486472129822,0.0002210609382018447,0.9669976830482483,0.999782145023346,0.9997879862785339,0.9996336698532104,0.00021711713634431362,0.00041159181273542345,0.999270498752594,0.9996097683906555,0.9997994303703308,0.9997871518135071,0.9997534155845642,0.9997863173484802,0.9997885823249817,0.00022150337463244796,0.00023472189786843956,0.00025084405206143856,0.00026402733055874705,0.00021926489716861397,0.9997828602790833,0.9996145963668823,0.999695897102356,0.00026242766762152314,0.999768078327179,0.9997246861457825,0.9670166373252869,0.9997989535331726,0.0002470705076120794,0.9997996687889099,0.001786468317732215,0.00022681055997963995,0.9996883869171143,0.00022958245244808495,0.00023621440050192177,0.9997920393943787,0.0002716579183470458,0.0002916691009886563,0.0014287178637459874,0.9997943043708801,0.9979578256607056,0.9996726512908936,0.00029038276989012957,0.9997852444648743,0.0002186778001487255,0.9997952580451965,0.9997989535331726,0.9997919201850891,0.999790370464325,0.0002711460692808032,0.999794065952301,0.996306300163269,0.00032956028007902205,0.9997699856758118,0.00022741645807400346,0.0007976860506460071,0.9997324347496033,0.9997946619987488,0.9997881054878235,0.9997332692146301,0.9997791647911072,0.00023040917585603893,0.00024301334633491933,0.00038238029810599983,0.002624554792419076,0.0004252218932379037,0.0004125648410990834,0.0007054283632896841,0.0003740292740985751,0.002437599701806903,0.9997935891151428,0.003344562603160739,0.9997828602790833,0.0002382032835157588,0.00023069733288139105,0.8914404511451721,0.9998021721839905,0.05033401772379875,0.0002631921670399606,0.00023652991512790322,0.9997826218605042,0.0002107703039655462,0.0017286406364291906,0.0004997933865524828,0.9997970461845398,0.9975695013999939,0.9987414479255676,0.0003031034430023283,0.999392032623291,0.00043309811735525727,0.9993017911911011,0.00023354898439720273,0.0002484045980963856,0.9994369149208069,0.9997695088386536,0.00023464042169507593,0.999799907207489,0.00029396917670965195,0.998526930809021,0.0002640683378558606,0.9997859597206116,0.00021979279699735343,0.9997945427894592,0.9994340538978577,0.9997557997703552,0.9996577501296997,0.0007859006291255355,0.9997357726097107,0.9997969269752502,0.00023858605709392577,0.00024312666209880263,0.9997952580451965,0.0006680067745037377,0.9997791647911072,0.00026295939460396767,0.00021649326663464308,0.9997902512550354,0.00023396132746711373,0.9997426867485046,0.0002659101446624845,0.001364602241665125,0.9997597336769104,0.0002382032835157588,0.00029278185684233904,0.00023048737784847617,0.00024306758132297546,0.9997759461402893,0.9997971653938293,0.9997420907020569,0.0002485289878677577,0.00037694411003030837,0.0005868274602107704,0.0002260682958876714,0.9997915625572205,0.9997990727424622,0.00022937412722967565,0.0004237170796841383,0.0014132040087133646,0.00021446893515530974,0.0002144167956430465,0.9918391108512878,0.0016207542503252625,0.00026680936571210623,0.0002241031324956566,0.9997836947441101,0.00022299136617220938,0.0002756622852757573,0.9997994303703308,0.0014764702646061778,0.00021430602646432817,0.9997356534004211,0.09613002091646194,0.00022389786317944527,0.0002564615570008755,0.00024065228353720158,0.0002232994302175939,0.9995043277740479,0.999376118183136,0.00024279841454699636,0.9997608065605164,0.9903457760810852,0.9997995495796204,0.9997819066047668,0.00025895817088894546,0.00022442557383328676,0.9997987151145935,0.9997788071632385,0.9996863603591919,0.9958541393280029,0.00022336438996717334,0.00022089830599725246,0.9996881484985352,0.9997672438621521,0.15749375522136688,0.0003181763750035316,0.9247299432754517,0.9997997879981995,0.9997982382774353,0.0007019773474894464,0.9996647834777832,0.00023742648772895336,0.001931130071170628,0.9997738003730774,0.0016425920184701681,0.9998003840446472,0.00021484552416950464,0.0004408603999763727,0.0007955365581437945,0.00022667564917355776,0.9997767806053162,0.005466020666062832,0.9997758269309998,0.9997308850288391,0.9997407793998718,0.9997918009757996,0.0005789927672594786,0.00026020503719337285,0.039329834282398224,0.0004953753668814898,0.0002566354814916849,0.9997132420539856,0.9995309114456177,0.00023287303338292986,0.5671623349189758,0.999785840511322,0.00022897864982951432,0.9996435642242432,0.00502348504960537,0.0002245315263280645,0.9971491694450378,0.00021537899738177657,0.0002622155880089849,0.00030536495614796877,0.00021415037917904556,0.0007176176295615733,0.0002508301695343107,0.00021913426462560892,0.00024087172641884536,0.0010027919197455049,0.0002390861336607486,0.9997851252555847,0.00023957673693075776,0.9997965693473816,0.9997090697288513,0.00022326303587760776,0.9995694756507874,0.00022139673819765449,0.00024075050896499306,0.00972145888954401,0.9997808337211609,0.00026824718224816024,0.999768078327179,0.9997438788414001,0.0005071664345450699,0.00028658017981797457,0.00027986016357317567,0.003773023607209325,0.9997311234474182,0.0002179471921408549,0.9997816681861877,0.9996559619903564,0.0002353578747715801,0.00022955070016905665,0.0002558663545642048,0.00021978294535074383,0.9978184700012207,0.0003388395416550338,0.00040389009518548846,0.9997826218605042,0.0003329557948745787,0.0002298180916113779,0.9997759461402893,0.0005557772819884121,0.9997604489326477,0.9997877478599548,0.0002296590682817623,0.00030838363454677165,0.00022221330436877906,0.0002559266285970807,0.0002152894885512069,0.9997945427894592,0.00021523570467252284,0.9997981190681458,0.00021864818700123578,0.00026566407177597284,0.9997537732124329,0.00022626925783697516,0.0002724339428823441,0.0003543780476320535,0.00022597433417104185,0.0002492719504516572,0.00027729899738915265,0.0004075239703524858,0.00027099516591988504,0.0002736235619522631,0.00026138912653550506,0.00045474403304979205,0.9997919201850891,0.9997742772102356,0.012731995433568954,0.9888620972633362,0.0007608710438944399,0.0007453737780451775,0.00021980579185765237,0.9939898252487183,0.9997901320457458,0.9998013377189636,0.9997938275337219,0.999715268611908,0.00029773751157335937,0.00025084405206143856,0.0005169042851775885,0.9997931122779846,0.0002459161332808435,0.8592656850814819,0.002010002499446273,0.00021912946249358356,0.00026221858570352197,0.0002860140521079302,0.9893466830253601,0.00022871376131661236,0.9994848966598511,0.9970132112503052,0.9989038705825806,0.9997722506523132,0.999620795249939,0.9997915625572205,0.00025406357599422336,0.9997830986976624,0.00021390141046140343,0.9997658133506775,0.00022359643480740488,0.00022279309632722288,0.9997919201850891,0.00021449898486025631,0.9997197985649109,0.9997933506965637,0.00042568144272081554,0.0004214840882923454,0.0002874881902243942,0.9997989535331726,0.9983484745025635],\"xbins\":{\"end\":1.0,\"size\":0.1,\"start\":0.0}}],                        {\"template\":{\"data\":{\"bar\":[{\"error_x\":{\"color\":\"#2a3f5f\"},\"error_y\":{\"color\":\"#2a3f5f\"},\"marker\":{\"line\":{\"color\":\"#E5ECF6\",\"width\":0.5},\"pattern\":{\"fillmode\":\"overlay\",\"size\":10,\"solidity\":0.2}},\"type\":\"bar\"}],\"barpolar\":[{\"marker\":{\"line\":{\"color\":\"#E5ECF6\",\"width\":0.5},\"pattern\":{\"fillmode\":\"overlay\",\"size\":10,\"solidity\":0.2}},\"type\":\"barpolar\"}],\"carpet\":[{\"aaxis\":{\"endlinecolor\":\"#2a3f5f\",\"gridcolor\":\"white\",\"linecolor\":\"white\",\"minorgridcolor\":\"white\",\"startlinecolor\":\"#2a3f5f\"},\"baxis\":{\"endlinecolor\":\"#2a3f5f\",\"gridcolor\":\"white\",\"linecolor\":\"white\",\"minorgridcolor\":\"white\",\"startlinecolor\":\"#2a3f5f\"},\"type\":\"carpet\"}],\"choropleth\":[{\"colorbar\":{\"outlinewidth\":0,\"ticks\":\"\"},\"type\":\"choropleth\"}],\"contour\":[{\"colorbar\":{\"outlinewidth\":0,\"ticks\":\"\"},\"colorscale\":[[0.0,\"#0d0887\"],[0.1111111111111111,\"#46039f\"],[0.2222222222222222,\"#7201a8\"],[0.3333333333333333,\"#9c179e\"],[0.4444444444444444,\"#bd3786\"],[0.5555555555555556,\"#d8576b\"],[0.6666666666666666,\"#ed7953\"],[0.7777777777777778,\"#fb9f3a\"],[0.8888888888888888,\"#fdca26\"],[1.0,\"#f0f921\"]],\"type\":\"contour\"}],\"contourcarpet\":[{\"colorbar\":{\"outlinewidth\":0,\"ticks\":\"\"},\"type\":\"contourcarpet\"}],\"heatmap\":[{\"colorbar\":{\"outlinewidth\":0,\"ticks\":\"\"},\"colorscale\":[[0.0,\"#0d0887\"],[0.1111111111111111,\"#46039f\"],[0.2222222222222222,\"#7201a8\"],[0.3333333333333333,\"#9c179e\"],[0.4444444444444444,\"#bd3786\"],[0.5555555555555556,\"#d8576b\"],[0.6666666666666666,\"#ed7953\"],[0.7777777777777778,\"#fb9f3a\"],[0.8888888888888888,\"#fdca26\"],[1.0,\"#f0f921\"]],\"type\":\"heatmap\"}],\"heatmapgl\":[{\"colorbar\":{\"outlinewidth\":0,\"ticks\":\"\"},\"colorscale\":[[0.0,\"#0d0887\"],[0.1111111111111111,\"#46039f\"],[0.2222222222222222,\"#7201a8\"],[0.3333333333333333,\"#9c179e\"],[0.4444444444444444,\"#bd3786\"],[0.5555555555555556,\"#d8576b\"],[0.6666666666666666,\"#ed7953\"],[0.7777777777777778,\"#fb9f3a\"],[0.8888888888888888,\"#fdca26\"],[1.0,\"#f0f921\"]],\"type\":\"heatmapgl\"}],\"histogram\":[{\"marker\":{\"pattern\":{\"fillmode\":\"overlay\",\"size\":10,\"solidity\":0.2}},\"type\":\"histogram\"}],\"histogram2d\":[{\"colorbar\":{\"outlinewidth\":0,\"ticks\":\"\"},\"colorscale\":[[0.0,\"#0d0887\"],[0.1111111111111111,\"#46039f\"],[0.2222222222222222,\"#7201a8\"],[0.3333333333333333,\"#9c179e\"],[0.4444444444444444,\"#bd3786\"],[0.5555555555555556,\"#d8576b\"],[0.6666666666666666,\"#ed7953\"],[0.7777777777777778,\"#fb9f3a\"],[0.8888888888888888,\"#fdca26\"],[1.0,\"#f0f921\"]],\"type\":\"histogram2d\"}],\"histogram2dcontour\":[{\"colorbar\":{\"outlinewidth\":0,\"ticks\":\"\"},\"colorscale\":[[0.0,\"#0d0887\"],[0.1111111111111111,\"#46039f\"],[0.2222222222222222,\"#7201a8\"],[0.3333333333333333,\"#9c179e\"],[0.4444444444444444,\"#bd3786\"],[0.5555555555555556,\"#d8576b\"],[0.6666666666666666,\"#ed7953\"],[0.7777777777777778,\"#fb9f3a\"],[0.8888888888888888,\"#fdca26\"],[1.0,\"#f0f921\"]],\"type\":\"histogram2dcontour\"}],\"mesh3d\":[{\"colorbar\":{\"outlinewidth\":0,\"ticks\":\"\"},\"type\":\"mesh3d\"}],\"parcoords\":[{\"line\":{\"colorbar\":{\"outlinewidth\":0,\"ticks\":\"\"}},\"type\":\"parcoords\"}],\"pie\":[{\"automargin\":true,\"type\":\"pie\"}],\"scatter\":[{\"marker\":{\"colorbar\":{\"outlinewidth\":0,\"ticks\":\"\"}},\"type\":\"scatter\"}],\"scatter3d\":[{\"line\":{\"colorbar\":{\"outlinewidth\":0,\"ticks\":\"\"}},\"marker\":{\"colorbar\":{\"outlinewidth\":0,\"ticks\":\"\"}},\"type\":\"scatter3d\"}],\"scattercarpet\":[{\"marker\":{\"colorbar\":{\"outlinewidth\":0,\"ticks\":\"\"}},\"type\":\"scattercarpet\"}],\"scattergeo\":[{\"marker\":{\"colorbar\":{\"outlinewidth\":0,\"ticks\":\"\"}},\"type\":\"scattergeo\"}],\"scattergl\":[{\"marker\":{\"colorbar\":{\"outlinewidth\":0,\"ticks\":\"\"}},\"type\":\"scattergl\"}],\"scattermapbox\":[{\"marker\":{\"colorbar\":{\"outlinewidth\":0,\"ticks\":\"\"}},\"type\":\"scattermapbox\"}],\"scatterpolar\":[{\"marker\":{\"colorbar\":{\"outlinewidth\":0,\"ticks\":\"\"}},\"type\":\"scatterpolar\"}],\"scatterpolargl\":[{\"marker\":{\"colorbar\":{\"outlinewidth\":0,\"ticks\":\"\"}},\"type\":\"scatterpolargl\"}],\"scatterternary\":[{\"marker\":{\"colorbar\":{\"outlinewidth\":0,\"ticks\":\"\"}},\"type\":\"scatterternary\"}],\"surface\":[{\"colorbar\":{\"outlinewidth\":0,\"ticks\":\"\"},\"colorscale\":[[0.0,\"#0d0887\"],[0.1111111111111111,\"#46039f\"],[0.2222222222222222,\"#7201a8\"],[0.3333333333333333,\"#9c179e\"],[0.4444444444444444,\"#bd3786\"],[0.5555555555555556,\"#d8576b\"],[0.6666666666666666,\"#ed7953\"],[0.7777777777777778,\"#fb9f3a\"],[0.8888888888888888,\"#fdca26\"],[1.0,\"#f0f921\"]],\"type\":\"surface\"}],\"table\":[{\"cells\":{\"fill\":{\"color\":\"#EBF0F8\"},\"line\":{\"color\":\"white\"}},\"header\":{\"fill\":{\"color\":\"#C8D4E3\"},\"line\":{\"color\":\"white\"}},\"type\":\"table\"}]},\"layout\":{\"annotationdefaults\":{\"arrowcolor\":\"#2a3f5f\",\"arrowhead\":0,\"arrowwidth\":1},\"autotypenumbers\":\"strict\",\"coloraxis\":{\"colorbar\":{\"outlinewidth\":0,\"ticks\":\"\"}},\"colorscale\":{\"diverging\":[[0,\"#8e0152\"],[0.1,\"#c51b7d\"],[0.2,\"#de77ae\"],[0.3,\"#f1b6da\"],[0.4,\"#fde0ef\"],[0.5,\"#f7f7f7\"],[0.6,\"#e6f5d0\"],[0.7,\"#b8e186\"],[0.8,\"#7fbc41\"],[0.9,\"#4d9221\"],[1,\"#276419\"]],\"sequential\":[[0.0,\"#0d0887\"],[0.1111111111111111,\"#46039f\"],[0.2222222222222222,\"#7201a8\"],[0.3333333333333333,\"#9c179e\"],[0.4444444444444444,\"#bd3786\"],[0.5555555555555556,\"#d8576b\"],[0.6666666666666666,\"#ed7953\"],[0.7777777777777778,\"#fb9f3a\"],[0.8888888888888888,\"#fdca26\"],[1.0,\"#f0f921\"]],\"sequentialminus\":[[0.0,\"#0d0887\"],[0.1111111111111111,\"#46039f\"],[0.2222222222222222,\"#7201a8\"],[0.3333333333333333,\"#9c179e\"],[0.4444444444444444,\"#bd3786\"],[0.5555555555555556,\"#d8576b\"],[0.6666666666666666,\"#ed7953\"],[0.7777777777777778,\"#fb9f3a\"],[0.8888888888888888,\"#fdca26\"],[1.0,\"#f0f921\"]]},\"colorway\":[\"#636efa\",\"#EF553B\",\"#00cc96\",\"#ab63fa\",\"#FFA15A\",\"#19d3f3\",\"#FF6692\",\"#B6E880\",\"#FF97FF\",\"#FECB52\"],\"font\":{\"color\":\"#2a3f5f\"},\"geo\":{\"bgcolor\":\"white\",\"lakecolor\":\"white\",\"landcolor\":\"#E5ECF6\",\"showlakes\":true,\"showland\":true,\"subunitcolor\":\"white\"},\"hoverlabel\":{\"align\":\"left\"},\"hovermode\":\"closest\",\"mapbox\":{\"style\":\"light\"},\"paper_bgcolor\":\"white\",\"plot_bgcolor\":\"#E5ECF6\",\"polar\":{\"angularaxis\":{\"gridcolor\":\"white\",\"linecolor\":\"white\",\"ticks\":\"\"},\"bgcolor\":\"#E5ECF6\",\"radialaxis\":{\"gridcolor\":\"white\",\"linecolor\":\"white\",\"ticks\":\"\"}},\"scene\":{\"xaxis\":{\"backgroundcolor\":\"#E5ECF6\",\"gridcolor\":\"white\",\"gridwidth\":2,\"linecolor\":\"white\",\"showbackground\":true,\"ticks\":\"\",\"zerolinecolor\":\"white\"},\"yaxis\":{\"backgroundcolor\":\"#E5ECF6\",\"gridcolor\":\"white\",\"gridwidth\":2,\"linecolor\":\"white\",\"showbackground\":true,\"ticks\":\"\",\"zerolinecolor\":\"white\"},\"zaxis\":{\"backgroundcolor\":\"#E5ECF6\",\"gridcolor\":\"white\",\"gridwidth\":2,\"linecolor\":\"white\",\"showbackground\":true,\"ticks\":\"\",\"zerolinecolor\":\"white\"}},\"shapedefaults\":{\"line\":{\"color\":\"#2a3f5f\"}},\"ternary\":{\"aaxis\":{\"gridcolor\":\"white\",\"linecolor\":\"white\",\"ticks\":\"\"},\"baxis\":{\"gridcolor\":\"white\",\"linecolor\":\"white\",\"ticks\":\"\"},\"bgcolor\":\"#E5ECF6\",\"caxis\":{\"gridcolor\":\"white\",\"linecolor\":\"white\",\"ticks\":\"\"}},\"title\":{\"x\":0.05},\"xaxis\":{\"automargin\":true,\"gridcolor\":\"white\",\"linecolor\":\"white\",\"ticks\":\"\",\"title\":{\"standoff\":15},\"zerolinecolor\":\"white\",\"zerolinewidth\":2},\"yaxis\":{\"automargin\":true,\"gridcolor\":\"white\",\"linecolor\":\"white\",\"ticks\":\"\",\"title\":{\"standoff\":15},\"zerolinecolor\":\"white\",\"zerolinewidth\":2}}},\"title\":{\"text\":\"Feel-it model's confidence distribution for Sentipolc16\"},\"xaxis\":{\"title\":{\"text\":\"confidence\"}},\"yaxis\":{\"title\":{\"text\":\"normalized count\"}}},                        {\"responsive\": true}                    ).then(function(){\n",
       "                            \n",
       "var gd = document.getElementById('434c0e7e-9d9b-4ec2-b678-5c1012dd065d');\n",
       "var x = new MutationObserver(function (mutations, observer) {{\n",
       "        var display = window.getComputedStyle(gd).display;\n",
       "        if (!display || display === 'none') {{\n",
       "            console.log([gd, 'removed!']);\n",
       "            Plotly.purge(gd);\n",
       "            observer.disconnect();\n",
       "        }}\n",
       "}});\n",
       "\n",
       "// Listen for the removal of the full notebook cells\n",
       "var notebookContainer = gd.closest('#notebook-container');\n",
       "if (notebookContainer) {{\n",
       "    x.observe(notebookContainer, {childList: true});\n",
       "}}\n",
       "\n",
       "// Listen for the clearing of the current output cell\n",
       "var outputEl = gd.closest('.output');\n",
       "if (outputEl) {{\n",
       "    x.observe(outputEl, {childList: true});\n",
       "}}\n",
       "\n",
       "                        })                };                });            </script>        </div>"
      ]
     },
     "metadata": {},
     "output_type": "display_data"
    },
    {
     "data": {
      "application/vnd.plotly.v1+json": {
       "config": {
        "plotlyServerURL": "https://plot.ly"
       },
       "data": [
        {
         "histnorm": "probability",
         "type": "histogram",
         "x": [
          0.00026591852656565607,
          0.9997337460517883,
          0.9996386766433716,
          0.0008150215144269168,
          0.00023115353542380035,
          0.9995711445808411,
          0.00029005325632169843,
          0.0020688665099442005,
          0.9997840523719788,
          0.00034527856041677296,
          0.9997674822807312,
          0.0006139889592304826,
          0.9996415376663208,
          0.9997569918632507,
          0.9997506737709045,
          0.00030467138276435435,
          0.9997774958610535,
          0.0002931050257757306,
          0.9997929930686951,
          0.0002502435236237943,
          0.00033365291892550886,
          0.0003313301131129265,
          0.9997846484184265,
          0.9996823072433472,
          0.0002834336191881448,
          0.006496699992567301,
          0.0003014314570464194,
          0.00041193445213139057,
          0.9997066855430603,
          0.00023025411064736545,
          0.9986717700958252,
          0.0002582916640676558,
          0.9997487664222717,
          0.9997430443763733,
          0.0003283553814981133,
          0.00021529894729610533,
          0.9997746348381042,
          0.999744713306427,
          0.0005705858930014074,
          0.36482155323028564,
          0.9791279435157776,
          0.9995204210281372,
          0.9997548460960388,
          0.0002880569372791797,
          0.0986374020576477,
          0.9997826218605042,
          0.00045928815961815417,
          0.9997814297676086,
          0.0005754039157181978,
          0.00031291935010813177,
          0.0002289229742018506,
          0.000999209936708212,
          0.0002457255613990128,
          0.802734375,
          0.9996649026870728,
          0.999714195728302,
          0.9997515082359314,
          0.0009586475207470357,
          0.044323284178972244,
          0.03972925990819931,
          0.00023147270258050412,
          0.9997366070747375,
          0.0005457682418636978,
          0.0002400198281975463,
          0.006736127194017172,
          0.00048263874487020075,
          0.0002943683066405356,
          0.00027823381242342293,
          0.0007492033182643354,
          0.05298115313053131,
          0.33638352155685425,
          0.0004599234671331942,
          0.0002466962323524058,
          0.9997493624687195,
          0.10767768323421478,
          0.9997844099998474,
          0.9994118213653564,
          0.00026186753530055285,
          0.0023122248239815235,
          0.0023699200246483088,
          0.00023694297124166042,
          0.0002648381341714412,
          0.0002501523995306343,
          0.9997813105583191,
          0.00028735006344504654,
          0.00845151487737894,
          0.0003254162729717791,
          0.001599904615432024,
          0.9992226362228394,
          0.0006937247817404568,
          0.0003753245691768825,
          0.9039345979690552,
          0.0006510252133011818,
          0.99973064661026,
          0.00036417352384887636,
          0.9997486472129822,
          0.0002496206434443593,
          0.9997376799583435,
          0.0003701726673170924,
          0.00039362438837997615,
          0.0002276464074384421,
          0.00038384960498660803,
          0.0003397786058485508,
          0.9997751116752625,
          0.0002816030755639076,
          0.9997795224189758,
          0.9997231364250183,
          0.9992128610610962,
          0.03074614889919758,
          0.009438750334084034,
          0.0006057796999812126,
          0.0002794154279399663,
          0.0003310294996481389,
          0.9996919631958008,
          0.0004339046136010438,
          0.999782145023346,
          0.6759579181671143,
          0.0003093739796895534,
          0.9891854524612427,
          0.0014241181779652834,
          0.9992185831069946,
          0.9997923970222473,
          0.00040977209573611617,
          0.9997977614402771,
          0.00029521118267439306,
          0.9768787026405334,
          0.00025488901883363724,
          0.0002320441126357764,
          0.99978107213974,
          0.0009163394570350647,
          0.1496933400630951,
          0.9997298121452332,
          0.00032643642043694854,
          0.0002374871401116252,
          0.00037638662615790963,
          0.9997740387916565,
          0.0002760962815955281,
          0.00026312589761801064,
          0.00023155876260716468,
          0.0006593553116545081,
          0.9216389060020447,
          0.9997581839561462,
          0.9986388087272644,
          0.999739944934845,
          0.02075931802392006,
          0.0003736835496965796,
          0.9029531478881836,
          0.9997016787528992,
          0.9996284246444702,
          0.9995067119598389,
          0.0005050647305324674,
          0.00028220730018801987,
          0.00025030653341673315,
          0.00028263998683542013,
          0.9997684359550476,
          0.9997898936271667,
          0.9997835755348206,
          0.9997422099113464,
          0.9997783303260803,
          0.9997511506080627,
          0.1656743288040161,
          0.00036247927346266806,
          0.999716579914093,
          0.000710069143678993,
          0.000791338155977428,
          0.0030133461114019156,
          0.0002580897998996079,
          0.013755976222455502,
          0.9997708201408386,
          0.9997867941856384,
          0.00032099371310323477,
          0.999747097492218,
          0.0003043531905859709,
          0.9887378215789795,
          0.00035558996023610234,
          0.9982119798660278,
          0.9997734427452087,
          0.008427365683019161,
          0.9997419714927673,
          0.9997511506080627,
          0.00024835675139911473,
          0.00024852374917827547,
          0.0004234451334923506,
          0.9997203946113586,
          0.9996598958969116,
          0.9997296929359436,
          0.999786913394928,
          0.9997840523719788,
          0.9950140118598938,
          0.9997928738594055,
          0.00025093567091971636,
          0.0003676626365631819,
          0.8136981725692749,
          0.9996637105941772,
          0.00038484178367070854,
          0.0002481058472767472,
          0.999763548374176,
          0.0002319410559721291,
          0.999750554561615,
          0.00024382563424296677,
          0.0003268680302426219,
          0.00023198395501822233,
          0.0008064654539339244,
          0.0002685747167561203,
          0.0002681863261386752,
          0.00023981351114343852,
          0.21262143552303314,
          0.00022837426513433456,
          0.0002400143421255052,
          0.9997797608375549,
          0.9996546506881714,
          0.0002381830709055066,
          0.9990448355674744,
          0.2773560583591461,
          0.12565922737121582,
          0.00039000986726023257,
          0.999792754650116,
          0.0002231272665085271,
          0.9997935891151428,
          0.9948474168777466,
          0.0003569522814359516,
          0.25833603739738464,
          0.00025126701802946627,
          0.0002996354887727648,
          0.00022418027219828218,
          0.8062973022460938,
          0.0002390788431512192,
          0.9997645020484924,
          0.00024021441640798002,
          0.00023118109675124288,
          0.9997584223747253,
          0.34981322288513184,
          0.00039026312879286706,
          0.0002812411403283477,
          0.0028797730337828398,
          0.00023234388208948076,
          0.9997614026069641,
          0.00180585659109056,
          0.9981202483177185,
          0.0002218197623733431,
          0.00030126995989121497,
          0.001593718770891428,
          0.0017547730822116137,
          0.0003048483340535313,
          0.0005975770764052868,
          0.0005160122527740896,
          0.9990841150283813,
          0.02929694391787052,
          0.9991663694381714,
          0.9997768998146057,
          0.9996935129165649,
          0.9997788071632385,
          0.0005545216845348477,
          0.0002556630061008036,
          0.9992989301681519,
          0.00029758427990600467,
          0.009092935360968113,
          0.9021995663642883,
          0.9997522234916687,
          0.21815504133701324,
          0.0012962702894583344,
          0.0006076327408663929,
          0.546577513217926,
          0.0006082924082875252,
          0.0005474946810863912,
          0.9996520280838013,
          0.00041720361332409084,
          0.9997798800468445,
          0.9996956586837769,
          0.012758731842041016,
          0.00036978963180445135,
          0.9983526468276978,
          0.9975676536560059,
          0.00041816558223217726,
          0.9991461038589478,
          0.9991515874862671,
          0.00048560003051534295,
          0.09274137765169144,
          0.0003636195615399629,
          0.0003555706061888486,
          0.0010910461423918605,
          0.008245280012488365,
          0.0002335694880457595,
          0.00046912944526411593,
          0.9997897744178772,
          0.00022069786791689694,
          0.9995348453521729,
          0.9997784495353699,
          0.000703721190802753,
          0.9997696280479431,
          0.9994966983795166,
          0.00023649813374504447,
          0.8595035672187805,
          0.00032732204999774694,
          0.0003369582409504801,
          0.6604002714157104,
          0.0013033491559326649,
          0.9997500777244568,
          0.25307154655456543,
          0.0006557519664056599,
          0.9997308850288391,
          0.9995569586753845,
          0.00033137400168925524,
          0.9994669556617737,
          0.000281379820080474,
          0.0009153450955636799,
          0.9997202754020691,
          0.00029400564380921423,
          0.9997418522834778,
          0.9996659755706787,
          0.029812097549438477,
          0.00025395702687092125,
          0.0009943840559571981,
          0.9997579455375671,
          0.9991171956062317,
          0.0002858450170606375,
          0.0007069642306305468,
          0.0343567430973053,
          0.00023139017866924405,
          0.00035241793375462294,
          0.0007542467792518437,
          0.0006807638565078378,
          0.0007241967832669616,
          0.0002486799203325063,
          0.9997077584266663,
          0.1345227062702179,
          0.00028556367033161223,
          0.0004751585656777024,
          0.9997500777244568,
          0.9997298121452332,
          0.00044504483230412006,
          0.0005881240358576179,
          0.7758898735046387,
          0.0002537457621656358,
          0.00026124060968868434,
          0.0004234909429214895,
          0.9997095465660095,
          0.0003084483614657074,
          0.9988441467285156,
          0.9997515082359314,
          0.9996020197868347,
          0.0004347249632701278,
          0.9989466071128845,
          0.9981970191001892,
          0.00024820261751301587,
          0.9903331398963928,
          0.998863935470581,
          0.9997740387916565,
          0.9997146725654602,
          0.0013136218767613173,
          0.9997541308403015,
          0.03597872704267502,
          0.9997842907905579,
          0.0006477052811533213,
          0.9997884631156921,
          0.0003629130660556257,
          0.9973359704017639,
          0.0002675203140825033,
          0.9196240305900574,
          0.00022609287407249212,
          0.0008531135390512645,
          0.0003464471083134413,
          0.994831919670105,
          0.9891854524612427,
          0.9997360110282898,
          0.999129593372345,
          0.0005646427161991596,
          0.12868690490722656,
          0.0002447358565405011,
          0.00026221908046863973,
          0.9997782111167908,
          0.0002557112311478704,
          0.6450709104537964,
          0.000757200934458524,
          0.00025546731194481254,
          0.0006007453775964677,
          0.06483764201402664,
          0.0022496103774756193,
          0.00025046695373021066,
          0.0007002998609095812,
          0.00028717477107420564,
          0.9970921277999878,
          0.9997060894966125,
          0.9997177720069885,
          0.00105790956877172,
          0.9997544884681702,
          0.999713122844696,
          0.9997172951698303,
          0.010167790576815605,
          0.00034393780515529215,
          0.9993359446525574,
          0.0003598156908992678,
          0.0003183129010722041,
          0.002732114167883992,
          0.0004222037096042186,
          0.9997677206993103,
          0.005717101972550154,
          0.9997639060020447,
          0.999745786190033,
          0.00035295472480356693,
          0.9229875206947327,
          0.000288173119770363,
          0.00026672673993743956,
          0.9997428059577942,
          0.9996479749679565,
          0.0002631750830914825,
          0.0003088653029408306,
          0.27977368235588074,
          0.00028763565933331847,
          0.9986494183540344,
          0.0003344854630995542,
          0.9997814297676086,
          0.15910907089710236,
          0.00023781707568559796,
          0.0003348945756442845,
          0.9997895359992981,
          0.0005854802438989282,
          0.00035980987013317645,
          0.0008701891638338566,
          0.9997089505195618,
          0.002321456791833043,
          0.9996269941329956,
          0.5954347252845764,
          0.001835705479606986,
          0.0002893886703532189,
          0.9997863173484802,
          0.029080254957079887,
          0.00026703104958869517,
          0.0006890613585710526,
          0.0003184698289260268,
          0.00042535323882475495,
          0.946647047996521,
          0.0003137755556963384,
          0.007317889481782913,
          0.04084610566496849,
          0.00028852722607553005,
          0.9997249245643616,
          0.00027076530386693776,
          0.0002288027317263186,
          0.00026403108495287597,
          0.0021907154005020857,
          0.0002415492490399629,
          0.00022379585425369442,
          0.999649167060852,
          0.9989399313926697,
          0.9997422099113464,
          0.9980073571205139,
          0.9997768998146057,
          0.9997498393058777,
          0.00031739077530801296,
          0.0005225402419455349,
          0.0005605269689112902,
          0.9996869564056396,
          0.9995808005332947,
          0.9997722506523132,
          0.9997619986534119,
          0.9997445940971375,
          0.0002721050404943526,
          0.0003423716116230935,
          0.0011617490090429783,
          0.00027492790832184255,
          0.00023693597177043557,
          0.9997698664665222,
          0.006063499487936497,
          0.0009746560826897621,
          0.9997114539146423,
          0.00025267121964134276,
          0.9997801184654236,
          0.42954638600349426,
          0.0019716243259608746,
          0.9991794228553772,
          0.0002668518864084035,
          0.999777615070343,
          0.0004547920834738761,
          0.8444923758506775,
          0.999788224697113,
          0.9997677206993103,
          0.999774158000946,
          0.0002734529844019562,
          0.9954083561897278,
          0.0002552501391619444,
          0.1924581229686737,
          0.00025273984647355974,
          0.0002492182538844645,
          0.0003905495395883918,
          0.0003241393715143204,
          0.00028206227580085397,
          0.0006316918297670782,
          0.0007164624985307455,
          0.9818688035011292,
          0.9996904134750366,
          0.0002593708341009915,
          0.00041400245390832424,
          0.0009427817421965301,
          0.00032569034374319017,
          0.9997590184211731,
          0.9997629523277283,
          0.0009978532325476408,
          0.9997965693473816,
          0.9997977614402771,
          0.0002863589324988425,
          0.9754246473312378,
          0.00030272454023361206,
          0.9931439161300659,
          0.034164994955062866,
          0.3780319094657898,
          0.00024568787193857133,
          0.9997264742851257,
          0.9997335076332092,
          0.002500097965821624,
          0.0004973523318767548,
          0.00046444186591543257,
          0.0002232588012702763,
          0.9986265897750854,
          0.999790370464325,
          0.010164542123675346,
          0.0002735680027399212,
          0.9997864365577698,
          0.9987611770629883,
          0.00022702928981743753,
          0.9995676875114441,
          0.9996851682662964,
          0.04339372366666794,
          0.00021839840337634087,
          0.039758432656526566,
          0.008324709720909595,
          0.0006096610450185835,
          0.03535164147615433,
          0.00026900682132691145,
          0.000275145546765998,
          0.9970676302909851,
          0.0005292173591442406,
          0.0064429850317537785,
          0.00023368174151983112,
          0.0003684939001686871,
          0.01250943448394537,
          0.000961124140303582,
          0.0004369720700196922,
          0.998828113079071,
          0.7152819633483887,
          0.00043526568333618343,
          0.9978364109992981,
          0.000338744226610288,
          0.0002831141173373908,
          0.00124627526383847,
          0.000744545366615057,
          0.00038638158002868295,
          0.002171797677874565,
          0.00026619090931490064,
          0.0003178058541379869,
          0.0002921500417869538,
          0.9996870756149292,
          0.37811344861984253,
          0.9997853636741638,
          0.0005097436369396746,
          0.0003983885399065912,
          0.0038113316986709833,
          0.00030790947494097054,
          0.9915134310722351,
          0.6066467761993408,
          0.0009644897072575986,
          0.0005137171829119325,
          0.9997215867042542,
          0.0005265732179395854,
          0.998621940612793,
          0.00029586456366814673,
          0.11873795837163925,
          0.00029575935332104564,
          0.9959308505058289,
          0.15404778718948364,
          0.0003998529864475131,
          0.9996078610420227,
          0.9997474551200867,
          0.9997939467430115,
          0.0021120551973581314,
          0.0018505440093576908,
          0.9643074870109558,
          0.0002591038937680423,
          0.0009382670978084207,
          0.9996013045310974,
          0.0002839180233422667,
          0.0004434384172782302,
          0.4533819556236267,
          0.9993019104003906,
          0.0002586230984888971,
          0.0002539216948207468,
          0.0002496772794984281,
          0.0002549653290770948,
          0.0002708701358642429,
          0.00026262487517669797,
          0.0008120086858980358,
          0.0025472415145486593,
          0.009638211689889431,
          0.00038431023131124675,
          0.5514964461326599,
          0.0002752909203991294,
          0.9991397857666016,
          0.9997847676277161,
          0.9997865557670593,
          0.0011043039849027991,
          0.9988434314727783,
          0.0003325995057821274,
          0.18934623897075653,
          0.0012255983892828226,
          0.5762784481048584,
          0.0012209371197968721,
          0.00025875409482978284,
          0.9997329115867615,
          0.0014082444831728935,
          0.0008682812913320959,
          0.0010833466658368707,
          0.0004115498159080744,
          0.9955456256866455,
          0.9997768998146057,
          0.0002470853505656123,
          0.0005241555045358837,
          0.00024126800417434424,
          0.00038013505400158465,
          0.00022302390425466,
          0.00030185215291567147,
          0.9997730851173401,
          0.0003040486772079021,
          0.2825581729412079,
          0.9988757967948914,
          0.00025007323711179197,
          0.0012211244320496917,
          0.0003727936709765345,
          0.9989860653877258,
          0.0002533321385271847,
          0.00032897701021283865,
          0.0007778435829095542,
          0.0005598747520707548,
          0.0003322553529869765,
          0.9990832805633545,
          0.0005740391789004207,
          0.00048803247045725584,
          0.9965996146202087,
          0.9997739195823669,
          0.0014323366340249777,
          0.00024315172049682587,
          0.00027876245439983904,
          0.00045300688361749053,
          0.9997856020927429,
          0.9997695088386536,
          0.0003039901203010231,
          0.0003230213769711554,
          0.00024834441137500107,
          0.001374419080093503,
          0.9997902512550354,
          0.00029175475356169045,
          0.00028042664052918553,
          0.9996330738067627,
          0.0006267856224440038,
          0.05001778528094292,
          0.006649347022175789,
          0.0005323371151462197,
          0.0003685134288389236,
          0.0004109519359190017,
          0.00045293435687199235,
          0.0003005117760039866,
          0.00027015493833459914,
          0.02837442420423031,
          0.00027874225634150207,
          0.738938570022583,
          0.06843078881502151,
          0.9997603297233582,
          0.0002868247975129634,
          0.12033393979072571,
          0.0008819489157758653,
          0.9996936321258545,
          0.9996813535690308,
          0.006206698250025511,
          0.9070708155632019,
          0.00034266887814737856,
          0.9997684359550476,
          0.002709773136302829,
          0.0003490844974294305,
          0.00043837452540174127,
          0.0003205123939551413,
          0.0004238081455696374,
          0.0002457759401295334,
          0.9997852444648743,
          0.008592420257627964,
          0.0007224917062558234,
          0.9994454979896545,
          0.0031187720596790314,
          0.9987123012542725,
          0.00022674957290291786,
          0.999729573726654,
          0.9996070265769958,
          0.9997780919075012,
          0.0004844312206842005,
          0.00028482842026278377,
          0.00026240211445838213,
          0.9997851252555847,
          0.9997817873954773,
          0.9942834973335266,
          0.010539384558796883,
          0.00023784222139511257,
          0.2746044099330902,
          0.9997068047523499,
          0.00023711970425210893,
          0.9997910857200623,
          0.997904896736145,
          0.00023539469111710787,
          0.9997861981391907,
          0.002584820380434394,
          0.9997890591621399,
          0.9997466206550598,
          0.0002846617135219276,
          0.0047798859886825085,
          0.0012882811715826392,
          0.9997418522834778,
          0.9997392296791077,
          0.00023306184448301792,
          0.0005551361828111112,
          0.999748170375824,
          0.00033437227830290794,
          0.999667763710022,
          0.0004890434793196619,
          0.000241085872403346,
          0.00023828963458072394,
          0.00027218885952606797,
          0.9997313618659973,
          0.0003868865023832768,
          0.9997785687446594,
          0.007116477470844984,
          0.9997864365577698,
          0.00041410073754377663,
          0.0003356011875439435,
          0.814846396446228,
          0.9997949004173279,
          0.00026703765615820885,
          0.06755650788545609,
          0.9997277855873108,
          0.9997640252113342,
          0.0003552353591658175,
          0.9997896552085876,
          0.00023664945911150426,
          0.9997667670249939,
          0.9377809166908264,
          0.999763548374176,
          0.00030670035630464554,
          0.9990423321723938,
          0.9997710585594177,
          0.00025146405096165836,
          0.0007332669920288026,
          0.9997557997703552,
          0.000294677447527647,
          0.9997813105583191,
          0.00027496411348693073,
          0.999764621257782,
          0.0005022768164053559,
          0.9992164373397827,
          0.002208727179095149,
          0.9996829032897949,
          0.00024205876979976892,
          0.9997560381889343,
          0.00026703765615820885,
          0.999765932559967,
          0.9669976830482483,
          0.999782145023346,
          0.9996097683906555,
          0.9997994303703308,
          0.00023472189786843956,
          0.00025084405206143856,
          0.9996145963668823,
          0.999768078327179,
          0.9997246861457825,
          0.9670166373252869,
          0.0002470705076120794,
          0.001786468317732215,
          0.00022681055997963995,
          0.00022958245244808495,
          0.00023621440050192177,
          0.0002916691009886563,
          0.0014287178637459874,
          0.9996726512908936,
          0.00029038276989012957,
          0.9997852444648743,
          0.0002186778001487255,
          0.999790370464325,
          0.996306300163269,
          0.00032956028007902205,
          0.9997699856758118,
          0.00022741645807400346,
          0.9997324347496033,
          0.9997332692146301,
          0.9997791647911072,
          0.00023040917585603893,
          0.00038238029810599983,
          0.002624554792419076,
          0.0004125648410990834,
          0.0007054283632896841,
          0.0003740292740985751,
          0.003344562603160739,
          0.9997828602790833,
          0.0002382032835157588,
          0.8914404511451721,
          0.05033401772379875,
          0.0002631921670399606,
          0.00023652991512790322,
          0.9997826218605042,
          0.0017286406364291906,
          0.0004997933865524828,
          0.9987414479255676,
          0.0003031034430023283,
          0.999392032623291,
          0.00043309811735525727,
          0.0002484045980963856,
          0.9997695088386536,
          0.00023464042169507593,
          0.00029396917670965195,
          0.0002640683378558606,
          0.9994340538978577,
          0.9997557997703552,
          0.9996577501296997,
          0.00024312666209880263,
          0.9997791647911072,
          0.00026295939460396767,
          0.9997902512550354,
          0.00023396132746711373,
          0.0002659101446624845,
          0.001364602241665125,
          0.9997597336769104,
          0.0002382032835157588,
          0.9997420907020569,
          0.00037694411003030837,
          0.0005868274602107704,
          0.9997915625572205,
          0.0014132040087133646,
          0.9918391108512878,
          0.0016207542503252625,
          0.0002756622852757573,
          0.0014764702646061778,
          0.9997356534004211,
          0.09613002091646194,
          0.9995043277740479,
          0.9903457760810852,
          0.9997819066047668,
          0.00025895817088894546,
          0.00022442557383328676,
          0.9997788071632385,
          0.9958541393280029,
          0.9996881484985352,
          0.9997672438621521,
          0.15749375522136688,
          0.9247299432754517,
          0.9997997879981995,
          0.9996647834777832,
          0.001931130071170628,
          0.0004408603999763727,
          0.0007955365581437945,
          0.039329834282398224,
          0.0002566354814916849,
          0.9997132420539856,
          0.9995309114456177,
          0.00022897864982951432,
          0.9996435642242432,
          0.9971491694450378,
          0.00030536495614796877,
          0.0007176176295615733,
          0.00024087172641884536,
          0.0010027919197455049,
          0.0002390861336607486,
          0.00023957673693075776,
          0.9997090697288513,
          0.00022326303587760776,
          0.9995694756507874,
          0.00024075050896499306,
          0.00972145888954401,
          0.9997808337211609,
          0.9997438788414001,
          0.0005071664345450699,
          0.00028658017981797457,
          0.00027986016357317567,
          0.9997311234474182,
          0.9996559619903564,
          0.0002353578747715801,
          0.9978184700012207,
          0.00040389009518548846,
          0.9997826218605042,
          0.0005557772819884121,
          0.9997877478599548,
          0.00030838363454677165,
          0.00026566407177597284,
          0.9997537732124329,
          0.00027729899738915265,
          0.0004075239703524858,
          0.00027099516591988504,
          0.9997742772102356,
          0.012731995433568954,
          0.9888620972633362,
          0.0007608710438944399,
          0.0007453737780451775,
          0.9939898252487183,
          0.9997938275337219,
          0.999715268611908,
          0.00025084405206143856,
          0.0005169042851775885,
          0.9997931122779846,
          0.0002459161332808435,
          0.8592656850814819,
          0.002010002499446273,
          0.00026221858570352197,
          0.9893466830253601,
          0.9970132112503052,
          0.9989038705825806,
          0.00025406357599422336,
          0.9997658133506775,
          0.9997919201850891,
          0.9997933506965637,
          0.0004214840882923454,
          0.0002874881902243942
         ],
         "xbins": {
          "end": 1,
          "size": 0.1,
          "start": 0
         }
        }
       ],
       "layout": {
        "template": {
         "data": {
          "bar": [
           {
            "error_x": {
             "color": "#2a3f5f"
            },
            "error_y": {
             "color": "#2a3f5f"
            },
            "marker": {
             "line": {
              "color": "#E5ECF6",
              "width": 0.5
             },
             "pattern": {
              "fillmode": "overlay",
              "size": 10,
              "solidity": 0.2
             }
            },
            "type": "bar"
           }
          ],
          "barpolar": [
           {
            "marker": {
             "line": {
              "color": "#E5ECF6",
              "width": 0.5
             },
             "pattern": {
              "fillmode": "overlay",
              "size": 10,
              "solidity": 0.2
             }
            },
            "type": "barpolar"
           }
          ],
          "carpet": [
           {
            "aaxis": {
             "endlinecolor": "#2a3f5f",
             "gridcolor": "white",
             "linecolor": "white",
             "minorgridcolor": "white",
             "startlinecolor": "#2a3f5f"
            },
            "baxis": {
             "endlinecolor": "#2a3f5f",
             "gridcolor": "white",
             "linecolor": "white",
             "minorgridcolor": "white",
             "startlinecolor": "#2a3f5f"
            },
            "type": "carpet"
           }
          ],
          "choropleth": [
           {
            "colorbar": {
             "outlinewidth": 0,
             "ticks": ""
            },
            "type": "choropleth"
           }
          ],
          "contour": [
           {
            "colorbar": {
             "outlinewidth": 0,
             "ticks": ""
            },
            "colorscale": [
             [
              0,
              "#0d0887"
             ],
             [
              0.1111111111111111,
              "#46039f"
             ],
             [
              0.2222222222222222,
              "#7201a8"
             ],
             [
              0.3333333333333333,
              "#9c179e"
             ],
             [
              0.4444444444444444,
              "#bd3786"
             ],
             [
              0.5555555555555556,
              "#d8576b"
             ],
             [
              0.6666666666666666,
              "#ed7953"
             ],
             [
              0.7777777777777778,
              "#fb9f3a"
             ],
             [
              0.8888888888888888,
              "#fdca26"
             ],
             [
              1,
              "#f0f921"
             ]
            ],
            "type": "contour"
           }
          ],
          "contourcarpet": [
           {
            "colorbar": {
             "outlinewidth": 0,
             "ticks": ""
            },
            "type": "contourcarpet"
           }
          ],
          "heatmap": [
           {
            "colorbar": {
             "outlinewidth": 0,
             "ticks": ""
            },
            "colorscale": [
             [
              0,
              "#0d0887"
             ],
             [
              0.1111111111111111,
              "#46039f"
             ],
             [
              0.2222222222222222,
              "#7201a8"
             ],
             [
              0.3333333333333333,
              "#9c179e"
             ],
             [
              0.4444444444444444,
              "#bd3786"
             ],
             [
              0.5555555555555556,
              "#d8576b"
             ],
             [
              0.6666666666666666,
              "#ed7953"
             ],
             [
              0.7777777777777778,
              "#fb9f3a"
             ],
             [
              0.8888888888888888,
              "#fdca26"
             ],
             [
              1,
              "#f0f921"
             ]
            ],
            "type": "heatmap"
           }
          ],
          "heatmapgl": [
           {
            "colorbar": {
             "outlinewidth": 0,
             "ticks": ""
            },
            "colorscale": [
             [
              0,
              "#0d0887"
             ],
             [
              0.1111111111111111,
              "#46039f"
             ],
             [
              0.2222222222222222,
              "#7201a8"
             ],
             [
              0.3333333333333333,
              "#9c179e"
             ],
             [
              0.4444444444444444,
              "#bd3786"
             ],
             [
              0.5555555555555556,
              "#d8576b"
             ],
             [
              0.6666666666666666,
              "#ed7953"
             ],
             [
              0.7777777777777778,
              "#fb9f3a"
             ],
             [
              0.8888888888888888,
              "#fdca26"
             ],
             [
              1,
              "#f0f921"
             ]
            ],
            "type": "heatmapgl"
           }
          ],
          "histogram": [
           {
            "marker": {
             "pattern": {
              "fillmode": "overlay",
              "size": 10,
              "solidity": 0.2
             }
            },
            "type": "histogram"
           }
          ],
          "histogram2d": [
           {
            "colorbar": {
             "outlinewidth": 0,
             "ticks": ""
            },
            "colorscale": [
             [
              0,
              "#0d0887"
             ],
             [
              0.1111111111111111,
              "#46039f"
             ],
             [
              0.2222222222222222,
              "#7201a8"
             ],
             [
              0.3333333333333333,
              "#9c179e"
             ],
             [
              0.4444444444444444,
              "#bd3786"
             ],
             [
              0.5555555555555556,
              "#d8576b"
             ],
             [
              0.6666666666666666,
              "#ed7953"
             ],
             [
              0.7777777777777778,
              "#fb9f3a"
             ],
             [
              0.8888888888888888,
              "#fdca26"
             ],
             [
              1,
              "#f0f921"
             ]
            ],
            "type": "histogram2d"
           }
          ],
          "histogram2dcontour": [
           {
            "colorbar": {
             "outlinewidth": 0,
             "ticks": ""
            },
            "colorscale": [
             [
              0,
              "#0d0887"
             ],
             [
              0.1111111111111111,
              "#46039f"
             ],
             [
              0.2222222222222222,
              "#7201a8"
             ],
             [
              0.3333333333333333,
              "#9c179e"
             ],
             [
              0.4444444444444444,
              "#bd3786"
             ],
             [
              0.5555555555555556,
              "#d8576b"
             ],
             [
              0.6666666666666666,
              "#ed7953"
             ],
             [
              0.7777777777777778,
              "#fb9f3a"
             ],
             [
              0.8888888888888888,
              "#fdca26"
             ],
             [
              1,
              "#f0f921"
             ]
            ],
            "type": "histogram2dcontour"
           }
          ],
          "mesh3d": [
           {
            "colorbar": {
             "outlinewidth": 0,
             "ticks": ""
            },
            "type": "mesh3d"
           }
          ],
          "parcoords": [
           {
            "line": {
             "colorbar": {
              "outlinewidth": 0,
              "ticks": ""
             }
            },
            "type": "parcoords"
           }
          ],
          "pie": [
           {
            "automargin": true,
            "type": "pie"
           }
          ],
          "scatter": [
           {
            "marker": {
             "colorbar": {
              "outlinewidth": 0,
              "ticks": ""
             }
            },
            "type": "scatter"
           }
          ],
          "scatter3d": [
           {
            "line": {
             "colorbar": {
              "outlinewidth": 0,
              "ticks": ""
             }
            },
            "marker": {
             "colorbar": {
              "outlinewidth": 0,
              "ticks": ""
             }
            },
            "type": "scatter3d"
           }
          ],
          "scattercarpet": [
           {
            "marker": {
             "colorbar": {
              "outlinewidth": 0,
              "ticks": ""
             }
            },
            "type": "scattercarpet"
           }
          ],
          "scattergeo": [
           {
            "marker": {
             "colorbar": {
              "outlinewidth": 0,
              "ticks": ""
             }
            },
            "type": "scattergeo"
           }
          ],
          "scattergl": [
           {
            "marker": {
             "colorbar": {
              "outlinewidth": 0,
              "ticks": ""
             }
            },
            "type": "scattergl"
           }
          ],
          "scattermapbox": [
           {
            "marker": {
             "colorbar": {
              "outlinewidth": 0,
              "ticks": ""
             }
            },
            "type": "scattermapbox"
           }
          ],
          "scatterpolar": [
           {
            "marker": {
             "colorbar": {
              "outlinewidth": 0,
              "ticks": ""
             }
            },
            "type": "scatterpolar"
           }
          ],
          "scatterpolargl": [
           {
            "marker": {
             "colorbar": {
              "outlinewidth": 0,
              "ticks": ""
             }
            },
            "type": "scatterpolargl"
           }
          ],
          "scatterternary": [
           {
            "marker": {
             "colorbar": {
              "outlinewidth": 0,
              "ticks": ""
             }
            },
            "type": "scatterternary"
           }
          ],
          "surface": [
           {
            "colorbar": {
             "outlinewidth": 0,
             "ticks": ""
            },
            "colorscale": [
             [
              0,
              "#0d0887"
             ],
             [
              0.1111111111111111,
              "#46039f"
             ],
             [
              0.2222222222222222,
              "#7201a8"
             ],
             [
              0.3333333333333333,
              "#9c179e"
             ],
             [
              0.4444444444444444,
              "#bd3786"
             ],
             [
              0.5555555555555556,
              "#d8576b"
             ],
             [
              0.6666666666666666,
              "#ed7953"
             ],
             [
              0.7777777777777778,
              "#fb9f3a"
             ],
             [
              0.8888888888888888,
              "#fdca26"
             ],
             [
              1,
              "#f0f921"
             ]
            ],
            "type": "surface"
           }
          ],
          "table": [
           {
            "cells": {
             "fill": {
              "color": "#EBF0F8"
             },
             "line": {
              "color": "white"
             }
            },
            "header": {
             "fill": {
              "color": "#C8D4E3"
             },
             "line": {
              "color": "white"
             }
            },
            "type": "table"
           }
          ]
         },
         "layout": {
          "annotationdefaults": {
           "arrowcolor": "#2a3f5f",
           "arrowhead": 0,
           "arrowwidth": 1
          },
          "autotypenumbers": "strict",
          "coloraxis": {
           "colorbar": {
            "outlinewidth": 0,
            "ticks": ""
           }
          },
          "colorscale": {
           "diverging": [
            [
             0,
             "#8e0152"
            ],
            [
             0.1,
             "#c51b7d"
            ],
            [
             0.2,
             "#de77ae"
            ],
            [
             0.3,
             "#f1b6da"
            ],
            [
             0.4,
             "#fde0ef"
            ],
            [
             0.5,
             "#f7f7f7"
            ],
            [
             0.6,
             "#e6f5d0"
            ],
            [
             0.7,
             "#b8e186"
            ],
            [
             0.8,
             "#7fbc41"
            ],
            [
             0.9,
             "#4d9221"
            ],
            [
             1,
             "#276419"
            ]
           ],
           "sequential": [
            [
             0,
             "#0d0887"
            ],
            [
             0.1111111111111111,
             "#46039f"
            ],
            [
             0.2222222222222222,
             "#7201a8"
            ],
            [
             0.3333333333333333,
             "#9c179e"
            ],
            [
             0.4444444444444444,
             "#bd3786"
            ],
            [
             0.5555555555555556,
             "#d8576b"
            ],
            [
             0.6666666666666666,
             "#ed7953"
            ],
            [
             0.7777777777777778,
             "#fb9f3a"
            ],
            [
             0.8888888888888888,
             "#fdca26"
            ],
            [
             1,
             "#f0f921"
            ]
           ],
           "sequentialminus": [
            [
             0,
             "#0d0887"
            ],
            [
             0.1111111111111111,
             "#46039f"
            ],
            [
             0.2222222222222222,
             "#7201a8"
            ],
            [
             0.3333333333333333,
             "#9c179e"
            ],
            [
             0.4444444444444444,
             "#bd3786"
            ],
            [
             0.5555555555555556,
             "#d8576b"
            ],
            [
             0.6666666666666666,
             "#ed7953"
            ],
            [
             0.7777777777777778,
             "#fb9f3a"
            ],
            [
             0.8888888888888888,
             "#fdca26"
            ],
            [
             1,
             "#f0f921"
            ]
           ]
          },
          "colorway": [
           "#636efa",
           "#EF553B",
           "#00cc96",
           "#ab63fa",
           "#FFA15A",
           "#19d3f3",
           "#FF6692",
           "#B6E880",
           "#FF97FF",
           "#FECB52"
          ],
          "font": {
           "color": "#2a3f5f"
          },
          "geo": {
           "bgcolor": "white",
           "lakecolor": "white",
           "landcolor": "#E5ECF6",
           "showlakes": true,
           "showland": true,
           "subunitcolor": "white"
          },
          "hoverlabel": {
           "align": "left"
          },
          "hovermode": "closest",
          "mapbox": {
           "style": "light"
          },
          "paper_bgcolor": "white",
          "plot_bgcolor": "#E5ECF6",
          "polar": {
           "angularaxis": {
            "gridcolor": "white",
            "linecolor": "white",
            "ticks": ""
           },
           "bgcolor": "#E5ECF6",
           "radialaxis": {
            "gridcolor": "white",
            "linecolor": "white",
            "ticks": ""
           }
          },
          "scene": {
           "xaxis": {
            "backgroundcolor": "#E5ECF6",
            "gridcolor": "white",
            "gridwidth": 2,
            "linecolor": "white",
            "showbackground": true,
            "ticks": "",
            "zerolinecolor": "white"
           },
           "yaxis": {
            "backgroundcolor": "#E5ECF6",
            "gridcolor": "white",
            "gridwidth": 2,
            "linecolor": "white",
            "showbackground": true,
            "ticks": "",
            "zerolinecolor": "white"
           },
           "zaxis": {
            "backgroundcolor": "#E5ECF6",
            "gridcolor": "white",
            "gridwidth": 2,
            "linecolor": "white",
            "showbackground": true,
            "ticks": "",
            "zerolinecolor": "white"
           }
          },
          "shapedefaults": {
           "line": {
            "color": "#2a3f5f"
           }
          },
          "ternary": {
           "aaxis": {
            "gridcolor": "white",
            "linecolor": "white",
            "ticks": ""
           },
           "baxis": {
            "gridcolor": "white",
            "linecolor": "white",
            "ticks": ""
           },
           "bgcolor": "#E5ECF6",
           "caxis": {
            "gridcolor": "white",
            "linecolor": "white",
            "ticks": ""
           }
          },
          "title": {
           "x": 0.05
          },
          "xaxis": {
           "automargin": true,
           "gridcolor": "white",
           "linecolor": "white",
           "ticks": "",
           "title": {
            "standoff": 15
           },
           "zerolinecolor": "white",
           "zerolinewidth": 2
          },
          "yaxis": {
           "automargin": true,
           "gridcolor": "white",
           "linecolor": "white",
           "ticks": "",
           "title": {
            "standoff": 15
           },
           "zerolinecolor": "white",
           "zerolinewidth": 2
          }
         }
        },
        "title": {
         "text": "Feel-it model's confidence distribution for neutral tweets in Sentipolc16"
        },
        "xaxis": {
         "title": {
          "text": "confidence"
         }
        },
        "yaxis": {
         "title": {
          "text": "normalized count"
         }
        }
       }
      },
      "text/html": [
       "<div>                            <div id=\"7b5784cb-eef0-4da4-8c77-5e5b44d89be9\" class=\"plotly-graph-div\" style=\"height:525px; width:100%;\"></div>            <script type=\"text/javascript\">                require([\"plotly\"], function(Plotly) {                    window.PLOTLYENV=window.PLOTLYENV || {};                                    if (document.getElementById(\"7b5784cb-eef0-4da4-8c77-5e5b44d89be9\")) {                    Plotly.newPlot(                        \"7b5784cb-eef0-4da4-8c77-5e5b44d89be9\",                        [{\"histnorm\":\"probability\",\"type\":\"histogram\",\"x\":[0.00026591852656565607,0.9997337460517883,0.9996386766433716,0.0008150215144269168,0.00023115353542380035,0.9995711445808411,0.00029005325632169843,0.0020688665099442005,0.9997840523719788,0.00034527856041677296,0.9997674822807312,0.0006139889592304826,0.9996415376663208,0.9997569918632507,0.9997506737709045,0.00030467138276435435,0.9997774958610535,0.0002931050257757306,0.9997929930686951,0.0002502435236237943,0.00033365291892550886,0.0003313301131129265,0.9997846484184265,0.9996823072433472,0.0002834336191881448,0.006496699992567301,0.0003014314570464194,0.00041193445213139057,0.9997066855430603,0.00023025411064736545,0.9986717700958252,0.0002582916640676558,0.9997487664222717,0.9997430443763733,0.0003283553814981133,0.00021529894729610533,0.9997746348381042,0.999744713306427,0.0005705858930014074,0.36482155323028564,0.9791279435157776,0.9995204210281372,0.9997548460960388,0.0002880569372791797,0.0986374020576477,0.9997826218605042,0.00045928815961815417,0.9997814297676086,0.0005754039157181978,0.00031291935010813177,0.0002289229742018506,0.000999209936708212,0.0002457255613990128,0.802734375,0.9996649026870728,0.999714195728302,0.9997515082359314,0.0009586475207470357,0.044323284178972244,0.03972925990819931,0.00023147270258050412,0.9997366070747375,0.0005457682418636978,0.0002400198281975463,0.006736127194017172,0.00048263874487020075,0.0002943683066405356,0.00027823381242342293,0.0007492033182643354,0.05298115313053131,0.33638352155685425,0.0004599234671331942,0.0002466962323524058,0.9997493624687195,0.10767768323421478,0.9997844099998474,0.9994118213653564,0.00026186753530055285,0.0023122248239815235,0.0023699200246483088,0.00023694297124166042,0.0002648381341714412,0.0002501523995306343,0.9997813105583191,0.00028735006344504654,0.00845151487737894,0.0003254162729717791,0.001599904615432024,0.9992226362228394,0.0006937247817404568,0.0003753245691768825,0.9039345979690552,0.0006510252133011818,0.99973064661026,0.00036417352384887636,0.9997486472129822,0.0002496206434443593,0.9997376799583435,0.0003701726673170924,0.00039362438837997615,0.0002276464074384421,0.00038384960498660803,0.0003397786058485508,0.9997751116752625,0.0002816030755639076,0.9997795224189758,0.9997231364250183,0.9992128610610962,0.03074614889919758,0.009438750334084034,0.0006057796999812126,0.0002794154279399663,0.0003310294996481389,0.9996919631958008,0.0004339046136010438,0.999782145023346,0.6759579181671143,0.0003093739796895534,0.9891854524612427,0.0014241181779652834,0.9992185831069946,0.9997923970222473,0.00040977209573611617,0.9997977614402771,0.00029521118267439306,0.9768787026405334,0.00025488901883363724,0.0002320441126357764,0.99978107213974,0.0009163394570350647,0.1496933400630951,0.9997298121452332,0.00032643642043694854,0.0002374871401116252,0.00037638662615790963,0.9997740387916565,0.0002760962815955281,0.00026312589761801064,0.00023155876260716468,0.0006593553116545081,0.9216389060020447,0.9997581839561462,0.9986388087272644,0.999739944934845,0.02075931802392006,0.0003736835496965796,0.9029531478881836,0.9997016787528992,0.9996284246444702,0.9995067119598389,0.0005050647305324674,0.00028220730018801987,0.00025030653341673315,0.00028263998683542013,0.9997684359550476,0.9997898936271667,0.9997835755348206,0.9997422099113464,0.9997783303260803,0.9997511506080627,0.1656743288040161,0.00036247927346266806,0.999716579914093,0.000710069143678993,0.000791338155977428,0.0030133461114019156,0.0002580897998996079,0.013755976222455502,0.9997708201408386,0.9997867941856384,0.00032099371310323477,0.999747097492218,0.0003043531905859709,0.9887378215789795,0.00035558996023610234,0.9982119798660278,0.9997734427452087,0.008427365683019161,0.9997419714927673,0.9997511506080627,0.00024835675139911473,0.00024852374917827547,0.0004234451334923506,0.9997203946113586,0.9996598958969116,0.9997296929359436,0.999786913394928,0.9997840523719788,0.9950140118598938,0.9997928738594055,0.00025093567091971636,0.0003676626365631819,0.8136981725692749,0.9996637105941772,0.00038484178367070854,0.0002481058472767472,0.999763548374176,0.0002319410559721291,0.999750554561615,0.00024382563424296677,0.0003268680302426219,0.00023198395501822233,0.0008064654539339244,0.0002685747167561203,0.0002681863261386752,0.00023981351114343852,0.21262143552303314,0.00022837426513433456,0.0002400143421255052,0.9997797608375549,0.9996546506881714,0.0002381830709055066,0.9990448355674744,0.2773560583591461,0.12565922737121582,0.00039000986726023257,0.999792754650116,0.0002231272665085271,0.9997935891151428,0.9948474168777466,0.0003569522814359516,0.25833603739738464,0.00025126701802946627,0.0002996354887727648,0.00022418027219828218,0.8062973022460938,0.0002390788431512192,0.9997645020484924,0.00024021441640798002,0.00023118109675124288,0.9997584223747253,0.34981322288513184,0.00039026312879286706,0.0002812411403283477,0.0028797730337828398,0.00023234388208948076,0.9997614026069641,0.00180585659109056,0.9981202483177185,0.0002218197623733431,0.00030126995989121497,0.001593718770891428,0.0017547730822116137,0.0003048483340535313,0.0005975770764052868,0.0005160122527740896,0.9990841150283813,0.02929694391787052,0.9991663694381714,0.9997768998146057,0.9996935129165649,0.9997788071632385,0.0005545216845348477,0.0002556630061008036,0.9992989301681519,0.00029758427990600467,0.009092935360968113,0.9021995663642883,0.9997522234916687,0.21815504133701324,0.0012962702894583344,0.0006076327408663929,0.546577513217926,0.0006082924082875252,0.0005474946810863912,0.9996520280838013,0.00041720361332409084,0.9997798800468445,0.9996956586837769,0.012758731842041016,0.00036978963180445135,0.9983526468276978,0.9975676536560059,0.00041816558223217726,0.9991461038589478,0.9991515874862671,0.00048560003051534295,0.09274137765169144,0.0003636195615399629,0.0003555706061888486,0.0010910461423918605,0.008245280012488365,0.0002335694880457595,0.00046912944526411593,0.9997897744178772,0.00022069786791689694,0.9995348453521729,0.9997784495353699,0.000703721190802753,0.9997696280479431,0.9994966983795166,0.00023649813374504447,0.8595035672187805,0.00032732204999774694,0.0003369582409504801,0.6604002714157104,0.0013033491559326649,0.9997500777244568,0.25307154655456543,0.0006557519664056599,0.9997308850288391,0.9995569586753845,0.00033137400168925524,0.9994669556617737,0.000281379820080474,0.0009153450955636799,0.9997202754020691,0.00029400564380921423,0.9997418522834778,0.9996659755706787,0.029812097549438477,0.00025395702687092125,0.0009943840559571981,0.9997579455375671,0.9991171956062317,0.0002858450170606375,0.0007069642306305468,0.0343567430973053,0.00023139017866924405,0.00035241793375462294,0.0007542467792518437,0.0006807638565078378,0.0007241967832669616,0.0002486799203325063,0.9997077584266663,0.1345227062702179,0.00028556367033161223,0.0004751585656777024,0.9997500777244568,0.9997298121452332,0.00044504483230412006,0.0005881240358576179,0.7758898735046387,0.0002537457621656358,0.00026124060968868434,0.0004234909429214895,0.9997095465660095,0.0003084483614657074,0.9988441467285156,0.9997515082359314,0.9996020197868347,0.0004347249632701278,0.9989466071128845,0.9981970191001892,0.00024820261751301587,0.9903331398963928,0.998863935470581,0.9997740387916565,0.9997146725654602,0.0013136218767613173,0.9997541308403015,0.03597872704267502,0.9997842907905579,0.0006477052811533213,0.9997884631156921,0.0003629130660556257,0.9973359704017639,0.0002675203140825033,0.9196240305900574,0.00022609287407249212,0.0008531135390512645,0.0003464471083134413,0.994831919670105,0.9891854524612427,0.9997360110282898,0.999129593372345,0.0005646427161991596,0.12868690490722656,0.0002447358565405011,0.00026221908046863973,0.9997782111167908,0.0002557112311478704,0.6450709104537964,0.000757200934458524,0.00025546731194481254,0.0006007453775964677,0.06483764201402664,0.0022496103774756193,0.00025046695373021066,0.0007002998609095812,0.00028717477107420564,0.9970921277999878,0.9997060894966125,0.9997177720069885,0.00105790956877172,0.9997544884681702,0.999713122844696,0.9997172951698303,0.010167790576815605,0.00034393780515529215,0.9993359446525574,0.0003598156908992678,0.0003183129010722041,0.002732114167883992,0.0004222037096042186,0.9997677206993103,0.005717101972550154,0.9997639060020447,0.999745786190033,0.00035295472480356693,0.9229875206947327,0.000288173119770363,0.00026672673993743956,0.9997428059577942,0.9996479749679565,0.0002631750830914825,0.0003088653029408306,0.27977368235588074,0.00028763565933331847,0.9986494183540344,0.0003344854630995542,0.9997814297676086,0.15910907089710236,0.00023781707568559796,0.0003348945756442845,0.9997895359992981,0.0005854802438989282,0.00035980987013317645,0.0008701891638338566,0.9997089505195618,0.002321456791833043,0.9996269941329956,0.5954347252845764,0.001835705479606986,0.0002893886703532189,0.9997863173484802,0.029080254957079887,0.00026703104958869517,0.0006890613585710526,0.0003184698289260268,0.00042535323882475495,0.946647047996521,0.0003137755556963384,0.007317889481782913,0.04084610566496849,0.00028852722607553005,0.9997249245643616,0.00027076530386693776,0.0002288027317263186,0.00026403108495287597,0.0021907154005020857,0.0002415492490399629,0.00022379585425369442,0.999649167060852,0.9989399313926697,0.9997422099113464,0.9980073571205139,0.9997768998146057,0.9997498393058777,0.00031739077530801296,0.0005225402419455349,0.0005605269689112902,0.9996869564056396,0.9995808005332947,0.9997722506523132,0.9997619986534119,0.9997445940971375,0.0002721050404943526,0.0003423716116230935,0.0011617490090429783,0.00027492790832184255,0.00023693597177043557,0.9997698664665222,0.006063499487936497,0.0009746560826897621,0.9997114539146423,0.00025267121964134276,0.9997801184654236,0.42954638600349426,0.0019716243259608746,0.9991794228553772,0.0002668518864084035,0.999777615070343,0.0004547920834738761,0.8444923758506775,0.999788224697113,0.9997677206993103,0.999774158000946,0.0002734529844019562,0.9954083561897278,0.0002552501391619444,0.1924581229686737,0.00025273984647355974,0.0002492182538844645,0.0003905495395883918,0.0003241393715143204,0.00028206227580085397,0.0006316918297670782,0.0007164624985307455,0.9818688035011292,0.9996904134750366,0.0002593708341009915,0.00041400245390832424,0.0009427817421965301,0.00032569034374319017,0.9997590184211731,0.9997629523277283,0.0009978532325476408,0.9997965693473816,0.9997977614402771,0.0002863589324988425,0.9754246473312378,0.00030272454023361206,0.9931439161300659,0.034164994955062866,0.3780319094657898,0.00024568787193857133,0.9997264742851257,0.9997335076332092,0.002500097965821624,0.0004973523318767548,0.00046444186591543257,0.0002232588012702763,0.9986265897750854,0.999790370464325,0.010164542123675346,0.0002735680027399212,0.9997864365577698,0.9987611770629883,0.00022702928981743753,0.9995676875114441,0.9996851682662964,0.04339372366666794,0.00021839840337634087,0.039758432656526566,0.008324709720909595,0.0006096610450185835,0.03535164147615433,0.00026900682132691145,0.000275145546765998,0.9970676302909851,0.0005292173591442406,0.0064429850317537785,0.00023368174151983112,0.0003684939001686871,0.01250943448394537,0.000961124140303582,0.0004369720700196922,0.998828113079071,0.7152819633483887,0.00043526568333618343,0.9978364109992981,0.000338744226610288,0.0002831141173373908,0.00124627526383847,0.000744545366615057,0.00038638158002868295,0.002171797677874565,0.00026619090931490064,0.0003178058541379869,0.0002921500417869538,0.9996870756149292,0.37811344861984253,0.9997853636741638,0.0005097436369396746,0.0003983885399065912,0.0038113316986709833,0.00030790947494097054,0.9915134310722351,0.6066467761993408,0.0009644897072575986,0.0005137171829119325,0.9997215867042542,0.0005265732179395854,0.998621940612793,0.00029586456366814673,0.11873795837163925,0.00029575935332104564,0.9959308505058289,0.15404778718948364,0.0003998529864475131,0.9996078610420227,0.9997474551200867,0.9997939467430115,0.0021120551973581314,0.0018505440093576908,0.9643074870109558,0.0002591038937680423,0.0009382670978084207,0.9996013045310974,0.0002839180233422667,0.0004434384172782302,0.4533819556236267,0.9993019104003906,0.0002586230984888971,0.0002539216948207468,0.0002496772794984281,0.0002549653290770948,0.0002708701358642429,0.00026262487517669797,0.0008120086858980358,0.0025472415145486593,0.009638211689889431,0.00038431023131124675,0.5514964461326599,0.0002752909203991294,0.9991397857666016,0.9997847676277161,0.9997865557670593,0.0011043039849027991,0.9988434314727783,0.0003325995057821274,0.18934623897075653,0.0012255983892828226,0.5762784481048584,0.0012209371197968721,0.00025875409482978284,0.9997329115867615,0.0014082444831728935,0.0008682812913320959,0.0010833466658368707,0.0004115498159080744,0.9955456256866455,0.9997768998146057,0.0002470853505656123,0.0005241555045358837,0.00024126800417434424,0.00038013505400158465,0.00022302390425466,0.00030185215291567147,0.9997730851173401,0.0003040486772079021,0.2825581729412079,0.9988757967948914,0.00025007323711179197,0.0012211244320496917,0.0003727936709765345,0.9989860653877258,0.0002533321385271847,0.00032897701021283865,0.0007778435829095542,0.0005598747520707548,0.0003322553529869765,0.9990832805633545,0.0005740391789004207,0.00048803247045725584,0.9965996146202087,0.9997739195823669,0.0014323366340249777,0.00024315172049682587,0.00027876245439983904,0.00045300688361749053,0.9997856020927429,0.9997695088386536,0.0003039901203010231,0.0003230213769711554,0.00024834441137500107,0.001374419080093503,0.9997902512550354,0.00029175475356169045,0.00028042664052918553,0.9996330738067627,0.0006267856224440038,0.05001778528094292,0.006649347022175789,0.0005323371151462197,0.0003685134288389236,0.0004109519359190017,0.00045293435687199235,0.0003005117760039866,0.00027015493833459914,0.02837442420423031,0.00027874225634150207,0.738938570022583,0.06843078881502151,0.9997603297233582,0.0002868247975129634,0.12033393979072571,0.0008819489157758653,0.9996936321258545,0.9996813535690308,0.006206698250025511,0.9070708155632019,0.00034266887814737856,0.9997684359550476,0.002709773136302829,0.0003490844974294305,0.00043837452540174127,0.0003205123939551413,0.0004238081455696374,0.0002457759401295334,0.9997852444648743,0.008592420257627964,0.0007224917062558234,0.9994454979896545,0.0031187720596790314,0.9987123012542725,0.00022674957290291786,0.999729573726654,0.9996070265769958,0.9997780919075012,0.0004844312206842005,0.00028482842026278377,0.00026240211445838213,0.9997851252555847,0.9997817873954773,0.9942834973335266,0.010539384558796883,0.00023784222139511257,0.2746044099330902,0.9997068047523499,0.00023711970425210893,0.9997910857200623,0.997904896736145,0.00023539469111710787,0.9997861981391907,0.002584820380434394,0.9997890591621399,0.9997466206550598,0.0002846617135219276,0.0047798859886825085,0.0012882811715826392,0.9997418522834778,0.9997392296791077,0.00023306184448301792,0.0005551361828111112,0.999748170375824,0.00033437227830290794,0.999667763710022,0.0004890434793196619,0.000241085872403346,0.00023828963458072394,0.00027218885952606797,0.9997313618659973,0.0003868865023832768,0.9997785687446594,0.007116477470844984,0.9997864365577698,0.00041410073754377663,0.0003356011875439435,0.814846396446228,0.9997949004173279,0.00026703765615820885,0.06755650788545609,0.9997277855873108,0.9997640252113342,0.0003552353591658175,0.9997896552085876,0.00023664945911150426,0.9997667670249939,0.9377809166908264,0.999763548374176,0.00030670035630464554,0.9990423321723938,0.9997710585594177,0.00025146405096165836,0.0007332669920288026,0.9997557997703552,0.000294677447527647,0.9997813105583191,0.00027496411348693073,0.999764621257782,0.0005022768164053559,0.9992164373397827,0.002208727179095149,0.9996829032897949,0.00024205876979976892,0.9997560381889343,0.00026703765615820885,0.999765932559967,0.9669976830482483,0.999782145023346,0.9996097683906555,0.9997994303703308,0.00023472189786843956,0.00025084405206143856,0.9996145963668823,0.999768078327179,0.9997246861457825,0.9670166373252869,0.0002470705076120794,0.001786468317732215,0.00022681055997963995,0.00022958245244808495,0.00023621440050192177,0.0002916691009886563,0.0014287178637459874,0.9996726512908936,0.00029038276989012957,0.9997852444648743,0.0002186778001487255,0.999790370464325,0.996306300163269,0.00032956028007902205,0.9997699856758118,0.00022741645807400346,0.9997324347496033,0.9997332692146301,0.9997791647911072,0.00023040917585603893,0.00038238029810599983,0.002624554792419076,0.0004125648410990834,0.0007054283632896841,0.0003740292740985751,0.003344562603160739,0.9997828602790833,0.0002382032835157588,0.8914404511451721,0.05033401772379875,0.0002631921670399606,0.00023652991512790322,0.9997826218605042,0.0017286406364291906,0.0004997933865524828,0.9987414479255676,0.0003031034430023283,0.999392032623291,0.00043309811735525727,0.0002484045980963856,0.9997695088386536,0.00023464042169507593,0.00029396917670965195,0.0002640683378558606,0.9994340538978577,0.9997557997703552,0.9996577501296997,0.00024312666209880263,0.9997791647911072,0.00026295939460396767,0.9997902512550354,0.00023396132746711373,0.0002659101446624845,0.001364602241665125,0.9997597336769104,0.0002382032835157588,0.9997420907020569,0.00037694411003030837,0.0005868274602107704,0.9997915625572205,0.0014132040087133646,0.9918391108512878,0.0016207542503252625,0.0002756622852757573,0.0014764702646061778,0.9997356534004211,0.09613002091646194,0.9995043277740479,0.9903457760810852,0.9997819066047668,0.00025895817088894546,0.00022442557383328676,0.9997788071632385,0.9958541393280029,0.9996881484985352,0.9997672438621521,0.15749375522136688,0.9247299432754517,0.9997997879981995,0.9996647834777832,0.001931130071170628,0.0004408603999763727,0.0007955365581437945,0.039329834282398224,0.0002566354814916849,0.9997132420539856,0.9995309114456177,0.00022897864982951432,0.9996435642242432,0.9971491694450378,0.00030536495614796877,0.0007176176295615733,0.00024087172641884536,0.0010027919197455049,0.0002390861336607486,0.00023957673693075776,0.9997090697288513,0.00022326303587760776,0.9995694756507874,0.00024075050896499306,0.00972145888954401,0.9997808337211609,0.9997438788414001,0.0005071664345450699,0.00028658017981797457,0.00027986016357317567,0.9997311234474182,0.9996559619903564,0.0002353578747715801,0.9978184700012207,0.00040389009518548846,0.9997826218605042,0.0005557772819884121,0.9997877478599548,0.00030838363454677165,0.00026566407177597284,0.9997537732124329,0.00027729899738915265,0.0004075239703524858,0.00027099516591988504,0.9997742772102356,0.012731995433568954,0.9888620972633362,0.0007608710438944399,0.0007453737780451775,0.9939898252487183,0.9997938275337219,0.999715268611908,0.00025084405206143856,0.0005169042851775885,0.9997931122779846,0.0002459161332808435,0.8592656850814819,0.002010002499446273,0.00026221858570352197,0.9893466830253601,0.9970132112503052,0.9989038705825806,0.00025406357599422336,0.9997658133506775,0.9997919201850891,0.9997933506965637,0.0004214840882923454,0.0002874881902243942],\"xbins\":{\"end\":1.0,\"size\":0.1,\"start\":0.0}}],                        {\"template\":{\"data\":{\"bar\":[{\"error_x\":{\"color\":\"#2a3f5f\"},\"error_y\":{\"color\":\"#2a3f5f\"},\"marker\":{\"line\":{\"color\":\"#E5ECF6\",\"width\":0.5},\"pattern\":{\"fillmode\":\"overlay\",\"size\":10,\"solidity\":0.2}},\"type\":\"bar\"}],\"barpolar\":[{\"marker\":{\"line\":{\"color\":\"#E5ECF6\",\"width\":0.5},\"pattern\":{\"fillmode\":\"overlay\",\"size\":10,\"solidity\":0.2}},\"type\":\"barpolar\"}],\"carpet\":[{\"aaxis\":{\"endlinecolor\":\"#2a3f5f\",\"gridcolor\":\"white\",\"linecolor\":\"white\",\"minorgridcolor\":\"white\",\"startlinecolor\":\"#2a3f5f\"},\"baxis\":{\"endlinecolor\":\"#2a3f5f\",\"gridcolor\":\"white\",\"linecolor\":\"white\",\"minorgridcolor\":\"white\",\"startlinecolor\":\"#2a3f5f\"},\"type\":\"carpet\"}],\"choropleth\":[{\"colorbar\":{\"outlinewidth\":0,\"ticks\":\"\"},\"type\":\"choropleth\"}],\"contour\":[{\"colorbar\":{\"outlinewidth\":0,\"ticks\":\"\"},\"colorscale\":[[0.0,\"#0d0887\"],[0.1111111111111111,\"#46039f\"],[0.2222222222222222,\"#7201a8\"],[0.3333333333333333,\"#9c179e\"],[0.4444444444444444,\"#bd3786\"],[0.5555555555555556,\"#d8576b\"],[0.6666666666666666,\"#ed7953\"],[0.7777777777777778,\"#fb9f3a\"],[0.8888888888888888,\"#fdca26\"],[1.0,\"#f0f921\"]],\"type\":\"contour\"}],\"contourcarpet\":[{\"colorbar\":{\"outlinewidth\":0,\"ticks\":\"\"},\"type\":\"contourcarpet\"}],\"heatmap\":[{\"colorbar\":{\"outlinewidth\":0,\"ticks\":\"\"},\"colorscale\":[[0.0,\"#0d0887\"],[0.1111111111111111,\"#46039f\"],[0.2222222222222222,\"#7201a8\"],[0.3333333333333333,\"#9c179e\"],[0.4444444444444444,\"#bd3786\"],[0.5555555555555556,\"#d8576b\"],[0.6666666666666666,\"#ed7953\"],[0.7777777777777778,\"#fb9f3a\"],[0.8888888888888888,\"#fdca26\"],[1.0,\"#f0f921\"]],\"type\":\"heatmap\"}],\"heatmapgl\":[{\"colorbar\":{\"outlinewidth\":0,\"ticks\":\"\"},\"colorscale\":[[0.0,\"#0d0887\"],[0.1111111111111111,\"#46039f\"],[0.2222222222222222,\"#7201a8\"],[0.3333333333333333,\"#9c179e\"],[0.4444444444444444,\"#bd3786\"],[0.5555555555555556,\"#d8576b\"],[0.6666666666666666,\"#ed7953\"],[0.7777777777777778,\"#fb9f3a\"],[0.8888888888888888,\"#fdca26\"],[1.0,\"#f0f921\"]],\"type\":\"heatmapgl\"}],\"histogram\":[{\"marker\":{\"pattern\":{\"fillmode\":\"overlay\",\"size\":10,\"solidity\":0.2}},\"type\":\"histogram\"}],\"histogram2d\":[{\"colorbar\":{\"outlinewidth\":0,\"ticks\":\"\"},\"colorscale\":[[0.0,\"#0d0887\"],[0.1111111111111111,\"#46039f\"],[0.2222222222222222,\"#7201a8\"],[0.3333333333333333,\"#9c179e\"],[0.4444444444444444,\"#bd3786\"],[0.5555555555555556,\"#d8576b\"],[0.6666666666666666,\"#ed7953\"],[0.7777777777777778,\"#fb9f3a\"],[0.8888888888888888,\"#fdca26\"],[1.0,\"#f0f921\"]],\"type\":\"histogram2d\"}],\"histogram2dcontour\":[{\"colorbar\":{\"outlinewidth\":0,\"ticks\":\"\"},\"colorscale\":[[0.0,\"#0d0887\"],[0.1111111111111111,\"#46039f\"],[0.2222222222222222,\"#7201a8\"],[0.3333333333333333,\"#9c179e\"],[0.4444444444444444,\"#bd3786\"],[0.5555555555555556,\"#d8576b\"],[0.6666666666666666,\"#ed7953\"],[0.7777777777777778,\"#fb9f3a\"],[0.8888888888888888,\"#fdca26\"],[1.0,\"#f0f921\"]],\"type\":\"histogram2dcontour\"}],\"mesh3d\":[{\"colorbar\":{\"outlinewidth\":0,\"ticks\":\"\"},\"type\":\"mesh3d\"}],\"parcoords\":[{\"line\":{\"colorbar\":{\"outlinewidth\":0,\"ticks\":\"\"}},\"type\":\"parcoords\"}],\"pie\":[{\"automargin\":true,\"type\":\"pie\"}],\"scatter\":[{\"marker\":{\"colorbar\":{\"outlinewidth\":0,\"ticks\":\"\"}},\"type\":\"scatter\"}],\"scatter3d\":[{\"line\":{\"colorbar\":{\"outlinewidth\":0,\"ticks\":\"\"}},\"marker\":{\"colorbar\":{\"outlinewidth\":0,\"ticks\":\"\"}},\"type\":\"scatter3d\"}],\"scattercarpet\":[{\"marker\":{\"colorbar\":{\"outlinewidth\":0,\"ticks\":\"\"}},\"type\":\"scattercarpet\"}],\"scattergeo\":[{\"marker\":{\"colorbar\":{\"outlinewidth\":0,\"ticks\":\"\"}},\"type\":\"scattergeo\"}],\"scattergl\":[{\"marker\":{\"colorbar\":{\"outlinewidth\":0,\"ticks\":\"\"}},\"type\":\"scattergl\"}],\"scattermapbox\":[{\"marker\":{\"colorbar\":{\"outlinewidth\":0,\"ticks\":\"\"}},\"type\":\"scattermapbox\"}],\"scatterpolar\":[{\"marker\":{\"colorbar\":{\"outlinewidth\":0,\"ticks\":\"\"}},\"type\":\"scatterpolar\"}],\"scatterpolargl\":[{\"marker\":{\"colorbar\":{\"outlinewidth\":0,\"ticks\":\"\"}},\"type\":\"scatterpolargl\"}],\"scatterternary\":[{\"marker\":{\"colorbar\":{\"outlinewidth\":0,\"ticks\":\"\"}},\"type\":\"scatterternary\"}],\"surface\":[{\"colorbar\":{\"outlinewidth\":0,\"ticks\":\"\"},\"colorscale\":[[0.0,\"#0d0887\"],[0.1111111111111111,\"#46039f\"],[0.2222222222222222,\"#7201a8\"],[0.3333333333333333,\"#9c179e\"],[0.4444444444444444,\"#bd3786\"],[0.5555555555555556,\"#d8576b\"],[0.6666666666666666,\"#ed7953\"],[0.7777777777777778,\"#fb9f3a\"],[0.8888888888888888,\"#fdca26\"],[1.0,\"#f0f921\"]],\"type\":\"surface\"}],\"table\":[{\"cells\":{\"fill\":{\"color\":\"#EBF0F8\"},\"line\":{\"color\":\"white\"}},\"header\":{\"fill\":{\"color\":\"#C8D4E3\"},\"line\":{\"color\":\"white\"}},\"type\":\"table\"}]},\"layout\":{\"annotationdefaults\":{\"arrowcolor\":\"#2a3f5f\",\"arrowhead\":0,\"arrowwidth\":1},\"autotypenumbers\":\"strict\",\"coloraxis\":{\"colorbar\":{\"outlinewidth\":0,\"ticks\":\"\"}},\"colorscale\":{\"diverging\":[[0,\"#8e0152\"],[0.1,\"#c51b7d\"],[0.2,\"#de77ae\"],[0.3,\"#f1b6da\"],[0.4,\"#fde0ef\"],[0.5,\"#f7f7f7\"],[0.6,\"#e6f5d0\"],[0.7,\"#b8e186\"],[0.8,\"#7fbc41\"],[0.9,\"#4d9221\"],[1,\"#276419\"]],\"sequential\":[[0.0,\"#0d0887\"],[0.1111111111111111,\"#46039f\"],[0.2222222222222222,\"#7201a8\"],[0.3333333333333333,\"#9c179e\"],[0.4444444444444444,\"#bd3786\"],[0.5555555555555556,\"#d8576b\"],[0.6666666666666666,\"#ed7953\"],[0.7777777777777778,\"#fb9f3a\"],[0.8888888888888888,\"#fdca26\"],[1.0,\"#f0f921\"]],\"sequentialminus\":[[0.0,\"#0d0887\"],[0.1111111111111111,\"#46039f\"],[0.2222222222222222,\"#7201a8\"],[0.3333333333333333,\"#9c179e\"],[0.4444444444444444,\"#bd3786\"],[0.5555555555555556,\"#d8576b\"],[0.6666666666666666,\"#ed7953\"],[0.7777777777777778,\"#fb9f3a\"],[0.8888888888888888,\"#fdca26\"],[1.0,\"#f0f921\"]]},\"colorway\":[\"#636efa\",\"#EF553B\",\"#00cc96\",\"#ab63fa\",\"#FFA15A\",\"#19d3f3\",\"#FF6692\",\"#B6E880\",\"#FF97FF\",\"#FECB52\"],\"font\":{\"color\":\"#2a3f5f\"},\"geo\":{\"bgcolor\":\"white\",\"lakecolor\":\"white\",\"landcolor\":\"#E5ECF6\",\"showlakes\":true,\"showland\":true,\"subunitcolor\":\"white\"},\"hoverlabel\":{\"align\":\"left\"},\"hovermode\":\"closest\",\"mapbox\":{\"style\":\"light\"},\"paper_bgcolor\":\"white\",\"plot_bgcolor\":\"#E5ECF6\",\"polar\":{\"angularaxis\":{\"gridcolor\":\"white\",\"linecolor\":\"white\",\"ticks\":\"\"},\"bgcolor\":\"#E5ECF6\",\"radialaxis\":{\"gridcolor\":\"white\",\"linecolor\":\"white\",\"ticks\":\"\"}},\"scene\":{\"xaxis\":{\"backgroundcolor\":\"#E5ECF6\",\"gridcolor\":\"white\",\"gridwidth\":2,\"linecolor\":\"white\",\"showbackground\":true,\"ticks\":\"\",\"zerolinecolor\":\"white\"},\"yaxis\":{\"backgroundcolor\":\"#E5ECF6\",\"gridcolor\":\"white\",\"gridwidth\":2,\"linecolor\":\"white\",\"showbackground\":true,\"ticks\":\"\",\"zerolinecolor\":\"white\"},\"zaxis\":{\"backgroundcolor\":\"#E5ECF6\",\"gridcolor\":\"white\",\"gridwidth\":2,\"linecolor\":\"white\",\"showbackground\":true,\"ticks\":\"\",\"zerolinecolor\":\"white\"}},\"shapedefaults\":{\"line\":{\"color\":\"#2a3f5f\"}},\"ternary\":{\"aaxis\":{\"gridcolor\":\"white\",\"linecolor\":\"white\",\"ticks\":\"\"},\"baxis\":{\"gridcolor\":\"white\",\"linecolor\":\"white\",\"ticks\":\"\"},\"bgcolor\":\"#E5ECF6\",\"caxis\":{\"gridcolor\":\"white\",\"linecolor\":\"white\",\"ticks\":\"\"}},\"title\":{\"x\":0.05},\"xaxis\":{\"automargin\":true,\"gridcolor\":\"white\",\"linecolor\":\"white\",\"ticks\":\"\",\"title\":{\"standoff\":15},\"zerolinecolor\":\"white\",\"zerolinewidth\":2},\"yaxis\":{\"automargin\":true,\"gridcolor\":\"white\",\"linecolor\":\"white\",\"ticks\":\"\",\"title\":{\"standoff\":15},\"zerolinecolor\":\"white\",\"zerolinewidth\":2}}},\"title\":{\"text\":\"Feel-it model's confidence distribution for neutral tweets in Sentipolc16\"},\"xaxis\":{\"title\":{\"text\":\"confidence\"}},\"yaxis\":{\"title\":{\"text\":\"normalized count\"}}},                        {\"responsive\": true}                    ).then(function(){\n",
       "                            \n",
       "var gd = document.getElementById('7b5784cb-eef0-4da4-8c77-5e5b44d89be9');\n",
       "var x = new MutationObserver(function (mutations, observer) {{\n",
       "        var display = window.getComputedStyle(gd).display;\n",
       "        if (!display || display === 'none') {{\n",
       "            console.log([gd, 'removed!']);\n",
       "            Plotly.purge(gd);\n",
       "            observer.disconnect();\n",
       "        }}\n",
       "}});\n",
       "\n",
       "// Listen for the removal of the full notebook cells\n",
       "var notebookContainer = gd.closest('#notebook-container');\n",
       "if (notebookContainer) {{\n",
       "    x.observe(notebookContainer, {childList: true});\n",
       "}}\n",
       "\n",
       "// Listen for the clearing of the current output cell\n",
       "var outputEl = gd.closest('.output');\n",
       "if (outputEl) {{\n",
       "    x.observe(outputEl, {childList: true});\n",
       "}}\n",
       "\n",
       "                        })                };                });            </script>        </div>"
      ]
     },
     "metadata": {},
     "output_type": "display_data"
    }
   ],
   "source": [
    "import plotly.graph_objects as go\n",
    "fig = go.Figure()\n",
    "fig.add_trace(go.Histogram(x=proba[:,0], \n",
    "                           xbins=dict(\n",
    "                            start=0.,\n",
    "                            end=1.0,\n",
    "                            size=0.1\n",
    "                            ), \n",
    "                           histnorm='probability'))\n",
    "fig.update_layout(\n",
    "    title=\"Feel-it model's confidence distribution for Sentipolc16\",\n",
    "    xaxis_title=\"confidence\",\n",
    "    yaxis_title=\"normalized count\",\n",
    ")\n",
    "fig.show()\n",
    "\n",
    "fig = go.Figure()\n",
    "fig.add_trace(go.Histogram(x=proba[np.array(trues) == 1,0], \n",
    "                           xbins=dict(\n",
    "                            start=0.,\n",
    "                            end=1.0,\n",
    "                            size=0.1\n",
    "                            ), \n",
    "                           histnorm='probability'))\n",
    "fig.update_layout(\n",
    "    title=\"Feel-it model's confidence distribution for neutral tweets in Sentipolc16\",\n",
    "    xaxis_title=\"confidence\",\n",
    "    yaxis_title=\"normalized count\",\n",
    ")\n",
    "fig.show()"
   ]
  },
  {
   "cell_type": "code",
   "execution_count": 28,
   "id": "eb94aed0",
   "metadata": {
    "collapsed": true
   },
   "outputs": [
    {
     "data": {
      "text/plain": [
       "0.4653767820773931"
      ]
     },
     "execution_count": 28,
     "metadata": {},
     "output_type": "execute_result"
    }
   ],
   "source": []
  }
 ],
 "metadata": {
  "kernelspec": {
   "display_name": "Python 3",
   "language": "python",
   "name": "python3"
  },
  "language_info": {
   "codemirror_mode": {
    "name": "ipython",
    "version": 3
   },
   "file_extension": ".py",
   "mimetype": "text/x-python",
   "name": "python",
   "nbconvert_exporter": "python",
   "pygments_lexer": "ipython3",
   "version": "3.7.10"
  }
 },
 "nbformat": 4,
 "nbformat_minor": 5
}
